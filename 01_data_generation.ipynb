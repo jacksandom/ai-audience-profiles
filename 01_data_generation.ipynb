{
 "cells": [
  {
   "cell_type": "markdown",
   "metadata": {
    "application/vnd.databricks.v1+cell": {
     "cellMetadata": {},
     "inputWidgets": {},
     "nuid": "1c5550f5-f066-400d-8fa2-d448b99c5026",
     "showTitle": false,
     "tableResultSettingsMap": {},
     "title": ""
    }
   },
   "source": [
    "# Data Generation"
   ]
  },
  {
   "cell_type": "code",
   "execution_count": 24,
   "metadata": {
    "application/vnd.databricks.v1+cell": {
     "cellMetadata": {
      "byteLimit": 2048000,
      "rowLimit": 10000
     },
     "inputWidgets": {},
     "nuid": "544a9f79-a8b2-4c79-b347-2bc4fbc91a87",
     "showTitle": false,
     "tableResultSettingsMap": {},
     "title": ""
    }
   },
   "outputs": [
    {
     "name": "stdout",
     "output_type": "stream",
     "text": [
      "Requirement already satisfied: faker==36.1.1 in ./.venv/lib/python3.10/site-packages (36.1.1)\n",
      "Requirement already satisfied: tzdata in ./.venv/lib/python3.10/site-packages (from faker==36.1.1) (2025.2)\n",
      "Note: you may need to restart the kernel to use updated packages.\n"
     ]
    }
   ],
   "source": [
    "%pip install faker==\"36.1.1\"\n",
    "dbutils.library.restartPython()"
   ]
  },
  {
   "cell_type": "code",
   "execution_count": 13,
   "metadata": {
    "application/vnd.databricks.v1+cell": {
     "cellMetadata": {
      "byteLimit": 2048000,
      "rowLimit": 10000
     },
     "inputWidgets": {},
     "nuid": "14ebf725-0d6e-408c-8d83-edb0821ba9e3",
     "showTitle": false,
     "tableResultSettingsMap": {},
     "title": ""
    }
   },
   "outputs": [],
   "source": [
    "import pandas as pd\n",
    "import pyspark.sql.functions as F\n",
    "import numpy as np\n",
    "import random\n",
    "import uuid\n",
    "\n",
    "from datetime import datetime\n",
    "from faker import Faker\n",
    "from pyspark.sql.types import StringType\n",
    "\n",
    "import numpy as np\n",
    "import pandas as pd\n",
    "import uuid\n",
    "import random\n",
    "from faker import Faker\n",
    "from datetime import datetime"
   ]
  },
  {
   "cell_type": "code",
   "execution_count": 49,
   "metadata": {},
   "outputs": [],
   "source": [
    "%run ./_resources/00_setup"
   ]
  },
  {
   "cell_type": "markdown",
   "metadata": {
    "application/vnd.databricks.v1+cell": {
     "cellMetadata": {},
     "inputWidgets": {},
     "nuid": "35a6a737-cbc0-4b1e-95e6-0cf32d19d74e",
     "showTitle": false,
     "tableResultSettingsMap": {},
     "title": ""
    }
   },
   "source": [
    "## Step 1: Generate structured data for clustering"
   ]
  },
  {
   "cell_type": "markdown",
   "metadata": {},
   "source": [
    "## Introduction to Demographic Clustering\n",
    "Demographic clustering involves categorizing individuals based on characteristics like age, income, and education level. This process helps in understanding and targeting specific groups more effectively.\n",
    "\n",
    "## Defining Clusters\n",
    "We define several demographic clusters based on their characteristics:\n",
    "\n",
    "- **Young Urban Professional**\n",
    "- **Suburban Family-Oriented**\n",
    "- **Retired Rural Dweller**\n",
    "- **College Student**\n",
    "- **High-Income Empty Nester**\n",
    "\n",
    "## LA Tribes\n",
    "Additionally, we focus on specific tribes in Los Angeles:\n",
    "\n",
    "- **Young Professional Women - Urban Explorers**\n",
    "- **Tech-Savvy Professionals - Silicon Beach Innovators**\n",
    "- **Creative Entrepreneurs - Hollywood Creatives**\n",
    "- **Eco-Conscious Millennials - Sustainable Lifestyle**\n",
    "- **Luxury-Oriented Professionals - Upscale Lifestyles**\n",
    "- **College Students - Campus Life**\n",
    "\n",
    "## Code Implementation\n",
    "\n",
    "Below is the Python code to generate these demographic clusters and tribes:\n",
    "\n"
   ]
  },
  {
   "cell_type": "code",
   "execution_count": 14,
   "metadata": {
    "application/vnd.databricks.v1+cell": {
     "cellMetadata": {
      "byteLimit": 2048000,
      "rowLimit": 10000
     },
     "inputWidgets": {},
     "nuid": "41e7d271-1442-4836-8b99-5f478c593440",
     "showTitle": false,
     "tableResultSettingsMap": {},
     "title": ""
    }
   },
   "outputs": [],
   "source": [
    "# Set seed\n",
    "np.random.seed(42)"
   ]
  },
  {
   "cell_type": "markdown",
   "metadata": {},
   "source": [
    "We need to use conditional probabilities in our data gen code in order to \"force\" the clusters for later."
   ]
  },
  {
   "cell_type": "code",
   "execution_count": 15,
   "metadata": {},
   "outputs": [],
   "source": [
    "# Initialize Faker for generating fake dates\n",
    "fake = Faker()\n",
    "\n",
    "# Define the tribe sizes and their descriptions\n",
    "tribe_sizes = {\n",
    "    \"Young Professional Women - Urban Explorers (Downtown LA / Arts District)\": 250,\n",
    "    \"Tech-Savvy Professionals - Silicon Beach Innovators (Venice Beach / Santa Monica)\": 200,\n",
    "    \"Creative Entrepreneurs - Hollywood Creatives (West Hollywood / Beverly Hills)\": 150,\n",
    "    \"Eco-Conscious Millennials - Sustainable Lifestyle (Culver City / Echo Park)\": 180,\n",
    "    \"Luxury-Oriented Professionals - Upscale Lifestyles (Beverly Hills / Bel Air)\": 200,\n",
    "    \"College Students - Campus Life (UCLA / USC)\": 300,\n",
    "}\n",
    "\n",
    "# Function to generate data for LA-based tribes\n",
    "def generate_la_tribe_data(tribe_name, size):\n",
    "    if \"Urban Explorers\" in tribe_name:\n",
    "        locations = random.choices([\"Downtown LA\", \"Arts District\", \"Silver Lake\", \"Echo Park\"], k=size)\n",
    "        incomes = np.random.normal(45000, 12000, size).clip(30000, 80000)\n",
    "        occupations = random.choices([\"Freelancer\", \"Graphic Designer\", \"Social Media Influencer\"], k=size)\n",
    "        ages = np.random.randint(25, 35, size)\n",
    "        education_levels = np.random.choice([\"Bachelor's\", \"Post Graduate\"], size, p=[0.7, 0.3])\n",
    "        relationship_statuses = random.choices([\"Single\", \"Cohabiting\"], k=size)\n",
    "        number_dependants = [0] * size\n",
    "        short_description = \"Downtown LA professionals\"\n",
    "\n",
    "    elif \"Silicon Beach Innovators\" in tribe_name:\n",
    "        locations = random.choices([\"Venice Beach\", \"Santa Monica\", \"Playa Vista\"], k=size)\n",
    "        incomes = np.random.normal(100000, 25000, size).clip(70000, 200000)\n",
    "        occupations = random.choices([\"Software Engineer\", \"Product Manager\", \"UX/UI Designer\"], k=size)\n",
    "        ages = np.random.randint(25, 40, size)\n",
    "        education_levels = np.random.choice([\"Bachelor's\", \"Post Graduate\"], size, p=[0.8, 0.2])\n",
    "        relationship_statuses = random.choices([\"Single\", \"Cohabiting\"], k=size)\n",
    "        number_dependants = [0] * size\n",
    "        short_description = \"Venice Beach tech industry leaders\"\n",
    "\n",
    "    elif \"Hollywood Creatives\" in tribe_name:\n",
    "        locations = random.choices([\"West Hollywood\", \"Beverly Hills\", \"Sunset Strip\"], k=size)\n",
    "        incomes = np.random.normal(120000, 30000, size).clip(80000, 250000)\n",
    "        occupations = random.choices([\"Filmmaker\", \"Designer\", \"Fashion Entrepreneur\"], k=size)\n",
    "        ages = np.random.randint(25, 45, size)\n",
    "        education_levels = np.random.choice([\"Bachelor's\", \"Post Graduate\"], size, p=[0.6, 0.4])\n",
    "        relationship_statuses = random.choices([\"Single\", \"Cohabiting\"], k=size)\n",
    "        number_dependants = [0] * size\n",
    "        short_description = \"West Hollywood creatives\"\n",
    "\n",
    "    elif \"Sustainable Lifestyle\" in tribe_name:\n",
    "        locations = random.choices([\"Culver City\", \"Echo Park\", \"Silver Lake\"], k=size)\n",
    "        incomes = np.random.normal(55000, 15000, size).clip(40000, 100000)\n",
    "        occupations = random.choices([\"Sustainability Consultant\", \"Eco-Entrepreneur\", \"Health Coach\"], k=size)\n",
    "        ages = np.random.randint(25, 35, size)\n",
    "        education_levels = np.random.choice([\"Bachelor's\", \"Post Graduate\"], size, p=[0.7, 0.3])\n",
    "        relationship_statuses = random.choices([\"Single\", \"Cohabiting\"], k=size)\n",
    "        number_dependants = [0] * size\n",
    "        short_description = \"Culver City eco-advocates\"\n",
    "\n",
    "    elif \"Luxury-Oriented Professionals\" in tribe_name:\n",
    "        locations = random.choices([\"Beverly Hills\", \"Bel Air\", \"Westwood\"], k=size)\n",
    "        incomes = np.random.normal(200000, 50000, size).clip(150000, 300000)\n",
    "        occupations = random.choices([\"Real Estate Executive\", \"Investment Banker\", \"Entertainment Lawyer\"], k=size)\n",
    "        ages = np.random.randint(35, 55, size)\n",
    "        education_levels = np.random.choice([\"Bachelor's\", \"Post Graduate\"], size, p=[0.6, 0.4])\n",
    "        relationship_statuses = random.choices([\"Single\", \"Cohabiting\"], k=size)\n",
    "        number_dependants = [0] * size\n",
    "        short_description = \"Beverly Hills luxury professionals\"\n",
    "\n",
    "    elif \"College Students\" in tribe_name:\n",
    "        locations = random.choices([\"Westwood (UCLA)\", \"South LA (USC)\", \"Downtown LA\"], k=size)\n",
    "        incomes = np.random.normal(15000, 3000, size).clip(10000, 25000)\n",
    "        occupations = random.choices([\"Student\", \"Intern\", \"Part-time Worker\"], k=size)\n",
    "        ages = np.random.randint(18, 24, size)\n",
    "        education_levels = [\"Some College\"] * size\n",
    "        relationship_statuses = [\"Single\"] * size\n",
    "        number_dependants = [0] * size\n",
    "        short_description = \"UCLA/USC students\"\n",
    "\n",
    "    return pd.DataFrame({\n",
    "        \"age\": ages,\n",
    "        \"income\": incomes.round(-3),\n",
    "        \"location\": locations,\n",
    "        \"education\": education_levels,\n",
    "        \"relationship_status\": relationship_statuses,\n",
    "        \"number_dependants\": number_dependants,\n",
    "        \"occupation\": occupations,\n",
    "        \"tribe\": tribe_name,\n",
    "        \"short_description\": short_description\n",
    "    })\n",
    "\n",
    "# Generate data for all LA tribes\n",
    "tribe_dfs = [generate_la_tribe_data(tribe, size) for tribe, size in tribe_sizes.items()]\n",
    "demographic_df = pd.concat(tribe_dfs, ignore_index=True)\n",
    "\n",
    "# Shuffle the dataset\n",
    "demographic_df = demographic_df.sample(frac=1).reset_index(drop=True)\n",
    "\n",
    "# Add UUIDs for each individual\n",
    "demographic_df.insert(0, 'uuid', [str(uuid.uuid4()) for _ in range(len(demographic_df))])\n",
    "\n",
    "# Add fake creation dates for each record (simulating when they joined the platform)\n",
    "demographic_df['created_at'] = [\n",
    "  fake.date_time_between(datetime(2023, 1, 1), datetime(2024, 12, 31)).strftime('%Y-%m-%d %H:%M:%S') for _ in range(len(demographic_df))]\n"
   ]
  },
  {
   "cell_type": "code",
   "execution_count": 16,
   "metadata": {
    "application/vnd.databricks.v1+cell": {
     "cellMetadata": {
      "byteLimit": 2048000,
      "rowLimit": 10000
     },
     "inputWidgets": {},
     "nuid": "f8c46e72-3a3a-4f2c-a321-80d65bda031a",
     "showTitle": false,
     "tableResultSettingsMap": {},
     "title": ""
    }
   },
   "outputs": [
    {
     "data": {
      "application/vnd.microsoft.datawrangler.viewer.v0+json": {
       "columns": [
        {
         "name": "index",
         "rawType": "int64",
         "type": "integer"
        },
        {
         "name": "uuid",
         "rawType": "object",
         "type": "string"
        },
        {
         "name": "age",
         "rawType": "int64",
         "type": "integer"
        },
        {
         "name": "income",
         "rawType": "float64",
         "type": "float"
        },
        {
         "name": "location",
         "rawType": "object",
         "type": "string"
        },
        {
         "name": "education",
         "rawType": "object",
         "type": "string"
        },
        {
         "name": "relationship_status",
         "rawType": "object",
         "type": "string"
        },
        {
         "name": "number_dependants",
         "rawType": "int64",
         "type": "integer"
        },
        {
         "name": "occupation",
         "rawType": "object",
         "type": "string"
        },
        {
         "name": "tribe",
         "rawType": "object",
         "type": "string"
        },
        {
         "name": "short_description",
         "rawType": "object",
         "type": "string"
        },
        {
         "name": "created_at",
         "rawType": "object",
         "type": "string"
        }
       ],
       "conversionMethod": "pd.DataFrame",
       "ref": "3c2ba740-e5c1-4bc4-a649-563ebe478392",
       "rows": [
        [
         "0",
         "8382753e-2d4a-4af7-a6aa-29e833a4232e",
         "36",
         "80000.0",
         "West Hollywood",
         "Post Graduate",
         "Single",
         "0",
         "Designer",
         "Creative Entrepreneurs - Hollywood Creatives (West Hollywood / Beverly Hills)",
         "West Hollywood creatives",
         "2024-12-18 08:09:44"
        ],
        [
         "1",
         "be15b253-57ba-4f79-a5ac-e861455b74b0",
         "34",
         "96000.0",
         "Santa Monica",
         "Bachelor's",
         "Single",
         "0",
         "Product Manager",
         "Tech-Savvy Professionals - Silicon Beach Innovators (Venice Beach / Santa Monica)",
         "Venice Beach tech industry leaders",
         "2023-08-13 06:06:37"
        ],
        [
         "2",
         "81d8484a-e48d-43ff-b3a2-89c24e5b87d4",
         "23",
         "16000.0",
         "Downtown LA",
         "Some College",
         "Single",
         "0",
         "Student",
         "College Students - Campus Life (UCLA / USC)",
         "UCLA/USC students",
         "2024-11-26 00:38:09"
        ],
        [
         "3",
         "4eaa67e4-f266-4cca-a5a6-6a61fa3de7a5",
         "36",
         "149000.0",
         "Sunset Strip",
         "Post Graduate",
         "Cohabiting",
         "0",
         "Filmmaker",
         "Creative Entrepreneurs - Hollywood Creatives (West Hollywood / Beverly Hills)",
         "West Hollywood creatives",
         "2024-07-26 10:21:23"
        ],
        [
         "4",
         "b251c932-aa69-4595-ab10-feabb9f0d1ef",
         "29",
         "42000.0",
         "Silver Lake",
         "Post Graduate",
         "Single",
         "0",
         "Health Coach",
         "Eco-Conscious Millennials - Sustainable Lifestyle (Culver City / Echo Park)",
         "Culver City eco-advocates",
         "2024-09-16 22:34:13"
        ]
       ],
       "shape": {
        "columns": 11,
        "rows": 5
       }
      },
      "text/html": [
       "<div>\n",
       "<style scoped>\n",
       "    .dataframe tbody tr th:only-of-type {\n",
       "        vertical-align: middle;\n",
       "    }\n",
       "\n",
       "    .dataframe tbody tr th {\n",
       "        vertical-align: top;\n",
       "    }\n",
       "\n",
       "    .dataframe thead th {\n",
       "        text-align: right;\n",
       "    }\n",
       "</style>\n",
       "<table border=\"1\" class=\"dataframe\">\n",
       "  <thead>\n",
       "    <tr style=\"text-align: right;\">\n",
       "      <th></th>\n",
       "      <th>uuid</th>\n",
       "      <th>age</th>\n",
       "      <th>income</th>\n",
       "      <th>location</th>\n",
       "      <th>education</th>\n",
       "      <th>relationship_status</th>\n",
       "      <th>number_dependants</th>\n",
       "      <th>occupation</th>\n",
       "      <th>tribe</th>\n",
       "      <th>short_description</th>\n",
       "      <th>created_at</th>\n",
       "    </tr>\n",
       "  </thead>\n",
       "  <tbody>\n",
       "    <tr>\n",
       "      <th>0</th>\n",
       "      <td>8382753e-2d4a-4af7-a6aa-29e833a4232e</td>\n",
       "      <td>36</td>\n",
       "      <td>80000.0</td>\n",
       "      <td>West Hollywood</td>\n",
       "      <td>Post Graduate</td>\n",
       "      <td>Single</td>\n",
       "      <td>0</td>\n",
       "      <td>Designer</td>\n",
       "      <td>Creative Entrepreneurs - Hollywood Creatives (...</td>\n",
       "      <td>West Hollywood creatives</td>\n",
       "      <td>2024-12-18 08:09:44</td>\n",
       "    </tr>\n",
       "    <tr>\n",
       "      <th>1</th>\n",
       "      <td>be15b253-57ba-4f79-a5ac-e861455b74b0</td>\n",
       "      <td>34</td>\n",
       "      <td>96000.0</td>\n",
       "      <td>Santa Monica</td>\n",
       "      <td>Bachelor's</td>\n",
       "      <td>Single</td>\n",
       "      <td>0</td>\n",
       "      <td>Product Manager</td>\n",
       "      <td>Tech-Savvy Professionals - Silicon Beach Innov...</td>\n",
       "      <td>Venice Beach tech industry leaders</td>\n",
       "      <td>2023-08-13 06:06:37</td>\n",
       "    </tr>\n",
       "    <tr>\n",
       "      <th>2</th>\n",
       "      <td>81d8484a-e48d-43ff-b3a2-89c24e5b87d4</td>\n",
       "      <td>23</td>\n",
       "      <td>16000.0</td>\n",
       "      <td>Downtown LA</td>\n",
       "      <td>Some College</td>\n",
       "      <td>Single</td>\n",
       "      <td>0</td>\n",
       "      <td>Student</td>\n",
       "      <td>College Students - Campus Life (UCLA / USC)</td>\n",
       "      <td>UCLA/USC students</td>\n",
       "      <td>2024-11-26 00:38:09</td>\n",
       "    </tr>\n",
       "    <tr>\n",
       "      <th>3</th>\n",
       "      <td>4eaa67e4-f266-4cca-a5a6-6a61fa3de7a5</td>\n",
       "      <td>36</td>\n",
       "      <td>149000.0</td>\n",
       "      <td>Sunset Strip</td>\n",
       "      <td>Post Graduate</td>\n",
       "      <td>Cohabiting</td>\n",
       "      <td>0</td>\n",
       "      <td>Filmmaker</td>\n",
       "      <td>Creative Entrepreneurs - Hollywood Creatives (...</td>\n",
       "      <td>West Hollywood creatives</td>\n",
       "      <td>2024-07-26 10:21:23</td>\n",
       "    </tr>\n",
       "    <tr>\n",
       "      <th>4</th>\n",
       "      <td>b251c932-aa69-4595-ab10-feabb9f0d1ef</td>\n",
       "      <td>29</td>\n",
       "      <td>42000.0</td>\n",
       "      <td>Silver Lake</td>\n",
       "      <td>Post Graduate</td>\n",
       "      <td>Single</td>\n",
       "      <td>0</td>\n",
       "      <td>Health Coach</td>\n",
       "      <td>Eco-Conscious Millennials - Sustainable Lifest...</td>\n",
       "      <td>Culver City eco-advocates</td>\n",
       "      <td>2024-09-16 22:34:13</td>\n",
       "    </tr>\n",
       "  </tbody>\n",
       "</table>\n",
       "</div>"
      ],
      "text/plain": [
       "                                   uuid  age    income        location  \\\n",
       "0  8382753e-2d4a-4af7-a6aa-29e833a4232e   36   80000.0  West Hollywood   \n",
       "1  be15b253-57ba-4f79-a5ac-e861455b74b0   34   96000.0    Santa Monica   \n",
       "2  81d8484a-e48d-43ff-b3a2-89c24e5b87d4   23   16000.0     Downtown LA   \n",
       "3  4eaa67e4-f266-4cca-a5a6-6a61fa3de7a5   36  149000.0    Sunset Strip   \n",
       "4  b251c932-aa69-4595-ab10-feabb9f0d1ef   29   42000.0     Silver Lake   \n",
       "\n",
       "       education relationship_status  number_dependants       occupation  \\\n",
       "0  Post Graduate              Single                  0         Designer   \n",
       "1     Bachelor's              Single                  0  Product Manager   \n",
       "2   Some College              Single                  0          Student   \n",
       "3  Post Graduate          Cohabiting                  0        Filmmaker   \n",
       "4  Post Graduate              Single                  0     Health Coach   \n",
       "\n",
       "                                               tribe  \\\n",
       "0  Creative Entrepreneurs - Hollywood Creatives (...   \n",
       "1  Tech-Savvy Professionals - Silicon Beach Innov...   \n",
       "2        College Students - Campus Life (UCLA / USC)   \n",
       "3  Creative Entrepreneurs - Hollywood Creatives (...   \n",
       "4  Eco-Conscious Millennials - Sustainable Lifest...   \n",
       "\n",
       "                    short_description           created_at  \n",
       "0            West Hollywood creatives  2024-12-18 08:09:44  \n",
       "1  Venice Beach tech industry leaders  2023-08-13 06:06:37  \n",
       "2                   UCLA/USC students  2024-11-26 00:38:09  \n",
       "3            West Hollywood creatives  2024-07-26 10:21:23  \n",
       "4           Culver City eco-advocates  2024-09-16 22:34:13  "
      ]
     },
     "execution_count": 16,
     "metadata": {},
     "output_type": "execute_result"
    }
   ],
   "source": [
    "# Display the first few records of the generated dataset\n",
    "\n",
    "demographic_df.head()"
   ]
  },
  {
   "cell_type": "code",
   "execution_count": null,
   "metadata": {},
   "outputs": [
    {
     "name": "stderr",
     "output_type": "stream",
     "text": [
      "/var/folders/rr/zp_q92ys68lb4520hwhhn6440000gp/T/ipykernel_21469/3687239409.py:27: SettingWithCopyWarning:\n",
      "\n",
      "\n",
      "A value is trying to be set on a copy of a slice from a DataFrame.\n",
      "Try using .loc[row_indexer,col_indexer] = value instead\n",
      "\n",
      "See the caveats in the documentation: https://pandas.pydata.org/pandas-docs/stable/user_guide/indexing.html#returning-a-view-versus-a-copy\n",
      "\n",
      "/var/folders/rr/zp_q92ys68lb4520hwhhn6440000gp/T/ipykernel_21469/3687239409.py:28: SettingWithCopyWarning:\n",
      "\n",
      "\n",
      "A value is trying to be set on a copy of a slice from a DataFrame.\n",
      "Try using .loc[row_indexer,col_indexer] = value instead\n",
      "\n",
      "See the caveats in the documentation: https://pandas.pydata.org/pandas-docs/stable/user_guide/indexing.html#returning-a-view-versus-a-copy\n",
      "\n",
      "/var/folders/rr/zp_q92ys68lb4520hwhhn6440000gp/T/ipykernel_21469/3687239409.py:40: DeprecationWarning:\n",
      "\n",
      "*scatter_mapbox* is deprecated! Use *scatter_map* instead. Learn more at: https://plotly.com/python/mapbox-to-maplibre/\n",
      "\n"
     ]
    },
    {
     "data": {
      "application/vnd.plotly.v1+json": {
       "config": {
        "plotlyServerURL": "https://plot.ly"
       },
       "data": [
        {
         "customdata": [
          [
           36,
           "Designer",
           "Post Graduate"
          ],
          [
           36,
           "Filmmaker",
           "Post Graduate"
          ],
          [
           32,
           "Fashion Entrepreneur",
           "Bachelor's"
          ],
          [
           34,
           "Fashion Entrepreneur",
           "Post Graduate"
          ],
          [
           33,
           "Filmmaker",
           "Bachelor's"
          ],
          [
           28,
           "Designer",
           "Bachelor's"
          ],
          [
           32,
           "Filmmaker",
           "Bachelor's"
          ],
          [
           34,
           "Fashion Entrepreneur",
           "Bachelor's"
          ],
          [
           27,
           "Fashion Entrepreneur",
           "Bachelor's"
          ],
          [
           37,
           "Filmmaker",
           "Post Graduate"
          ],
          [
           36,
           "Fashion Entrepreneur",
           "Bachelor's"
          ],
          [
           40,
           "Designer",
           "Post Graduate"
          ],
          [
           32,
           "Fashion Entrepreneur",
           "Bachelor's"
          ],
          [
           41,
           "Filmmaker",
           "Post Graduate"
          ],
          [
           27,
           "Fashion Entrepreneur",
           "Bachelor's"
          ],
          [
           38,
           "Filmmaker",
           "Bachelor's"
          ],
          [
           35,
           "Fashion Entrepreneur",
           "Bachelor's"
          ],
          [
           28,
           "Designer",
           "Bachelor's"
          ],
          [
           36,
           "Filmmaker",
           "Bachelor's"
          ],
          [
           33,
           "Filmmaker",
           "Post Graduate"
          ],
          [
           37,
           "Designer",
           "Post Graduate"
          ],
          [
           26,
           "Filmmaker",
           "Bachelor's"
          ],
          [
           34,
           "Fashion Entrepreneur",
           "Bachelor's"
          ],
          [
           25,
           "Filmmaker",
           "Bachelor's"
          ],
          [
           43,
           "Filmmaker",
           "Post Graduate"
          ],
          [
           30,
           "Fashion Entrepreneur",
           "Bachelor's"
          ],
          [
           25,
           "Fashion Entrepreneur",
           "Bachelor's"
          ],
          [
           27,
           "Fashion Entrepreneur",
           "Post Graduate"
          ],
          [
           28,
           "Filmmaker",
           "Bachelor's"
          ],
          [
           28,
           "Designer",
           "Bachelor's"
          ],
          [
           32,
           "Filmmaker",
           "Bachelor's"
          ],
          [
           40,
           "Fashion Entrepreneur",
           "Bachelor's"
          ],
          [
           28,
           "Filmmaker",
           "Bachelor's"
          ],
          [
           29,
           "Designer",
           "Bachelor's"
          ],
          [
           42,
           "Designer",
           "Post Graduate"
          ],
          [
           26,
           "Filmmaker",
           "Post Graduate"
          ],
          [
           39,
           "Fashion Entrepreneur",
           "Bachelor's"
          ],
          [
           39,
           "Fashion Entrepreneur",
           "Post Graduate"
          ],
          [
           41,
           "Fashion Entrepreneur",
           "Bachelor's"
          ],
          [
           30,
           "Fashion Entrepreneur",
           "Bachelor's"
          ],
          [
           42,
           "Fashion Entrepreneur",
           "Bachelor's"
          ],
          [
           35,
           "Designer",
           "Bachelor's"
          ],
          [
           34,
           "Designer",
           "Bachelor's"
          ],
          [
           32,
           "Filmmaker",
           "Bachelor's"
          ],
          [
           40,
           "Filmmaker",
           "Bachelor's"
          ],
          [
           33,
           "Filmmaker",
           "Post Graduate"
          ],
          [
           38,
           "Fashion Entrepreneur",
           "Post Graduate"
          ],
          [
           36,
           "Filmmaker",
           "Post Graduate"
          ],
          [
           26,
           "Designer",
           "Bachelor's"
          ],
          [
           32,
           "Filmmaker",
           "Bachelor's"
          ],
          [
           43,
           "Filmmaker",
           "Bachelor's"
          ],
          [
           31,
           "Fashion Entrepreneur",
           "Bachelor's"
          ],
          [
           42,
           "Designer",
           "Bachelor's"
          ],
          [
           31,
           "Fashion Entrepreneur",
           "Bachelor's"
          ],
          [
           31,
           "Designer",
           "Bachelor's"
          ],
          [
           44,
           "Fashion Entrepreneur",
           "Post Graduate"
          ],
          [
           37,
           "Designer",
           "Post Graduate"
          ],
          [
           33,
           "Designer",
           "Bachelor's"
          ],
          [
           25,
           "Filmmaker",
           "Bachelor's"
          ],
          [
           38,
           "Designer",
           "Post Graduate"
          ],
          [
           28,
           "Fashion Entrepreneur",
           "Bachelor's"
          ],
          [
           28,
           "Designer",
           "Post Graduate"
          ],
          [
           37,
           "Filmmaker",
           "Bachelor's"
          ],
          [
           37,
           "Designer",
           "Bachelor's"
          ],
          [
           39,
           "Designer",
           "Bachelor's"
          ],
          [
           36,
           "Fashion Entrepreneur",
           "Post Graduate"
          ],
          [
           44,
           "Designer",
           "Post Graduate"
          ],
          [
           34,
           "Filmmaker",
           "Bachelor's"
          ],
          [
           42,
           "Designer",
           "Bachelor's"
          ],
          [
           42,
           "Filmmaker",
           "Bachelor's"
          ],
          [
           43,
           "Fashion Entrepreneur",
           "Bachelor's"
          ],
          [
           40,
           "Filmmaker",
           "Post Graduate"
          ],
          [
           28,
           "Designer",
           "Bachelor's"
          ],
          [
           40,
           "Designer",
           "Bachelor's"
          ],
          [
           38,
           "Designer",
           "Bachelor's"
          ],
          [
           26,
           "Filmmaker",
           "Bachelor's"
          ],
          [
           32,
           "Filmmaker",
           "Bachelor's"
          ],
          [
           30,
           "Designer",
           "Bachelor's"
          ],
          [
           36,
           "Filmmaker",
           "Bachelor's"
          ],
          [
           42,
           "Designer",
           "Post Graduate"
          ],
          [
           27,
           "Designer",
           "Bachelor's"
          ],
          [
           35,
           "Fashion Entrepreneur",
           "Post Graduate"
          ],
          [
           39,
           "Fashion Entrepreneur",
           "Bachelor's"
          ],
          [
           34,
           "Fashion Entrepreneur",
           "Bachelor's"
          ],
          [
           26,
           "Designer",
           "Post Graduate"
          ],
          [
           30,
           "Designer",
           "Post Graduate"
          ],
          [
           27,
           "Filmmaker",
           "Post Graduate"
          ],
          [
           40,
           "Designer",
           "Bachelor's"
          ],
          [
           31,
           "Filmmaker",
           "Post Graduate"
          ],
          [
           29,
           "Designer",
           "Post Graduate"
          ],
          [
           29,
           "Designer",
           "Bachelor's"
          ],
          [
           29,
           "Designer",
           "Post Graduate"
          ],
          [
           35,
           "Filmmaker",
           "Bachelor's"
          ],
          [
           26,
           "Fashion Entrepreneur",
           "Bachelor's"
          ],
          [
           39,
           "Filmmaker",
           "Post Graduate"
          ],
          [
           31,
           "Filmmaker",
           "Post Graduate"
          ],
          [
           27,
           "Designer",
           "Bachelor's"
          ],
          [
           35,
           "Filmmaker",
           "Bachelor's"
          ],
          [
           35,
           "Filmmaker",
           "Bachelor's"
          ],
          [
           28,
           "Designer",
           "Post Graduate"
          ],
          [
           28,
           "Designer",
           "Post Graduate"
          ],
          [
           28,
           "Filmmaker",
           "Bachelor's"
          ],
          [
           39,
           "Designer",
           "Post Graduate"
          ],
          [
           36,
           "Designer",
           "Post Graduate"
          ],
          [
           31,
           "Designer",
           "Post Graduate"
          ],
          [
           37,
           "Filmmaker",
           "Bachelor's"
          ],
          [
           37,
           "Filmmaker",
           "Post Graduate"
          ],
          [
           34,
           "Fashion Entrepreneur",
           "Bachelor's"
          ],
          [
           26,
           "Designer",
           "Bachelor's"
          ],
          [
           34,
           "Filmmaker",
           "Post Graduate"
          ],
          [
           28,
           "Fashion Entrepreneur",
           "Post Graduate"
          ],
          [
           29,
           "Designer",
           "Post Graduate"
          ],
          [
           33,
           "Designer",
           "Post Graduate"
          ],
          [
           41,
           "Designer",
           "Bachelor's"
          ],
          [
           27,
           "Designer",
           "Post Graduate"
          ],
          [
           41,
           "Filmmaker",
           "Post Graduate"
          ],
          [
           25,
           "Fashion Entrepreneur",
           "Post Graduate"
          ],
          [
           25,
           "Designer",
           "Post Graduate"
          ],
          [
           34,
           "Fashion Entrepreneur",
           "Bachelor's"
          ],
          [
           26,
           "Designer",
           "Post Graduate"
          ],
          [
           28,
           "Fashion Entrepreneur",
           "Bachelor's"
          ],
          [
           31,
           "Filmmaker",
           "Bachelor's"
          ],
          [
           31,
           "Designer",
           "Bachelor's"
          ],
          [
           39,
           "Filmmaker",
           "Bachelor's"
          ],
          [
           28,
           "Filmmaker",
           "Bachelor's"
          ],
          [
           31,
           "Fashion Entrepreneur",
           "Bachelor's"
          ],
          [
           30,
           "Filmmaker",
           "Bachelor's"
          ],
          [
           41,
           "Designer",
           "Post Graduate"
          ],
          [
           37,
           "Fashion Entrepreneur",
           "Bachelor's"
          ],
          [
           33,
           "Filmmaker",
           "Bachelor's"
          ],
          [
           38,
           "Fashion Entrepreneur",
           "Bachelor's"
          ],
          [
           43,
           "Designer",
           "Bachelor's"
          ],
          [
           29,
           "Fashion Entrepreneur",
           "Post Graduate"
          ],
          [
           34,
           "Designer",
           "Bachelor's"
          ],
          [
           27,
           "Fashion Entrepreneur",
           "Bachelor's"
          ],
          [
           43,
           "Designer",
           "Post Graduate"
          ],
          [
           34,
           "Designer",
           "Post Graduate"
          ],
          [
           44,
           "Designer",
           "Post Graduate"
          ],
          [
           34,
           "Designer",
           "Post Graduate"
          ],
          [
           39,
           "Filmmaker",
           "Bachelor's"
          ],
          [
           27,
           "Fashion Entrepreneur",
           "Bachelor's"
          ],
          [
           41,
           "Fashion Entrepreneur",
           "Bachelor's"
          ],
          [
           37,
           "Fashion Entrepreneur",
           "Bachelor's"
          ],
          [
           28,
           "Filmmaker",
           "Post Graduate"
          ],
          [
           39,
           "Fashion Entrepreneur",
           "Bachelor's"
          ],
          [
           41,
           "Fashion Entrepreneur",
           "Bachelor's"
          ],
          [
           31,
           "Fashion Entrepreneur",
           "Bachelor's"
          ],
          [
           41,
           "Fashion Entrepreneur",
           "Bachelor's"
          ],
          [
           31,
           "Designer",
           "Post Graduate"
          ],
          [
           37,
           "Fashion Entrepreneur",
           "Post Graduate"
          ]
         ],
         "hovertemplate": "<b>%{hovertext}</b><br><br>tribe=Creative Entrepreneurs - Hollywood Creatives (West Hollywood / Beverly Hills)<br>income=%{marker.size}<br>latitude=%{lat}<br>longitude=%{lon}<br>age=%{customdata[0]}<br>occupation=%{customdata[1]}<br>education=%{customdata[2]}<extra></extra>",
         "hovertext": [
          "West Hollywood creatives",
          "West Hollywood creatives",
          "West Hollywood creatives",
          "West Hollywood creatives",
          "West Hollywood creatives",
          "West Hollywood creatives",
          "West Hollywood creatives",
          "West Hollywood creatives",
          "West Hollywood creatives",
          "West Hollywood creatives",
          "West Hollywood creatives",
          "West Hollywood creatives",
          "West Hollywood creatives",
          "West Hollywood creatives",
          "West Hollywood creatives",
          "West Hollywood creatives",
          "West Hollywood creatives",
          "West Hollywood creatives",
          "West Hollywood creatives",
          "West Hollywood creatives",
          "West Hollywood creatives",
          "West Hollywood creatives",
          "West Hollywood creatives",
          "West Hollywood creatives",
          "West Hollywood creatives",
          "West Hollywood creatives",
          "West Hollywood creatives",
          "West Hollywood creatives",
          "West Hollywood creatives",
          "West Hollywood creatives",
          "West Hollywood creatives",
          "West Hollywood creatives",
          "West Hollywood creatives",
          "West Hollywood creatives",
          "West Hollywood creatives",
          "West Hollywood creatives",
          "West Hollywood creatives",
          "West Hollywood creatives",
          "West Hollywood creatives",
          "West Hollywood creatives",
          "West Hollywood creatives",
          "West Hollywood creatives",
          "West Hollywood creatives",
          "West Hollywood creatives",
          "West Hollywood creatives",
          "West Hollywood creatives",
          "West Hollywood creatives",
          "West Hollywood creatives",
          "West Hollywood creatives",
          "West Hollywood creatives",
          "West Hollywood creatives",
          "West Hollywood creatives",
          "West Hollywood creatives",
          "West Hollywood creatives",
          "West Hollywood creatives",
          "West Hollywood creatives",
          "West Hollywood creatives",
          "West Hollywood creatives",
          "West Hollywood creatives",
          "West Hollywood creatives",
          "West Hollywood creatives",
          "West Hollywood creatives",
          "West Hollywood creatives",
          "West Hollywood creatives",
          "West Hollywood creatives",
          "West Hollywood creatives",
          "West Hollywood creatives",
          "West Hollywood creatives",
          "West Hollywood creatives",
          "West Hollywood creatives",
          "West Hollywood creatives",
          "West Hollywood creatives",
          "West Hollywood creatives",
          "West Hollywood creatives",
          "West Hollywood creatives",
          "West Hollywood creatives",
          "West Hollywood creatives",
          "West Hollywood creatives",
          "West Hollywood creatives",
          "West Hollywood creatives",
          "West Hollywood creatives",
          "West Hollywood creatives",
          "West Hollywood creatives",
          "West Hollywood creatives",
          "West Hollywood creatives",
          "West Hollywood creatives",
          "West Hollywood creatives",
          "West Hollywood creatives",
          "West Hollywood creatives",
          "West Hollywood creatives",
          "West Hollywood creatives",
          "West Hollywood creatives",
          "West Hollywood creatives",
          "West Hollywood creatives",
          "West Hollywood creatives",
          "West Hollywood creatives",
          "West Hollywood creatives",
          "West Hollywood creatives",
          "West Hollywood creatives",
          "West Hollywood creatives",
          "West Hollywood creatives",
          "West Hollywood creatives",
          "West Hollywood creatives",
          "West Hollywood creatives",
          "West Hollywood creatives",
          "West Hollywood creatives",
          "West Hollywood creatives",
          "West Hollywood creatives",
          "West Hollywood creatives",
          "West Hollywood creatives",
          "West Hollywood creatives",
          "West Hollywood creatives",
          "West Hollywood creatives",
          "West Hollywood creatives",
          "West Hollywood creatives",
          "West Hollywood creatives",
          "West Hollywood creatives",
          "West Hollywood creatives",
          "West Hollywood creatives",
          "West Hollywood creatives",
          "West Hollywood creatives",
          "West Hollywood creatives",
          "West Hollywood creatives",
          "West Hollywood creatives",
          "West Hollywood creatives",
          "West Hollywood creatives",
          "West Hollywood creatives",
          "West Hollywood creatives",
          "West Hollywood creatives",
          "West Hollywood creatives",
          "West Hollywood creatives",
          "West Hollywood creatives",
          "West Hollywood creatives",
          "West Hollywood creatives",
          "West Hollywood creatives",
          "West Hollywood creatives",
          "West Hollywood creatives",
          "West Hollywood creatives",
          "West Hollywood creatives",
          "West Hollywood creatives",
          "West Hollywood creatives",
          "West Hollywood creatives",
          "West Hollywood creatives",
          "West Hollywood creatives",
          "West Hollywood creatives",
          "West Hollywood creatives",
          "West Hollywood creatives",
          "West Hollywood creatives",
          "West Hollywood creatives",
          "West Hollywood creatives"
         ],
         "lat": {
          "bdata": "7FG4HoULQUDOiNLe4AtBQCh+jLlrCUFA7FG4HoULQUDsUbgehQtBQOxRuB6FC0FAKH6MuWsJQUDOiNLe4AtBQCh+jLlrCUFA7FG4HoULQUDsUbgehQtBQOxRuB6FC0FAKH6MuWsJQUAofoy5awlBQM6I0t7gC0FAKH6MuWsJQUDOiNLe4AtBQOxRuB6FC0FAKH6MuWsJQUAofoy5awlBQOxRuB6FC0FAzojS3uALQUDOiNLe4AtBQCh+jLlrCUFAzojS3uALQUDsUbgehQtBQM6I0t7gC0FAzojS3uALQUDOiNLe4AtBQCh+jLlrCUFA7FG4HoULQUAofoy5awlBQM6I0t7gC0FAzojS3uALQUAofoy5awlBQM6I0t7gC0FAKH6MuWsJQUDOiNLe4AtBQM6I0t7gC0FAKH6MuWsJQUAofoy5awlBQOxRuB6FC0FAKH6MuWsJQUAofoy5awlBQM6I0t7gC0FAzojS3uALQUAofoy5awlBQM6I0t7gC0FAKH6MuWsJQUAofoy5awlBQCh+jLlrCUFAKH6MuWsJQUAofoy5awlBQOxRuB6FC0FAKH6MuWsJQUAofoy5awlBQOxRuB6FC0FA7FG4HoULQUDsUbgehQtBQM6I0t7gC0FAKH6MuWsJQUDsUbgehQtBQM6I0t7gC0FAzojS3uALQUDOiNLe4AtBQCh+jLlrCUFAKH6MuWsJQUDOiNLe4AtBQOxRuB6FC0FAzojS3uALQUDOiNLe4AtBQCh+jLlrCUFAzojS3uALQUAofoy5awlBQOxRuB6FC0FA7FG4HoULQUDOiNLe4AtBQOxRuB6FC0FAKH6MuWsJQUDOiNLe4AtBQM6I0t7gC0FAKH6MuWsJQUDOiNLe4AtBQM6I0t7gC0FA7FG4HoULQUDOiNLe4AtBQM6I0t7gC0FAKH6MuWsJQUAofoy5awlBQOxRuB6FC0FA7FG4HoULQUDsUbgehQtBQM6I0t7gC0FAKH6MuWsJQUDsUbgehQtBQOxRuB6FC0FA7FG4HoULQUDOiNLe4AtBQM6I0t7gC0FAKH6MuWsJQUDOiNLe4AtBQCh+jLlrCUFAKH6MuWsJQUDsUbgehQtBQCh+jLlrCUFA7FG4HoULQUDsUbgehQtBQM6I0t7gC0FAKH6MuWsJQUAofoy5awlBQM6I0t7gC0FAzojS3uALQUAofoy5awlBQM6I0t7gC0FA7FG4HoULQUAofoy5awlBQM6I0t7gC0FAzojS3uALQUAofoy5awlBQCh+jLlrCUFA7FG4HoULQUAofoy5awlBQOxRuB6FC0FAzojS3uALQUDsUbgehQtBQCh+jLlrCUFAKH6MuWsJQUDOiNLe4AtBQOxRuB6FC0FAzojS3uALQUDOiNLe4AtBQCh+jLlrCUFAzojS3uALQUDOiNLe4AtBQCh+jLlrCUFAKH6MuWsJQUDOiNLe4AtBQOxRuB6FC0FAzojS3uALQUDsUbgehQtBQOxRuB6FC0FAzojS3uALQUAofoy5awlBQM6I0t7gC0FA7FG4HoULQUDOiNLe4AtBQM6I0t7gC0FA7FG4HoULQUAofoy5awlBQM6I0t7gC0FA",
          "dtype": "f8"
         },
         "legendgroup": "Creative Entrepreneurs - Hollywood Creatives (West Hollywood / Beverly Hills)",
         "lon": {
          "bdata": "pb3BFyaXXcA4+MJkqphdwGFUUiegmV3Apb3BFyaXXcClvcEXJpddwKW9wRcml13AYVRSJ6CZXcA4+MJkqphdwGFUUiegmV3Apb3BFyaXXcClvcEXJpddwKW9wRcml13AYVRSJ6CZXcBhVFInoJldwDj4wmSqmF3AYVRSJ6CZXcA4+MJkqphdwKW9wRcml13AYVRSJ6CZXcBhVFInoJldwKW9wRcml13AOPjCZKqYXcA4+MJkqphdwGFUUiegmV3AOPjCZKqYXcClvcEXJpddwDj4wmSqmF3AOPjCZKqYXcA4+MJkqphdwGFUUiegmV3Apb3BFyaXXcBhVFInoJldwDj4wmSqmF3AOPjCZKqYXcBhVFInoJldwDj4wmSqmF3AYVRSJ6CZXcA4+MJkqphdwDj4wmSqmF3AYVRSJ6CZXcBhVFInoJldwKW9wRcml13AYVRSJ6CZXcBhVFInoJldwDj4wmSqmF3AOPjCZKqYXcBhVFInoJldwDj4wmSqmF3AYVRSJ6CZXcBhVFInoJldwGFUUiegmV3AYVRSJ6CZXcBhVFInoJldwKW9wRcml13AYVRSJ6CZXcBhVFInoJldwKW9wRcml13Apb3BFyaXXcClvcEXJpddwDj4wmSqmF3AYVRSJ6CZXcClvcEXJpddwDj4wmSqmF3AOPjCZKqYXcA4+MJkqphdwGFUUiegmV3AYVRSJ6CZXcA4+MJkqphdwKW9wRcml13AOPjCZKqYXcA4+MJkqphdwGFUUiegmV3AOPjCZKqYXcBhVFInoJldwKW9wRcml13Apb3BFyaXXcA4+MJkqphdwKW9wRcml13AYVRSJ6CZXcA4+MJkqphdwDj4wmSqmF3AYVRSJ6CZXcA4+MJkqphdwDj4wmSqmF3Apb3BFyaXXcA4+MJkqphdwDj4wmSqmF3AYVRSJ6CZXcBhVFInoJldwKW9wRcml13Apb3BFyaXXcClvcEXJpddwDj4wmSqmF3AYVRSJ6CZXcClvcEXJpddwKW9wRcml13Apb3BFyaXXcA4+MJkqphdwDj4wmSqmF3AYVRSJ6CZXcA4+MJkqphdwGFUUiegmV3AYVRSJ6CZXcClvcEXJpddwGFUUiegmV3Apb3BFyaXXcClvcEXJpddwDj4wmSqmF3AYVRSJ6CZXcBhVFInoJldwDj4wmSqmF3AOPjCZKqYXcBhVFInoJldwDj4wmSqmF3Apb3BFyaXXcBhVFInoJldwDj4wmSqmF3AOPjCZKqYXcBhVFInoJldwGFUUiegmV3Apb3BFyaXXcBhVFInoJldwKW9wRcml13AOPjCZKqYXcClvcEXJpddwGFUUiegmV3AYVRSJ6CZXcA4+MJkqphdwKW9wRcml13AOPjCZKqYXcA4+MJkqphdwGFUUiegmV3AOPjCZKqYXcA4+MJkqphdwGFUUiegmV3AYVRSJ6CZXcA4+MJkqphdwKW9wRcml13AOPjCZKqYXcClvcEXJpddwKW9wRcml13AOPjCZKqYXcBhVFInoJldwDj4wmSqmF3Apb3BFyaXXcA4+MJkqphdwDj4wmSqmF3Apb3BFyaXXcBhVFInoJldwDj4wmSqmF3A",
          "dtype": "f8"
         },
         "marker": {
          "color": "#636efa",
          "size": {
           "bdata": "AAAAAACI80AAAAAAQDACQQAAAAAAiPNAAAAAAIDG80AAAAAAwHoAQQAAAACAiv1AAAAAAACI80AAAAAAAIgDQQAAAACAB/5AAAAAAABG/kAAAAAAgCX5QAAAAAAAvf9AAAAAAICK/UAAAAAAwHQBQQAAAAAAiPNAAAAAAMB0AUEAAAAAwPcAQQAAAADAegBBAAAAAABA/0AAAAAAwHoAQQAAAAAAZPlAAAAAAAB89UAAAAAAgB/6QAAAAACAovlAAAAAAIDYAEEAAAAAgH7/QAAAAAAAvf9AAAAAAABe+kAAAAAAgIT+QAAAAAAAUvxAAAAAAACI80AAAAAAAGr4QAAAAABAPABBAAAAAAARAkEAAAAAAP/0QAAAAABANgFBAAAAAMDfBEEAAAAAQAAKQQAAAACAK/hAAAAAAECtAkEAAAAAAEb+QAAAAAAAiPNAAAAAAIDABEEAAAAAAFj7QAAAAACAovlAAAAAAABe+kAAAAAAAGQJQQAAAACAxgNBAAAAAADh+UAAAAAAwGIEQQAAAAAAiPNAAAAAAADt90AAAAAAgLT2QAAAAAAAz/xAAAAAAADh+UAAAAAAQDACQQAAAACAfv9AAAAAAIBDBEEAAAAAQDYBQQAAAAAAiPNAAAAAAIAT/EAAAAAAgE8CQQAAAAAA/wRBAAAAAACI80AAAAAAgBP8QAAAAAAA2/pAAAAAAIAfCkEAAAAAQDwAQQAAAABAMAJBAAAAAMDrAkEAAAAAAMP+QAAAAADAYgRBAAAAAICE/kAAAAAAgKj4QAAAAADAegBBAAAAAACI80AAAAAAAIjzQAAAAAAAgvRAAAAAAIAZ+0AAAAAAgMYDQQAAAABAGAZBAAAAAIBD9EAAAAAAgFsAQQAAAAAAiPNAAAAAAIDGA0EAAAAAAF76QAAAAACASQNBAAAAAACI80AAAAAAAOH5QAAAAAAAEQJBAAAAAACI80AAAAAAQK0CQQAAAAAAXvpAAAAAAMDTBkEAAAAAQKEEQQAAAAAA7fdAAAAAAMB0AUEAAAAAAAsDQQAAAAAAz/xAAAAAAACI80AAAAAAAFL8QAAAAACArvdAAAAAAIAl+UAAAAAAgNIBQQAAAADA9wBBAAAAAIAB/0AAAAAAgMwCQQAAAACAtPZAAAAAAADb+kAAAAAAAED/QAAAAACAH/pAAAAAAABk+UAAAAAAAHD3QAAAAADA2QVBAAAAAEASB0EAAAAAgH7/QAAAAADA8QFBAAAAAABG/kAAAAAAAFL8QAAAAACADf1AAAAAAIA99UAAAAAAAMn9QAAAAACAPQVBAAAAAIAT/EAAAAAAgAf+QAAAAADA8QFBAAAAAACOAkEAAAAAAJQBQQAAAACAnPpAAAAAAACI80AAAAAAAMP+QAAAAAAAWPtAAAAAAADn+EAAAAAAAIjzQAAAAAAAyf1AAAAAAACI80AAAAAAAPP2QAAAAAAAggRBAAAAAIAZ+0AAAAAAAF76QAAAAAAAlAFBAAAAAABq+EAAAAAAgCv4QAAAAACAovlAAAAAAACI80AAAAAAAIIEQQAAAAAAiPNAAAAAAADh+UAAAAAAgEkDQQAAAACAxvNA",
           "dtype": "f8"
          },
          "sizemode": "area",
          "sizeref": 750
         },
         "mode": "markers",
         "name": "Creative Entrepreneurs - Hollywood Creatives (West Hollywood / Beverly Hills)",
         "showlegend": true,
         "subplot": "mapbox",
         "type": "scattermapbox"
        },
        {
         "customdata": [
          [
           34,
           "Product Manager",
           "Bachelor's"
          ],
          [
           31,
           "UX/UI Designer",
           "Bachelor's"
          ],
          [
           30,
           "Software Engineer",
           "Bachelor's"
          ],
          [
           31,
           "UX/UI Designer",
           "Bachelor's"
          ],
          [
           36,
           "Product Manager",
           "Post Graduate"
          ],
          [
           38,
           "UX/UI Designer",
           "Bachelor's"
          ],
          [
           39,
           "Software Engineer",
           "Bachelor's"
          ],
          [
           25,
           "Product Manager",
           "Bachelor's"
          ],
          [
           35,
           "Product Manager",
           "Post Graduate"
          ],
          [
           28,
           "Product Manager",
           "Bachelor's"
          ],
          [
           38,
           "UX/UI Designer",
           "Bachelor's"
          ],
          [
           35,
           "Product Manager",
           "Bachelor's"
          ],
          [
           34,
           "Product Manager",
           "Bachelor's"
          ],
          [
           33,
           "UX/UI Designer",
           "Post Graduate"
          ],
          [
           32,
           "Product Manager",
           "Post Graduate"
          ],
          [
           26,
           "Product Manager",
           "Post Graduate"
          ],
          [
           27,
           "Product Manager",
           "Bachelor's"
          ],
          [
           25,
           "UX/UI Designer",
           "Bachelor's"
          ],
          [
           31,
           "Product Manager",
           "Bachelor's"
          ],
          [
           38,
           "UX/UI Designer",
           "Bachelor's"
          ],
          [
           37,
           "Software Engineer",
           "Post Graduate"
          ],
          [
           36,
           "Software Engineer",
           "Bachelor's"
          ],
          [
           37,
           "UX/UI Designer",
           "Bachelor's"
          ],
          [
           33,
           "Product Manager",
           "Bachelor's"
          ],
          [
           32,
           "UX/UI Designer",
           "Bachelor's"
          ],
          [
           30,
           "UX/UI Designer",
           "Post Graduate"
          ],
          [
           26,
           "Product Manager",
           "Bachelor's"
          ],
          [
           32,
           "Product Manager",
           "Bachelor's"
          ],
          [
           28,
           "UX/UI Designer",
           "Bachelor's"
          ],
          [
           39,
           "Software Engineer",
           "Bachelor's"
          ],
          [
           25,
           "Product Manager",
           "Bachelor's"
          ],
          [
           28,
           "UX/UI Designer",
           "Bachelor's"
          ],
          [
           28,
           "Product Manager",
           "Bachelor's"
          ],
          [
           28,
           "Software Engineer",
           "Bachelor's"
          ],
          [
           27,
           "UX/UI Designer",
           "Bachelor's"
          ],
          [
           25,
           "Software Engineer",
           "Bachelor's"
          ],
          [
           29,
           "UX/UI Designer",
           "Bachelor's"
          ],
          [
           32,
           "UX/UI Designer",
           "Bachelor's"
          ],
          [
           27,
           "Product Manager",
           "Bachelor's"
          ],
          [
           25,
           "Software Engineer",
           "Bachelor's"
          ],
          [
           28,
           "UX/UI Designer",
           "Bachelor's"
          ],
          [
           34,
           "UX/UI Designer",
           "Bachelor's"
          ],
          [
           37,
           "Software Engineer",
           "Bachelor's"
          ],
          [
           37,
           "Software Engineer",
           "Bachelor's"
          ],
          [
           31,
           "Software Engineer",
           "Bachelor's"
          ],
          [
           31,
           "Product Manager",
           "Bachelor's"
          ],
          [
           30,
           "Product Manager",
           "Post Graduate"
          ],
          [
           29,
           "Product Manager",
           "Bachelor's"
          ],
          [
           33,
           "Product Manager",
           "Bachelor's"
          ],
          [
           33,
           "Software Engineer",
           "Bachelor's"
          ],
          [
           31,
           "Product Manager",
           "Bachelor's"
          ],
          [
           27,
           "UX/UI Designer",
           "Bachelor's"
          ],
          [
           33,
           "UX/UI Designer",
           "Bachelor's"
          ],
          [
           27,
           "Product Manager",
           "Bachelor's"
          ],
          [
           28,
           "Software Engineer",
           "Bachelor's"
          ],
          [
           33,
           "UX/UI Designer",
           "Bachelor's"
          ],
          [
           35,
           "Product Manager",
           "Bachelor's"
          ],
          [
           28,
           "UX/UI Designer",
           "Bachelor's"
          ],
          [
           36,
           "Software Engineer",
           "Post Graduate"
          ],
          [
           36,
           "Product Manager",
           "Bachelor's"
          ],
          [
           25,
           "Software Engineer",
           "Post Graduate"
          ],
          [
           35,
           "UX/UI Designer",
           "Bachelor's"
          ],
          [
           38,
           "Software Engineer",
           "Post Graduate"
          ],
          [
           39,
           "UX/UI Designer",
           "Bachelor's"
          ],
          [
           38,
           "Product Manager",
           "Bachelor's"
          ],
          [
           34,
           "UX/UI Designer",
           "Bachelor's"
          ],
          [
           34,
           "Software Engineer",
           "Bachelor's"
          ],
          [
           38,
           "UX/UI Designer",
           "Bachelor's"
          ],
          [
           29,
           "Software Engineer",
           "Post Graduate"
          ],
          [
           26,
           "UX/UI Designer",
           "Post Graduate"
          ],
          [
           39,
           "Software Engineer",
           "Bachelor's"
          ],
          [
           32,
           "UX/UI Designer",
           "Post Graduate"
          ],
          [
           34,
           "Software Engineer",
           "Bachelor's"
          ],
          [
           31,
           "Product Manager",
           "Post Graduate"
          ],
          [
           29,
           "Software Engineer",
           "Bachelor's"
          ],
          [
           36,
           "Product Manager",
           "Bachelor's"
          ],
          [
           39,
           "UX/UI Designer",
           "Bachelor's"
          ],
          [
           25,
           "Software Engineer",
           "Post Graduate"
          ],
          [
           31,
           "Software Engineer",
           "Post Graduate"
          ],
          [
           31,
           "Product Manager",
           "Post Graduate"
          ],
          [
           29,
           "UX/UI Designer",
           "Post Graduate"
          ],
          [
           36,
           "Product Manager",
           "Bachelor's"
          ],
          [
           29,
           "Product Manager",
           "Bachelor's"
          ],
          [
           32,
           "Product Manager",
           "Bachelor's"
          ],
          [
           27,
           "Software Engineer",
           "Bachelor's"
          ],
          [
           39,
           "Software Engineer",
           "Post Graduate"
          ],
          [
           38,
           "UX/UI Designer",
           "Bachelor's"
          ],
          [
           35,
           "UX/UI Designer",
           "Bachelor's"
          ],
          [
           37,
           "Product Manager",
           "Bachelor's"
          ],
          [
           34,
           "UX/UI Designer",
           "Bachelor's"
          ],
          [
           38,
           "Product Manager",
           "Bachelor's"
          ],
          [
           37,
           "UX/UI Designer",
           "Post Graduate"
          ],
          [
           28,
           "Software Engineer",
           "Bachelor's"
          ],
          [
           30,
           "UX/UI Designer",
           "Bachelor's"
          ],
          [
           27,
           "UX/UI Designer",
           "Bachelor's"
          ],
          [
           35,
           "Software Engineer",
           "Post Graduate"
          ],
          [
           33,
           "Product Manager",
           "Bachelor's"
          ],
          [
           39,
           "Product Manager",
           "Post Graduate"
          ],
          [
           35,
           "Product Manager",
           "Bachelor's"
          ],
          [
           27,
           "Product Manager",
           "Post Graduate"
          ],
          [
           29,
           "Software Engineer",
           "Bachelor's"
          ],
          [
           37,
           "Product Manager",
           "Bachelor's"
          ],
          [
           26,
           "Product Manager",
           "Post Graduate"
          ],
          [
           35,
           "Product Manager",
           "Bachelor's"
          ],
          [
           34,
           "Product Manager",
           "Bachelor's"
          ],
          [
           29,
           "Software Engineer",
           "Bachelor's"
          ],
          [
           30,
           "Software Engineer",
           "Post Graduate"
          ],
          [
           33,
           "Software Engineer",
           "Bachelor's"
          ],
          [
           31,
           "Product Manager",
           "Bachelor's"
          ],
          [
           39,
           "UX/UI Designer",
           "Bachelor's"
          ],
          [
           38,
           "Product Manager",
           "Post Graduate"
          ],
          [
           28,
           "Software Engineer",
           "Post Graduate"
          ],
          [
           37,
           "UX/UI Designer",
           "Post Graduate"
          ],
          [
           26,
           "Product Manager",
           "Bachelor's"
          ],
          [
           26,
           "UX/UI Designer",
           "Post Graduate"
          ],
          [
           32,
           "UX/UI Designer",
           "Bachelor's"
          ],
          [
           25,
           "Software Engineer",
           "Bachelor's"
          ],
          [
           25,
           "Software Engineer",
           "Bachelor's"
          ],
          [
           26,
           "UX/UI Designer",
           "Post Graduate"
          ],
          [
           38,
           "Product Manager",
           "Bachelor's"
          ],
          [
           35,
           "Software Engineer",
           "Bachelor's"
          ],
          [
           38,
           "UX/UI Designer",
           "Bachelor's"
          ],
          [
           32,
           "Software Engineer",
           "Post Graduate"
          ],
          [
           31,
           "Software Engineer",
           "Post Graduate"
          ],
          [
           37,
           "Product Manager",
           "Bachelor's"
          ],
          [
           36,
           "Product Manager",
           "Bachelor's"
          ],
          [
           34,
           "Software Engineer",
           "Bachelor's"
          ],
          [
           25,
           "Product Manager",
           "Bachelor's"
          ],
          [
           32,
           "UX/UI Designer",
           "Bachelor's"
          ],
          [
           26,
           "Product Manager",
           "Bachelor's"
          ],
          [
           33,
           "Product Manager",
           "Bachelor's"
          ],
          [
           27,
           "Product Manager",
           "Bachelor's"
          ],
          [
           33,
           "Software Engineer",
           "Post Graduate"
          ],
          [
           37,
           "Software Engineer",
           "Bachelor's"
          ],
          [
           33,
           "UX/UI Designer",
           "Post Graduate"
          ],
          [
           37,
           "Software Engineer",
           "Bachelor's"
          ],
          [
           30,
           "Software Engineer",
           "Bachelor's"
          ],
          [
           34,
           "UX/UI Designer",
           "Bachelor's"
          ],
          [
           32,
           "Product Manager",
           "Bachelor's"
          ],
          [
           28,
           "UX/UI Designer",
           "Bachelor's"
          ],
          [
           29,
           "Product Manager",
           "Bachelor's"
          ],
          [
           33,
           "Software Engineer",
           "Bachelor's"
          ],
          [
           27,
           "Software Engineer",
           "Bachelor's"
          ],
          [
           37,
           "Software Engineer",
           "Bachelor's"
          ],
          [
           39,
           "UX/UI Designer",
           "Bachelor's"
          ],
          [
           35,
           "Software Engineer",
           "Bachelor's"
          ],
          [
           37,
           "Software Engineer",
           "Post Graduate"
          ],
          [
           32,
           "UX/UI Designer",
           "Post Graduate"
          ],
          [
           37,
           "Product Manager",
           "Bachelor's"
          ],
          [
           32,
           "UX/UI Designer",
           "Bachelor's"
          ],
          [
           35,
           "Product Manager",
           "Post Graduate"
          ],
          [
           32,
           "UX/UI Designer",
           "Post Graduate"
          ],
          [
           34,
           "Software Engineer",
           "Bachelor's"
          ],
          [
           38,
           "Software Engineer",
           "Bachelor's"
          ],
          [
           34,
           "Product Manager",
           "Bachelor's"
          ],
          [
           36,
           "Software Engineer",
           "Bachelor's"
          ],
          [
           26,
           "Software Engineer",
           "Bachelor's"
          ],
          [
           33,
           "UX/UI Designer",
           "Bachelor's"
          ],
          [
           33,
           "Software Engineer",
           "Bachelor's"
          ],
          [
           36,
           "Software Engineer",
           "Bachelor's"
          ],
          [
           26,
           "Product Manager",
           "Bachelor's"
          ],
          [
           39,
           "UX/UI Designer",
           "Bachelor's"
          ],
          [
           38,
           "Product Manager",
           "Post Graduate"
          ],
          [
           37,
           "Software Engineer",
           "Bachelor's"
          ],
          [
           39,
           "UX/UI Designer",
           "Bachelor's"
          ],
          [
           26,
           "UX/UI Designer",
           "Bachelor's"
          ],
          [
           29,
           "Software Engineer",
           "Bachelor's"
          ],
          [
           38,
           "Product Manager",
           "Bachelor's"
          ],
          [
           36,
           "Software Engineer",
           "Bachelor's"
          ],
          [
           32,
           "Product Manager",
           "Bachelor's"
          ],
          [
           27,
           "Software Engineer",
           "Bachelor's"
          ],
          [
           35,
           "Software Engineer",
           "Bachelor's"
          ],
          [
           26,
           "UX/UI Designer",
           "Bachelor's"
          ],
          [
           26,
           "Software Engineer",
           "Bachelor's"
          ],
          [
           38,
           "Software Engineer",
           "Bachelor's"
          ],
          [
           33,
           "Software Engineer",
           "Bachelor's"
          ],
          [
           33,
           "UX/UI Designer",
           "Bachelor's"
          ],
          [
           33,
           "Software Engineer",
           "Bachelor's"
          ],
          [
           27,
           "Software Engineer",
           "Bachelor's"
          ],
          [
           35,
           "Software Engineer",
           "Bachelor's"
          ],
          [
           27,
           "UX/UI Designer",
           "Bachelor's"
          ],
          [
           38,
           "UX/UI Designer",
           "Bachelor's"
          ],
          [
           29,
           "Product Manager",
           "Bachelor's"
          ],
          [
           29,
           "Software Engineer",
           "Post Graduate"
          ],
          [
           26,
           "Product Manager",
           "Post Graduate"
          ],
          [
           31,
           "Software Engineer",
           "Post Graduate"
          ],
          [
           33,
           "UX/UI Designer",
           "Bachelor's"
          ],
          [
           37,
           "UX/UI Designer",
           "Post Graduate"
          ],
          [
           38,
           "Product Manager",
           "Bachelor's"
          ],
          [
           25,
           "UX/UI Designer",
           "Post Graduate"
          ],
          [
           26,
           "UX/UI Designer",
           "Bachelor's"
          ],
          [
           39,
           "UX/UI Designer",
           "Bachelor's"
          ],
          [
           25,
           "UX/UI Designer",
           "Bachelor's"
          ],
          [
           37,
           "Software Engineer",
           "Bachelor's"
          ],
          [
           26,
           "UX/UI Designer",
           "Post Graduate"
          ],
          [
           38,
           "UX/UI Designer",
           "Bachelor's"
          ],
          [
           32,
           "UX/UI Designer",
           "Bachelor's"
          ],
          [
           35,
           "Software Engineer",
           "Bachelor's"
          ],
          [
           27,
           "Software Engineer",
           "Bachelor's"
          ],
          [
           37,
           "Product Manager",
           "Bachelor's"
          ]
         ],
         "hovertemplate": "<b>%{hovertext}</b><br><br>tribe=Tech-Savvy Professionals - Silicon Beach Innovators (Venice Beach / Santa Monica)<br>income=%{marker.size}<br>latitude=%{lat}<br>longitude=%{lon}<br>age=%{customdata[0]}<br>occupation=%{customdata[1]}<br>education=%{customdata[2]}<extra></extra>",
         "hovertext": [
          "Venice Beach tech industry leaders",
          "Venice Beach tech industry leaders",
          "Venice Beach tech industry leaders",
          "Venice Beach tech industry leaders",
          "Venice Beach tech industry leaders",
          "Venice Beach tech industry leaders",
          "Venice Beach tech industry leaders",
          "Venice Beach tech industry leaders",
          "Venice Beach tech industry leaders",
          "Venice Beach tech industry leaders",
          "Venice Beach tech industry leaders",
          "Venice Beach tech industry leaders",
          "Venice Beach tech industry leaders",
          "Venice Beach tech industry leaders",
          "Venice Beach tech industry leaders",
          "Venice Beach tech industry leaders",
          "Venice Beach tech industry leaders",
          "Venice Beach tech industry leaders",
          "Venice Beach tech industry leaders",
          "Venice Beach tech industry leaders",
          "Venice Beach tech industry leaders",
          "Venice Beach tech industry leaders",
          "Venice Beach tech industry leaders",
          "Venice Beach tech industry leaders",
          "Venice Beach tech industry leaders",
          "Venice Beach tech industry leaders",
          "Venice Beach tech industry leaders",
          "Venice Beach tech industry leaders",
          "Venice Beach tech industry leaders",
          "Venice Beach tech industry leaders",
          "Venice Beach tech industry leaders",
          "Venice Beach tech industry leaders",
          "Venice Beach tech industry leaders",
          "Venice Beach tech industry leaders",
          "Venice Beach tech industry leaders",
          "Venice Beach tech industry leaders",
          "Venice Beach tech industry leaders",
          "Venice Beach tech industry leaders",
          "Venice Beach tech industry leaders",
          "Venice Beach tech industry leaders",
          "Venice Beach tech industry leaders",
          "Venice Beach tech industry leaders",
          "Venice Beach tech industry leaders",
          "Venice Beach tech industry leaders",
          "Venice Beach tech industry leaders",
          "Venice Beach tech industry leaders",
          "Venice Beach tech industry leaders",
          "Venice Beach tech industry leaders",
          "Venice Beach tech industry leaders",
          "Venice Beach tech industry leaders",
          "Venice Beach tech industry leaders",
          "Venice Beach tech industry leaders",
          "Venice Beach tech industry leaders",
          "Venice Beach tech industry leaders",
          "Venice Beach tech industry leaders",
          "Venice Beach tech industry leaders",
          "Venice Beach tech industry leaders",
          "Venice Beach tech industry leaders",
          "Venice Beach tech industry leaders",
          "Venice Beach tech industry leaders",
          "Venice Beach tech industry leaders",
          "Venice Beach tech industry leaders",
          "Venice Beach tech industry leaders",
          "Venice Beach tech industry leaders",
          "Venice Beach tech industry leaders",
          "Venice Beach tech industry leaders",
          "Venice Beach tech industry leaders",
          "Venice Beach tech industry leaders",
          "Venice Beach tech industry leaders",
          "Venice Beach tech industry leaders",
          "Venice Beach tech industry leaders",
          "Venice Beach tech industry leaders",
          "Venice Beach tech industry leaders",
          "Venice Beach tech industry leaders",
          "Venice Beach tech industry leaders",
          "Venice Beach tech industry leaders",
          "Venice Beach tech industry leaders",
          "Venice Beach tech industry leaders",
          "Venice Beach tech industry leaders",
          "Venice Beach tech industry leaders",
          "Venice Beach tech industry leaders",
          "Venice Beach tech industry leaders",
          "Venice Beach tech industry leaders",
          "Venice Beach tech industry leaders",
          "Venice Beach tech industry leaders",
          "Venice Beach tech industry leaders",
          "Venice Beach tech industry leaders",
          "Venice Beach tech industry leaders",
          "Venice Beach tech industry leaders",
          "Venice Beach tech industry leaders",
          "Venice Beach tech industry leaders",
          "Venice Beach tech industry leaders",
          "Venice Beach tech industry leaders",
          "Venice Beach tech industry leaders",
          "Venice Beach tech industry leaders",
          "Venice Beach tech industry leaders",
          "Venice Beach tech industry leaders",
          "Venice Beach tech industry leaders",
          "Venice Beach tech industry leaders",
          "Venice Beach tech industry leaders",
          "Venice Beach tech industry leaders",
          "Venice Beach tech industry leaders",
          "Venice Beach tech industry leaders",
          "Venice Beach tech industry leaders",
          "Venice Beach tech industry leaders",
          "Venice Beach tech industry leaders",
          "Venice Beach tech industry leaders",
          "Venice Beach tech industry leaders",
          "Venice Beach tech industry leaders",
          "Venice Beach tech industry leaders",
          "Venice Beach tech industry leaders",
          "Venice Beach tech industry leaders",
          "Venice Beach tech industry leaders",
          "Venice Beach tech industry leaders",
          "Venice Beach tech industry leaders",
          "Venice Beach tech industry leaders",
          "Venice Beach tech industry leaders",
          "Venice Beach tech industry leaders",
          "Venice Beach tech industry leaders",
          "Venice Beach tech industry leaders",
          "Venice Beach tech industry leaders",
          "Venice Beach tech industry leaders",
          "Venice Beach tech industry leaders",
          "Venice Beach tech industry leaders",
          "Venice Beach tech industry leaders",
          "Venice Beach tech industry leaders",
          "Venice Beach tech industry leaders",
          "Venice Beach tech industry leaders",
          "Venice Beach tech industry leaders",
          "Venice Beach tech industry leaders",
          "Venice Beach tech industry leaders",
          "Venice Beach tech industry leaders",
          "Venice Beach tech industry leaders",
          "Venice Beach tech industry leaders",
          "Venice Beach tech industry leaders",
          "Venice Beach tech industry leaders",
          "Venice Beach tech industry leaders",
          "Venice Beach tech industry leaders",
          "Venice Beach tech industry leaders",
          "Venice Beach tech industry leaders",
          "Venice Beach tech industry leaders",
          "Venice Beach tech industry leaders",
          "Venice Beach tech industry leaders",
          "Venice Beach tech industry leaders",
          "Venice Beach tech industry leaders",
          "Venice Beach tech industry leaders",
          "Venice Beach tech industry leaders",
          "Venice Beach tech industry leaders",
          "Venice Beach tech industry leaders",
          "Venice Beach tech industry leaders",
          "Venice Beach tech industry leaders",
          "Venice Beach tech industry leaders",
          "Venice Beach tech industry leaders",
          "Venice Beach tech industry leaders",
          "Venice Beach tech industry leaders",
          "Venice Beach tech industry leaders",
          "Venice Beach tech industry leaders",
          "Venice Beach tech industry leaders",
          "Venice Beach tech industry leaders",
          "Venice Beach tech industry leaders",
          "Venice Beach tech industry leaders",
          "Venice Beach tech industry leaders",
          "Venice Beach tech industry leaders",
          "Venice Beach tech industry leaders",
          "Venice Beach tech industry leaders",
          "Venice Beach tech industry leaders",
          "Venice Beach tech industry leaders",
          "Venice Beach tech industry leaders",
          "Venice Beach tech industry leaders",
          "Venice Beach tech industry leaders",
          "Venice Beach tech industry leaders",
          "Venice Beach tech industry leaders",
          "Venice Beach tech industry leaders",
          "Venice Beach tech industry leaders",
          "Venice Beach tech industry leaders",
          "Venice Beach tech industry leaders",
          "Venice Beach tech industry leaders",
          "Venice Beach tech industry leaders",
          "Venice Beach tech industry leaders",
          "Venice Beach tech industry leaders",
          "Venice Beach tech industry leaders",
          "Venice Beach tech industry leaders",
          "Venice Beach tech industry leaders",
          "Venice Beach tech industry leaders",
          "Venice Beach tech industry leaders",
          "Venice Beach tech industry leaders",
          "Venice Beach tech industry leaders",
          "Venice Beach tech industry leaders",
          "Venice Beach tech industry leaders",
          "Venice Beach tech industry leaders",
          "Venice Beach tech industry leaders",
          "Venice Beach tech industry leaders",
          "Venice Beach tech industry leaders",
          "Venice Beach tech industry leaders",
          "Venice Beach tech industry leaders",
          "Venice Beach tech industry leaders",
          "Venice Beach tech industry leaders",
          "Venice Beach tech industry leaders",
          "Venice Beach tech industry leaders",
          "Venice Beach tech industry leaders"
         ],
         "lat": {
          "bdata": "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",
          "dtype": "f8"
         },
         "legendgroup": "Tech-Savvy Professionals - Silicon Beach Innovators (Venice Beach / Santa Monica)",
         "lon": {
          "bdata": "5fIf0m+fXcDl8h/Sb59dwOXyH9Jvn13ANV66SQyeXcAJih9j7ppdwAmKH2Puml3ACYofY+6aXcDl8h/Sb59dwAmKH2Puml3ANV66SQyeXcA1XrpJDJ5dwDVeukkMnl3ACYofY+6aXcAJih9j7ppdwDVeukkMnl3A5fIf0m+fXcDl8h/Sb59dwOXyH9Jvn13ANV66SQyeXcDl8h/Sb59dwOXyH9Jvn13A5fIf0m+fXcDl8h/Sb59dwDVeukkMnl3A5fIf0m+fXcA1XrpJDJ5dwAmKH2Puml3ACYofY+6aXcAJih9j7ppdwOXyH9Jvn13ANV66SQyeXcAJih9j7ppdwAmKH2Puml3A5fIf0m+fXcAJih9j7ppdwOXyH9Jvn13ANV66SQyeXcDl8h/Sb59dwDVeukkMnl3A5fIf0m+fXcA1XrpJDJ5dwDVeukkMnl3A5fIf0m+fXcA1XrpJDJ5dwOXyH9Jvn13A5fIf0m+fXcDl8h/Sb59dwDVeukkMnl3A5fIf0m+fXcAJih9j7ppdwAmKH2Puml3A5fIf0m+fXcDl8h/Sb59dwOXyH9Jvn13ACYofY+6aXcA1XrpJDJ5dwDVeukkMnl3ANV66SQyeXcAJih9j7ppdwDVeukkMnl3A5fIf0m+fXcAJih9j7ppdwDVeukkMnl3A5fIf0m+fXcDl8h/Sb59dwAmKH2Puml3ACYofY+6aXcDl8h/Sb59dwAmKH2Puml3ANV66SQyeXcDl8h/Sb59dwOXyH9Jvn13A5fIf0m+fXcA1XrpJDJ5dwAmKH2Puml3ACYofY+6aXcA1XrpJDJ5dwOXyH9Jvn13ANV66SQyeXcA1XrpJDJ5dwOXyH9Jvn13ANV66SQyeXcAJih9j7ppdwOXyH9Jvn13ACYofY+6aXcDl8h/Sb59dwOXyH9Jvn13A5fIf0m+fXcDl8h/Sb59dwOXyH9Jvn13ACYofY+6aXcAJih9j7ppdwAmKH2Puml3A5fIf0m+fXcAJih9j7ppdwOXyH9Jvn13ANV66SQyeXcDl8h/Sb59dwDVeukkMnl3ACYofY+6aXcAJih9j7ppdwOXyH9Jvn13A5fIf0m+fXcDl8h/Sb59dwAmKH2Puml3ACYofY+6aXcAJih9j7ppdwAmKH2Puml3A5fIf0m+fXcAJih9j7ppdwOXyH9Jvn13ANV66SQyeXcAJih9j7ppdwOXyH9Jvn13ACYofY+6aXcA1XrpJDJ5dwOXyH9Jvn13ACYofY+6aXcAJih9j7ppdwDVeukkMnl3ANV66SQyeXcA1XrpJDJ5dwAmKH2Puml3ACYofY+6aXcAJih9j7ppdwAmKH2Puml3ACYofY+6aXcDl8h/Sb59dwOXyH9Jvn13ACYofY+6aXcA1XrpJDJ5dwDVeukkMnl3ACYofY+6aXcA1XrpJDJ5dwOXyH9Jvn13ACYofY+6aXcAJih9j7ppdwDVeukkMnl3ACYofY+6aXcAJih9j7ppdwAmKH2Puml3ANV66SQyeXcDl8h/Sb59dwAmKH2Puml3ACYofY+6aXcDl8h/Sb59dwAmKH2Puml3ACYofY+6aXcAJih9j7ppdwAmKH2Puml3A5fIf0m+fXcA1XrpJDJ5dwAmKH2Puml3A5fIf0m+fXcA1XrpJDJ5dwOXyH9Jvn13ANV66SQyeXcDl8h/Sb59dwOXyH9Jvn13ANV66SQyeXcAJih9j7ppdwAmKH2Puml3ANV66SQyeXcAJih9j7ppdwDVeukkMnl3A5fIf0m+fXcAJih9j7ppdwOXyH9Jvn13ANV66SQyeXcA1XrpJDJ5dwOXyH9Jvn13ACYofY+6aXcAJih9j7ppdwOXyH9Jvn13ANV66SQyeXcA1XrpJDJ5dwAmKH2Puml3A5fIf0m+fXcDl8h/Sb59dwOXyH9Jvn13ANV66SQyeXcAJih9j7ppdwAmKH2Puml3A5fIf0m+fXcA1XrpJDJ5dwAmKH2Puml3ACYofY+6aXcA1XrpJDJ5dwOXyH9Jvn13ACYofY+6aXcDl8h/Sb59dwOXyH9Jvn13ACYofY+6aXcAJih9j7ppdwAmKH2Puml3A5fIf0m+fXcAJih9j7ppdwAmKH2Puml3A5fIf0m+fXcAJih9j7ppdwA==",
          "dtype": "f8"
         },
         "marker": {
          "color": "#EF553B",
          "size": {
           "bdata": "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",
           "dtype": "f8"
          },
          "sizemode": "area",
          "sizeref": 750
         },
         "mode": "markers",
         "name": "Tech-Savvy Professionals - Silicon Beach Innovators (Venice Beach / Santa Monica)",
         "showlegend": true,
         "subplot": "mapbox",
         "type": "scattermapbox"
        },
        {
         "customdata": [
          [
           23,
           "Student",
           "Some College"
          ],
          [
           22,
           "Part-time Worker",
           "Some College"
          ],
          [
           22,
           "Part-time Worker",
           "Some College"
          ],
          [
           20,
           "Part-time Worker",
           "Some College"
          ],
          [
           20,
           "Student",
           "Some College"
          ],
          [
           23,
           "Part-time Worker",
           "Some College"
          ],
          [
           22,
           "Part-time Worker",
           "Some College"
          ],
          [
           23,
           "Student",
           "Some College"
          ],
          [
           22,
           "Student",
           "Some College"
          ],
          [
           23,
           "Intern",
           "Some College"
          ],
          [
           19,
           "Part-time Worker",
           "Some College"
          ],
          [
           20,
           "Intern",
           "Some College"
          ],
          [
           21,
           "Part-time Worker",
           "Some College"
          ],
          [
           20,
           "Part-time Worker",
           "Some College"
          ],
          [
           19,
           "Student",
           "Some College"
          ],
          [
           20,
           "Student",
           "Some College"
          ],
          [
           22,
           "Student",
           "Some College"
          ],
          [
           21,
           "Student",
           "Some College"
          ],
          [
           18,
           "Student",
           "Some College"
          ],
          [
           20,
           "Student",
           "Some College"
          ],
          [
           20,
           "Part-time Worker",
           "Some College"
          ],
          [
           19,
           "Part-time Worker",
           "Some College"
          ],
          [
           21,
           "Student",
           "Some College"
          ],
          [
           20,
           "Part-time Worker",
           "Some College"
          ],
          [
           22,
           "Intern",
           "Some College"
          ],
          [
           18,
           "Intern",
           "Some College"
          ],
          [
           23,
           "Student",
           "Some College"
          ],
          [
           21,
           "Part-time Worker",
           "Some College"
          ],
          [
           18,
           "Part-time Worker",
           "Some College"
          ],
          [
           22,
           "Part-time Worker",
           "Some College"
          ],
          [
           20,
           "Part-time Worker",
           "Some College"
          ],
          [
           18,
           "Intern",
           "Some College"
          ],
          [
           20,
           "Intern",
           "Some College"
          ],
          [
           21,
           "Student",
           "Some College"
          ],
          [
           21,
           "Student",
           "Some College"
          ],
          [
           22,
           "Student",
           "Some College"
          ],
          [
           23,
           "Student",
           "Some College"
          ],
          [
           23,
           "Student",
           "Some College"
          ],
          [
           23,
           "Student",
           "Some College"
          ],
          [
           19,
           "Part-time Worker",
           "Some College"
          ],
          [
           18,
           "Intern",
           "Some College"
          ],
          [
           21,
           "Intern",
           "Some College"
          ],
          [
           22,
           "Part-time Worker",
           "Some College"
          ],
          [
           20,
           "Student",
           "Some College"
          ],
          [
           21,
           "Part-time Worker",
           "Some College"
          ],
          [
           22,
           "Intern",
           "Some College"
          ],
          [
           18,
           "Intern",
           "Some College"
          ],
          [
           23,
           "Part-time Worker",
           "Some College"
          ],
          [
           20,
           "Student",
           "Some College"
          ],
          [
           22,
           "Intern",
           "Some College"
          ],
          [
           23,
           "Intern",
           "Some College"
          ],
          [
           21,
           "Student",
           "Some College"
          ],
          [
           23,
           "Part-time Worker",
           "Some College"
          ],
          [
           20,
           "Intern",
           "Some College"
          ],
          [
           23,
           "Student",
           "Some College"
          ],
          [
           19,
           "Intern",
           "Some College"
          ],
          [
           19,
           "Student",
           "Some College"
          ],
          [
           19,
           "Part-time Worker",
           "Some College"
          ],
          [
           21,
           "Intern",
           "Some College"
          ],
          [
           19,
           "Intern",
           "Some College"
          ],
          [
           23,
           "Student",
           "Some College"
          ],
          [
           23,
           "Part-time Worker",
           "Some College"
          ],
          [
           23,
           "Intern",
           "Some College"
          ],
          [
           18,
           "Intern",
           "Some College"
          ],
          [
           20,
           "Intern",
           "Some College"
          ],
          [
           19,
           "Student",
           "Some College"
          ],
          [
           20,
           "Part-time Worker",
           "Some College"
          ],
          [
           20,
           "Intern",
           "Some College"
          ],
          [
           23,
           "Intern",
           "Some College"
          ],
          [
           18,
           "Student",
           "Some College"
          ],
          [
           22,
           "Student",
           "Some College"
          ],
          [
           23,
           "Student",
           "Some College"
          ],
          [
           19,
           "Part-time Worker",
           "Some College"
          ],
          [
           20,
           "Intern",
           "Some College"
          ],
          [
           22,
           "Part-time Worker",
           "Some College"
          ],
          [
           18,
           "Part-time Worker",
           "Some College"
          ],
          [
           22,
           "Intern",
           "Some College"
          ],
          [
           18,
           "Student",
           "Some College"
          ],
          [
           20,
           "Intern",
           "Some College"
          ],
          [
           22,
           "Intern",
           "Some College"
          ],
          [
           19,
           "Student",
           "Some College"
          ],
          [
           22,
           "Part-time Worker",
           "Some College"
          ],
          [
           20,
           "Intern",
           "Some College"
          ],
          [
           22,
           "Student",
           "Some College"
          ],
          [
           23,
           "Intern",
           "Some College"
          ],
          [
           21,
           "Intern",
           "Some College"
          ],
          [
           21,
           "Student",
           "Some College"
          ],
          [
           19,
           "Part-time Worker",
           "Some College"
          ],
          [
           22,
           "Intern",
           "Some College"
          ],
          [
           19,
           "Student",
           "Some College"
          ],
          [
           18,
           "Part-time Worker",
           "Some College"
          ],
          [
           22,
           "Intern",
           "Some College"
          ],
          [
           22,
           "Student",
           "Some College"
          ],
          [
           23,
           "Student",
           "Some College"
          ],
          [
           23,
           "Part-time Worker",
           "Some College"
          ],
          [
           20,
           "Student",
           "Some College"
          ],
          [
           21,
           "Student",
           "Some College"
          ],
          [
           19,
           "Intern",
           "Some College"
          ],
          [
           23,
           "Student",
           "Some College"
          ],
          [
           19,
           "Part-time Worker",
           "Some College"
          ],
          [
           19,
           "Part-time Worker",
           "Some College"
          ],
          [
           23,
           "Part-time Worker",
           "Some College"
          ],
          [
           22,
           "Student",
           "Some College"
          ],
          [
           21,
           "Student",
           "Some College"
          ],
          [
           23,
           "Intern",
           "Some College"
          ],
          [
           20,
           "Student",
           "Some College"
          ],
          [
           20,
           "Part-time Worker",
           "Some College"
          ],
          [
           23,
           "Part-time Worker",
           "Some College"
          ],
          [
           23,
           "Student",
           "Some College"
          ],
          [
           21,
           "Intern",
           "Some College"
          ],
          [
           23,
           "Part-time Worker",
           "Some College"
          ],
          [
           20,
           "Intern",
           "Some College"
          ],
          [
           19,
           "Part-time Worker",
           "Some College"
          ],
          [
           22,
           "Intern",
           "Some College"
          ],
          [
           18,
           "Intern",
           "Some College"
          ],
          [
           18,
           "Student",
           "Some College"
          ],
          [
           18,
           "Part-time Worker",
           "Some College"
          ],
          [
           22,
           "Part-time Worker",
           "Some College"
          ],
          [
           22,
           "Part-time Worker",
           "Some College"
          ],
          [
           23,
           "Intern",
           "Some College"
          ],
          [
           21,
           "Student",
           "Some College"
          ],
          [
           23,
           "Student",
           "Some College"
          ],
          [
           20,
           "Part-time Worker",
           "Some College"
          ],
          [
           20,
           "Part-time Worker",
           "Some College"
          ],
          [
           23,
           "Intern",
           "Some College"
          ],
          [
           23,
           "Student",
           "Some College"
          ],
          [
           18,
           "Intern",
           "Some College"
          ],
          [
           20,
           "Student",
           "Some College"
          ],
          [
           19,
           "Student",
           "Some College"
          ],
          [
           21,
           "Intern",
           "Some College"
          ],
          [
           21,
           "Student",
           "Some College"
          ],
          [
           20,
           "Student",
           "Some College"
          ],
          [
           22,
           "Part-time Worker",
           "Some College"
          ],
          [
           21,
           "Intern",
           "Some College"
          ],
          [
           19,
           "Intern",
           "Some College"
          ],
          [
           18,
           "Intern",
           "Some College"
          ],
          [
           23,
           "Student",
           "Some College"
          ],
          [
           22,
           "Student",
           "Some College"
          ],
          [
           21,
           "Intern",
           "Some College"
          ],
          [
           19,
           "Intern",
           "Some College"
          ],
          [
           19,
           "Student",
           "Some College"
          ],
          [
           20,
           "Part-time Worker",
           "Some College"
          ],
          [
           20,
           "Student",
           "Some College"
          ],
          [
           23,
           "Intern",
           "Some College"
          ],
          [
           19,
           "Student",
           "Some College"
          ],
          [
           20,
           "Student",
           "Some College"
          ],
          [
           19,
           "Intern",
           "Some College"
          ],
          [
           20,
           "Part-time Worker",
           "Some College"
          ],
          [
           23,
           "Part-time Worker",
           "Some College"
          ],
          [
           21,
           "Part-time Worker",
           "Some College"
          ],
          [
           23,
           "Part-time Worker",
           "Some College"
          ],
          [
           18,
           "Intern",
           "Some College"
          ],
          [
           23,
           "Part-time Worker",
           "Some College"
          ],
          [
           22,
           "Student",
           "Some College"
          ],
          [
           20,
           "Intern",
           "Some College"
          ],
          [
           23,
           "Student",
           "Some College"
          ],
          [
           22,
           "Intern",
           "Some College"
          ],
          [
           18,
           "Student",
           "Some College"
          ],
          [
           21,
           "Student",
           "Some College"
          ],
          [
           22,
           "Intern",
           "Some College"
          ],
          [
           20,
           "Student",
           "Some College"
          ],
          [
           21,
           "Intern",
           "Some College"
          ],
          [
           20,
           "Intern",
           "Some College"
          ],
          [
           18,
           "Part-time Worker",
           "Some College"
          ],
          [
           20,
           "Student",
           "Some College"
          ],
          [
           21,
           "Intern",
           "Some College"
          ],
          [
           23,
           "Intern",
           "Some College"
          ],
          [
           22,
           "Part-time Worker",
           "Some College"
          ],
          [
           20,
           "Student",
           "Some College"
          ],
          [
           19,
           "Part-time Worker",
           "Some College"
          ],
          [
           20,
           "Student",
           "Some College"
          ],
          [
           19,
           "Part-time Worker",
           "Some College"
          ],
          [
           23,
           "Intern",
           "Some College"
          ],
          [
           22,
           "Intern",
           "Some College"
          ],
          [
           18,
           "Student",
           "Some College"
          ],
          [
           20,
           "Part-time Worker",
           "Some College"
          ],
          [
           20,
           "Student",
           "Some College"
          ],
          [
           19,
           "Intern",
           "Some College"
          ],
          [
           18,
           "Part-time Worker",
           "Some College"
          ],
          [
           19,
           "Part-time Worker",
           "Some College"
          ],
          [
           21,
           "Intern",
           "Some College"
          ],
          [
           23,
           "Part-time Worker",
           "Some College"
          ],
          [
           18,
           "Part-time Worker",
           "Some College"
          ],
          [
           21,
           "Part-time Worker",
           "Some College"
          ],
          [
           20,
           "Student",
           "Some College"
          ],
          [
           23,
           "Part-time Worker",
           "Some College"
          ],
          [
           19,
           "Student",
           "Some College"
          ],
          [
           19,
           "Student",
           "Some College"
          ],
          [
           19,
           "Student",
           "Some College"
          ],
          [
           22,
           "Part-time Worker",
           "Some College"
          ],
          [
           19,
           "Student",
           "Some College"
          ],
          [
           23,
           "Intern",
           "Some College"
          ],
          [
           21,
           "Part-time Worker",
           "Some College"
          ],
          [
           23,
           "Part-time Worker",
           "Some College"
          ],
          [
           19,
           "Intern",
           "Some College"
          ],
          [
           19,
           "Part-time Worker",
           "Some College"
          ],
          [
           22,
           "Intern",
           "Some College"
          ],
          [
           19,
           "Part-time Worker",
           "Some College"
          ],
          [
           20,
           "Part-time Worker",
           "Some College"
          ],
          [
           20,
           "Intern",
           "Some College"
          ],
          [
           18,
           "Intern",
           "Some College"
          ],
          [
           23,
           "Student",
           "Some College"
          ],
          [
           22,
           "Student",
           "Some College"
          ],
          [
           21,
           "Intern",
           "Some College"
          ],
          [
           20,
           "Part-time Worker",
           "Some College"
          ],
          [
           21,
           "Intern",
           "Some College"
          ],
          [
           21,
           "Intern",
           "Some College"
          ],
          [
           21,
           "Intern",
           "Some College"
          ],
          [
           21,
           "Student",
           "Some College"
          ],
          [
           20,
           "Intern",
           "Some College"
          ],
          [
           23,
           "Student",
           "Some College"
          ]
         ],
         "hovertemplate": "<b>%{hovertext}</b><br><br>tribe=College Students - Campus Life (UCLA / USC)<br>income=%{marker.size}<br>latitude=%{lat}<br>longitude=%{lon}<br>age=%{customdata[0]}<br>occupation=%{customdata[1]}<br>education=%{customdata[2]}<extra></extra>",
         "hovertext": [
          "UCLA/USC students",
          "UCLA/USC students",
          "UCLA/USC students",
          "UCLA/USC students",
          "UCLA/USC students",
          "UCLA/USC students",
          "UCLA/USC students",
          "UCLA/USC students",
          "UCLA/USC students",
          "UCLA/USC students",
          "UCLA/USC students",
          "UCLA/USC students",
          "UCLA/USC students",
          "UCLA/USC students",
          "UCLA/USC students",
          "UCLA/USC students",
          "UCLA/USC students",
          "UCLA/USC students",
          "UCLA/USC students",
          "UCLA/USC students",
          "UCLA/USC students",
          "UCLA/USC students",
          "UCLA/USC students",
          "UCLA/USC students",
          "UCLA/USC students",
          "UCLA/USC students",
          "UCLA/USC students",
          "UCLA/USC students",
          "UCLA/USC students",
          "UCLA/USC students",
          "UCLA/USC students",
          "UCLA/USC students",
          "UCLA/USC students",
          "UCLA/USC students",
          "UCLA/USC students",
          "UCLA/USC students",
          "UCLA/USC students",
          "UCLA/USC students",
          "UCLA/USC students",
          "UCLA/USC students",
          "UCLA/USC students",
          "UCLA/USC students",
          "UCLA/USC students",
          "UCLA/USC students",
          "UCLA/USC students",
          "UCLA/USC students",
          "UCLA/USC students",
          "UCLA/USC students",
          "UCLA/USC students",
          "UCLA/USC students",
          "UCLA/USC students",
          "UCLA/USC students",
          "UCLA/USC students",
          "UCLA/USC students",
          "UCLA/USC students",
          "UCLA/USC students",
          "UCLA/USC students",
          "UCLA/USC students",
          "UCLA/USC students",
          "UCLA/USC students",
          "UCLA/USC students",
          "UCLA/USC students",
          "UCLA/USC students",
          "UCLA/USC students",
          "UCLA/USC students",
          "UCLA/USC students",
          "UCLA/USC students",
          "UCLA/USC students",
          "UCLA/USC students",
          "UCLA/USC students",
          "UCLA/USC students",
          "UCLA/USC students",
          "UCLA/USC students",
          "UCLA/USC students",
          "UCLA/USC students",
          "UCLA/USC students",
          "UCLA/USC students",
          "UCLA/USC students",
          "UCLA/USC students",
          "UCLA/USC students",
          "UCLA/USC students",
          "UCLA/USC students",
          "UCLA/USC students",
          "UCLA/USC students",
          "UCLA/USC students",
          "UCLA/USC students",
          "UCLA/USC students",
          "UCLA/USC students",
          "UCLA/USC students",
          "UCLA/USC students",
          "UCLA/USC students",
          "UCLA/USC students",
          "UCLA/USC students",
          "UCLA/USC students",
          "UCLA/USC students",
          "UCLA/USC students",
          "UCLA/USC students",
          "UCLA/USC students",
          "UCLA/USC students",
          "UCLA/USC students",
          "UCLA/USC students",
          "UCLA/USC students",
          "UCLA/USC students",
          "UCLA/USC students",
          "UCLA/USC students",
          "UCLA/USC students",
          "UCLA/USC students",
          "UCLA/USC students",
          "UCLA/USC students",
          "UCLA/USC students",
          "UCLA/USC students",
          "UCLA/USC students",
          "UCLA/USC students",
          "UCLA/USC students",
          "UCLA/USC students",
          "UCLA/USC students",
          "UCLA/USC students",
          "UCLA/USC students",
          "UCLA/USC students",
          "UCLA/USC students",
          "UCLA/USC students",
          "UCLA/USC students",
          "UCLA/USC students",
          "UCLA/USC students",
          "UCLA/USC students",
          "UCLA/USC students",
          "UCLA/USC students",
          "UCLA/USC students",
          "UCLA/USC students",
          "UCLA/USC students",
          "UCLA/USC students",
          "UCLA/USC students",
          "UCLA/USC students",
          "UCLA/USC students",
          "UCLA/USC students",
          "UCLA/USC students",
          "UCLA/USC students",
          "UCLA/USC students",
          "UCLA/USC students",
          "UCLA/USC students",
          "UCLA/USC students",
          "UCLA/USC students",
          "UCLA/USC students",
          "UCLA/USC students",
          "UCLA/USC students",
          "UCLA/USC students",
          "UCLA/USC students",
          "UCLA/USC students",
          "UCLA/USC students",
          "UCLA/USC students",
          "UCLA/USC students",
          "UCLA/USC students",
          "UCLA/USC students",
          "UCLA/USC students",
          "UCLA/USC students",
          "UCLA/USC students",
          "UCLA/USC students",
          "UCLA/USC students",
          "UCLA/USC students",
          "UCLA/USC students",
          "UCLA/USC students",
          "UCLA/USC students",
          "UCLA/USC students",
          "UCLA/USC students",
          "UCLA/USC students",
          "UCLA/USC students",
          "UCLA/USC students",
          "UCLA/USC students",
          "UCLA/USC students",
          "UCLA/USC students",
          "UCLA/USC students",
          "UCLA/USC students",
          "UCLA/USC students",
          "UCLA/USC students",
          "UCLA/USC students",
          "UCLA/USC students",
          "UCLA/USC students",
          "UCLA/USC students",
          "UCLA/USC students",
          "UCLA/USC students",
          "UCLA/USC students",
          "UCLA/USC students",
          "UCLA/USC students",
          "UCLA/USC students",
          "UCLA/USC students",
          "UCLA/USC students",
          "UCLA/USC students",
          "UCLA/USC students",
          "UCLA/USC students",
          "UCLA/USC students",
          "UCLA/USC students",
          "UCLA/USC students",
          "UCLA/USC students",
          "UCLA/USC students",
          "UCLA/USC students",
          "UCLA/USC students",
          "UCLA/USC students",
          "UCLA/USC students",
          "UCLA/USC students",
          "UCLA/USC students",
          "UCLA/USC students",
          "UCLA/USC students",
          "UCLA/USC students",
          "UCLA/USC students",
          "UCLA/USC students",
          "UCLA/USC students",
          "UCLA/USC students",
          "UCLA/USC students",
          "UCLA/USC students",
          "UCLA/USC students",
          "UCLA/USC students"
         ],
         "lat": {
          "bdata": "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",
          "dtype": "f8"
         },
         "legendgroup": "College Students - Campus Life (UCLA / USC)",
         "lon": {
          "bdata": "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",
          "dtype": "f8"
         },
         "marker": {
          "color": "#00cc96",
          "size": {
           "bdata": "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",
           "dtype": "f8"
          },
          "sizemode": "area",
          "sizeref": 750
         },
         "mode": "markers",
         "name": "College Students - Campus Life (UCLA / USC)",
         "showlegend": true,
         "subplot": "mapbox",
         "type": "scattermapbox"
        },
        {
         "customdata": [
          [
           29,
           "Health Coach",
           "Post Graduate"
          ],
          [
           31,
           "Sustainability Consultant",
           "Bachelor's"
          ],
          [
           28,
           "Health Coach",
           "Post Graduate"
          ],
          [
           28,
           "Sustainability Consultant",
           "Bachelor's"
          ],
          [
           34,
           "Health Coach",
           "Bachelor's"
          ],
          [
           28,
           "Sustainability Consultant",
           "Post Graduate"
          ],
          [
           26,
           "Sustainability Consultant",
           "Post Graduate"
          ],
          [
           28,
           "Eco-Entrepreneur",
           "Bachelor's"
          ],
          [
           29,
           "Health Coach",
           "Post Graduate"
          ],
          [
           34,
           "Health Coach",
           "Bachelor's"
          ],
          [
           27,
           "Health Coach",
           "Bachelor's"
          ],
          [
           33,
           "Sustainability Consultant",
           "Post Graduate"
          ],
          [
           29,
           "Eco-Entrepreneur",
           "Bachelor's"
          ],
          [
           27,
           "Health Coach",
           "Bachelor's"
          ],
          [
           33,
           "Eco-Entrepreneur",
           "Bachelor's"
          ],
          [
           28,
           "Health Coach",
           "Bachelor's"
          ],
          [
           30,
           "Health Coach",
           "Post Graduate"
          ],
          [
           26,
           "Eco-Entrepreneur",
           "Post Graduate"
          ],
          [
           27,
           "Health Coach",
           "Bachelor's"
          ],
          [
           27,
           "Sustainability Consultant",
           "Bachelor's"
          ],
          [
           27,
           "Sustainability Consultant",
           "Bachelor's"
          ],
          [
           27,
           "Sustainability Consultant",
           "Bachelor's"
          ],
          [
           33,
           "Eco-Entrepreneur",
           "Bachelor's"
          ],
          [
           29,
           "Health Coach",
           "Bachelor's"
          ],
          [
           32,
           "Sustainability Consultant",
           "Bachelor's"
          ],
          [
           34,
           "Sustainability Consultant",
           "Bachelor's"
          ],
          [
           32,
           "Eco-Entrepreneur",
           "Bachelor's"
          ],
          [
           27,
           "Eco-Entrepreneur",
           "Bachelor's"
          ],
          [
           29,
           "Sustainability Consultant",
           "Bachelor's"
          ],
          [
           26,
           "Eco-Entrepreneur",
           "Bachelor's"
          ],
          [
           26,
           "Health Coach",
           "Bachelor's"
          ],
          [
           34,
           "Sustainability Consultant",
           "Bachelor's"
          ],
          [
           26,
           "Eco-Entrepreneur",
           "Bachelor's"
          ],
          [
           30,
           "Health Coach",
           "Post Graduate"
          ],
          [
           29,
           "Health Coach",
           "Bachelor's"
          ],
          [
           26,
           "Sustainability Consultant",
           "Bachelor's"
          ],
          [
           27,
           "Sustainability Consultant",
           "Bachelor's"
          ],
          [
           26,
           "Eco-Entrepreneur",
           "Bachelor's"
          ],
          [
           25,
           "Sustainability Consultant",
           "Bachelor's"
          ],
          [
           29,
           "Sustainability Consultant",
           "Post Graduate"
          ],
          [
           25,
           "Health Coach",
           "Bachelor's"
          ],
          [
           34,
           "Eco-Entrepreneur",
           "Post Graduate"
          ],
          [
           34,
           "Eco-Entrepreneur",
           "Post Graduate"
          ],
          [
           27,
           "Sustainability Consultant",
           "Bachelor's"
          ],
          [
           26,
           "Sustainability Consultant",
           "Post Graduate"
          ],
          [
           25,
           "Health Coach",
           "Post Graduate"
          ],
          [
           25,
           "Eco-Entrepreneur",
           "Bachelor's"
          ],
          [
           31,
           "Eco-Entrepreneur",
           "Bachelor's"
          ],
          [
           32,
           "Health Coach",
           "Bachelor's"
          ],
          [
           33,
           "Health Coach",
           "Bachelor's"
          ],
          [
           34,
           "Eco-Entrepreneur",
           "Post Graduate"
          ],
          [
           31,
           "Eco-Entrepreneur",
           "Bachelor's"
          ],
          [
           34,
           "Sustainability Consultant",
           "Post Graduate"
          ],
          [
           33,
           "Eco-Entrepreneur",
           "Bachelor's"
          ],
          [
           30,
           "Eco-Entrepreneur",
           "Bachelor's"
          ],
          [
           32,
           "Eco-Entrepreneur",
           "Bachelor's"
          ],
          [
           34,
           "Eco-Entrepreneur",
           "Bachelor's"
          ],
          [
           32,
           "Health Coach",
           "Post Graduate"
          ],
          [
           26,
           "Health Coach",
           "Post Graduate"
          ],
          [
           32,
           "Health Coach",
           "Bachelor's"
          ],
          [
           34,
           "Eco-Entrepreneur",
           "Post Graduate"
          ],
          [
           28,
           "Health Coach",
           "Post Graduate"
          ],
          [
           25,
           "Health Coach",
           "Bachelor's"
          ],
          [
           31,
           "Sustainability Consultant",
           "Bachelor's"
          ],
          [
           29,
           "Health Coach",
           "Post Graduate"
          ],
          [
           32,
           "Sustainability Consultant",
           "Bachelor's"
          ],
          [
           26,
           "Sustainability Consultant",
           "Bachelor's"
          ],
          [
           30,
           "Sustainability Consultant",
           "Bachelor's"
          ],
          [
           32,
           "Eco-Entrepreneur",
           "Post Graduate"
          ],
          [
           29,
           "Eco-Entrepreneur",
           "Bachelor's"
          ],
          [
           25,
           "Eco-Entrepreneur",
           "Bachelor's"
          ],
          [
           29,
           "Sustainability Consultant",
           "Post Graduate"
          ],
          [
           27,
           "Health Coach",
           "Bachelor's"
          ],
          [
           28,
           "Health Coach",
           "Bachelor's"
          ],
          [
           26,
           "Health Coach",
           "Bachelor's"
          ],
          [
           34,
           "Sustainability Consultant",
           "Bachelor's"
          ],
          [
           31,
           "Health Coach",
           "Bachelor's"
          ],
          [
           32,
           "Sustainability Consultant",
           "Bachelor's"
          ],
          [
           33,
           "Eco-Entrepreneur",
           "Bachelor's"
          ],
          [
           26,
           "Health Coach",
           "Post Graduate"
          ],
          [
           27,
           "Sustainability Consultant",
           "Bachelor's"
          ],
          [
           33,
           "Sustainability Consultant",
           "Bachelor's"
          ],
          [
           32,
           "Sustainability Consultant",
           "Bachelor's"
          ],
          [
           33,
           "Sustainability Consultant",
           "Bachelor's"
          ],
          [
           28,
           "Health Coach",
           "Post Graduate"
          ],
          [
           33,
           "Sustainability Consultant",
           "Post Graduate"
          ],
          [
           33,
           "Sustainability Consultant",
           "Bachelor's"
          ],
          [
           31,
           "Health Coach",
           "Post Graduate"
          ],
          [
           26,
           "Sustainability Consultant",
           "Post Graduate"
          ],
          [
           27,
           "Sustainability Consultant",
           "Bachelor's"
          ],
          [
           29,
           "Eco-Entrepreneur",
           "Bachelor's"
          ],
          [
           29,
           "Health Coach",
           "Post Graduate"
          ],
          [
           27,
           "Sustainability Consultant",
           "Post Graduate"
          ],
          [
           33,
           "Eco-Entrepreneur",
           "Bachelor's"
          ],
          [
           34,
           "Sustainability Consultant",
           "Post Graduate"
          ],
          [
           29,
           "Health Coach",
           "Bachelor's"
          ],
          [
           29,
           "Eco-Entrepreneur",
           "Bachelor's"
          ],
          [
           32,
           "Health Coach",
           "Bachelor's"
          ],
          [
           29,
           "Health Coach",
           "Post Graduate"
          ],
          [
           30,
           "Health Coach",
           "Post Graduate"
          ],
          [
           28,
           "Eco-Entrepreneur",
           "Bachelor's"
          ],
          [
           30,
           "Eco-Entrepreneur",
           "Bachelor's"
          ],
          [
           32,
           "Eco-Entrepreneur",
           "Post Graduate"
          ],
          [
           31,
           "Health Coach",
           "Bachelor's"
          ],
          [
           33,
           "Sustainability Consultant",
           "Bachelor's"
          ],
          [
           30,
           "Health Coach",
           "Bachelor's"
          ],
          [
           32,
           "Sustainability Consultant",
           "Bachelor's"
          ],
          [
           34,
           "Sustainability Consultant",
           "Bachelor's"
          ],
          [
           25,
           "Eco-Entrepreneur",
           "Bachelor's"
          ],
          [
           29,
           "Sustainability Consultant",
           "Bachelor's"
          ],
          [
           34,
           "Health Coach",
           "Bachelor's"
          ],
          [
           27,
           "Eco-Entrepreneur",
           "Bachelor's"
          ],
          [
           25,
           "Sustainability Consultant",
           "Bachelor's"
          ],
          [
           25,
           "Sustainability Consultant",
           "Bachelor's"
          ],
          [
           26,
           "Eco-Entrepreneur",
           "Post Graduate"
          ],
          [
           29,
           "Sustainability Consultant",
           "Bachelor's"
          ],
          [
           30,
           "Health Coach",
           "Bachelor's"
          ],
          [
           33,
           "Sustainability Consultant",
           "Bachelor's"
          ],
          [
           31,
           "Health Coach",
           "Bachelor's"
          ],
          [
           31,
           "Sustainability Consultant",
           "Post Graduate"
          ],
          [
           30,
           "Sustainability Consultant",
           "Post Graduate"
          ],
          [
           30,
           "Health Coach",
           "Bachelor's"
          ],
          [
           25,
           "Eco-Entrepreneur",
           "Bachelor's"
          ],
          [
           31,
           "Eco-Entrepreneur",
           "Bachelor's"
          ],
          [
           28,
           "Sustainability Consultant",
           "Bachelor's"
          ],
          [
           25,
           "Sustainability Consultant",
           "Bachelor's"
          ],
          [
           34,
           "Health Coach",
           "Post Graduate"
          ],
          [
           28,
           "Eco-Entrepreneur",
           "Bachelor's"
          ],
          [
           32,
           "Health Coach",
           "Bachelor's"
          ],
          [
           31,
           "Eco-Entrepreneur",
           "Bachelor's"
          ],
          [
           30,
           "Health Coach",
           "Bachelor's"
          ],
          [
           28,
           "Health Coach",
           "Bachelor's"
          ],
          [
           26,
           "Sustainability Consultant",
           "Bachelor's"
          ],
          [
           31,
           "Eco-Entrepreneur",
           "Post Graduate"
          ],
          [
           32,
           "Eco-Entrepreneur",
           "Post Graduate"
          ],
          [
           34,
           "Sustainability Consultant",
           "Bachelor's"
          ],
          [
           28,
           "Eco-Entrepreneur",
           "Post Graduate"
          ],
          [
           32,
           "Health Coach",
           "Bachelor's"
          ],
          [
           33,
           "Eco-Entrepreneur",
           "Bachelor's"
          ],
          [
           31,
           "Health Coach",
           "Bachelor's"
          ],
          [
           30,
           "Health Coach",
           "Bachelor's"
          ],
          [
           25,
           "Health Coach",
           "Post Graduate"
          ],
          [
           32,
           "Sustainability Consultant",
           "Bachelor's"
          ],
          [
           29,
           "Health Coach",
           "Bachelor's"
          ],
          [
           26,
           "Eco-Entrepreneur",
           "Post Graduate"
          ],
          [
           34,
           "Sustainability Consultant",
           "Bachelor's"
          ],
          [
           30,
           "Health Coach",
           "Bachelor's"
          ],
          [
           33,
           "Eco-Entrepreneur",
           "Bachelor's"
          ],
          [
           26,
           "Health Coach",
           "Post Graduate"
          ],
          [
           26,
           "Health Coach",
           "Post Graduate"
          ],
          [
           30,
           "Health Coach",
           "Bachelor's"
          ],
          [
           32,
           "Eco-Entrepreneur",
           "Bachelor's"
          ],
          [
           30,
           "Sustainability Consultant",
           "Bachelor's"
          ],
          [
           28,
           "Sustainability Consultant",
           "Post Graduate"
          ],
          [
           32,
           "Eco-Entrepreneur",
           "Bachelor's"
          ],
          [
           25,
           "Eco-Entrepreneur",
           "Bachelor's"
          ],
          [
           26,
           "Eco-Entrepreneur",
           "Bachelor's"
          ],
          [
           27,
           "Eco-Entrepreneur",
           "Bachelor's"
          ],
          [
           30,
           "Sustainability Consultant",
           "Post Graduate"
          ],
          [
           33,
           "Sustainability Consultant",
           "Bachelor's"
          ],
          [
           33,
           "Sustainability Consultant",
           "Bachelor's"
          ],
          [
           27,
           "Sustainability Consultant",
           "Bachelor's"
          ],
          [
           33,
           "Health Coach",
           "Bachelor's"
          ],
          [
           29,
           "Eco-Entrepreneur",
           "Bachelor's"
          ],
          [
           29,
           "Eco-Entrepreneur",
           "Bachelor's"
          ],
          [
           28,
           "Sustainability Consultant",
           "Bachelor's"
          ],
          [
           25,
           "Eco-Entrepreneur",
           "Post Graduate"
          ],
          [
           31,
           "Eco-Entrepreneur",
           "Bachelor's"
          ],
          [
           28,
           "Health Coach",
           "Post Graduate"
          ],
          [
           32,
           "Sustainability Consultant",
           "Bachelor's"
          ],
          [
           26,
           "Sustainability Consultant",
           "Bachelor's"
          ],
          [
           28,
           "Sustainability Consultant",
           "Bachelor's"
          ],
          [
           31,
           "Health Coach",
           "Bachelor's"
          ],
          [
           30,
           "Health Coach",
           "Post Graduate"
          ],
          [
           34,
           "Eco-Entrepreneur",
           "Bachelor's"
          ],
          [
           28,
           "Health Coach",
           "Post Graduate"
          ],
          [
           30,
           "Sustainability Consultant",
           "Post Graduate"
          ],
          [
           31,
           "Sustainability Consultant",
           "Bachelor's"
          ],
          [
           29,
           "Eco-Entrepreneur",
           "Bachelor's"
          ],
          [
           25,
           "Eco-Entrepreneur",
           "Bachelor's"
          ]
         ],
         "hovertemplate": "<b>%{hovertext}</b><br><br>tribe=Eco-Conscious Millennials - Sustainable Lifestyle (Culver City / Echo Park)<br>income=%{marker.size}<br>latitude=%{lat}<br>longitude=%{lon}<br>age=%{customdata[0]}<br>occupation=%{customdata[1]}<br>education=%{customdata[2]}<extra></extra>",
         "hovertext": [
          "Culver City eco-advocates",
          "Culver City eco-advocates",
          "Culver City eco-advocates",
          "Culver City eco-advocates",
          "Culver City eco-advocates",
          "Culver City eco-advocates",
          "Culver City eco-advocates",
          "Culver City eco-advocates",
          "Culver City eco-advocates",
          "Culver City eco-advocates",
          "Culver City eco-advocates",
          "Culver City eco-advocates",
          "Culver City eco-advocates",
          "Culver City eco-advocates",
          "Culver City eco-advocates",
          "Culver City eco-advocates",
          "Culver City eco-advocates",
          "Culver City eco-advocates",
          "Culver City eco-advocates",
          "Culver City eco-advocates",
          "Culver City eco-advocates",
          "Culver City eco-advocates",
          "Culver City eco-advocates",
          "Culver City eco-advocates",
          "Culver City eco-advocates",
          "Culver City eco-advocates",
          "Culver City eco-advocates",
          "Culver City eco-advocates",
          "Culver City eco-advocates",
          "Culver City eco-advocates",
          "Culver City eco-advocates",
          "Culver City eco-advocates",
          "Culver City eco-advocates",
          "Culver City eco-advocates",
          "Culver City eco-advocates",
          "Culver City eco-advocates",
          "Culver City eco-advocates",
          "Culver City eco-advocates",
          "Culver City eco-advocates",
          "Culver City eco-advocates",
          "Culver City eco-advocates",
          "Culver City eco-advocates",
          "Culver City eco-advocates",
          "Culver City eco-advocates",
          "Culver City eco-advocates",
          "Culver City eco-advocates",
          "Culver City eco-advocates",
          "Culver City eco-advocates",
          "Culver City eco-advocates",
          "Culver City eco-advocates",
          "Culver City eco-advocates",
          "Culver City eco-advocates",
          "Culver City eco-advocates",
          "Culver City eco-advocates",
          "Culver City eco-advocates",
          "Culver City eco-advocates",
          "Culver City eco-advocates",
          "Culver City eco-advocates",
          "Culver City eco-advocates",
          "Culver City eco-advocates",
          "Culver City eco-advocates",
          "Culver City eco-advocates",
          "Culver City eco-advocates",
          "Culver City eco-advocates",
          "Culver City eco-advocates",
          "Culver City eco-advocates",
          "Culver City eco-advocates",
          "Culver City eco-advocates",
          "Culver City eco-advocates",
          "Culver City eco-advocates",
          "Culver City eco-advocates",
          "Culver City eco-advocates",
          "Culver City eco-advocates",
          "Culver City eco-advocates",
          "Culver City eco-advocates",
          "Culver City eco-advocates",
          "Culver City eco-advocates",
          "Culver City eco-advocates",
          "Culver City eco-advocates",
          "Culver City eco-advocates",
          "Culver City eco-advocates",
          "Culver City eco-advocates",
          "Culver City eco-advocates",
          "Culver City eco-advocates",
          "Culver City eco-advocates",
          "Culver City eco-advocates",
          "Culver City eco-advocates",
          "Culver City eco-advocates",
          "Culver City eco-advocates",
          "Culver City eco-advocates",
          "Culver City eco-advocates",
          "Culver City eco-advocates",
          "Culver City eco-advocates",
          "Culver City eco-advocates",
          "Culver City eco-advocates",
          "Culver City eco-advocates",
          "Culver City eco-advocates",
          "Culver City eco-advocates",
          "Culver City eco-advocates",
          "Culver City eco-advocates",
          "Culver City eco-advocates",
          "Culver City eco-advocates",
          "Culver City eco-advocates",
          "Culver City eco-advocates",
          "Culver City eco-advocates",
          "Culver City eco-advocates",
          "Culver City eco-advocates",
          "Culver City eco-advocates",
          "Culver City eco-advocates",
          "Culver City eco-advocates",
          "Culver City eco-advocates",
          "Culver City eco-advocates",
          "Culver City eco-advocates",
          "Culver City eco-advocates",
          "Culver City eco-advocates",
          "Culver City eco-advocates",
          "Culver City eco-advocates",
          "Culver City eco-advocates",
          "Culver City eco-advocates",
          "Culver City eco-advocates",
          "Culver City eco-advocates",
          "Culver City eco-advocates",
          "Culver City eco-advocates",
          "Culver City eco-advocates",
          "Culver City eco-advocates",
          "Culver City eco-advocates",
          "Culver City eco-advocates",
          "Culver City eco-advocates",
          "Culver City eco-advocates",
          "Culver City eco-advocates",
          "Culver City eco-advocates",
          "Culver City eco-advocates",
          "Culver City eco-advocates",
          "Culver City eco-advocates",
          "Culver City eco-advocates",
          "Culver City eco-advocates",
          "Culver City eco-advocates",
          "Culver City eco-advocates",
          "Culver City eco-advocates",
          "Culver City eco-advocates",
          "Culver City eco-advocates",
          "Culver City eco-advocates",
          "Culver City eco-advocates",
          "Culver City eco-advocates",
          "Culver City eco-advocates",
          "Culver City eco-advocates",
          "Culver City eco-advocates",
          "Culver City eco-advocates",
          "Culver City eco-advocates",
          "Culver City eco-advocates",
          "Culver City eco-advocates",
          "Culver City eco-advocates",
          "Culver City eco-advocates",
          "Culver City eco-advocates",
          "Culver City eco-advocates",
          "Culver City eco-advocates",
          "Culver City eco-advocates",
          "Culver City eco-advocates",
          "Culver City eco-advocates",
          "Culver City eco-advocates",
          "Culver City eco-advocates",
          "Culver City eco-advocates",
          "Culver City eco-advocates",
          "Culver City eco-advocates",
          "Culver City eco-advocates",
          "Culver City eco-advocates",
          "Culver City eco-advocates",
          "Culver City eco-advocates",
          "Culver City eco-advocates",
          "Culver City eco-advocates",
          "Culver City eco-advocates",
          "Culver City eco-advocates",
          "Culver City eco-advocates",
          "Culver City eco-advocates",
          "Culver City eco-advocates",
          "Culver City eco-advocates",
          "Culver City eco-advocates",
          "Culver City eco-advocates",
          "Culver City eco-advocates",
          "Culver City eco-advocates"
         ],
         "lat": {
          "bdata": "CRueXikLQUAJ+aBnswJBQAn5oGezAkFACfmgZ7MCQUAJ+aBnswJBQAkbnl4pC0FACfmgZ7MCQUAJ+aBnswJBQAtGJXUCCkFACRueXikLQUAJ+aBnswJBQAtGJXUCCkFACfmgZ7MCQUAJG55eKQtBQAkbnl4pC0FACRueXikLQUALRiV1AgpBQAtGJXUCCkFACfmgZ7MCQUALRiV1AgpBQAtGJXUCCkFACRueXikLQUAJ+aBnswJBQAkbnl4pC0FACfmgZ7MCQUAJG55eKQtBQAtGJXUCCkFAC0YldQIKQUAJG55eKQtBQAtGJXUCCkFAC0YldQIKQUALRiV1AgpBQAkbnl4pC0FACRueXikLQUAJG55eKQtBQAtGJXUCCkFACfmgZ7MCQUAJ+aBnswJBQAkbnl4pC0FACfmgZ7MCQUAJG55eKQtBQAn5oGezAkFAC0YldQIKQUAJG55eKQtBQAn5oGezAkFACfmgZ7MCQUALRiV1AgpBQAtGJXUCCkFACRueXikLQUAJG55eKQtBQAkbnl4pC0FAC0YldQIKQUALRiV1AgpBQAtGJXUCCkFACfmgZ7MCQUAJG55eKQtBQAtGJXUCCkFAC0YldQIKQUAJG55eKQtBQAn5oGezAkFACfmgZ7MCQUAJ+aBnswJBQAkbnl4pC0FAC0YldQIKQUAJG55eKQtBQAn5oGezAkFACfmgZ7MCQUALRiV1AgpBQAn5oGezAkFACfmgZ7MCQUAJ+aBnswJBQAtGJXUCCkFACRueXikLQUAJ+aBnswJBQAtGJXUCCkFACfmgZ7MCQUAJG55eKQtBQAkbnl4pC0FACfmgZ7MCQUALRiV1AgpBQAtGJXUCCkFACfmgZ7MCQUAJ+aBnswJBQAkbnl4pC0FACRueXikLQUALRiV1AgpBQAkbnl4pC0FACRueXikLQUAJG55eKQtBQAkbnl4pC0FACRueXikLQUAJG55eKQtBQAtGJXUCCkFACfmgZ7MCQUAJG55eKQtBQAtGJXUCCkFACRueXikLQUAJG55eKQtBQAkbnl4pC0FAC0YldQIKQUALRiV1AgpBQAkbnl4pC0FACRueXikLQUAJG55eKQtBQAkbnl4pC0FAC0YldQIKQUALRiV1AgpBQAkbnl4pC0FACfmgZ7MCQUAJ+aBnswJBQAn5oGezAkFAC0YldQIKQUAJ+aBnswJBQAtGJXUCCkFACfmgZ7MCQUALRiV1AgpBQAn5oGezAkFAC0YldQIKQUALRiV1AgpBQAkbnl4pC0FAC0YldQIKQUAJG55eKQtBQAkbnl4pC0FACfmgZ7MCQUALRiV1AgpBQAkbnl4pC0FAC0YldQIKQUAJG55eKQtBQAkbnl4pC0FACRueXikLQUAJ+aBnswJBQAtGJXUCCkFACRueXikLQUALRiV1AgpBQAtGJXUCCkFACfmgZ7MCQUAJ+aBnswJBQAn5oGezAkFACfmgZ7MCQUAJ+aBnswJBQAtGJXUCCkFAC0YldQIKQUAJG55eKQtBQAn5oGezAkFAC0YldQIKQUAJG55eKQtBQAn5oGezAkFACRueXikLQUAJ+aBnswJBQAn5oGezAkFACfmgZ7MCQUALRiV1AgpBQAn5oGezAkFAC0YldQIKQUALRiV1AgpBQAn5oGezAkFACfmgZ7MCQUALRiV1AgpBQAkbnl4pC0FACRueXikLQUAJ+aBnswJBQAn5oGezAkFACfmgZ7MCQUAJG55eKQtBQAn5oGezAkFAC0YldQIKQUAJ+aBnswJBQAkbnl4pC0FAC0YldQIKQUAJG55eKQtBQAtGJXUCCkFACRueXikLQUAJG55eKQtBQAn5oGezAkFAC0YldQIKQUAJ+aBnswJBQAkbnl4pC0FACRueXikLQUAJ+aBnswJBQAkbnl4pC0FA",
          "dtype": "f8"
         },
         "legendgroup": "Eco-Conscious Millennials - Sustainable Lifestyle (Culver City / Echo Park)",
         "lon": {
          "bdata": "vsEXJlORXcBMN4lBYJldwEw3iUFgmV3ATDeJQWCZXcBMN4lBYJldwL7BFyZTkV3ATDeJQWCZXcBMN4lBYJldwJtVn6utkF3AvsEXJlORXcBMN4lBYJldwJtVn6utkF3ATDeJQWCZXcC+wRcmU5FdwL7BFyZTkV3AvsEXJlORXcCbVZ+rrZBdwJtVn6utkF3ATDeJQWCZXcCbVZ+rrZBdwJtVn6utkF3AvsEXJlORXcBMN4lBYJldwL7BFyZTkV3ATDeJQWCZXcC+wRcmU5FdwJtVn6utkF3Am1Wfq62QXcC+wRcmU5FdwJtVn6utkF3Am1Wfq62QXcCbVZ+rrZBdwL7BFyZTkV3AvsEXJlORXcC+wRcmU5FdwJtVn6utkF3ATDeJQWCZXcBMN4lBYJldwL7BFyZTkV3ATDeJQWCZXcC+wRcmU5FdwEw3iUFgmV3Am1Wfq62QXcC+wRcmU5FdwEw3iUFgmV3ATDeJQWCZXcCbVZ+rrZBdwJtVn6utkF3AvsEXJlORXcC+wRcmU5FdwL7BFyZTkV3Am1Wfq62QXcCbVZ+rrZBdwJtVn6utkF3ATDeJQWCZXcC+wRcmU5FdwJtVn6utkF3Am1Wfq62QXcC+wRcmU5FdwEw3iUFgmV3ATDeJQWCZXcBMN4lBYJldwL7BFyZTkV3Am1Wfq62QXcC+wRcmU5FdwEw3iUFgmV3ATDeJQWCZXcCbVZ+rrZBdwEw3iUFgmV3ATDeJQWCZXcBMN4lBYJldwJtVn6utkF3AvsEXJlORXcBMN4lBYJldwJtVn6utkF3ATDeJQWCZXcC+wRcmU5FdwL7BFyZTkV3ATDeJQWCZXcCbVZ+rrZBdwJtVn6utkF3ATDeJQWCZXcBMN4lBYJldwL7BFyZTkV3AvsEXJlORXcCbVZ+rrZBdwL7BFyZTkV3AvsEXJlORXcC+wRcmU5FdwL7BFyZTkV3AvsEXJlORXcC+wRcmU5FdwJtVn6utkF3ATDeJQWCZXcC+wRcmU5FdwJtVn6utkF3AvsEXJlORXcC+wRcmU5FdwL7BFyZTkV3Am1Wfq62QXcCbVZ+rrZBdwL7BFyZTkV3AvsEXJlORXcC+wRcmU5FdwL7BFyZTkV3Am1Wfq62QXcCbVZ+rrZBdwL7BFyZTkV3ATDeJQWCZXcBMN4lBYJldwEw3iUFgmV3Am1Wfq62QXcBMN4lBYJldwJtVn6utkF3ATDeJQWCZXcCbVZ+rrZBdwEw3iUFgmV3Am1Wfq62QXcCbVZ+rrZBdwL7BFyZTkV3Am1Wfq62QXcC+wRcmU5FdwL7BFyZTkV3ATDeJQWCZXcCbVZ+rrZBdwL7BFyZTkV3Am1Wfq62QXcC+wRcmU5FdwL7BFyZTkV3AvsEXJlORXcBMN4lBYJldwJtVn6utkF3AvsEXJlORXcCbVZ+rrZBdwJtVn6utkF3ATDeJQWCZXcBMN4lBYJldwEw3iUFgmV3ATDeJQWCZXcBMN4lBYJldwJtVn6utkF3Am1Wfq62QXcC+wRcmU5FdwEw3iUFgmV3Am1Wfq62QXcC+wRcmU5FdwEw3iUFgmV3AvsEXJlORXcBMN4lBYJldwEw3iUFgmV3ATDeJQWCZXcCbVZ+rrZBdwEw3iUFgmV3Am1Wfq62QXcCbVZ+rrZBdwEw3iUFgmV3ATDeJQWCZXcCbVZ+rrZBdwL7BFyZTkV3AvsEXJlORXcBMN4lBYJldwEw3iUFgmV3ATDeJQWCZXcC+wRcmU5FdwEw3iUFgmV3Am1Wfq62QXcBMN4lBYJldwL7BFyZTkV3Am1Wfq62QXcC+wRcmU5FdwJtVn6utkF3AvsEXJlORXcC+wRcmU5FdwEw3iUFgmV3Am1Wfq62QXcBMN4lBYJldwL7BFyZTkV3AvsEXJlORXcBMN4lBYJldwL7BFyZTkV3A",
          "dtype": "f8"
         },
         "marker": {
          "color": "#ab63fa",
          "size": {
           "bdata": "AAAAAACC5EAAAAAAgFvwQAAAAAAA4elAAAAAAABe6kAAAAAAAM/sQAAAAAAA+fVAAAAAAABw50AAAAAAAAvzQAAAAAAAauhAAAAAAAAX8UAAAAAAgNjwQAAAAACAxvNAAAAAAABq6EAAAAAAAIjjQAAAAAAAiONAAAAAAABe6kAAAAAAAOfoQAAAAAAAWOtAAAAAAADP7EAAAAAAgNLxQAAAAAAABeRAAAAAAADJ7UAAAAAAAF7qQAAAAAAAZOlAAAAAAAAF9EAAAAAAAEztQAAAAAAAz+xAAAAAAAAX8UAAAAAAAIjjQAAAAAAAUuxAAAAAAAB85UAAAAAAgFXxQAAAAAAAduZAAAAAAACC5EAAAAAAAIjzQAAAAAAAQO9AAAAAAABw50AAAAAAAP/kQAAAAAAAUuxAAAAAAABS7EAAAAAAAFjrQAAAAAAAz+xAAAAAAADb6kAAAAAAAI7yQAAAAAAA/+RAAAAAAACI40AAAAAAAJTxQAAAAAAA4elAAAAAAIBb8EAAAAAAAMntQAAAAAAAiONAAAAAAACI40AAAAAAAMntQAAAAAAAmvBAAAAAAABe6kAAAAAAAHbmQAAAAACAW/BAAAAAAAD/5EAAAAAAAB3wQAAAAACA0vFAAAAAAABA70AAAAAAAGTpQAAAAAAAguRAAAAAAAAF5EAAAAAAAB3wQAAAAAAAauhAAAAAAADV60AAAAAAgLr1QAAAAAAAiONAAAAAAADh6UAAAAAAAF7qQAAAAACAW/BAAAAAAADb6kAAAAAAAGroQAAAAAAATO1AAAAAAACI40AAAAAAAP/kQAAAAAAAmvBAAAAAAABS7EAAAAAAAPnlQAAAAAAA5+hAAAAAAABS7EAAAAAAAEztQAAAAAAA+eVAAAAAAABk6UAAAAAAAHDnQAAAAAAA7edAAAAAAADb6kAAAAAAgFvwQAAAAAAAiONAAAAAAACI40AAAAAAAOHpQAAAAACAW/BAAAAAAABq6EAAAAAAAGTpQAAAAAAA8+ZAAAAAAACC5EAAAAAAgFvwQAAAAAAA2+pAAAAAAADb6kAAAAAAgE/yQAAAAAAAduZAAAAAAACI40AAAAAAgLT2QAAAAACA2PBAAAAAAACI40AAAAAAAPPmQAAAAAAAiONAAAAAAAD55UAAAAAAAFjrQAAAAAAA8+ZAAAAAAACC5EAAAAAAAOfoQAAAAAAAauhAAAAAAADP7EAAAAAAAGroQAAAAAAAF/FAAAAAAABM7UAAAAAAAIjzQAAAAAAA2+pAAAAAAACI40AAAAAAAIjjQAAAAAAAHfBAAAAAAABq6EAAAAAAAPnlQAAAAAAAHfBAAAAAAABS7EAAAAAAAMPuQAAAAAAAz+xAAAAAAADh6UAAAAAAAJrwQAAAAAAAguRAAAAAAADb6kAAAAAAAF7qQAAAAACA0vFAAAAAAIDM8kAAAAAAAIjjQAAAAAAA7edAAAAAAAB85UAAAAAAAIjjQAAAAACAVfFAAAAAAACI40AAAAAAANXrQAAAAAAAEfJAAAAAAABM7UAAAAAAAILkQAAAAAAAw+5AAAAAAADD7kAAAAAAAIjjQAAAAAAA8/ZAAAAAAIDY8EAAAAAAAM/sQAAAAAAARu5AAAAAAIBb8EAAAAAAAEztQAAAAAAAiONAAAAAAAC970AAAAAAAHzlQAAAAAAAiONAAAAAAADD7kAAAAAAAFjrQAAAAAAA7edAAAAAAACI40AAAAAAAOHpQAAAAAAA5+hAAAAAAADV60AAAAAAAIjzQAAAAAAAiONAAAAAAABe6kAAAAAAAOfoQAAAAAAAye1AAAAAAACI40AAAAAAAL3vQAAAAAAAiONAAAAAAACC5EAAAAAAAEztQAAAAAAAlPFAAAAAAADD7kAAAAAAAP/kQAAAAAAAF/FA",
           "dtype": "f8"
          },
          "sizemode": "area",
          "sizeref": 750
         },
         "mode": "markers",
         "name": "Eco-Conscious Millennials - Sustainable Lifestyle (Culver City / Echo Park)",
         "showlegend": true,
         "subplot": "mapbox",
         "type": "scattermapbox"
        },
        {
         "customdata": [
          [
           53,
           "Real Estate Executive",
           "Post Graduate"
          ],
          [
           43,
           "Investment Banker",
           "Post Graduate"
          ],
          [
           36,
           "Real Estate Executive",
           "Bachelor's"
          ],
          [
           49,
           "Real Estate Executive",
           "Bachelor's"
          ],
          [
           45,
           "Real Estate Executive",
           "Bachelor's"
          ],
          [
           50,
           "Entertainment Lawyer",
           "Post Graduate"
          ],
          [
           49,
           "Investment Banker",
           "Bachelor's"
          ],
          [
           43,
           "Entertainment Lawyer",
           "Bachelor's"
          ],
          [
           44,
           "Real Estate Executive",
           "Bachelor's"
          ],
          [
           47,
           "Real Estate Executive",
           "Bachelor's"
          ],
          [
           46,
           "Entertainment Lawyer",
           "Bachelor's"
          ],
          [
           41,
           "Entertainment Lawyer",
           "Post Graduate"
          ],
          [
           37,
           "Entertainment Lawyer",
           "Post Graduate"
          ],
          [
           46,
           "Entertainment Lawyer",
           "Post Graduate"
          ],
          [
           42,
           "Real Estate Executive",
           "Bachelor's"
          ],
          [
           35,
           "Entertainment Lawyer",
           "Bachelor's"
          ],
          [
           41,
           "Investment Banker",
           "Bachelor's"
          ],
          [
           46,
           "Investment Banker",
           "Bachelor's"
          ],
          [
           45,
           "Real Estate Executive",
           "Bachelor's"
          ],
          [
           38,
           "Entertainment Lawyer",
           "Post Graduate"
          ],
          [
           49,
           "Investment Banker",
           "Bachelor's"
          ],
          [
           40,
           "Real Estate Executive",
           "Post Graduate"
          ],
          [
           35,
           "Entertainment Lawyer",
           "Post Graduate"
          ],
          [
           35,
           "Investment Banker",
           "Bachelor's"
          ],
          [
           52,
           "Entertainment Lawyer",
           "Bachelor's"
          ],
          [
           42,
           "Investment Banker",
           "Post Graduate"
          ],
          [
           40,
           "Entertainment Lawyer",
           "Post Graduate"
          ],
          [
           46,
           "Real Estate Executive",
           "Post Graduate"
          ],
          [
           48,
           "Investment Banker",
           "Post Graduate"
          ],
          [
           49,
           "Real Estate Executive",
           "Bachelor's"
          ],
          [
           38,
           "Real Estate Executive",
           "Bachelor's"
          ],
          [
           36,
           "Entertainment Lawyer",
           "Bachelor's"
          ],
          [
           41,
           "Real Estate Executive",
           "Post Graduate"
          ],
          [
           38,
           "Real Estate Executive",
           "Bachelor's"
          ],
          [
           54,
           "Real Estate Executive",
           "Bachelor's"
          ],
          [
           46,
           "Entertainment Lawyer",
           "Bachelor's"
          ],
          [
           39,
           "Entertainment Lawyer",
           "Bachelor's"
          ],
          [
           46,
           "Entertainment Lawyer",
           "Bachelor's"
          ],
          [
           41,
           "Entertainment Lawyer",
           "Bachelor's"
          ],
          [
           54,
           "Investment Banker",
           "Post Graduate"
          ],
          [
           43,
           "Entertainment Lawyer",
           "Post Graduate"
          ],
          [
           49,
           "Real Estate Executive",
           "Bachelor's"
          ],
          [
           52,
           "Investment Banker",
           "Bachelor's"
          ],
          [
           45,
           "Real Estate Executive",
           "Bachelor's"
          ],
          [
           46,
           "Entertainment Lawyer",
           "Bachelor's"
          ],
          [
           42,
           "Entertainment Lawyer",
           "Bachelor's"
          ],
          [
           37,
           "Entertainment Lawyer",
           "Bachelor's"
          ],
          [
           51,
           "Investment Banker",
           "Post Graduate"
          ],
          [
           35,
           "Investment Banker",
           "Post Graduate"
          ],
          [
           40,
           "Entertainment Lawyer",
           "Bachelor's"
          ],
          [
           39,
           "Entertainment Lawyer",
           "Bachelor's"
          ],
          [
           45,
           "Investment Banker",
           "Bachelor's"
          ],
          [
           40,
           "Real Estate Executive",
           "Post Graduate"
          ],
          [
           42,
           "Real Estate Executive",
           "Bachelor's"
          ],
          [
           40,
           "Real Estate Executive",
           "Post Graduate"
          ],
          [
           46,
           "Real Estate Executive",
           "Bachelor's"
          ],
          [
           52,
           "Entertainment Lawyer",
           "Post Graduate"
          ],
          [
           39,
           "Investment Banker",
           "Bachelor's"
          ],
          [
           49,
           "Investment Banker",
           "Bachelor's"
          ],
          [
           39,
           "Investment Banker",
           "Bachelor's"
          ],
          [
           54,
           "Investment Banker",
           "Bachelor's"
          ],
          [
           50,
           "Real Estate Executive",
           "Bachelor's"
          ],
          [
           40,
           "Real Estate Executive",
           "Post Graduate"
          ],
          [
           37,
           "Real Estate Executive",
           "Bachelor's"
          ],
          [
           43,
           "Real Estate Executive",
           "Bachelor's"
          ],
          [
           40,
           "Investment Banker",
           "Bachelor's"
          ],
          [
           45,
           "Investment Banker",
           "Post Graduate"
          ],
          [
           54,
           "Entertainment Lawyer",
           "Post Graduate"
          ],
          [
           52,
           "Entertainment Lawyer",
           "Bachelor's"
          ],
          [
           45,
           "Investment Banker",
           "Bachelor's"
          ],
          [
           54,
           "Entertainment Lawyer",
           "Post Graduate"
          ],
          [
           39,
           "Real Estate Executive",
           "Post Graduate"
          ],
          [
           46,
           "Real Estate Executive",
           "Post Graduate"
          ],
          [
           51,
           "Entertainment Lawyer",
           "Bachelor's"
          ],
          [
           47,
           "Investment Banker",
           "Bachelor's"
          ],
          [
           51,
           "Real Estate Executive",
           "Bachelor's"
          ],
          [
           52,
           "Entertainment Lawyer",
           "Post Graduate"
          ],
          [
           47,
           "Entertainment Lawyer",
           "Post Graduate"
          ],
          [
           43,
           "Real Estate Executive",
           "Post Graduate"
          ],
          [
           52,
           "Entertainment Lawyer",
           "Post Graduate"
          ],
          [
           54,
           "Real Estate Executive",
           "Post Graduate"
          ],
          [
           38,
           "Investment Banker",
           "Bachelor's"
          ],
          [
           51,
           "Entertainment Lawyer",
           "Bachelor's"
          ],
          [
           49,
           "Investment Banker",
           "Bachelor's"
          ],
          [
           37,
           "Real Estate Executive",
           "Post Graduate"
          ],
          [
           53,
           "Investment Banker",
           "Post Graduate"
          ],
          [
           47,
           "Real Estate Executive",
           "Post Graduate"
          ],
          [
           42,
           "Real Estate Executive",
           "Post Graduate"
          ],
          [
           49,
           "Investment Banker",
           "Post Graduate"
          ],
          [
           51,
           "Investment Banker",
           "Post Graduate"
          ],
          [
           43,
           "Investment Banker",
           "Post Graduate"
          ],
          [
           43,
           "Investment Banker",
           "Bachelor's"
          ],
          [
           51,
           "Entertainment Lawyer",
           "Bachelor's"
          ],
          [
           43,
           "Entertainment Lawyer",
           "Bachelor's"
          ],
          [
           35,
           "Investment Banker",
           "Post Graduate"
          ],
          [
           44,
           "Investment Banker",
           "Bachelor's"
          ],
          [
           44,
           "Entertainment Lawyer",
           "Bachelor's"
          ],
          [
           43,
           "Real Estate Executive",
           "Bachelor's"
          ],
          [
           44,
           "Entertainment Lawyer",
           "Bachelor's"
          ],
          [
           43,
           "Entertainment Lawyer",
           "Post Graduate"
          ],
          [
           52,
           "Investment Banker",
           "Bachelor's"
          ],
          [
           46,
           "Investment Banker",
           "Post Graduate"
          ],
          [
           49,
           "Real Estate Executive",
           "Bachelor's"
          ],
          [
           51,
           "Investment Banker",
           "Post Graduate"
          ],
          [
           50,
           "Real Estate Executive",
           "Bachelor's"
          ],
          [
           49,
           "Real Estate Executive",
           "Bachelor's"
          ],
          [
           46,
           "Real Estate Executive",
           "Post Graduate"
          ],
          [
           36,
           "Real Estate Executive",
           "Post Graduate"
          ],
          [
           45,
           "Real Estate Executive",
           "Post Graduate"
          ],
          [
           53,
           "Real Estate Executive",
           "Bachelor's"
          ],
          [
           36,
           "Entertainment Lawyer",
           "Bachelor's"
          ],
          [
           45,
           "Entertainment Lawyer",
           "Bachelor's"
          ],
          [
           51,
           "Entertainment Lawyer",
           "Post Graduate"
          ],
          [
           43,
           "Investment Banker",
           "Post Graduate"
          ],
          [
           44,
           "Real Estate Executive",
           "Post Graduate"
          ],
          [
           35,
           "Real Estate Executive",
           "Post Graduate"
          ],
          [
           43,
           "Investment Banker",
           "Post Graduate"
          ],
          [
           38,
           "Investment Banker",
           "Post Graduate"
          ],
          [
           47,
           "Real Estate Executive",
           "Bachelor's"
          ],
          [
           38,
           "Real Estate Executive",
           "Bachelor's"
          ],
          [
           40,
           "Investment Banker",
           "Bachelor's"
          ],
          [
           45,
           "Entertainment Lawyer",
           "Bachelor's"
          ],
          [
           51,
           "Entertainment Lawyer",
           "Bachelor's"
          ],
          [
           36,
           "Investment Banker",
           "Bachelor's"
          ],
          [
           54,
           "Real Estate Executive",
           "Post Graduate"
          ],
          [
           42,
           "Entertainment Lawyer",
           "Bachelor's"
          ],
          [
           47,
           "Entertainment Lawyer",
           "Post Graduate"
          ],
          [
           52,
           "Real Estate Executive",
           "Post Graduate"
          ],
          [
           44,
           "Entertainment Lawyer",
           "Post Graduate"
          ],
          [
           47,
           "Investment Banker",
           "Post Graduate"
          ],
          [
           43,
           "Investment Banker",
           "Bachelor's"
          ],
          [
           47,
           "Investment Banker",
           "Bachelor's"
          ],
          [
           35,
           "Real Estate Executive",
           "Bachelor's"
          ],
          [
           35,
           "Entertainment Lawyer",
           "Post Graduate"
          ],
          [
           48,
           "Investment Banker",
           "Post Graduate"
          ],
          [
           46,
           "Real Estate Executive",
           "Bachelor's"
          ],
          [
           48,
           "Investment Banker",
           "Post Graduate"
          ],
          [
           39,
           "Investment Banker",
           "Bachelor's"
          ],
          [
           41,
           "Investment Banker",
           "Post Graduate"
          ],
          [
           46,
           "Real Estate Executive",
           "Bachelor's"
          ],
          [
           37,
           "Investment Banker",
           "Bachelor's"
          ],
          [
           42,
           "Entertainment Lawyer",
           "Bachelor's"
          ],
          [
           37,
           "Entertainment Lawyer",
           "Post Graduate"
          ],
          [
           36,
           "Real Estate Executive",
           "Bachelor's"
          ],
          [
           51,
           "Real Estate Executive",
           "Post Graduate"
          ],
          [
           36,
           "Real Estate Executive",
           "Bachelor's"
          ],
          [
           50,
           "Investment Banker",
           "Bachelor's"
          ],
          [
           52,
           "Real Estate Executive",
           "Post Graduate"
          ],
          [
           36,
           "Real Estate Executive",
           "Bachelor's"
          ],
          [
           47,
           "Entertainment Lawyer",
           "Bachelor's"
          ],
          [
           47,
           "Real Estate Executive",
           "Post Graduate"
          ],
          [
           50,
           "Investment Banker",
           "Post Graduate"
          ],
          [
           52,
           "Investment Banker",
           "Bachelor's"
          ],
          [
           38,
           "Investment Banker",
           "Post Graduate"
          ],
          [
           49,
           "Real Estate Executive",
           "Post Graduate"
          ],
          [
           43,
           "Real Estate Executive",
           "Bachelor's"
          ],
          [
           41,
           "Real Estate Executive",
           "Bachelor's"
          ],
          [
           40,
           "Investment Banker",
           "Bachelor's"
          ],
          [
           47,
           "Entertainment Lawyer",
           "Bachelor's"
          ],
          [
           39,
           "Entertainment Lawyer",
           "Post Graduate"
          ],
          [
           37,
           "Entertainment Lawyer",
           "Bachelor's"
          ],
          [
           46,
           "Real Estate Executive",
           "Bachelor's"
          ],
          [
           51,
           "Real Estate Executive",
           "Post Graduate"
          ],
          [
           38,
           "Real Estate Executive",
           "Bachelor's"
          ],
          [
           47,
           "Entertainment Lawyer",
           "Bachelor's"
          ],
          [
           42,
           "Investment Banker",
           "Bachelor's"
          ],
          [
           45,
           "Investment Banker",
           "Post Graduate"
          ],
          [
           38,
           "Entertainment Lawyer",
           "Bachelor's"
          ],
          [
           36,
           "Real Estate Executive",
           "Post Graduate"
          ],
          [
           46,
           "Investment Banker",
           "Post Graduate"
          ],
          [
           53,
           "Real Estate Executive",
           "Bachelor's"
          ],
          [
           50,
           "Investment Banker",
           "Bachelor's"
          ],
          [
           38,
           "Real Estate Executive",
           "Bachelor's"
          ],
          [
           38,
           "Investment Banker",
           "Post Graduate"
          ],
          [
           48,
           "Real Estate Executive",
           "Bachelor's"
          ],
          [
           47,
           "Entertainment Lawyer",
           "Bachelor's"
          ],
          [
           49,
           "Real Estate Executive",
           "Bachelor's"
          ],
          [
           45,
           "Entertainment Lawyer",
           "Post Graduate"
          ],
          [
           49,
           "Entertainment Lawyer",
           "Post Graduate"
          ],
          [
           54,
           "Real Estate Executive",
           "Post Graduate"
          ],
          [
           39,
           "Entertainment Lawyer",
           "Post Graduate"
          ],
          [
           48,
           "Entertainment Lawyer",
           "Bachelor's"
          ],
          [
           42,
           "Investment Banker",
           "Post Graduate"
          ],
          [
           42,
           "Investment Banker",
           "Bachelor's"
          ],
          [
           51,
           "Real Estate Executive",
           "Post Graduate"
          ],
          [
           44,
           "Investment Banker",
           "Bachelor's"
          ],
          [
           41,
           "Entertainment Lawyer",
           "Bachelor's"
          ],
          [
           53,
           "Entertainment Lawyer",
           "Bachelor's"
          ],
          [
           48,
           "Investment Banker",
           "Post Graduate"
          ],
          [
           44,
           "Real Estate Executive",
           "Bachelor's"
          ],
          [
           43,
           "Real Estate Executive",
           "Bachelor's"
          ],
          [
           50,
           "Real Estate Executive",
           "Post Graduate"
          ],
          [
           38,
           "Entertainment Lawyer",
           "Bachelor's"
          ],
          [
           38,
           "Entertainment Lawyer",
           "Bachelor's"
          ],
          [
           53,
           "Entertainment Lawyer",
           "Post Graduate"
          ],
          [
           46,
           "Real Estate Executive",
           "Bachelor's"
          ],
          [
           39,
           "Investment Banker",
           "Bachelor's"
          ],
          [
           52,
           "Real Estate Executive",
           "Bachelor's"
          ],
          [
           53,
           "Real Estate Executive",
           "Bachelor's"
          ],
          [
           38,
           "Entertainment Lawyer",
           "Bachelor's"
          ]
         ],
         "hovertemplate": "<b>%{hovertext}</b><br><br>tribe=Luxury-Oriented Professionals - Upscale Lifestyles (Beverly Hills / Bel Air)<br>income=%{marker.size}<br>latitude=%{lat}<br>longitude=%{lon}<br>age=%{customdata[0]}<br>occupation=%{customdata[1]}<br>education=%{customdata[2]}<extra></extra>",
         "hovertext": [
          "Beverly Hills luxury professionals",
          "Beverly Hills luxury professionals",
          "Beverly Hills luxury professionals",
          "Beverly Hills luxury professionals",
          "Beverly Hills luxury professionals",
          "Beverly Hills luxury professionals",
          "Beverly Hills luxury professionals",
          "Beverly Hills luxury professionals",
          "Beverly Hills luxury professionals",
          "Beverly Hills luxury professionals",
          "Beverly Hills luxury professionals",
          "Beverly Hills luxury professionals",
          "Beverly Hills luxury professionals",
          "Beverly Hills luxury professionals",
          "Beverly Hills luxury professionals",
          "Beverly Hills luxury professionals",
          "Beverly Hills luxury professionals",
          "Beverly Hills luxury professionals",
          "Beverly Hills luxury professionals",
          "Beverly Hills luxury professionals",
          "Beverly Hills luxury professionals",
          "Beverly Hills luxury professionals",
          "Beverly Hills luxury professionals",
          "Beverly Hills luxury professionals",
          "Beverly Hills luxury professionals",
          "Beverly Hills luxury professionals",
          "Beverly Hills luxury professionals",
          "Beverly Hills luxury professionals",
          "Beverly Hills luxury professionals",
          "Beverly Hills luxury professionals",
          "Beverly Hills luxury professionals",
          "Beverly Hills luxury professionals",
          "Beverly Hills luxury professionals",
          "Beverly Hills luxury professionals",
          "Beverly Hills luxury professionals",
          "Beverly Hills luxury professionals",
          "Beverly Hills luxury professionals",
          "Beverly Hills luxury professionals",
          "Beverly Hills luxury professionals",
          "Beverly Hills luxury professionals",
          "Beverly Hills luxury professionals",
          "Beverly Hills luxury professionals",
          "Beverly Hills luxury professionals",
          "Beverly Hills luxury professionals",
          "Beverly Hills luxury professionals",
          "Beverly Hills luxury professionals",
          "Beverly Hills luxury professionals",
          "Beverly Hills luxury professionals",
          "Beverly Hills luxury professionals",
          "Beverly Hills luxury professionals",
          "Beverly Hills luxury professionals",
          "Beverly Hills luxury professionals",
          "Beverly Hills luxury professionals",
          "Beverly Hills luxury professionals",
          "Beverly Hills luxury professionals",
          "Beverly Hills luxury professionals",
          "Beverly Hills luxury professionals",
          "Beverly Hills luxury professionals",
          "Beverly Hills luxury professionals",
          "Beverly Hills luxury professionals",
          "Beverly Hills luxury professionals",
          "Beverly Hills luxury professionals",
          "Beverly Hills luxury professionals",
          "Beverly Hills luxury professionals",
          "Beverly Hills luxury professionals",
          "Beverly Hills luxury professionals",
          "Beverly Hills luxury professionals",
          "Beverly Hills luxury professionals",
          "Beverly Hills luxury professionals",
          "Beverly Hills luxury professionals",
          "Beverly Hills luxury professionals",
          "Beverly Hills luxury professionals",
          "Beverly Hills luxury professionals",
          "Beverly Hills luxury professionals",
          "Beverly Hills luxury professionals",
          "Beverly Hills luxury professionals",
          "Beverly Hills luxury professionals",
          "Beverly Hills luxury professionals",
          "Beverly Hills luxury professionals",
          "Beverly Hills luxury professionals",
          "Beverly Hills luxury professionals",
          "Beverly Hills luxury professionals",
          "Beverly Hills luxury professionals",
          "Beverly Hills luxury professionals",
          "Beverly Hills luxury professionals",
          "Beverly Hills luxury professionals",
          "Beverly Hills luxury professionals",
          "Beverly Hills luxury professionals",
          "Beverly Hills luxury professionals",
          "Beverly Hills luxury professionals",
          "Beverly Hills luxury professionals",
          "Beverly Hills luxury professionals",
          "Beverly Hills luxury professionals",
          "Beverly Hills luxury professionals",
          "Beverly Hills luxury professionals",
          "Beverly Hills luxury professionals",
          "Beverly Hills luxury professionals",
          "Beverly Hills luxury professionals",
          "Beverly Hills luxury professionals",
          "Beverly Hills luxury professionals",
          "Beverly Hills luxury professionals",
          "Beverly Hills luxury professionals",
          "Beverly Hills luxury professionals",
          "Beverly Hills luxury professionals",
          "Beverly Hills luxury professionals",
          "Beverly Hills luxury professionals",
          "Beverly Hills luxury professionals",
          "Beverly Hills luxury professionals",
          "Beverly Hills luxury professionals",
          "Beverly Hills luxury professionals",
          "Beverly Hills luxury professionals",
          "Beverly Hills luxury professionals",
          "Beverly Hills luxury professionals",
          "Beverly Hills luxury professionals",
          "Beverly Hills luxury professionals",
          "Beverly Hills luxury professionals",
          "Beverly Hills luxury professionals",
          "Beverly Hills luxury professionals",
          "Beverly Hills luxury professionals",
          "Beverly Hills luxury professionals",
          "Beverly Hills luxury professionals",
          "Beverly Hills luxury professionals",
          "Beverly Hills luxury professionals",
          "Beverly Hills luxury professionals",
          "Beverly Hills luxury professionals",
          "Beverly Hills luxury professionals",
          "Beverly Hills luxury professionals",
          "Beverly Hills luxury professionals",
          "Beverly Hills luxury professionals",
          "Beverly Hills luxury professionals",
          "Beverly Hills luxury professionals",
          "Beverly Hills luxury professionals",
          "Beverly Hills luxury professionals",
          "Beverly Hills luxury professionals",
          "Beverly Hills luxury professionals",
          "Beverly Hills luxury professionals",
          "Beverly Hills luxury professionals",
          "Beverly Hills luxury professionals",
          "Beverly Hills luxury professionals",
          "Beverly Hills luxury professionals",
          "Beverly Hills luxury professionals",
          "Beverly Hills luxury professionals",
          "Beverly Hills luxury professionals",
          "Beverly Hills luxury professionals",
          "Beverly Hills luxury professionals",
          "Beverly Hills luxury professionals",
          "Beverly Hills luxury professionals",
          "Beverly Hills luxury professionals",
          "Beverly Hills luxury professionals",
          "Beverly Hills luxury professionals",
          "Beverly Hills luxury professionals",
          "Beverly Hills luxury professionals",
          "Beverly Hills luxury professionals",
          "Beverly Hills luxury professionals",
          "Beverly Hills luxury professionals",
          "Beverly Hills luxury professionals",
          "Beverly Hills luxury professionals",
          "Beverly Hills luxury professionals",
          "Beverly Hills luxury professionals",
          "Beverly Hills luxury professionals",
          "Beverly Hills luxury professionals",
          "Beverly Hills luxury professionals",
          "Beverly Hills luxury professionals",
          "Beverly Hills luxury professionals",
          "Beverly Hills luxury professionals",
          "Beverly Hills luxury professionals",
          "Beverly Hills luxury professionals",
          "Beverly Hills luxury professionals",
          "Beverly Hills luxury professionals",
          "Beverly Hills luxury professionals",
          "Beverly Hills luxury professionals",
          "Beverly Hills luxury professionals",
          "Beverly Hills luxury professionals",
          "Beverly Hills luxury professionals",
          "Beverly Hills luxury professionals",
          "Beverly Hills luxury professionals",
          "Beverly Hills luxury professionals",
          "Beverly Hills luxury professionals",
          "Beverly Hills luxury professionals",
          "Beverly Hills luxury professionals",
          "Beverly Hills luxury professionals",
          "Beverly Hills luxury professionals",
          "Beverly Hills luxury professionals",
          "Beverly Hills luxury professionals",
          "Beverly Hills luxury professionals",
          "Beverly Hills luxury professionals",
          "Beverly Hills luxury professionals",
          "Beverly Hills luxury professionals",
          "Beverly Hills luxury professionals",
          "Beverly Hills luxury professionals",
          "Beverly Hills luxury professionals",
          "Beverly Hills luxury professionals",
          "Beverly Hills luxury professionals",
          "Beverly Hills luxury professionals",
          "Beverly Hills luxury professionals",
          "Beverly Hills luxury professionals",
          "Beverly Hills luxury professionals",
          "Beverly Hills luxury professionals",
          "Beverly Hills luxury professionals",
          "Beverly Hills luxury professionals"
         ],
         "lat": {
          "bdata": "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",
          "dtype": "f8"
         },
         "legendgroup": "Luxury-Oriented Professionals - Upscale Lifestyles (Beverly Hills / Bel Air)",
         "lon": {
          "bdata": "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",
          "dtype": "f8"
         },
         "marker": {
          "color": "#FFA15A",
          "size": {
           "bdata": "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",
           "dtype": "f8"
          },
          "sizemode": "area",
          "sizeref": 750
         },
         "mode": "markers",
         "name": "Luxury-Oriented Professionals - Upscale Lifestyles (Beverly Hills / Bel Air)",
         "showlegend": true,
         "subplot": "mapbox",
         "type": "scattermapbox"
        },
        {
         "customdata": [
          [
           30,
           "Social Media Influencer",
           "Bachelor's"
          ],
          [
           32,
           "Graphic Designer",
           "Bachelor's"
          ],
          [
           29,
           "Graphic Designer",
           "Bachelor's"
          ],
          [
           33,
           "Social Media Influencer",
           "Bachelor's"
          ],
          [
           25,
           "Freelancer",
           "Post Graduate"
          ],
          [
           25,
           "Freelancer",
           "Bachelor's"
          ],
          [
           31,
           "Social Media Influencer",
           "Bachelor's"
          ],
          [
           27,
           "Graphic Designer",
           "Bachelor's"
          ],
          [
           33,
           "Freelancer",
           "Bachelor's"
          ],
          [
           29,
           "Graphic Designer",
           "Post Graduate"
          ],
          [
           34,
           "Freelancer",
           "Post Graduate"
          ],
          [
           28,
           "Social Media Influencer",
           "Bachelor's"
          ],
          [
           33,
           "Social Media Influencer",
           "Bachelor's"
          ],
          [
           27,
           "Freelancer",
           "Bachelor's"
          ],
          [
           29,
           "Freelancer",
           "Bachelor's"
          ],
          [
           29,
           "Graphic Designer",
           "Bachelor's"
          ],
          [
           31,
           "Graphic Designer",
           "Bachelor's"
          ],
          [
           25,
           "Graphic Designer",
           "Bachelor's"
          ],
          [
           34,
           "Freelancer",
           "Post Graduate"
          ],
          [
           34,
           "Graphic Designer",
           "Bachelor's"
          ],
          [
           27,
           "Freelancer",
           "Bachelor's"
          ],
          [
           31,
           "Graphic Designer",
           "Bachelor's"
          ],
          [
           25,
           "Graphic Designer",
           "Bachelor's"
          ],
          [
           29,
           "Social Media Influencer",
           "Bachelor's"
          ],
          [
           34,
           "Social Media Influencer",
           "Bachelor's"
          ],
          [
           27,
           "Freelancer",
           "Post Graduate"
          ],
          [
           32,
           "Freelancer",
           "Bachelor's"
          ],
          [
           28,
           "Social Media Influencer",
           "Post Graduate"
          ],
          [
           33,
           "Graphic Designer",
           "Post Graduate"
          ],
          [
           25,
           "Social Media Influencer",
           "Bachelor's"
          ],
          [
           27,
           "Social Media Influencer",
           "Post Graduate"
          ],
          [
           28,
           "Social Media Influencer",
           "Post Graduate"
          ],
          [
           34,
           "Social Media Influencer",
           "Bachelor's"
          ],
          [
           29,
           "Freelancer",
           "Bachelor's"
          ],
          [
           27,
           "Freelancer",
           "Bachelor's"
          ],
          [
           32,
           "Graphic Designer",
           "Bachelor's"
          ],
          [
           25,
           "Graphic Designer",
           "Bachelor's"
          ],
          [
           33,
           "Freelancer",
           "Post Graduate"
          ],
          [
           29,
           "Graphic Designer",
           "Bachelor's"
          ],
          [
           33,
           "Social Media Influencer",
           "Bachelor's"
          ],
          [
           28,
           "Graphic Designer",
           "Bachelor's"
          ],
          [
           34,
           "Freelancer",
           "Bachelor's"
          ],
          [
           29,
           "Freelancer",
           "Bachelor's"
          ],
          [
           25,
           "Freelancer",
           "Bachelor's"
          ],
          [
           26,
           "Freelancer",
           "Bachelor's"
          ],
          [
           29,
           "Freelancer",
           "Bachelor's"
          ],
          [
           25,
           "Freelancer",
           "Post Graduate"
          ],
          [
           32,
           "Graphic Designer",
           "Bachelor's"
          ],
          [
           27,
           "Graphic Designer",
           "Bachelor's"
          ],
          [
           34,
           "Freelancer",
           "Post Graduate"
          ],
          [
           31,
           "Freelancer",
           "Bachelor's"
          ],
          [
           34,
           "Graphic Designer",
           "Bachelor's"
          ],
          [
           28,
           "Social Media Influencer",
           "Bachelor's"
          ],
          [
           34,
           "Freelancer",
           "Bachelor's"
          ],
          [
           25,
           "Social Media Influencer",
           "Bachelor's"
          ],
          [
           28,
           "Graphic Designer",
           "Bachelor's"
          ],
          [
           25,
           "Graphic Designer",
           "Bachelor's"
          ],
          [
           31,
           "Freelancer",
           "Bachelor's"
          ],
          [
           34,
           "Freelancer",
           "Post Graduate"
          ],
          [
           32,
           "Freelancer",
           "Post Graduate"
          ],
          [
           25,
           "Graphic Designer",
           "Post Graduate"
          ],
          [
           33,
           "Freelancer",
           "Bachelor's"
          ],
          [
           27,
           "Graphic Designer",
           "Bachelor's"
          ],
          [
           26,
           "Graphic Designer",
           "Bachelor's"
          ],
          [
           30,
           "Social Media Influencer",
           "Post Graduate"
          ],
          [
           28,
           "Freelancer",
           "Bachelor's"
          ],
          [
           31,
           "Social Media Influencer",
           "Bachelor's"
          ],
          [
           29,
           "Freelancer",
           "Bachelor's"
          ],
          [
           34,
           "Graphic Designer",
           "Post Graduate"
          ],
          [
           27,
           "Freelancer",
           "Bachelor's"
          ],
          [
           27,
           "Social Media Influencer",
           "Bachelor's"
          ],
          [
           31,
           "Social Media Influencer",
           "Post Graduate"
          ],
          [
           32,
           "Freelancer",
           "Post Graduate"
          ],
          [
           33,
           "Social Media Influencer",
           "Post Graduate"
          ],
          [
           32,
           "Social Media Influencer",
           "Bachelor's"
          ],
          [
           28,
           "Graphic Designer",
           "Bachelor's"
          ],
          [
           31,
           "Graphic Designer",
           "Post Graduate"
          ],
          [
           25,
           "Social Media Influencer",
           "Bachelor's"
          ],
          [
           32,
           "Freelancer",
           "Bachelor's"
          ],
          [
           29,
           "Graphic Designer",
           "Bachelor's"
          ],
          [
           32,
           "Freelancer",
           "Bachelor's"
          ],
          [
           33,
           "Social Media Influencer",
           "Bachelor's"
          ],
          [
           34,
           "Graphic Designer",
           "Bachelor's"
          ],
          [
           30,
           "Graphic Designer",
           "Post Graduate"
          ],
          [
           34,
           "Graphic Designer",
           "Bachelor's"
          ],
          [
           28,
           "Social Media Influencer",
           "Post Graduate"
          ],
          [
           29,
           "Social Media Influencer",
           "Bachelor's"
          ],
          [
           29,
           "Social Media Influencer",
           "Bachelor's"
          ],
          [
           34,
           "Graphic Designer",
           "Post Graduate"
          ],
          [
           29,
           "Social Media Influencer",
           "Post Graduate"
          ],
          [
           27,
           "Graphic Designer",
           "Bachelor's"
          ],
          [
           26,
           "Freelancer",
           "Bachelor's"
          ],
          [
           31,
           "Freelancer",
           "Bachelor's"
          ],
          [
           34,
           "Freelancer",
           "Bachelor's"
          ],
          [
           28,
           "Graphic Designer",
           "Post Graduate"
          ],
          [
           26,
           "Freelancer",
           "Bachelor's"
          ],
          [
           31,
           "Social Media Influencer",
           "Bachelor's"
          ],
          [
           27,
           "Freelancer",
           "Post Graduate"
          ],
          [
           25,
           "Freelancer",
           "Bachelor's"
          ],
          [
           32,
           "Graphic Designer",
           "Bachelor's"
          ],
          [
           33,
           "Freelancer",
           "Bachelor's"
          ],
          [
           30,
           "Freelancer",
           "Bachelor's"
          ],
          [
           26,
           "Social Media Influencer",
           "Post Graduate"
          ],
          [
           26,
           "Social Media Influencer",
           "Post Graduate"
          ],
          [
           30,
           "Freelancer",
           "Bachelor's"
          ],
          [
           29,
           "Social Media Influencer",
           "Bachelor's"
          ],
          [
           31,
           "Social Media Influencer",
           "Post Graduate"
          ],
          [
           28,
           "Social Media Influencer",
           "Post Graduate"
          ],
          [
           28,
           "Social Media Influencer",
           "Post Graduate"
          ],
          [
           33,
           "Graphic Designer",
           "Bachelor's"
          ],
          [
           25,
           "Graphic Designer",
           "Post Graduate"
          ],
          [
           33,
           "Social Media Influencer",
           "Bachelor's"
          ],
          [
           25,
           "Social Media Influencer",
           "Bachelor's"
          ],
          [
           28,
           "Freelancer",
           "Bachelor's"
          ],
          [
           32,
           "Social Media Influencer",
           "Bachelor's"
          ],
          [
           34,
           "Graphic Designer",
           "Post Graduate"
          ],
          [
           29,
           "Social Media Influencer",
           "Bachelor's"
          ],
          [
           26,
           "Freelancer",
           "Bachelor's"
          ],
          [
           27,
           "Freelancer",
           "Bachelor's"
          ],
          [
           34,
           "Freelancer",
           "Bachelor's"
          ],
          [
           34,
           "Social Media Influencer",
           "Post Graduate"
          ],
          [
           33,
           "Freelancer",
           "Bachelor's"
          ],
          [
           34,
           "Freelancer",
           "Bachelor's"
          ],
          [
           28,
           "Social Media Influencer",
           "Bachelor's"
          ],
          [
           34,
           "Social Media Influencer",
           "Bachelor's"
          ],
          [
           30,
           "Graphic Designer",
           "Bachelor's"
          ],
          [
           34,
           "Social Media Influencer",
           "Bachelor's"
          ],
          [
           31,
           "Freelancer",
           "Post Graduate"
          ],
          [
           28,
           "Social Media Influencer",
           "Bachelor's"
          ],
          [
           27,
           "Social Media Influencer",
           "Post Graduate"
          ],
          [
           28,
           "Graphic Designer",
           "Bachelor's"
          ],
          [
           33,
           "Freelancer",
           "Bachelor's"
          ],
          [
           28,
           "Social Media Influencer",
           "Bachelor's"
          ],
          [
           25,
           "Social Media Influencer",
           "Bachelor's"
          ],
          [
           29,
           "Freelancer",
           "Bachelor's"
          ],
          [
           30,
           "Graphic Designer",
           "Bachelor's"
          ],
          [
           32,
           "Social Media Influencer",
           "Post Graduate"
          ],
          [
           25,
           "Freelancer",
           "Post Graduate"
          ],
          [
           33,
           "Graphic Designer",
           "Bachelor's"
          ],
          [
           34,
           "Graphic Designer",
           "Bachelor's"
          ],
          [
           31,
           "Freelancer",
           "Post Graduate"
          ],
          [
           27,
           "Social Media Influencer",
           "Bachelor's"
          ],
          [
           31,
           "Social Media Influencer",
           "Bachelor's"
          ],
          [
           34,
           "Social Media Influencer",
           "Bachelor's"
          ],
          [
           26,
           "Social Media Influencer",
           "Post Graduate"
          ],
          [
           26,
           "Social Media Influencer",
           "Bachelor's"
          ],
          [
           32,
           "Social Media Influencer",
           "Bachelor's"
          ],
          [
           29,
           "Social Media Influencer",
           "Bachelor's"
          ],
          [
           33,
           "Freelancer",
           "Post Graduate"
          ],
          [
           33,
           "Social Media Influencer",
           "Bachelor's"
          ],
          [
           26,
           "Freelancer",
           "Bachelor's"
          ],
          [
           29,
           "Freelancer",
           "Post Graduate"
          ],
          [
           28,
           "Social Media Influencer",
           "Bachelor's"
          ],
          [
           29,
           "Social Media Influencer",
           "Post Graduate"
          ],
          [
           29,
           "Graphic Designer",
           "Post Graduate"
          ],
          [
           31,
           "Freelancer",
           "Bachelor's"
          ],
          [
           31,
           "Graphic Designer",
           "Bachelor's"
          ],
          [
           34,
           "Freelancer",
           "Post Graduate"
          ],
          [
           30,
           "Freelancer",
           "Bachelor's"
          ],
          [
           29,
           "Graphic Designer",
           "Bachelor's"
          ],
          [
           25,
           "Freelancer",
           "Post Graduate"
          ],
          [
           31,
           "Social Media Influencer",
           "Post Graduate"
          ],
          [
           27,
           "Graphic Designer",
           "Post Graduate"
          ],
          [
           31,
           "Social Media Influencer",
           "Post Graduate"
          ],
          [
           27,
           "Social Media Influencer",
           "Post Graduate"
          ],
          [
           30,
           "Freelancer",
           "Bachelor's"
          ],
          [
           31,
           "Social Media Influencer",
           "Bachelor's"
          ],
          [
           25,
           "Graphic Designer",
           "Post Graduate"
          ],
          [
           27,
           "Freelancer",
           "Bachelor's"
          ],
          [
           32,
           "Freelancer",
           "Bachelor's"
          ],
          [
           25,
           "Freelancer",
           "Post Graduate"
          ],
          [
           34,
           "Social Media Influencer",
           "Bachelor's"
          ],
          [
           25,
           "Social Media Influencer",
           "Bachelor's"
          ],
          [
           28,
           "Social Media Influencer",
           "Bachelor's"
          ],
          [
           34,
           "Graphic Designer",
           "Bachelor's"
          ],
          [
           33,
           "Social Media Influencer",
           "Bachelor's"
          ],
          [
           33,
           "Freelancer",
           "Post Graduate"
          ],
          [
           34,
           "Freelancer",
           "Bachelor's"
          ],
          [
           32,
           "Social Media Influencer",
           "Post Graduate"
          ],
          [
           26,
           "Social Media Influencer",
           "Bachelor's"
          ],
          [
           26,
           "Freelancer",
           "Bachelor's"
          ],
          [
           29,
           "Freelancer",
           "Post Graduate"
          ],
          [
           30,
           "Freelancer",
           "Post Graduate"
          ],
          [
           27,
           "Freelancer",
           "Bachelor's"
          ],
          [
           34,
           "Graphic Designer",
           "Post Graduate"
          ],
          [
           28,
           "Graphic Designer",
           "Post Graduate"
          ],
          [
           32,
           "Social Media Influencer",
           "Bachelor's"
          ],
          [
           29,
           "Social Media Influencer",
           "Bachelor's"
          ],
          [
           33,
           "Graphic Designer",
           "Post Graduate"
          ],
          [
           27,
           "Freelancer",
           "Bachelor's"
          ],
          [
           28,
           "Social Media Influencer",
           "Post Graduate"
          ],
          [
           33,
           "Graphic Designer",
           "Post Graduate"
          ],
          [
           32,
           "Freelancer",
           "Post Graduate"
          ],
          [
           32,
           "Freelancer",
           "Bachelor's"
          ],
          [
           29,
           "Social Media Influencer",
           "Bachelor's"
          ],
          [
           30,
           "Social Media Influencer",
           "Bachelor's"
          ],
          [
           33,
           "Freelancer",
           "Bachelor's"
          ],
          [
           33,
           "Social Media Influencer",
           "Bachelor's"
          ],
          [
           25,
           "Social Media Influencer",
           "Bachelor's"
          ],
          [
           26,
           "Social Media Influencer",
           "Bachelor's"
          ],
          [
           27,
           "Graphic Designer",
           "Bachelor's"
          ],
          [
           27,
           "Social Media Influencer",
           "Bachelor's"
          ],
          [
           30,
           "Graphic Designer",
           "Bachelor's"
          ],
          [
           26,
           "Social Media Influencer",
           "Bachelor's"
          ],
          [
           29,
           "Freelancer",
           "Bachelor's"
          ],
          [
           32,
           "Graphic Designer",
           "Bachelor's"
          ],
          [
           27,
           "Graphic Designer",
           "Bachelor's"
          ],
          [
           28,
           "Social Media Influencer",
           "Post Graduate"
          ],
          [
           28,
           "Social Media Influencer",
           "Post Graduate"
          ],
          [
           30,
           "Freelancer",
           "Bachelor's"
          ],
          [
           26,
           "Graphic Designer",
           "Bachelor's"
          ],
          [
           30,
           "Freelancer",
           "Bachelor's"
          ],
          [
           34,
           "Graphic Designer",
           "Bachelor's"
          ],
          [
           26,
           "Graphic Designer",
           "Bachelor's"
          ],
          [
           31,
           "Freelancer",
           "Post Graduate"
          ],
          [
           25,
           "Social Media Influencer",
           "Bachelor's"
          ],
          [
           34,
           "Graphic Designer",
           "Bachelor's"
          ],
          [
           30,
           "Graphic Designer",
           "Bachelor's"
          ],
          [
           34,
           "Graphic Designer",
           "Bachelor's"
          ],
          [
           31,
           "Social Media Influencer",
           "Bachelor's"
          ],
          [
           33,
           "Graphic Designer",
           "Post Graduate"
          ],
          [
           30,
           "Graphic Designer",
           "Bachelor's"
          ],
          [
           25,
           "Graphic Designer",
           "Bachelor's"
          ],
          [
           30,
           "Graphic Designer",
           "Bachelor's"
          ],
          [
           30,
           "Freelancer",
           "Bachelor's"
          ],
          [
           31,
           "Social Media Influencer",
           "Bachelor's"
          ],
          [
           29,
           "Freelancer",
           "Bachelor's"
          ],
          [
           27,
           "Freelancer",
           "Bachelor's"
          ],
          [
           29,
           "Freelancer",
           "Bachelor's"
          ],
          [
           27,
           "Social Media Influencer",
           "Post Graduate"
          ],
          [
           34,
           "Social Media Influencer",
           "Bachelor's"
          ],
          [
           25,
           "Freelancer",
           "Bachelor's"
          ],
          [
           30,
           "Freelancer",
           "Bachelor's"
          ],
          [
           27,
           "Social Media Influencer",
           "Bachelor's"
          ],
          [
           29,
           "Social Media Influencer",
           "Bachelor's"
          ],
          [
           25,
           "Social Media Influencer",
           "Post Graduate"
          ],
          [
           28,
           "Social Media Influencer",
           "Post Graduate"
          ],
          [
           25,
           "Social Media Influencer",
           "Bachelor's"
          ],
          [
           25,
           "Social Media Influencer",
           "Bachelor's"
          ],
          [
           25,
           "Graphic Designer",
           "Bachelor's"
          ],
          [
           33,
           "Freelancer",
           "Bachelor's"
          ],
          [
           26,
           "Graphic Designer",
           "Post Graduate"
          ],
          [
           29,
           "Social Media Influencer",
           "Post Graduate"
          ],
          [
           29,
           "Social Media Influencer",
           "Post Graduate"
          ],
          [
           29,
           "Graphic Designer",
           "Post Graduate"
          ],
          [
           26,
           "Social Media Influencer",
           "Post Graduate"
          ],
          [
           31,
           "Freelancer",
           "Post Graduate"
          ],
          [
           27,
           "Freelancer",
           "Post Graduate"
          ],
          [
           34,
           "Social Media Influencer",
           "Bachelor's"
          ],
          [
           29,
           "Graphic Designer",
           "Post Graduate"
          ]
         ],
         "hovertemplate": "<b>%{hovertext}</b><br><br>tribe=Young Professional Women - Urban Explorers (Downtown LA / Arts District)<br>income=%{marker.size}<br>latitude=%{lat}<br>longitude=%{lon}<br>age=%{customdata[0]}<br>occupation=%{customdata[1]}<br>education=%{customdata[2]}<extra></extra>",
         "hovertext": [
          "Downtown LA professionals",
          "Downtown LA professionals",
          "Downtown LA professionals",
          "Downtown LA professionals",
          "Downtown LA professionals",
          "Downtown LA professionals",
          "Downtown LA professionals",
          "Downtown LA professionals",
          "Downtown LA professionals",
          "Downtown LA professionals",
          "Downtown LA professionals",
          "Downtown LA professionals",
          "Downtown LA professionals",
          "Downtown LA professionals",
          "Downtown LA professionals",
          "Downtown LA professionals",
          "Downtown LA professionals",
          "Downtown LA professionals",
          "Downtown LA professionals",
          "Downtown LA professionals",
          "Downtown LA professionals",
          "Downtown LA professionals",
          "Downtown LA professionals",
          "Downtown LA professionals",
          "Downtown LA professionals",
          "Downtown LA professionals",
          "Downtown LA professionals",
          "Downtown LA professionals",
          "Downtown LA professionals",
          "Downtown LA professionals",
          "Downtown LA professionals",
          "Downtown LA professionals",
          "Downtown LA professionals",
          "Downtown LA professionals",
          "Downtown LA professionals",
          "Downtown LA professionals",
          "Downtown LA professionals",
          "Downtown LA professionals",
          "Downtown LA professionals",
          "Downtown LA professionals",
          "Downtown LA professionals",
          "Downtown LA professionals",
          "Downtown LA professionals",
          "Downtown LA professionals",
          "Downtown LA professionals",
          "Downtown LA professionals",
          "Downtown LA professionals",
          "Downtown LA professionals",
          "Downtown LA professionals",
          "Downtown LA professionals",
          "Downtown LA professionals",
          "Downtown LA professionals",
          "Downtown LA professionals",
          "Downtown LA professionals",
          "Downtown LA professionals",
          "Downtown LA professionals",
          "Downtown LA professionals",
          "Downtown LA professionals",
          "Downtown LA professionals",
          "Downtown LA professionals",
          "Downtown LA professionals",
          "Downtown LA professionals",
          "Downtown LA professionals",
          "Downtown LA professionals",
          "Downtown LA professionals",
          "Downtown LA professionals",
          "Downtown LA professionals",
          "Downtown LA professionals",
          "Downtown LA professionals",
          "Downtown LA professionals",
          "Downtown LA professionals",
          "Downtown LA professionals",
          "Downtown LA professionals",
          "Downtown LA professionals",
          "Downtown LA professionals",
          "Downtown LA professionals",
          "Downtown LA professionals",
          "Downtown LA professionals",
          "Downtown LA professionals",
          "Downtown LA professionals",
          "Downtown LA professionals",
          "Downtown LA professionals",
          "Downtown LA professionals",
          "Downtown LA professionals",
          "Downtown LA professionals",
          "Downtown LA professionals",
          "Downtown LA professionals",
          "Downtown LA professionals",
          "Downtown LA professionals",
          "Downtown LA professionals",
          "Downtown LA professionals",
          "Downtown LA professionals",
          "Downtown LA professionals",
          "Downtown LA professionals",
          "Downtown LA professionals",
          "Downtown LA professionals",
          "Downtown LA professionals",
          "Downtown LA professionals",
          "Downtown LA professionals",
          "Downtown LA professionals",
          "Downtown LA professionals",
          "Downtown LA professionals",
          "Downtown LA professionals",
          "Downtown LA professionals",
          "Downtown LA professionals",
          "Downtown LA professionals",
          "Downtown LA professionals",
          "Downtown LA professionals",
          "Downtown LA professionals",
          "Downtown LA professionals",
          "Downtown LA professionals",
          "Downtown LA professionals",
          "Downtown LA professionals",
          "Downtown LA professionals",
          "Downtown LA professionals",
          "Downtown LA professionals",
          "Downtown LA professionals",
          "Downtown LA professionals",
          "Downtown LA professionals",
          "Downtown LA professionals",
          "Downtown LA professionals",
          "Downtown LA professionals",
          "Downtown LA professionals",
          "Downtown LA professionals",
          "Downtown LA professionals",
          "Downtown LA professionals",
          "Downtown LA professionals",
          "Downtown LA professionals",
          "Downtown LA professionals",
          "Downtown LA professionals",
          "Downtown LA professionals",
          "Downtown LA professionals",
          "Downtown LA professionals",
          "Downtown LA professionals",
          "Downtown LA professionals",
          "Downtown LA professionals",
          "Downtown LA professionals",
          "Downtown LA professionals",
          "Downtown LA professionals",
          "Downtown LA professionals",
          "Downtown LA professionals",
          "Downtown LA professionals",
          "Downtown LA professionals",
          "Downtown LA professionals",
          "Downtown LA professionals",
          "Downtown LA professionals",
          "Downtown LA professionals",
          "Downtown LA professionals",
          "Downtown LA professionals",
          "Downtown LA professionals",
          "Downtown LA professionals",
          "Downtown LA professionals",
          "Downtown LA professionals",
          "Downtown LA professionals",
          "Downtown LA professionals",
          "Downtown LA professionals",
          "Downtown LA professionals",
          "Downtown LA professionals",
          "Downtown LA professionals",
          "Downtown LA professionals",
          "Downtown LA professionals",
          "Downtown LA professionals",
          "Downtown LA professionals",
          "Downtown LA professionals",
          "Downtown LA professionals",
          "Downtown LA professionals",
          "Downtown LA professionals",
          "Downtown LA professionals",
          "Downtown LA professionals",
          "Downtown LA professionals",
          "Downtown LA professionals",
          "Downtown LA professionals",
          "Downtown LA professionals",
          "Downtown LA professionals",
          "Downtown LA professionals",
          "Downtown LA professionals",
          "Downtown LA professionals",
          "Downtown LA professionals",
          "Downtown LA professionals",
          "Downtown LA professionals",
          "Downtown LA professionals",
          "Downtown LA professionals",
          "Downtown LA professionals",
          "Downtown LA professionals",
          "Downtown LA professionals",
          "Downtown LA professionals",
          "Downtown LA professionals",
          "Downtown LA professionals",
          "Downtown LA professionals",
          "Downtown LA professionals",
          "Downtown LA professionals",
          "Downtown LA professionals",
          "Downtown LA professionals",
          "Downtown LA professionals",
          "Downtown LA professionals",
          "Downtown LA professionals",
          "Downtown LA professionals",
          "Downtown LA professionals",
          "Downtown LA professionals",
          "Downtown LA professionals",
          "Downtown LA professionals",
          "Downtown LA professionals",
          "Downtown LA professionals",
          "Downtown LA professionals",
          "Downtown LA professionals",
          "Downtown LA professionals",
          "Downtown LA professionals",
          "Downtown LA professionals",
          "Downtown LA professionals",
          "Downtown LA professionals",
          "Downtown LA professionals",
          "Downtown LA professionals",
          "Downtown LA professionals",
          "Downtown LA professionals",
          "Downtown LA professionals",
          "Downtown LA professionals",
          "Downtown LA professionals",
          "Downtown LA professionals",
          "Downtown LA professionals",
          "Downtown LA professionals",
          "Downtown LA professionals",
          "Downtown LA professionals",
          "Downtown LA professionals",
          "Downtown LA professionals",
          "Downtown LA professionals",
          "Downtown LA professionals",
          "Downtown LA professionals",
          "Downtown LA professionals",
          "Downtown LA professionals",
          "Downtown LA professionals",
          "Downtown LA professionals",
          "Downtown LA professionals",
          "Downtown LA professionals",
          "Downtown LA professionals",
          "Downtown LA professionals",
          "Downtown LA professionals",
          "Downtown LA professionals",
          "Downtown LA professionals",
          "Downtown LA professionals",
          "Downtown LA professionals",
          "Downtown LA professionals",
          "Downtown LA professionals",
          "Downtown LA professionals",
          "Downtown LA professionals",
          "Downtown LA professionals",
          "Downtown LA professionals",
          "Downtown LA professionals",
          "Downtown LA professionals",
          "Downtown LA professionals",
          "Downtown LA professionals"
         ],
         "lat": {
          "bdata": "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",
          "dtype": "f8"
         },
         "legendgroup": "Young Professional Women - Urban Explorers (Downtown LA / Arts District)",
         "lon": {
          "bdata": "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",
          "dtype": "f8"
         },
         "marker": {
          "color": "#19d3f3",
          "size": {
           "bdata": "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",
           "dtype": "f8"
          },
          "sizemode": "area",
          "sizeref": 750
         },
         "mode": "markers",
         "name": "Young Professional Women - Urban Explorers (Downtown LA / Arts District)",
         "showlegend": true,
         "subplot": "mapbox",
         "type": "scattermapbox"
        }
       ],
       "layout": {
        "height": 600,
        "legend": {
         "font": {
          "size": 8
         },
         "itemsizing": "constant",
         "orientation": "h",
         "title": {
          "text": "tribe"
         },
         "tracegroupgap": 0,
         "x": 1,
         "xanchor": "right",
         "y": 1.02,
         "yanchor": "bottom"
        },
        "mapbox": {
         "accesstoken": "pk.eyJ1IjoibWFyY2Fwb2xhayIsImEiOiJjbThvajN1bHAwMHo1MmxzYXhjb3p3Zjh0In0.emuUuaDMhcM6R9-XtsvZWA",
         "center": {
          "lat": 34.05563190596138,
          "lon": -118.35374584382872
         },
         "domain": {
          "x": [
           0,
           1
          ],
          "y": [
           0,
           1
          ]
         },
         "style": "mapbox://styles/mapbox/streets-v12",
         "zoom": 10
        },
        "margin": {
         "b": 0,
         "l": 0,
         "r": 0,
         "t": 0
        },
        "template": {
         "data": {
          "bar": [
           {
            "error_x": {
             "color": "#2a3f5f"
            },
            "error_y": {
             "color": "#2a3f5f"
            },
            "marker": {
             "line": {
              "color": "#E5ECF6",
              "width": 0.5
             },
             "pattern": {
              "fillmode": "overlay",
              "size": 10,
              "solidity": 0.2
             }
            },
            "type": "bar"
           }
          ],
          "barpolar": [
           {
            "marker": {
             "line": {
              "color": "#E5ECF6",
              "width": 0.5
             },
             "pattern": {
              "fillmode": "overlay",
              "size": 10,
              "solidity": 0.2
             }
            },
            "type": "barpolar"
           }
          ],
          "carpet": [
           {
            "aaxis": {
             "endlinecolor": "#2a3f5f",
             "gridcolor": "white",
             "linecolor": "white",
             "minorgridcolor": "white",
             "startlinecolor": "#2a3f5f"
            },
            "baxis": {
             "endlinecolor": "#2a3f5f",
             "gridcolor": "white",
             "linecolor": "white",
             "minorgridcolor": "white",
             "startlinecolor": "#2a3f5f"
            },
            "type": "carpet"
           }
          ],
          "choropleth": [
           {
            "colorbar": {
             "outlinewidth": 0,
             "ticks": ""
            },
            "type": "choropleth"
           }
          ],
          "contour": [
           {
            "colorbar": {
             "outlinewidth": 0,
             "ticks": ""
            },
            "colorscale": [
             [
              0,
              "#0d0887"
             ],
             [
              0.1111111111111111,
              "#46039f"
             ],
             [
              0.2222222222222222,
              "#7201a8"
             ],
             [
              0.3333333333333333,
              "#9c179e"
             ],
             [
              0.4444444444444444,
              "#bd3786"
             ],
             [
              0.5555555555555556,
              "#d8576b"
             ],
             [
              0.6666666666666666,
              "#ed7953"
             ],
             [
              0.7777777777777778,
              "#fb9f3a"
             ],
             [
              0.8888888888888888,
              "#fdca26"
             ],
             [
              1,
              "#f0f921"
             ]
            ],
            "type": "contour"
           }
          ],
          "contourcarpet": [
           {
            "colorbar": {
             "outlinewidth": 0,
             "ticks": ""
            },
            "type": "contourcarpet"
           }
          ],
          "heatmap": [
           {
            "colorbar": {
             "outlinewidth": 0,
             "ticks": ""
            },
            "colorscale": [
             [
              0,
              "#0d0887"
             ],
             [
              0.1111111111111111,
              "#46039f"
             ],
             [
              0.2222222222222222,
              "#7201a8"
             ],
             [
              0.3333333333333333,
              "#9c179e"
             ],
             [
              0.4444444444444444,
              "#bd3786"
             ],
             [
              0.5555555555555556,
              "#d8576b"
             ],
             [
              0.6666666666666666,
              "#ed7953"
             ],
             [
              0.7777777777777778,
              "#fb9f3a"
             ],
             [
              0.8888888888888888,
              "#fdca26"
             ],
             [
              1,
              "#f0f921"
             ]
            ],
            "type": "heatmap"
           }
          ],
          "histogram": [
           {
            "marker": {
             "pattern": {
              "fillmode": "overlay",
              "size": 10,
              "solidity": 0.2
             }
            },
            "type": "histogram"
           }
          ],
          "histogram2d": [
           {
            "colorbar": {
             "outlinewidth": 0,
             "ticks": ""
            },
            "colorscale": [
             [
              0,
              "#0d0887"
             ],
             [
              0.1111111111111111,
              "#46039f"
             ],
             [
              0.2222222222222222,
              "#7201a8"
             ],
             [
              0.3333333333333333,
              "#9c179e"
             ],
             [
              0.4444444444444444,
              "#bd3786"
             ],
             [
              0.5555555555555556,
              "#d8576b"
             ],
             [
              0.6666666666666666,
              "#ed7953"
             ],
             [
              0.7777777777777778,
              "#fb9f3a"
             ],
             [
              0.8888888888888888,
              "#fdca26"
             ],
             [
              1,
              "#f0f921"
             ]
            ],
            "type": "histogram2d"
           }
          ],
          "histogram2dcontour": [
           {
            "colorbar": {
             "outlinewidth": 0,
             "ticks": ""
            },
            "colorscale": [
             [
              0,
              "#0d0887"
             ],
             [
              0.1111111111111111,
              "#46039f"
             ],
             [
              0.2222222222222222,
              "#7201a8"
             ],
             [
              0.3333333333333333,
              "#9c179e"
             ],
             [
              0.4444444444444444,
              "#bd3786"
             ],
             [
              0.5555555555555556,
              "#d8576b"
             ],
             [
              0.6666666666666666,
              "#ed7953"
             ],
             [
              0.7777777777777778,
              "#fb9f3a"
             ],
             [
              0.8888888888888888,
              "#fdca26"
             ],
             [
              1,
              "#f0f921"
             ]
            ],
            "type": "histogram2dcontour"
           }
          ],
          "mesh3d": [
           {
            "colorbar": {
             "outlinewidth": 0,
             "ticks": ""
            },
            "type": "mesh3d"
           }
          ],
          "parcoords": [
           {
            "line": {
             "colorbar": {
              "outlinewidth": 0,
              "ticks": ""
             }
            },
            "type": "parcoords"
           }
          ],
          "pie": [
           {
            "automargin": true,
            "type": "pie"
           }
          ],
          "scatter": [
           {
            "fillpattern": {
             "fillmode": "overlay",
             "size": 10,
             "solidity": 0.2
            },
            "type": "scatter"
           }
          ],
          "scatter3d": [
           {
            "line": {
             "colorbar": {
              "outlinewidth": 0,
              "ticks": ""
             }
            },
            "marker": {
             "colorbar": {
              "outlinewidth": 0,
              "ticks": ""
             }
            },
            "type": "scatter3d"
           }
          ],
          "scattercarpet": [
           {
            "marker": {
             "colorbar": {
              "outlinewidth": 0,
              "ticks": ""
             }
            },
            "type": "scattercarpet"
           }
          ],
          "scattergeo": [
           {
            "marker": {
             "colorbar": {
              "outlinewidth": 0,
              "ticks": ""
             }
            },
            "type": "scattergeo"
           }
          ],
          "scattergl": [
           {
            "marker": {
             "colorbar": {
              "outlinewidth": 0,
              "ticks": ""
             }
            },
            "type": "scattergl"
           }
          ],
          "scattermap": [
           {
            "marker": {
             "colorbar": {
              "outlinewidth": 0,
              "ticks": ""
             }
            },
            "type": "scattermap"
           }
          ],
          "scattermapbox": [
           {
            "marker": {
             "colorbar": {
              "outlinewidth": 0,
              "ticks": ""
             }
            },
            "type": "scattermapbox"
           }
          ],
          "scatterpolar": [
           {
            "marker": {
             "colorbar": {
              "outlinewidth": 0,
              "ticks": ""
             }
            },
            "type": "scatterpolar"
           }
          ],
          "scatterpolargl": [
           {
            "marker": {
             "colorbar": {
              "outlinewidth": 0,
              "ticks": ""
             }
            },
            "type": "scatterpolargl"
           }
          ],
          "scatterternary": [
           {
            "marker": {
             "colorbar": {
              "outlinewidth": 0,
              "ticks": ""
             }
            },
            "type": "scatterternary"
           }
          ],
          "surface": [
           {
            "colorbar": {
             "outlinewidth": 0,
             "ticks": ""
            },
            "colorscale": [
             [
              0,
              "#0d0887"
             ],
             [
              0.1111111111111111,
              "#46039f"
             ],
             [
              0.2222222222222222,
              "#7201a8"
             ],
             [
              0.3333333333333333,
              "#9c179e"
             ],
             [
              0.4444444444444444,
              "#bd3786"
             ],
             [
              0.5555555555555556,
              "#d8576b"
             ],
             [
              0.6666666666666666,
              "#ed7953"
             ],
             [
              0.7777777777777778,
              "#fb9f3a"
             ],
             [
              0.8888888888888888,
              "#fdca26"
             ],
             [
              1,
              "#f0f921"
             ]
            ],
            "type": "surface"
           }
          ],
          "table": [
           {
            "cells": {
             "fill": {
              "color": "#EBF0F8"
             },
             "line": {
              "color": "white"
             }
            },
            "header": {
             "fill": {
              "color": "#C8D4E3"
             },
             "line": {
              "color": "white"
             }
            },
            "type": "table"
           }
          ]
         },
         "layout": {
          "annotationdefaults": {
           "arrowcolor": "#2a3f5f",
           "arrowhead": 0,
           "arrowwidth": 1
          },
          "autotypenumbers": "strict",
          "coloraxis": {
           "colorbar": {
            "outlinewidth": 0,
            "ticks": ""
           }
          },
          "colorscale": {
           "diverging": [
            [
             0,
             "#8e0152"
            ],
            [
             0.1,
             "#c51b7d"
            ],
            [
             0.2,
             "#de77ae"
            ],
            [
             0.3,
             "#f1b6da"
            ],
            [
             0.4,
             "#fde0ef"
            ],
            [
             0.5,
             "#f7f7f7"
            ],
            [
             0.6,
             "#e6f5d0"
            ],
            [
             0.7,
             "#b8e186"
            ],
            [
             0.8,
             "#7fbc41"
            ],
            [
             0.9,
             "#4d9221"
            ],
            [
             1,
             "#276419"
            ]
           ],
           "sequential": [
            [
             0,
             "#0d0887"
            ],
            [
             0.1111111111111111,
             "#46039f"
            ],
            [
             0.2222222222222222,
             "#7201a8"
            ],
            [
             0.3333333333333333,
             "#9c179e"
            ],
            [
             0.4444444444444444,
             "#bd3786"
            ],
            [
             0.5555555555555556,
             "#d8576b"
            ],
            [
             0.6666666666666666,
             "#ed7953"
            ],
            [
             0.7777777777777778,
             "#fb9f3a"
            ],
            [
             0.8888888888888888,
             "#fdca26"
            ],
            [
             1,
             "#f0f921"
            ]
           ],
           "sequentialminus": [
            [
             0,
             "#0d0887"
            ],
            [
             0.1111111111111111,
             "#46039f"
            ],
            [
             0.2222222222222222,
             "#7201a8"
            ],
            [
             0.3333333333333333,
             "#9c179e"
            ],
            [
             0.4444444444444444,
             "#bd3786"
            ],
            [
             0.5555555555555556,
             "#d8576b"
            ],
            [
             0.6666666666666666,
             "#ed7953"
            ],
            [
             0.7777777777777778,
             "#fb9f3a"
            ],
            [
             0.8888888888888888,
             "#fdca26"
            ],
            [
             1,
             "#f0f921"
            ]
           ]
          },
          "colorway": [
           "#636efa",
           "#EF553B",
           "#00cc96",
           "#ab63fa",
           "#FFA15A",
           "#19d3f3",
           "#FF6692",
           "#B6E880",
           "#FF97FF",
           "#FECB52"
          ],
          "font": {
           "color": "#2a3f5f"
          },
          "geo": {
           "bgcolor": "white",
           "lakecolor": "white",
           "landcolor": "#E5ECF6",
           "showlakes": true,
           "showland": true,
           "subunitcolor": "white"
          },
          "hoverlabel": {
           "align": "left"
          },
          "hovermode": "closest",
          "mapbox": {
           "style": "light"
          },
          "paper_bgcolor": "white",
          "plot_bgcolor": "#E5ECF6",
          "polar": {
           "angularaxis": {
            "gridcolor": "white",
            "linecolor": "white",
            "ticks": ""
           },
           "bgcolor": "#E5ECF6",
           "radialaxis": {
            "gridcolor": "white",
            "linecolor": "white",
            "ticks": ""
           }
          },
          "scene": {
           "xaxis": {
            "backgroundcolor": "#E5ECF6",
            "gridcolor": "white",
            "gridwidth": 2,
            "linecolor": "white",
            "showbackground": true,
            "ticks": "",
            "zerolinecolor": "white"
           },
           "yaxis": {
            "backgroundcolor": "#E5ECF6",
            "gridcolor": "white",
            "gridwidth": 2,
            "linecolor": "white",
            "showbackground": true,
            "ticks": "",
            "zerolinecolor": "white"
           },
           "zaxis": {
            "backgroundcolor": "#E5ECF6",
            "gridcolor": "white",
            "gridwidth": 2,
            "linecolor": "white",
            "showbackground": true,
            "ticks": "",
            "zerolinecolor": "white"
           }
          },
          "shapedefaults": {
           "line": {
            "color": "#2a3f5f"
           }
          },
          "ternary": {
           "aaxis": {
            "gridcolor": "white",
            "linecolor": "white",
            "ticks": ""
           },
           "baxis": {
            "gridcolor": "white",
            "linecolor": "white",
            "ticks": ""
           },
           "bgcolor": "#E5ECF6",
           "caxis": {
            "gridcolor": "white",
            "linecolor": "white",
            "ticks": ""
           }
          },
          "title": {
           "x": 0.05
          },
          "xaxis": {
           "automargin": true,
           "gridcolor": "white",
           "linecolor": "white",
           "ticks": "",
           "title": {
            "standoff": 15
           },
           "zerolinecolor": "white",
           "zerolinewidth": 2
          },
          "yaxis": {
           "automargin": true,
           "gridcolor": "white",
           "linecolor": "white",
           "ticks": "",
           "title": {
            "standoff": 15
           },
           "zerolinecolor": "white",
           "zerolinewidth": 2
          }
         }
        }
       }
      }
     },
     "metadata": {},
     "output_type": "display_data"
    }
   ],
   "source": [
    "import pandas as pd\n",
    "import plotly.express as px\n",
    "\n",
    "# Set your Mapbox access token\n",
    "px.set_mapbox_access_token(\"pk.eyJ1IjoibWFyY2Fwb2xhayIsImEiOiJjbThvajN1bHAwMHo1MmxzYXhjb3p3Zjh0In0.emuUuaDMhcM6R9-XtsvZWA\")\n",
    "\n",
    "# Define location coordinates\n",
    "location_coords = {\n",
    "    \"Downtown LA\": (34.0522, -118.2437),\n",
    "    \"Arts District\": (34.0403, -118.2352),\n",
    "    \"Silver Lake\": (34.0872, -118.2707),\n",
    "    \"Echo Park\": (34.0782, -118.2606),\n",
    "    \"Venice Beach\": (33.9850, -118.4695),\n",
    "    \"Santa Monica\": (34.0195, -118.4912),\n",
    "    \"Playa Vista\": (33.9754, -118.4208),\n",
    "    \"West Hollywood\": (34.0900, -118.3617),\n",
    "    \"Beverly Hills\": (34.0736, -118.4004),\n",
    "    \"Sunset Strip\": (34.0928, -118.3854),\n",
    "    \"Culver City\": (34.0211, -118.3965),\n",
    "    \"Bel Air\": (34.1000, -118.4614),\n",
    "    \"Westwood\": (34.0561, -118.4290),\n",
    "    \"Westwood (UCLA)\": (34.0689, -118.4452),\n",
    "    \"South LA (USC)\": (34.0224, -118.2851)\n",
    "}\n",
    "\n",
    "# Add latitude and longitude to the dataframe\n",
    "demographic_df['latitude'] = demographic_df['location'].map(lambda x: location_coords.get(x.split('(')[0].strip(), (None, None))[0])\n",
    "demographic_df['longitude'] = demographic_df['location'].map(lambda x: location_coords.get(x.split('(')[0].strip(), (None, None))[1])\n",
    "\n",
    "# Check if latitude and longitude columns were added correctly\n",
    "if demographic_df[['latitude', 'longitude']].isnull().any().any():\n",
    "    print(\"Warning: Some locations do not have coordinates in the dictionary.\")\n",
    "    missing_locations = set(demographic_df['location'].map(lambda x: x.split('(')[0].strip())) - set(location_coords.keys())\n",
    "    print(\"Missing locations:\", missing_locations)\n",
    "\n",
    "demographic_df = demographic_df.dropna(subset=['latitude', 'longitude'])\n",
    "\n",
    "fig = px.scatter_mapbox(\n",
    "    demographic_df,\n",
    "    lat=\"latitude\",\n",
    "    lon=\"longitude\",\n",
    "    color=\"tribe\",\n",
    "    size=\"income\",\n",
    "    hover_name=\"short_description\",\n",
    "    hover_data=[\"age\", \"occupation\", \"education\"],\n",
    "    zoom=10,\n",
    "    height=600\n",
    ")\n",
    "\n",
    "fig.update_layout(\n",
    "    mapbox_style=\"mapbox://styles/mapbox/streets-v12\",\n",
    "    margin={\"r\": 0, \"t\": 0, \"l\": 0, \"b\": 0},\n",
    "    legend=dict(\n",
    "        orientation=\"h\",  # Horizontal orientation\n",
    "        yanchor=\"bottom\",  # Position at the bottom\n",
    "        y=1.02,  # Slightly above the bottom\n",
    "        xanchor=\"right\",  # Align to the right\n",
    "        x=1,  # Position at the right edge\n",
    "        font=dict(size=8)  # Reduce font size\n",
    "    )\n",
    ")\n",
    "\n",
    "fig.show()\n"
   ]
  },
  {
   "cell_type": "markdown",
   "metadata": {
    "application/vnd.databricks.v1+cell": {
     "cellMetadata": {},
     "inputWidgets": {},
     "nuid": "77068db6-d72d-4c1b-8751-bb80b0ddbc2d",
     "showTitle": false,
     "tableResultSettingsMap": {},
     "title": ""
    }
   },
   "source": [
    "## Step 2: Generate social media posts"
   ]
  },
  {
   "cell_type": "code",
   "execution_count": 29,
   "metadata": {},
   "outputs": [],
   "source": [
    "fake = Faker()\n",
    "\n",
    "# Updated Tribes based on your focus\n",
    "tribes = {\n",
    "    \"Young Professional Women - Urban Explorers (Downtown LA / Arts District)\": {\n",
    "        \"products\": [\"travel bag\", \"stylish sunglasses\", \"compact camera\", \"smartphone\", \"fitness tracker\"],\n",
    "        \"emotions\": [\"excited\", \"curious\", \"adventurous\", \"relaxed\"]\n",
    "    },\n",
    "    \"Tech-Savvy Professionals - Silicon Beach Innovators (Venice Beach / Santa Monica)\": {\n",
    "        \"products\": [\"smartphone\", \"laptop\", \"smartwatch\", \"tablet\", \"wireless earbuds\"],\n",
    "        \"emotions\": [\"excited\", \"satisfied\", \"curious\", \"innovative\"]\n",
    "    },\n",
    "    \"Creative Entrepreneurs - Hollywood Creatives (West Hollywood / Beverly Hills)\": {\n",
    "        \"products\": [\"designer laptop\", \"high-end camera\", \"smartphone\", \"creative tools\", \"luxury watch\"],\n",
    "        \"emotions\": [\"inspired\", \"excited\", \"content\", \"creative\"]\n",
    "    },\n",
    "    \"Eco-Conscious Millennials - Sustainable Lifestyle (Culver City / Echo Park)\": {\n",
    "        \"products\": [\"reusable water bottle\", \"organic skincare\", \"bamboo toothbrush\", \"electric bike\", \"solar-powered charger\"],\n",
    "        \"emotions\": [\"satisfied\", \"relaxed\", \"eco-friendly\", \"content\"]\n",
    "    },\n",
    "    \"Luxury-Oriented Professionals - Upscale Lifestyles (Beverly Hills / Bel Air)\": {\n",
    "        \"products\": [\"luxury watch\", \"high-end camera\", \"luxury car\", \"premium wine\", \"gourmet food subscription\"],\n",
    "        \"emotions\": [\"satisfied\", \"relaxed\", \"luxurious\", \"content\"]\n",
    "    },\n",
    "    \"College Students - Campus Life (UCLA / USC)\": {\n",
    "        \"products\": [\"backpack\", \"laptop\", \"coffee maker\", \"textbooks\", \"headphones\"],\n",
    "        \"emotions\": [\"excited\", \"curious\", \"satisfied\", \"motivated\"]\n",
    "    }\n",
    "}\n",
    "\n",
    "\n",
    "# Get random sample from demographic data (assuming `demographic_df` is already created)\n",
    "sampled_df = demographic_df.sample(n=100).reset_index(drop=True)\n",
    "\n",
    "# Generate combinations for 100 unique posts\n",
    "combinations = []\n",
    "unique_combinations = set()\n",
    "\n",
    "while len(unique_combinations) < 100:\n",
    "    # Select a tribe randomly from the dictionary\n",
    "    tribe_name = random.choice(list(tribes.keys()))\n",
    "    \n",
    "    # Select a random author_id from the demographic data based on the tribe (segment)\n",
    "    author_id = demographic_df[demographic_df[\"tribe\"] == tribe_name][\"uuid\"].sample(1).values[0]\n",
    "    \n",
    "    # Choose a product and emotion from the tribe\n",
    "    product = random.choice(tribes[tribe_name][\"products\"])\n",
    "    emotion = random.choice(tribes[tribe_name][\"emotions\"])\n",
    "    \n",
    "    # Create a tuple to check for uniqueness\n",
    "    combination_tuple = (tribe_name, product, emotion)\n",
    "    \n",
    "    # Add only if the combination is unique\n",
    "    if combination_tuple not in unique_combinations:\n",
    "        unique_combinations.add(combination_tuple)\n",
    "        combinations.append({\n",
    "            \"author_id\": author_id,\n",
    "            \"tribe\": tribe_name,\n",
    "            \"product\": product,\n",
    "            \"emotion\": emotion\n",
    "        })\n",
    "\n",
    "combinations_df = pd.DataFrame(combinations)"
   ]
  },
  {
   "cell_type": "code",
   "execution_count": 32,
   "metadata": {},
   "outputs": [],
   "source": [
    "combinations_sdf = spark.createDataFrame(combinations_df)"
   ]
  },
  {
   "cell_type": "code",
   "execution_count": 39,
   "metadata": {},
   "outputs": [
    {
     "name": "stdout",
     "output_type": "stream",
     "text": [
      "+--------------------+-----+\n",
      "|               tribe|count|\n",
      "+--------------------+-----+\n",
      "|Luxury-Oriented P...|   14|\n",
      "|Eco-Conscious Mil...|   19|\n",
      "|Creative Entrepre...|   16|\n",
      "|College Students ...|   20|\n",
      "|Young Professiona...|   18|\n",
      "|Tech-Savvy Profes...|   13|\n",
      "+--------------------+-----+\n",
      "\n"
     ]
    }
   ],
   "source": [
    "combinations_sdf.groupBy(\"tribe\").count().show()"
   ]
  },
  {
   "cell_type": "code",
   "execution_count": 35,
   "metadata": {},
   "outputs": [],
   "source": [
    "# Creat temp view for AI_QUERY\n",
    "combinations_sdf.createOrReplaceTempView(\"sampled_audience\")"
   ]
  },
  {
   "cell_type": "code",
   "execution_count": 36,
   "metadata": {},
   "outputs": [],
   "source": [
    "# Create the SQL query for generating social media posts\n",
    "sql_query = \"\"\"\n",
    "CREATE OR REPLACE TEMP VIEW sampled_audience_posts AS\n",
    "SELECT\n",
    "    author_id,\n",
    "    tribe,\n",
    "    product,\n",
    "    emotion,\n",
    "    AI_QUERY(\n",
    "        \"databricks-meta-llama-3-3-70b-instruct\", \n",
    "        CONCAT(\n",
    "            'Generate a realistic social media post from a consumer who recently purchased a ',\n",
    "            product, \n",
    "            ' from the perspective of a ', tribe, \n",
    "            ' who is ', emotion, \n",
    "            ' about the product. The post should reflect their genuine experience, including specific details about the product\\'s features, performance, and how it fits into their lifestyle. Maintain a conversational and engaging tone, similar to how people naturally write on social media. Optionally, include a hashtag or emoji for authenticity. Don\\'t explicitly mention the tribe or that you are an AI assistant. Remove quotation marks.'\n",
    "        ) AS post\n",
    "FROM sampled_audience\n",
    "\"\"\""
   ]
  },
  {
   "cell_type": "code",
   "execution_count": 41,
   "metadata": {},
   "outputs": [
    {
     "data": {
      "application/vnd.microsoft.datawrangler.viewer.v0+json": {
       "columns": [
        {
         "name": "index",
         "rawType": "int64",
         "type": "integer"
        },
        {
         "name": "author_id",
         "rawType": "object",
         "type": "string"
        },
        {
         "name": "tribe",
         "rawType": "object",
         "type": "string"
        },
        {
         "name": "product",
         "rawType": "object",
         "type": "string"
        },
        {
         "name": "emotion",
         "rawType": "object",
         "type": "string"
        }
       ],
       "conversionMethod": "pd.DataFrame",
       "ref": "64d04234-052a-4b0f-b8f4-af9b329436d8",
       "rows": [
        [
         "0",
         "80db4db2-d9a3-4b7e-892d-c5dd0277e172",
         "Eco-Conscious Millennials - Sustainable Lifestyle (Culver City / Echo Park)",
         "bamboo toothbrush",
         "eco-friendly"
        ],
        [
         "1",
         "b8f84fba-26b7-4dcd-8e7c-a321e09370e0",
         "Luxury-Oriented Professionals - Upscale Lifestyles (Beverly Hills / Bel Air)",
         "premium wine",
         "relaxed"
        ],
        [
         "2",
         "cb1624b8-89f6-4988-a435-cfd40e6384bc",
         "Creative Entrepreneurs - Hollywood Creatives (West Hollywood / Beverly Hills)",
         "high-end camera",
         "content"
        ],
        [
         "3",
         "c1214686-4bd6-4b48-a956-55518d7c9e19",
         "Creative Entrepreneurs - Hollywood Creatives (West Hollywood / Beverly Hills)",
         "high-end camera",
         "excited"
        ],
        [
         "4",
         "e601e234-05a0-4fc5-8d60-08bbce316be5",
         "Eco-Conscious Millennials - Sustainable Lifestyle (Culver City / Echo Park)",
         "organic skincare",
         "eco-friendly"
        ],
        [
         "5",
         "99faba2f-8d73-4a99-8077-5ff00a41a34c",
         "Eco-Conscious Millennials - Sustainable Lifestyle (Culver City / Echo Park)",
         "reusable water bottle",
         "satisfied"
        ],
        [
         "6",
         "56fb6e99-1bd3-4f7b-af46-e0fd3f45c242",
         "Creative Entrepreneurs - Hollywood Creatives (West Hollywood / Beverly Hills)",
         "creative tools",
         "creative"
        ],
        [
         "7",
         "577d34ce-1a0b-4ad4-a80a-31ffe98bc9fc",
         "Luxury-Oriented Professionals - Upscale Lifestyles (Beverly Hills / Bel Air)",
         "luxury car",
         "content"
        ],
        [
         "8",
         "33ac5277-6e73-4549-9319-05b392125941",
         "College Students - Campus Life (UCLA / USC)",
         "headphones",
         "excited"
        ],
        [
         "9",
         "7cf71953-b978-4d5a-8a38-dc0c2e702538",
         "Eco-Conscious Millennials - Sustainable Lifestyle (Culver City / Echo Park)",
         "reusable water bottle",
         "content"
        ],
        [
         "10",
         "4f6d1133-932b-4a91-a1a5-44dd06982cdc",
         "Creative Entrepreneurs - Hollywood Creatives (West Hollywood / Beverly Hills)",
         "designer laptop",
         "excited"
        ],
        [
         "11",
         "5928b8b6-90b8-4742-8df8-c6e29250a90f",
         "College Students - Campus Life (UCLA / USC)",
         "textbooks",
         "motivated"
        ],
        [
         "12",
         "54d8b525-fb4e-4f2a-9a7e-0bf3992e8fce",
         "Young Professional Women - Urban Explorers (Downtown LA / Arts District)",
         "smartphone",
         "relaxed"
        ],
        [
         "13",
         "7c1834f1-b656-43f6-b2b4-ebe202181ae3",
         "Luxury-Oriented Professionals - Upscale Lifestyles (Beverly Hills / Bel Air)",
         "gourmet food subscription",
         "content"
        ],
        [
         "14",
         "6260f019-f6d7-42ef-90f9-01d6e82614f7",
         "Young Professional Women - Urban Explorers (Downtown LA / Arts District)",
         "travel bag",
         "curious"
        ],
        [
         "15",
         "6b42b40a-d437-4d65-8a06-8f72b278526a",
         "Luxury-Oriented Professionals - Upscale Lifestyles (Beverly Hills / Bel Air)",
         "gourmet food subscription",
         "relaxed"
        ],
        [
         "16",
         "034f5980-1a31-4c13-8aae-87d38c292043",
         "Eco-Conscious Millennials - Sustainable Lifestyle (Culver City / Echo Park)",
         "solar-powered charger",
         "eco-friendly"
        ],
        [
         "17",
         "e425d9ed-5040-4ba1-a6d7-44d563f3aaac",
         "College Students - Campus Life (UCLA / USC)",
         "coffee maker",
         "curious"
        ],
        [
         "18",
         "fdf2083e-b978-4264-961d-3786b451bdcd",
         "Young Professional Women - Urban Explorers (Downtown LA / Arts District)",
         "fitness tracker",
         "adventurous"
        ],
        [
         "19",
         "0eed4452-03c2-4702-aa19-e282b5e97d4f",
         "Young Professional Women - Urban Explorers (Downtown LA / Arts District)",
         "compact camera",
         "adventurous"
        ],
        [
         "20",
         "eb5ecaa8-1143-4862-91a8-aef13a8e74c1",
         "Young Professional Women - Urban Explorers (Downtown LA / Arts District)",
         "stylish sunglasses",
         "excited"
        ],
        [
         "21",
         "3aef6f4f-8a4d-40a3-81ab-83c1d0489a6a",
         "Tech-Savvy Professionals - Silicon Beach Innovators (Venice Beach / Santa Monica)",
         "smartwatch",
         "curious"
        ],
        [
         "22",
         "43419653-c124-4d3e-b5c5-b492df9408f5",
         "Luxury-Oriented Professionals - Upscale Lifestyles (Beverly Hills / Bel Air)",
         "gourmet food subscription",
         "luxurious"
        ],
        [
         "23",
         "bc4611df-0707-4c3f-ae01-0a39b72b0e03",
         "Young Professional Women - Urban Explorers (Downtown LA / Arts District)",
         "fitness tracker",
         "curious"
        ],
        [
         "24",
         "58afbdd5-f25d-43c8-88f4-8abf5d780668",
         "Creative Entrepreneurs - Hollywood Creatives (West Hollywood / Beverly Hills)",
         "creative tools",
         "excited"
        ],
        [
         "25",
         "4b37f37b-bdac-4993-bd15-763f76a7d5d0",
         "Luxury-Oriented Professionals - Upscale Lifestyles (Beverly Hills / Bel Air)",
         "high-end camera",
         "relaxed"
        ],
        [
         "26",
         "f8e5c0d2-04e1-4971-abc6-59ee3107bcb8",
         "College Students - Campus Life (UCLA / USC)",
         "coffee maker",
         "excited"
        ],
        [
         "27",
         "034f5980-1a31-4c13-8aae-87d38c292043",
         "Eco-Conscious Millennials - Sustainable Lifestyle (Culver City / Echo Park)",
         "electric bike",
         "content"
        ],
        [
         "28",
         "bf497f81-b180-4600-9273-ddf715cf69e0",
         "Tech-Savvy Professionals - Silicon Beach Innovators (Venice Beach / Santa Monica)",
         "laptop",
         "excited"
        ],
        [
         "29",
         "fe4e65fd-d205-49f5-85e4-eb1d71d33b21",
         "Eco-Conscious Millennials - Sustainable Lifestyle (Culver City / Echo Park)",
         "organic skincare",
         "content"
        ],
        [
         "30",
         "7207993d-bf38-4445-8342-6fbde4d89357",
         "College Students - Campus Life (UCLA / USC)",
         "laptop",
         "excited"
        ],
        [
         "31",
         "0fb28084-7bff-49c8-b285-2a2309f981d6",
         "Creative Entrepreneurs - Hollywood Creatives (West Hollywood / Beverly Hills)",
         "creative tools",
         "content"
        ],
        [
         "32",
         "5d180ffc-3004-426f-8428-2e83f275b368",
         "Tech-Savvy Professionals - Silicon Beach Innovators (Venice Beach / Santa Monica)",
         "smartphone",
         "excited"
        ],
        [
         "33",
         "54938627-709b-4096-ae31-2a281aced443",
         "College Students - Campus Life (UCLA / USC)",
         "laptop",
         "curious"
        ],
        [
         "34",
         "062be31b-1c4d-4857-997a-c4cb96115db3",
         "Creative Entrepreneurs - Hollywood Creatives (West Hollywood / Beverly Hills)",
         "smartphone",
         "excited"
        ],
        [
         "35",
         "610321fc-3e81-4f85-a882-84cedeb1467d",
         "Luxury-Oriented Professionals - Upscale Lifestyles (Beverly Hills / Bel Air)",
         "high-end camera",
         "content"
        ],
        [
         "36",
         "33d52cc8-0d2e-4420-975c-40c48ca9793a",
         "College Students - Campus Life (UCLA / USC)",
         "textbooks",
         "curious"
        ],
        [
         "37",
         "447c97fa-dc7c-45c9-8b28-cb5164cbef37",
         "Eco-Conscious Millennials - Sustainable Lifestyle (Culver City / Echo Park)",
         "electric bike",
         "eco-friendly"
        ],
        [
         "38",
         "acece869-d14b-432b-a28d-3980c610349c",
         "Young Professional Women - Urban Explorers (Downtown LA / Arts District)",
         "fitness tracker",
         "relaxed"
        ],
        [
         "39",
         "872c62de-d60b-49e3-9b9f-38dc854e2183",
         "Tech-Savvy Professionals - Silicon Beach Innovators (Venice Beach / Santa Monica)",
         "laptop",
         "innovative"
        ],
        [
         "40",
         "56953b4e-ea40-4fc1-b4a2-132c1ba586b9",
         "Young Professional Women - Urban Explorers (Downtown LA / Arts District)",
         "smartphone",
         "adventurous"
        ],
        [
         "41",
         "baa9c65f-a16c-4a0c-afdc-0f18b848fb5c",
         "Tech-Savvy Professionals - Silicon Beach Innovators (Venice Beach / Santa Monica)",
         "tablet",
         "satisfied"
        ],
        [
         "42",
         "aaee5e52-8feb-42db-b9e2-6e602f75690c",
         "College Students - Campus Life (UCLA / USC)",
         "backpack",
         "excited"
        ],
        [
         "43",
         "97a55503-5fb5-43f2-a4c2-eecbf9f65fdd",
         "Creative Entrepreneurs - Hollywood Creatives (West Hollywood / Beverly Hills)",
         "designer laptop",
         "inspired"
        ],
        [
         "44",
         "447c97fa-dc7c-45c9-8b28-cb5164cbef37",
         "Eco-Conscious Millennials - Sustainable Lifestyle (Culver City / Echo Park)",
         "organic skincare",
         "relaxed"
        ],
        [
         "45",
         "7a9979d6-5e6e-4e66-bded-18c40ef495ec",
         "College Students - Campus Life (UCLA / USC)",
         "headphones",
         "motivated"
        ],
        [
         "46",
         "8165f65a-1aaa-473a-bf13-8493c1823fcb",
         "Eco-Conscious Millennials - Sustainable Lifestyle (Culver City / Echo Park)",
         "solar-powered charger",
         "satisfied"
        ],
        [
         "47",
         "d3b7a905-1303-4270-add1-5d616a83daaf",
         "Young Professional Women - Urban Explorers (Downtown LA / Arts District)",
         "stylish sunglasses",
         "curious"
        ],
        [
         "48",
         "ed9d87a0-d5e8-488c-9129-4aee8a73b2e9",
         "Tech-Savvy Professionals - Silicon Beach Innovators (Venice Beach / Santa Monica)",
         "laptop",
         "curious"
        ],
        [
         "49",
         "c11daa50-3a56-42c5-9c6e-fbb9a8ae9912",
         "College Students - Campus Life (UCLA / USC)",
         "textbooks",
         "excited"
        ]
       ],
       "shape": {
        "columns": 4,
        "rows": 100
       }
      },
      "text/html": [
       "<div>\n",
       "<style scoped>\n",
       "    .dataframe tbody tr th:only-of-type {\n",
       "        vertical-align: middle;\n",
       "    }\n",
       "\n",
       "    .dataframe tbody tr th {\n",
       "        vertical-align: top;\n",
       "    }\n",
       "\n",
       "    .dataframe thead th {\n",
       "        text-align: right;\n",
       "    }\n",
       "</style>\n",
       "<table border=\"1\" class=\"dataframe\">\n",
       "  <thead>\n",
       "    <tr style=\"text-align: right;\">\n",
       "      <th></th>\n",
       "      <th>author_id</th>\n",
       "      <th>tribe</th>\n",
       "      <th>product</th>\n",
       "      <th>emotion</th>\n",
       "    </tr>\n",
       "  </thead>\n",
       "  <tbody>\n",
       "    <tr>\n",
       "      <th>0</th>\n",
       "      <td>80db4db2-d9a3-4b7e-892d-c5dd0277e172</td>\n",
       "      <td>Eco-Conscious Millennials - Sustainable Lifest...</td>\n",
       "      <td>bamboo toothbrush</td>\n",
       "      <td>eco-friendly</td>\n",
       "    </tr>\n",
       "    <tr>\n",
       "      <th>1</th>\n",
       "      <td>b8f84fba-26b7-4dcd-8e7c-a321e09370e0</td>\n",
       "      <td>Luxury-Oriented Professionals - Upscale Lifest...</td>\n",
       "      <td>premium wine</td>\n",
       "      <td>relaxed</td>\n",
       "    </tr>\n",
       "    <tr>\n",
       "      <th>2</th>\n",
       "      <td>cb1624b8-89f6-4988-a435-cfd40e6384bc</td>\n",
       "      <td>Creative Entrepreneurs - Hollywood Creatives (...</td>\n",
       "      <td>high-end camera</td>\n",
       "      <td>content</td>\n",
       "    </tr>\n",
       "    <tr>\n",
       "      <th>3</th>\n",
       "      <td>c1214686-4bd6-4b48-a956-55518d7c9e19</td>\n",
       "      <td>Creative Entrepreneurs - Hollywood Creatives (...</td>\n",
       "      <td>high-end camera</td>\n",
       "      <td>excited</td>\n",
       "    </tr>\n",
       "    <tr>\n",
       "      <th>4</th>\n",
       "      <td>e601e234-05a0-4fc5-8d60-08bbce316be5</td>\n",
       "      <td>Eco-Conscious Millennials - Sustainable Lifest...</td>\n",
       "      <td>organic skincare</td>\n",
       "      <td>eco-friendly</td>\n",
       "    </tr>\n",
       "    <tr>\n",
       "      <th>...</th>\n",
       "      <td>...</td>\n",
       "      <td>...</td>\n",
       "      <td>...</td>\n",
       "      <td>...</td>\n",
       "    </tr>\n",
       "    <tr>\n",
       "      <th>95</th>\n",
       "      <td>fe592152-d9fd-40e3-9388-d5bc47ab357f</td>\n",
       "      <td>Luxury-Oriented Professionals - Upscale Lifest...</td>\n",
       "      <td>premium wine</td>\n",
       "      <td>luxurious</td>\n",
       "    </tr>\n",
       "    <tr>\n",
       "      <th>96</th>\n",
       "      <td>4df88077-49df-482b-bdab-22318763d3fa</td>\n",
       "      <td>Tech-Savvy Professionals - Silicon Beach Innov...</td>\n",
       "      <td>wireless earbuds</td>\n",
       "      <td>curious</td>\n",
       "    </tr>\n",
       "    <tr>\n",
       "      <th>97</th>\n",
       "      <td>73f9c0f3-8a93-4630-b6c9-9b861aff9586</td>\n",
       "      <td>Young Professional Women - Urban Explorers (Do...</td>\n",
       "      <td>compact camera</td>\n",
       "      <td>curious</td>\n",
       "    </tr>\n",
       "    <tr>\n",
       "      <th>98</th>\n",
       "      <td>3c92fd43-bc03-4b6c-9242-716ab6df4a0b</td>\n",
       "      <td>Eco-Conscious Millennials - Sustainable Lifest...</td>\n",
       "      <td>electric bike</td>\n",
       "      <td>satisfied</td>\n",
       "    </tr>\n",
       "    <tr>\n",
       "      <th>99</th>\n",
       "      <td>823bdea9-f88d-4d36-ace4-01c180439f14</td>\n",
       "      <td>Luxury-Oriented Professionals - Upscale Lifest...</td>\n",
       "      <td>luxury watch</td>\n",
       "      <td>satisfied</td>\n",
       "    </tr>\n",
       "  </tbody>\n",
       "</table>\n",
       "<p>100 rows × 4 columns</p>\n",
       "</div>"
      ],
      "text/plain": [
       "                               author_id  \\\n",
       "0   80db4db2-d9a3-4b7e-892d-c5dd0277e172   \n",
       "1   b8f84fba-26b7-4dcd-8e7c-a321e09370e0   \n",
       "2   cb1624b8-89f6-4988-a435-cfd40e6384bc   \n",
       "3   c1214686-4bd6-4b48-a956-55518d7c9e19   \n",
       "4   e601e234-05a0-4fc5-8d60-08bbce316be5   \n",
       "..                                   ...   \n",
       "95  fe592152-d9fd-40e3-9388-d5bc47ab357f   \n",
       "96  4df88077-49df-482b-bdab-22318763d3fa   \n",
       "97  73f9c0f3-8a93-4630-b6c9-9b861aff9586   \n",
       "98  3c92fd43-bc03-4b6c-9242-716ab6df4a0b   \n",
       "99  823bdea9-f88d-4d36-ace4-01c180439f14   \n",
       "\n",
       "                                                tribe            product  \\\n",
       "0   Eco-Conscious Millennials - Sustainable Lifest...  bamboo toothbrush   \n",
       "1   Luxury-Oriented Professionals - Upscale Lifest...       premium wine   \n",
       "2   Creative Entrepreneurs - Hollywood Creatives (...    high-end camera   \n",
       "3   Creative Entrepreneurs - Hollywood Creatives (...    high-end camera   \n",
       "4   Eco-Conscious Millennials - Sustainable Lifest...   organic skincare   \n",
       "..                                                ...                ...   \n",
       "95  Luxury-Oriented Professionals - Upscale Lifest...       premium wine   \n",
       "96  Tech-Savvy Professionals - Silicon Beach Innov...   wireless earbuds   \n",
       "97  Young Professional Women - Urban Explorers (Do...     compact camera   \n",
       "98  Eco-Conscious Millennials - Sustainable Lifest...      electric bike   \n",
       "99  Luxury-Oriented Professionals - Upscale Lifest...       luxury watch   \n",
       "\n",
       "         emotion  \n",
       "0   eco-friendly  \n",
       "1        relaxed  \n",
       "2        content  \n",
       "3        excited  \n",
       "4   eco-friendly  \n",
       "..           ...  \n",
       "95     luxurious  \n",
       "96       curious  \n",
       "97       curious  \n",
       "98     satisfied  \n",
       "99     satisfied  \n",
       "\n",
       "[100 rows x 4 columns]"
      ]
     },
     "metadata": {},
     "output_type": "display_data"
    }
   ],
   "source": [
    "posts_df = spark.sql(\"SELECT * FROM sampled_audience\").toPandas()\n",
    "display(posts_df)"
   ]
  },
  {
   "cell_type": "markdown",
   "metadata": {
    "application/vnd.databricks.v1+cell": {
     "cellMetadata": {},
     "inputWidgets": {},
     "nuid": "5b7f0dbf-735c-471a-a1b9-4726be4af0d6",
     "showTitle": false,
     "tableResultSettingsMap": {},
     "title": ""
    }
   },
   "source": [
    "## Step 3: Generate Ad Campaigns"
   ]
  },
  {
   "cell_type": "code",
   "execution_count": 43,
   "metadata": {},
   "outputs": [],
   "source": [
    "# Add fake creation dates for the posts\n",
    "posts_df['created_at'] = [fake.date_time_between(datetime(2023, 1, 1), datetime(2024, 12, 31)).strftime('%Y-%m-%d %H:%M:%S') for _ in range(len(posts_df))]\n",
    "\n",
    "# Optionally: Save posts to a JSON or database\n",
    "posts_df.to_json('social_media_posts.json', orient='records')"
   ]
  },
  {
   "cell_type": "code",
   "execution_count": 44,
   "metadata": {},
   "outputs": [
    {
     "name": "stdout",
     "output_type": "stream",
     "text": [
      "Generated Social Media Posts:\n"
     ]
    },
    {
     "data": {
      "application/vnd.microsoft.datawrangler.viewer.v0+json": {
       "columns": [
        {
         "name": "index",
         "rawType": "int64",
         "type": "integer"
        },
        {
         "name": "author_id",
         "rawType": "object",
         "type": "string"
        },
        {
         "name": "tribe",
         "rawType": "object",
         "type": "string"
        },
        {
         "name": "product",
         "rawType": "object",
         "type": "string"
        },
        {
         "name": "emotion",
         "rawType": "object",
         "type": "string"
        },
        {
         "name": "created_at",
         "rawType": "object",
         "type": "string"
        }
       ],
       "conversionMethod": "pd.DataFrame",
       "ref": "500bec8a-d5bc-4a8f-80af-2592c8822b0b",
       "rows": [
        [
         "0",
         "80db4db2-d9a3-4b7e-892d-c5dd0277e172",
         "Eco-Conscious Millennials - Sustainable Lifestyle (Culver City / Echo Park)",
         "bamboo toothbrush",
         "eco-friendly",
         "2023-07-04 08:19:19"
        ],
        [
         "1",
         "b8f84fba-26b7-4dcd-8e7c-a321e09370e0",
         "Luxury-Oriented Professionals - Upscale Lifestyles (Beverly Hills / Bel Air)",
         "premium wine",
         "relaxed",
         "2024-11-27 19:22:05"
        ],
        [
         "2",
         "cb1624b8-89f6-4988-a435-cfd40e6384bc",
         "Creative Entrepreneurs - Hollywood Creatives (West Hollywood / Beverly Hills)",
         "high-end camera",
         "content",
         "2024-03-23 12:26:53"
        ],
        [
         "3",
         "c1214686-4bd6-4b48-a956-55518d7c9e19",
         "Creative Entrepreneurs - Hollywood Creatives (West Hollywood / Beverly Hills)",
         "high-end camera",
         "excited",
         "2024-08-04 15:23:46"
        ],
        [
         "4",
         "e601e234-05a0-4fc5-8d60-08bbce316be5",
         "Eco-Conscious Millennials - Sustainable Lifestyle (Culver City / Echo Park)",
         "organic skincare",
         "eco-friendly",
         "2024-09-18 11:15:29"
        ],
        [
         "5",
         "99faba2f-8d73-4a99-8077-5ff00a41a34c",
         "Eco-Conscious Millennials - Sustainable Lifestyle (Culver City / Echo Park)",
         "reusable water bottle",
         "satisfied",
         "2023-04-03 02:04:22"
        ],
        [
         "6",
         "56fb6e99-1bd3-4f7b-af46-e0fd3f45c242",
         "Creative Entrepreneurs - Hollywood Creatives (West Hollywood / Beverly Hills)",
         "creative tools",
         "creative",
         "2024-02-19 23:39:45"
        ],
        [
         "7",
         "577d34ce-1a0b-4ad4-a80a-31ffe98bc9fc",
         "Luxury-Oriented Professionals - Upscale Lifestyles (Beverly Hills / Bel Air)",
         "luxury car",
         "content",
         "2023-01-21 22:11:43"
        ],
        [
         "8",
         "33ac5277-6e73-4549-9319-05b392125941",
         "College Students - Campus Life (UCLA / USC)",
         "headphones",
         "excited",
         "2024-05-10 01:55:10"
        ],
        [
         "9",
         "7cf71953-b978-4d5a-8a38-dc0c2e702538",
         "Eco-Conscious Millennials - Sustainable Lifestyle (Culver City / Echo Park)",
         "reusable water bottle",
         "content",
         "2023-09-01 14:26:14"
        ],
        [
         "10",
         "4f6d1133-932b-4a91-a1a5-44dd06982cdc",
         "Creative Entrepreneurs - Hollywood Creatives (West Hollywood / Beverly Hills)",
         "designer laptop",
         "excited",
         "2024-06-05 21:53:23"
        ],
        [
         "11",
         "5928b8b6-90b8-4742-8df8-c6e29250a90f",
         "College Students - Campus Life (UCLA / USC)",
         "textbooks",
         "motivated",
         "2024-01-21 21:21:40"
        ],
        [
         "12",
         "54d8b525-fb4e-4f2a-9a7e-0bf3992e8fce",
         "Young Professional Women - Urban Explorers (Downtown LA / Arts District)",
         "smartphone",
         "relaxed",
         "2024-03-06 18:51:50"
        ],
        [
         "13",
         "7c1834f1-b656-43f6-b2b4-ebe202181ae3",
         "Luxury-Oriented Professionals - Upscale Lifestyles (Beverly Hills / Bel Air)",
         "gourmet food subscription",
         "content",
         "2023-09-04 16:12:25"
        ],
        [
         "14",
         "6260f019-f6d7-42ef-90f9-01d6e82614f7",
         "Young Professional Women - Urban Explorers (Downtown LA / Arts District)",
         "travel bag",
         "curious",
         "2024-12-05 13:49:27"
        ],
        [
         "15",
         "6b42b40a-d437-4d65-8a06-8f72b278526a",
         "Luxury-Oriented Professionals - Upscale Lifestyles (Beverly Hills / Bel Air)",
         "gourmet food subscription",
         "relaxed",
         "2023-01-19 11:04:00"
        ],
        [
         "16",
         "034f5980-1a31-4c13-8aae-87d38c292043",
         "Eco-Conscious Millennials - Sustainable Lifestyle (Culver City / Echo Park)",
         "solar-powered charger",
         "eco-friendly",
         "2024-07-22 11:37:06"
        ],
        [
         "17",
         "e425d9ed-5040-4ba1-a6d7-44d563f3aaac",
         "College Students - Campus Life (UCLA / USC)",
         "coffee maker",
         "curious",
         "2024-02-19 19:27:48"
        ],
        [
         "18",
         "fdf2083e-b978-4264-961d-3786b451bdcd",
         "Young Professional Women - Urban Explorers (Downtown LA / Arts District)",
         "fitness tracker",
         "adventurous",
         "2024-06-08 17:19:38"
        ],
        [
         "19",
         "0eed4452-03c2-4702-aa19-e282b5e97d4f",
         "Young Professional Women - Urban Explorers (Downtown LA / Arts District)",
         "compact camera",
         "adventurous",
         "2023-05-03 13:18:44"
        ],
        [
         "20",
         "eb5ecaa8-1143-4862-91a8-aef13a8e74c1",
         "Young Professional Women - Urban Explorers (Downtown LA / Arts District)",
         "stylish sunglasses",
         "excited",
         "2023-08-30 22:16:40"
        ],
        [
         "21",
         "3aef6f4f-8a4d-40a3-81ab-83c1d0489a6a",
         "Tech-Savvy Professionals - Silicon Beach Innovators (Venice Beach / Santa Monica)",
         "smartwatch",
         "curious",
         "2023-06-01 17:07:50"
        ],
        [
         "22",
         "43419653-c124-4d3e-b5c5-b492df9408f5",
         "Luxury-Oriented Professionals - Upscale Lifestyles (Beverly Hills / Bel Air)",
         "gourmet food subscription",
         "luxurious",
         "2023-12-23 09:09:40"
        ],
        [
         "23",
         "bc4611df-0707-4c3f-ae01-0a39b72b0e03",
         "Young Professional Women - Urban Explorers (Downtown LA / Arts District)",
         "fitness tracker",
         "curious",
         "2024-10-01 07:57:27"
        ],
        [
         "24",
         "58afbdd5-f25d-43c8-88f4-8abf5d780668",
         "Creative Entrepreneurs - Hollywood Creatives (West Hollywood / Beverly Hills)",
         "creative tools",
         "excited",
         "2023-09-12 16:47:46"
        ],
        [
         "25",
         "4b37f37b-bdac-4993-bd15-763f76a7d5d0",
         "Luxury-Oriented Professionals - Upscale Lifestyles (Beverly Hills / Bel Air)",
         "high-end camera",
         "relaxed",
         "2024-11-11 19:58:08"
        ],
        [
         "26",
         "f8e5c0d2-04e1-4971-abc6-59ee3107bcb8",
         "College Students - Campus Life (UCLA / USC)",
         "coffee maker",
         "excited",
         "2023-01-26 03:49:34"
        ],
        [
         "27",
         "034f5980-1a31-4c13-8aae-87d38c292043",
         "Eco-Conscious Millennials - Sustainable Lifestyle (Culver City / Echo Park)",
         "electric bike",
         "content",
         "2023-04-25 05:24:06"
        ],
        [
         "28",
         "bf497f81-b180-4600-9273-ddf715cf69e0",
         "Tech-Savvy Professionals - Silicon Beach Innovators (Venice Beach / Santa Monica)",
         "laptop",
         "excited",
         "2024-01-23 19:04:18"
        ],
        [
         "29",
         "fe4e65fd-d205-49f5-85e4-eb1d71d33b21",
         "Eco-Conscious Millennials - Sustainable Lifestyle (Culver City / Echo Park)",
         "organic skincare",
         "content",
         "2023-12-31 13:39:28"
        ],
        [
         "30",
         "7207993d-bf38-4445-8342-6fbde4d89357",
         "College Students - Campus Life (UCLA / USC)",
         "laptop",
         "excited",
         "2024-08-08 07:55:49"
        ],
        [
         "31",
         "0fb28084-7bff-49c8-b285-2a2309f981d6",
         "Creative Entrepreneurs - Hollywood Creatives (West Hollywood / Beverly Hills)",
         "creative tools",
         "content",
         "2024-07-02 14:40:09"
        ],
        [
         "32",
         "5d180ffc-3004-426f-8428-2e83f275b368",
         "Tech-Savvy Professionals - Silicon Beach Innovators (Venice Beach / Santa Monica)",
         "smartphone",
         "excited",
         "2024-11-04 05:56:26"
        ],
        [
         "33",
         "54938627-709b-4096-ae31-2a281aced443",
         "College Students - Campus Life (UCLA / USC)",
         "laptop",
         "curious",
         "2024-10-29 17:24:06"
        ],
        [
         "34",
         "062be31b-1c4d-4857-997a-c4cb96115db3",
         "Creative Entrepreneurs - Hollywood Creatives (West Hollywood / Beverly Hills)",
         "smartphone",
         "excited",
         "2024-08-01 00:22:07"
        ],
        [
         "35",
         "610321fc-3e81-4f85-a882-84cedeb1467d",
         "Luxury-Oriented Professionals - Upscale Lifestyles (Beverly Hills / Bel Air)",
         "high-end camera",
         "content",
         "2023-11-12 02:22:30"
        ],
        [
         "36",
         "33d52cc8-0d2e-4420-975c-40c48ca9793a",
         "College Students - Campus Life (UCLA / USC)",
         "textbooks",
         "curious",
         "2023-08-31 12:13:28"
        ],
        [
         "37",
         "447c97fa-dc7c-45c9-8b28-cb5164cbef37",
         "Eco-Conscious Millennials - Sustainable Lifestyle (Culver City / Echo Park)",
         "electric bike",
         "eco-friendly",
         "2024-08-12 13:44:40"
        ],
        [
         "38",
         "acece869-d14b-432b-a28d-3980c610349c",
         "Young Professional Women - Urban Explorers (Downtown LA / Arts District)",
         "fitness tracker",
         "relaxed",
         "2023-02-05 15:28:49"
        ],
        [
         "39",
         "872c62de-d60b-49e3-9b9f-38dc854e2183",
         "Tech-Savvy Professionals - Silicon Beach Innovators (Venice Beach / Santa Monica)",
         "laptop",
         "innovative",
         "2024-03-11 16:47:17"
        ],
        [
         "40",
         "56953b4e-ea40-4fc1-b4a2-132c1ba586b9",
         "Young Professional Women - Urban Explorers (Downtown LA / Arts District)",
         "smartphone",
         "adventurous",
         "2024-02-10 16:34:28"
        ],
        [
         "41",
         "baa9c65f-a16c-4a0c-afdc-0f18b848fb5c",
         "Tech-Savvy Professionals - Silicon Beach Innovators (Venice Beach / Santa Monica)",
         "tablet",
         "satisfied",
         "2023-11-11 07:23:03"
        ],
        [
         "42",
         "aaee5e52-8feb-42db-b9e2-6e602f75690c",
         "College Students - Campus Life (UCLA / USC)",
         "backpack",
         "excited",
         "2024-09-17 04:18:26"
        ],
        [
         "43",
         "97a55503-5fb5-43f2-a4c2-eecbf9f65fdd",
         "Creative Entrepreneurs - Hollywood Creatives (West Hollywood / Beverly Hills)",
         "designer laptop",
         "inspired",
         "2024-07-04 15:02:23"
        ],
        [
         "44",
         "447c97fa-dc7c-45c9-8b28-cb5164cbef37",
         "Eco-Conscious Millennials - Sustainable Lifestyle (Culver City / Echo Park)",
         "organic skincare",
         "relaxed",
         "2024-03-14 01:39:36"
        ],
        [
         "45",
         "7a9979d6-5e6e-4e66-bded-18c40ef495ec",
         "College Students - Campus Life (UCLA / USC)",
         "headphones",
         "motivated",
         "2024-11-06 05:38:19"
        ],
        [
         "46",
         "8165f65a-1aaa-473a-bf13-8493c1823fcb",
         "Eco-Conscious Millennials - Sustainable Lifestyle (Culver City / Echo Park)",
         "solar-powered charger",
         "satisfied",
         "2024-09-15 23:06:02"
        ],
        [
         "47",
         "d3b7a905-1303-4270-add1-5d616a83daaf",
         "Young Professional Women - Urban Explorers (Downtown LA / Arts District)",
         "stylish sunglasses",
         "curious",
         "2024-08-27 13:52:07"
        ],
        [
         "48",
         "ed9d87a0-d5e8-488c-9129-4aee8a73b2e9",
         "Tech-Savvy Professionals - Silicon Beach Innovators (Venice Beach / Santa Monica)",
         "laptop",
         "curious",
         "2024-06-23 14:45:26"
        ],
        [
         "49",
         "c11daa50-3a56-42c5-9c6e-fbb9a8ae9912",
         "College Students - Campus Life (UCLA / USC)",
         "textbooks",
         "excited",
         "2024-08-03 17:06:04"
        ]
       ],
       "shape": {
        "columns": 5,
        "rows": 100
       }
      },
      "text/html": [
       "<div>\n",
       "<style scoped>\n",
       "    .dataframe tbody tr th:only-of-type {\n",
       "        vertical-align: middle;\n",
       "    }\n",
       "\n",
       "    .dataframe tbody tr th {\n",
       "        vertical-align: top;\n",
       "    }\n",
       "\n",
       "    .dataframe thead th {\n",
       "        text-align: right;\n",
       "    }\n",
       "</style>\n",
       "<table border=\"1\" class=\"dataframe\">\n",
       "  <thead>\n",
       "    <tr style=\"text-align: right;\">\n",
       "      <th></th>\n",
       "      <th>author_id</th>\n",
       "      <th>tribe</th>\n",
       "      <th>product</th>\n",
       "      <th>emotion</th>\n",
       "      <th>created_at</th>\n",
       "    </tr>\n",
       "  </thead>\n",
       "  <tbody>\n",
       "    <tr>\n",
       "      <th>0</th>\n",
       "      <td>80db4db2-d9a3-4b7e-892d-c5dd0277e172</td>\n",
       "      <td>Eco-Conscious Millennials - Sustainable Lifest...</td>\n",
       "      <td>bamboo toothbrush</td>\n",
       "      <td>eco-friendly</td>\n",
       "      <td>2023-07-04 08:19:19</td>\n",
       "    </tr>\n",
       "    <tr>\n",
       "      <th>1</th>\n",
       "      <td>b8f84fba-26b7-4dcd-8e7c-a321e09370e0</td>\n",
       "      <td>Luxury-Oriented Professionals - Upscale Lifest...</td>\n",
       "      <td>premium wine</td>\n",
       "      <td>relaxed</td>\n",
       "      <td>2024-11-27 19:22:05</td>\n",
       "    </tr>\n",
       "    <tr>\n",
       "      <th>2</th>\n",
       "      <td>cb1624b8-89f6-4988-a435-cfd40e6384bc</td>\n",
       "      <td>Creative Entrepreneurs - Hollywood Creatives (...</td>\n",
       "      <td>high-end camera</td>\n",
       "      <td>content</td>\n",
       "      <td>2024-03-23 12:26:53</td>\n",
       "    </tr>\n",
       "    <tr>\n",
       "      <th>3</th>\n",
       "      <td>c1214686-4bd6-4b48-a956-55518d7c9e19</td>\n",
       "      <td>Creative Entrepreneurs - Hollywood Creatives (...</td>\n",
       "      <td>high-end camera</td>\n",
       "      <td>excited</td>\n",
       "      <td>2024-08-04 15:23:46</td>\n",
       "    </tr>\n",
       "    <tr>\n",
       "      <th>4</th>\n",
       "      <td>e601e234-05a0-4fc5-8d60-08bbce316be5</td>\n",
       "      <td>Eco-Conscious Millennials - Sustainable Lifest...</td>\n",
       "      <td>organic skincare</td>\n",
       "      <td>eco-friendly</td>\n",
       "      <td>2024-09-18 11:15:29</td>\n",
       "    </tr>\n",
       "    <tr>\n",
       "      <th>...</th>\n",
       "      <td>...</td>\n",
       "      <td>...</td>\n",
       "      <td>...</td>\n",
       "      <td>...</td>\n",
       "      <td>...</td>\n",
       "    </tr>\n",
       "    <tr>\n",
       "      <th>95</th>\n",
       "      <td>fe592152-d9fd-40e3-9388-d5bc47ab357f</td>\n",
       "      <td>Luxury-Oriented Professionals - Upscale Lifest...</td>\n",
       "      <td>premium wine</td>\n",
       "      <td>luxurious</td>\n",
       "      <td>2023-08-17 23:42:28</td>\n",
       "    </tr>\n",
       "    <tr>\n",
       "      <th>96</th>\n",
       "      <td>4df88077-49df-482b-bdab-22318763d3fa</td>\n",
       "      <td>Tech-Savvy Professionals - Silicon Beach Innov...</td>\n",
       "      <td>wireless earbuds</td>\n",
       "      <td>curious</td>\n",
       "      <td>2024-04-28 20:57:36</td>\n",
       "    </tr>\n",
       "    <tr>\n",
       "      <th>97</th>\n",
       "      <td>73f9c0f3-8a93-4630-b6c9-9b861aff9586</td>\n",
       "      <td>Young Professional Women - Urban Explorers (Do...</td>\n",
       "      <td>compact camera</td>\n",
       "      <td>curious</td>\n",
       "      <td>2023-07-05 18:17:35</td>\n",
       "    </tr>\n",
       "    <tr>\n",
       "      <th>98</th>\n",
       "      <td>3c92fd43-bc03-4b6c-9242-716ab6df4a0b</td>\n",
       "      <td>Eco-Conscious Millennials - Sustainable Lifest...</td>\n",
       "      <td>electric bike</td>\n",
       "      <td>satisfied</td>\n",
       "      <td>2023-04-29 20:27:33</td>\n",
       "    </tr>\n",
       "    <tr>\n",
       "      <th>99</th>\n",
       "      <td>823bdea9-f88d-4d36-ace4-01c180439f14</td>\n",
       "      <td>Luxury-Oriented Professionals - Upscale Lifest...</td>\n",
       "      <td>luxury watch</td>\n",
       "      <td>satisfied</td>\n",
       "      <td>2023-07-26 13:13:13</td>\n",
       "    </tr>\n",
       "  </tbody>\n",
       "</table>\n",
       "<p>100 rows × 5 columns</p>\n",
       "</div>"
      ],
      "text/plain": [
       "                               author_id  \\\n",
       "0   80db4db2-d9a3-4b7e-892d-c5dd0277e172   \n",
       "1   b8f84fba-26b7-4dcd-8e7c-a321e09370e0   \n",
       "2   cb1624b8-89f6-4988-a435-cfd40e6384bc   \n",
       "3   c1214686-4bd6-4b48-a956-55518d7c9e19   \n",
       "4   e601e234-05a0-4fc5-8d60-08bbce316be5   \n",
       "..                                   ...   \n",
       "95  fe592152-d9fd-40e3-9388-d5bc47ab357f   \n",
       "96  4df88077-49df-482b-bdab-22318763d3fa   \n",
       "97  73f9c0f3-8a93-4630-b6c9-9b861aff9586   \n",
       "98  3c92fd43-bc03-4b6c-9242-716ab6df4a0b   \n",
       "99  823bdea9-f88d-4d36-ace4-01c180439f14   \n",
       "\n",
       "                                                tribe            product  \\\n",
       "0   Eco-Conscious Millennials - Sustainable Lifest...  bamboo toothbrush   \n",
       "1   Luxury-Oriented Professionals - Upscale Lifest...       premium wine   \n",
       "2   Creative Entrepreneurs - Hollywood Creatives (...    high-end camera   \n",
       "3   Creative Entrepreneurs - Hollywood Creatives (...    high-end camera   \n",
       "4   Eco-Conscious Millennials - Sustainable Lifest...   organic skincare   \n",
       "..                                                ...                ...   \n",
       "95  Luxury-Oriented Professionals - Upscale Lifest...       premium wine   \n",
       "96  Tech-Savvy Professionals - Silicon Beach Innov...   wireless earbuds   \n",
       "97  Young Professional Women - Urban Explorers (Do...     compact camera   \n",
       "98  Eco-Conscious Millennials - Sustainable Lifest...      electric bike   \n",
       "99  Luxury-Oriented Professionals - Upscale Lifest...       luxury watch   \n",
       "\n",
       "         emotion           created_at  \n",
       "0   eco-friendly  2023-07-04 08:19:19  \n",
       "1        relaxed  2024-11-27 19:22:05  \n",
       "2        content  2024-03-23 12:26:53  \n",
       "3        excited  2024-08-04 15:23:46  \n",
       "4   eco-friendly  2024-09-18 11:15:29  \n",
       "..           ...                  ...  \n",
       "95     luxurious  2023-08-17 23:42:28  \n",
       "96       curious  2024-04-28 20:57:36  \n",
       "97       curious  2023-07-05 18:17:35  \n",
       "98     satisfied  2023-04-29 20:27:33  \n",
       "99     satisfied  2023-07-26 13:13:13  \n",
       "\n",
       "[100 rows x 5 columns]"
      ]
     },
     "metadata": {},
     "output_type": "display_data"
    },
    {
     "name": "stdout",
     "output_type": "stream",
     "text": [
      "\n",
      "AI-Optimized Campaign Performance:\n"
     ]
    },
    {
     "data": {
      "application/vnd.microsoft.datawrangler.viewer.v0+json": {
       "columns": [
        {
         "name": "index",
         "rawType": "int64",
         "type": "integer"
        },
        {
         "name": "campaign_id",
         "rawType": "object",
         "type": "string"
        },
        {
         "name": "segment",
         "rawType": "object",
         "type": "string"
        },
        {
         "name": "optimized_ad_copy",
         "rawType": "object",
         "type": "string"
        },
        {
         "name": "impressions",
         "rawType": "int64",
         "type": "integer"
        },
        {
         "name": "ctr",
         "rawType": "float64",
         "type": "float"
        },
        {
         "name": "estimated_clicks",
         "rawType": "int64",
         "type": "integer"
        }
       ],
       "conversionMethod": "pd.DataFrame",
       "ref": "b9f8ad88-a253-4e20-8902-223bc653be2a",
       "rows": [
        [
         "0",
         "AD-1278",
         "Young Professional Women - Urban Explorers (Downtown LA / Arts District)",
         "\"Explore the city in style! 💃 Durable, lightweight travel bag for urban adventures. Shop now\"",
         "130989",
         "0.81",
         "1061"
        ],
        [
         "1",
         "AD-9023",
         "Young Professional Women - Urban Explorers (Downtown LA / Arts District)",
         "\"Explore the city in style 🕶️! Our sunglasses offer UV protection, polarized lenses, and sleek designs. Perfect for downtown adventures. Get yours\"",
         "456835",
         "2.22",
         "10141"
        ],
        [
         "2",
         "AD-1928",
         "Young Professional Women - Urban Explorers (Downtown LA / Arts District)",
         "\"Capture city vibes with our compact camera! 📸 Lightweight, 4K video & Wi-Fi connectivity. Perfect for urban adventures! Get yours\"",
         "338971",
         "2.74",
         "9287"
        ],
        [
         "3",
         "AD-4147",
         "Young Professional Women - Urban Explorers (Downtown LA / Arts District)",
         "\"Explore the city with ease 🗺️. Our smartphone's long battery life and sleek camera keep up with your downtown adventures. Discover\"",
         "256674",
         "1.37",
         "3516"
        ],
        [
         "4",
         "AD-1704",
         "Young Professional Women - Urban Explorers (Downtown LA / Arts District)",
         "\"Track your downtown adventures 🏙️ and crush your fitness goals with our stylish tracker. Discover\"",
         "352175",
         "2.66",
         "9367"
        ],
        [
         "5",
         "AD-8158",
         "Tech-Savvy Professionals - Silicon Beach Innovators (Venice Beach / Santa Monica)",
         "\"Upgrade your mobile game 📈 with our latest smartphone! Faster, smarter, and sleeker. Shop now\"",
         "189330",
         "0.7",
         "1325"
        ],
        [
         "6",
         "AD-1416",
         "Tech-Savvy Professionals - Silicon Beach Innovators (Venice Beach / Santa Monica)",
         "\"Upgrade your workflow with our ultra-fast laptop 🚀! Perfect for innovators like you in Silicon Beach, stay productive and inspired on-the-go. Learn more\"",
         "436097",
         "2.68",
         "11687"
        ],
        [
         "7",
         "AD-4578",
         "Tech-Savvy Professionals - Silicon Beach Innovators (Venice Beach / Santa Monica)",
         "\"Upgrade your hustle with our smartwatch 🕒️! Track fitness, receive notifications, and control music. Discover\"",
         "136413",
         "2.47",
         "3369"
        ],
        [
         "8",
         "AD-7041",
         "Tech-Savvy Professionals - Silicon Beach Innovators (Venice Beach / Santa Monica)",
         "\"Upgrade your workflow 🚀 with our cutting-edge tablet, designed for innovators like you. Discover\"",
         "150448",
         "4.35",
         "6544"
        ],
        [
         "9",
         "AD-2033",
         "Tech-Savvy Professionals - Silicon Beach Innovators (Venice Beach / Santa Monica)",
         "\"Upgrade your workflow with our wireless earbuds 🎧. Seamless connectivity, crystal-clear sound, and all-day battery life. Learn more\"",
         "406666",
         "4.68",
         "19031"
        ],
        [
         "10",
         "AD-9590",
         "Creative Entrepreneurs - Hollywood Creatives (West Hollywood / Beverly Hills)",
         "\"Unleash your creativity! 💻 Powerful laptop for Hollywood's top creatives. Edit, design, and stream with ease. Discover\"",
         "458016",
         "4.98",
         "22809"
        ],
        [
         "11",
         "AD-4229",
         "Creative Entrepreneurs - Hollywood Creatives (West Hollywood / Beverly Hills)",
         "\"Elevate your creative vision! 📸 Capture stunning footage with our high-end camera. Shop now!\"",
         "304918",
         "3.26",
         "9940"
        ],
        [
         "12",
         "AD-8480",
         "Creative Entrepreneurs - Hollywood Creatives (West Hollywood / Beverly Hills)",
         "\"Unlock your creative flow 🌟 with our smartphone, designed to spark inspiration and bring your vision to life. Discover\"",
         "386156",
         "2.56",
         "9885"
        ],
        [
         "13",
         "AD-3000",
         "Creative Entrepreneurs - Hollywood Creatives (West Hollywood / Beverly Hills)",
         "\"Unleash your creativity 🎨! Get pro-grade tools to bring your vision to life. Shop now\"",
         "219433",
         "0.76",
         "1667"
        ],
        [
         "14",
         "AD-5521",
         "Creative Entrepreneurs - Hollywood Creatives (West Hollywood / Beverly Hills)",
         "\"Elevate your creative vision with our luxury timepieces 🕰️. Precision, style, and sophistication for the innovators of Hollywood. Shop now\"",
         "199924",
         "4.83",
         "9656"
        ],
        [
         "15",
         "AD-7346",
         "Eco-Conscious Millennials - Sustainable Lifestyle (Culver City / Echo Park)",
         "\"Stay hydrated, reduce waste 🌎. Our reusable water bottles are BPA-free, durable, and perfect for your eco-friendly lifestyle. Discover\"",
         "328840",
         "2.8",
         "9207"
        ],
        [
         "16",
         "AD-1614",
         "Eco-Conscious Millennials - Sustainable Lifestyle (Culver City / Echo Park)",
         "\"Love your skin, love the earth 🌿! Our organic skincare is cruelty-free, vegan, and sustainable. Get yours!\"",
         "263548",
         "3.94",
         "10383"
        ],
        [
         "17",
         "AD-4481",
         "Eco-Conscious Millennials - Sustainable Lifestyle (Culver City / Echo Park)",
         "\"Switch to bamboo toothbrushes 🌿 and join the eco-revolution! Biodegradable, compostable, and gentle on gums. Get yours\"",
         "37947",
         "4.21",
         "1597"
        ],
        [
         "18",
         "AD-6958",
         "Eco-Conscious Millennials - Sustainable Lifestyle (Culver City / Echo Park)",
         "\"Go green in Culver City & Echo Park! 🌿 Our e-bikes are eco-friendly, affordable & fun. Discover\"",
         "332245",
         "2.87",
         "9535"
        ],
        [
         "19",
         "AD-2840",
         "Eco-Conscious Millennials - Sustainable Lifestyle (Culver City / Echo Park)",
         "\"Power up sustainably 🌞 with our solar charger! Reduce carbon footprint, charge on-the-go. Discover\"",
         "324639",
         "2.29",
         "7434"
        ],
        [
         "20",
         "AD-3318",
         "Luxury-Oriented Professionals - Upscale Lifestyles (Beverly Hills / Bel Air)",
         "\"Elevate your style with our luxury watches 🕰️. Precision, sophistication, and elegance for the discerning professional. Learn more\"",
         "438734",
         "2.7",
         "11845"
        ],
        [
         "21",
         "AD-9222",
         "Luxury-Oriented Professionals - Upscale Lifestyles (Beverly Hills / Bel Air)",
         "\"Elevate your art with our luxury camera 📸. Capture life's precious moments in stunning clarity. Discover\"",
         "274169",
         "4.6",
         "12611"
        ],
        [
         "22",
         "AD-2864",
         "Luxury-Oriented Professionals - Upscale Lifestyles (Beverly Hills / Bel Air)",
         "\"Arrive in style 🚗 with our luxury cars, tailored for Beverly Hills' elite. Experience unparalleled comfort and performance. Learn more\"",
         "253392",
         "3.12",
         "7905"
        ],
        [
         "23",
         "AD-2526",
         "Luxury-Oriented Professionals - Upscale Lifestyles (Beverly Hills / Bel Air)",
         "\"Indulge in luxury with our premium wine 🍷. Elevate your evenings in Beverly Hills with rich flavors and refined taste. Shop now\"",
         "199250",
         "1.32",
         "2630"
        ],
        [
         "24",
         "AD-9567",
         "Luxury-Oriented Professionals - Upscale Lifestyles (Beverly Hills / Bel Air)",
         "\"Elevate your evenings with gourmet delights 🍴. Savor artisanal cuisine, expertly curated for discerning tastes. Discover\"",
         "330783",
         "1.3",
         "4300"
        ],
        [
         "25",
         "AD-1571",
         "College Students - Campus Life (UCLA / USC)",
         "\"Get ready to crush campus life! 🎓 Our backpacks are comfy, stylish & tech-friendly. Learn more!\"",
         "167119",
         "0.87",
         "1453"
        ],
        [
         "26",
         "AD-2481",
         "College Students - Campus Life (UCLA / USC)",
         "\"Study in style at UCLA/USC! 📚💻 Our laptops keep up with your campus life - fast, portable, and long-lasting. Learn more\"",
         "450373",
         "3.99",
         "17969"
        ],
        [
         "27",
         "AD-5884",
         "College Students - Campus Life (UCLA / USC)",
         "\"Fuel your all-nighters! 🚀 Our coffee maker brews fast, rich coffee to power your studies. Discover\"",
         "449222",
         "1.99",
         "8939"
        ],
        [
         "28",
         "AD-1307",
         "College Students - Campus Life (UCLA / USC)",
         "\"Score great grades with our affordable textbooks! 📚 Save time, money, and stress. Learn more\"",
         "114085",
         "3.56",
         "4061"
        ],
        [
         "29",
         "AD-3094",
         "College Students - Campus Life (UCLA / USC)",
         "\"Upgrade your campus vibes with our epic headphones! 🎧 Immerse yourself in study sessions, jam out between classes, and chill with friends. Discover\"",
         "367374",
         "5.0",
         "18368"
        ]
       ],
       "shape": {
        "columns": 6,
        "rows": 30
       }
      },
      "text/html": [
       "<div>\n",
       "<style scoped>\n",
       "    .dataframe tbody tr th:only-of-type {\n",
       "        vertical-align: middle;\n",
       "    }\n",
       "\n",
       "    .dataframe tbody tr th {\n",
       "        vertical-align: top;\n",
       "    }\n",
       "\n",
       "    .dataframe thead th {\n",
       "        text-align: right;\n",
       "    }\n",
       "</style>\n",
       "<table border=\"1\" class=\"dataframe\">\n",
       "  <thead>\n",
       "    <tr style=\"text-align: right;\">\n",
       "      <th></th>\n",
       "      <th>campaign_id</th>\n",
       "      <th>segment</th>\n",
       "      <th>optimized_ad_copy</th>\n",
       "      <th>impressions</th>\n",
       "      <th>ctr</th>\n",
       "      <th>estimated_clicks</th>\n",
       "    </tr>\n",
       "  </thead>\n",
       "  <tbody>\n",
       "    <tr>\n",
       "      <th>0</th>\n",
       "      <td>AD-1278</td>\n",
       "      <td>Young Professional Women - Urban Explorers (Do...</td>\n",
       "      <td>\"Explore the city in style! 💃 Durable, lightwe...</td>\n",
       "      <td>130989</td>\n",
       "      <td>0.81</td>\n",
       "      <td>1061</td>\n",
       "    </tr>\n",
       "    <tr>\n",
       "      <th>1</th>\n",
       "      <td>AD-9023</td>\n",
       "      <td>Young Professional Women - Urban Explorers (Do...</td>\n",
       "      <td>\"Explore the city in style 🕶️! Our sunglasses ...</td>\n",
       "      <td>456835</td>\n",
       "      <td>2.22</td>\n",
       "      <td>10141</td>\n",
       "    </tr>\n",
       "    <tr>\n",
       "      <th>2</th>\n",
       "      <td>AD-1928</td>\n",
       "      <td>Young Professional Women - Urban Explorers (Do...</td>\n",
       "      <td>\"Capture city vibes with our compact camera! 📸...</td>\n",
       "      <td>338971</td>\n",
       "      <td>2.74</td>\n",
       "      <td>9287</td>\n",
       "    </tr>\n",
       "    <tr>\n",
       "      <th>3</th>\n",
       "      <td>AD-4147</td>\n",
       "      <td>Young Professional Women - Urban Explorers (Do...</td>\n",
       "      <td>\"Explore the city with ease 🗺️. Our smartphone...</td>\n",
       "      <td>256674</td>\n",
       "      <td>1.37</td>\n",
       "      <td>3516</td>\n",
       "    </tr>\n",
       "    <tr>\n",
       "      <th>4</th>\n",
       "      <td>AD-1704</td>\n",
       "      <td>Young Professional Women - Urban Explorers (Do...</td>\n",
       "      <td>\"Track your downtown adventures 🏙️ and crush y...</td>\n",
       "      <td>352175</td>\n",
       "      <td>2.66</td>\n",
       "      <td>9367</td>\n",
       "    </tr>\n",
       "    <tr>\n",
       "      <th>5</th>\n",
       "      <td>AD-8158</td>\n",
       "      <td>Tech-Savvy Professionals - Silicon Beach Innov...</td>\n",
       "      <td>\"Upgrade your mobile game 📈 with our latest sm...</td>\n",
       "      <td>189330</td>\n",
       "      <td>0.70</td>\n",
       "      <td>1325</td>\n",
       "    </tr>\n",
       "    <tr>\n",
       "      <th>6</th>\n",
       "      <td>AD-1416</td>\n",
       "      <td>Tech-Savvy Professionals - Silicon Beach Innov...</td>\n",
       "      <td>\"Upgrade your workflow with our ultra-fast lap...</td>\n",
       "      <td>436097</td>\n",
       "      <td>2.68</td>\n",
       "      <td>11687</td>\n",
       "    </tr>\n",
       "    <tr>\n",
       "      <th>7</th>\n",
       "      <td>AD-4578</td>\n",
       "      <td>Tech-Savvy Professionals - Silicon Beach Innov...</td>\n",
       "      <td>\"Upgrade your hustle with our smartwatch 🕒️! T...</td>\n",
       "      <td>136413</td>\n",
       "      <td>2.47</td>\n",
       "      <td>3369</td>\n",
       "    </tr>\n",
       "    <tr>\n",
       "      <th>8</th>\n",
       "      <td>AD-7041</td>\n",
       "      <td>Tech-Savvy Professionals - Silicon Beach Innov...</td>\n",
       "      <td>\"Upgrade your workflow 🚀 with our cutting-edge...</td>\n",
       "      <td>150448</td>\n",
       "      <td>4.35</td>\n",
       "      <td>6544</td>\n",
       "    </tr>\n",
       "    <tr>\n",
       "      <th>9</th>\n",
       "      <td>AD-2033</td>\n",
       "      <td>Tech-Savvy Professionals - Silicon Beach Innov...</td>\n",
       "      <td>\"Upgrade your workflow with our wireless earbu...</td>\n",
       "      <td>406666</td>\n",
       "      <td>4.68</td>\n",
       "      <td>19031</td>\n",
       "    </tr>\n",
       "    <tr>\n",
       "      <th>10</th>\n",
       "      <td>AD-9590</td>\n",
       "      <td>Creative Entrepreneurs - Hollywood Creatives (...</td>\n",
       "      <td>\"Unleash your creativity! 💻 Powerful laptop fo...</td>\n",
       "      <td>458016</td>\n",
       "      <td>4.98</td>\n",
       "      <td>22809</td>\n",
       "    </tr>\n",
       "    <tr>\n",
       "      <th>11</th>\n",
       "      <td>AD-4229</td>\n",
       "      <td>Creative Entrepreneurs - Hollywood Creatives (...</td>\n",
       "      <td>\"Elevate your creative vision! 📸 Capture stunn...</td>\n",
       "      <td>304918</td>\n",
       "      <td>3.26</td>\n",
       "      <td>9940</td>\n",
       "    </tr>\n",
       "    <tr>\n",
       "      <th>12</th>\n",
       "      <td>AD-8480</td>\n",
       "      <td>Creative Entrepreneurs - Hollywood Creatives (...</td>\n",
       "      <td>\"Unlock your creative flow 🌟 with our smartpho...</td>\n",
       "      <td>386156</td>\n",
       "      <td>2.56</td>\n",
       "      <td>9885</td>\n",
       "    </tr>\n",
       "    <tr>\n",
       "      <th>13</th>\n",
       "      <td>AD-3000</td>\n",
       "      <td>Creative Entrepreneurs - Hollywood Creatives (...</td>\n",
       "      <td>\"Unleash your creativity 🎨! Get pro-grade tool...</td>\n",
       "      <td>219433</td>\n",
       "      <td>0.76</td>\n",
       "      <td>1667</td>\n",
       "    </tr>\n",
       "    <tr>\n",
       "      <th>14</th>\n",
       "      <td>AD-5521</td>\n",
       "      <td>Creative Entrepreneurs - Hollywood Creatives (...</td>\n",
       "      <td>\"Elevate your creative vision with our luxury ...</td>\n",
       "      <td>199924</td>\n",
       "      <td>4.83</td>\n",
       "      <td>9656</td>\n",
       "    </tr>\n",
       "    <tr>\n",
       "      <th>15</th>\n",
       "      <td>AD-7346</td>\n",
       "      <td>Eco-Conscious Millennials - Sustainable Lifest...</td>\n",
       "      <td>\"Stay hydrated, reduce waste 🌎. Our reusable w...</td>\n",
       "      <td>328840</td>\n",
       "      <td>2.80</td>\n",
       "      <td>9207</td>\n",
       "    </tr>\n",
       "    <tr>\n",
       "      <th>16</th>\n",
       "      <td>AD-1614</td>\n",
       "      <td>Eco-Conscious Millennials - Sustainable Lifest...</td>\n",
       "      <td>\"Love your skin, love the earth 🌿! Our organic...</td>\n",
       "      <td>263548</td>\n",
       "      <td>3.94</td>\n",
       "      <td>10383</td>\n",
       "    </tr>\n",
       "    <tr>\n",
       "      <th>17</th>\n",
       "      <td>AD-4481</td>\n",
       "      <td>Eco-Conscious Millennials - Sustainable Lifest...</td>\n",
       "      <td>\"Switch to bamboo toothbrushes 🌿 and join the ...</td>\n",
       "      <td>37947</td>\n",
       "      <td>4.21</td>\n",
       "      <td>1597</td>\n",
       "    </tr>\n",
       "    <tr>\n",
       "      <th>18</th>\n",
       "      <td>AD-6958</td>\n",
       "      <td>Eco-Conscious Millennials - Sustainable Lifest...</td>\n",
       "      <td>\"Go green in Culver City &amp; Echo Park! 🌿 Our e-...</td>\n",
       "      <td>332245</td>\n",
       "      <td>2.87</td>\n",
       "      <td>9535</td>\n",
       "    </tr>\n",
       "    <tr>\n",
       "      <th>19</th>\n",
       "      <td>AD-2840</td>\n",
       "      <td>Eco-Conscious Millennials - Sustainable Lifest...</td>\n",
       "      <td>\"Power up sustainably 🌞 with our solar charger...</td>\n",
       "      <td>324639</td>\n",
       "      <td>2.29</td>\n",
       "      <td>7434</td>\n",
       "    </tr>\n",
       "    <tr>\n",
       "      <th>20</th>\n",
       "      <td>AD-3318</td>\n",
       "      <td>Luxury-Oriented Professionals - Upscale Lifest...</td>\n",
       "      <td>\"Elevate your style with our luxury watches 🕰️...</td>\n",
       "      <td>438734</td>\n",
       "      <td>2.70</td>\n",
       "      <td>11845</td>\n",
       "    </tr>\n",
       "    <tr>\n",
       "      <th>21</th>\n",
       "      <td>AD-9222</td>\n",
       "      <td>Luxury-Oriented Professionals - Upscale Lifest...</td>\n",
       "      <td>\"Elevate your art with our luxury camera 📸. Ca...</td>\n",
       "      <td>274169</td>\n",
       "      <td>4.60</td>\n",
       "      <td>12611</td>\n",
       "    </tr>\n",
       "    <tr>\n",
       "      <th>22</th>\n",
       "      <td>AD-2864</td>\n",
       "      <td>Luxury-Oriented Professionals - Upscale Lifest...</td>\n",
       "      <td>\"Arrive in style 🚗 with our luxury cars, tailo...</td>\n",
       "      <td>253392</td>\n",
       "      <td>3.12</td>\n",
       "      <td>7905</td>\n",
       "    </tr>\n",
       "    <tr>\n",
       "      <th>23</th>\n",
       "      <td>AD-2526</td>\n",
       "      <td>Luxury-Oriented Professionals - Upscale Lifest...</td>\n",
       "      <td>\"Indulge in luxury with our premium wine 🍷. El...</td>\n",
       "      <td>199250</td>\n",
       "      <td>1.32</td>\n",
       "      <td>2630</td>\n",
       "    </tr>\n",
       "    <tr>\n",
       "      <th>24</th>\n",
       "      <td>AD-9567</td>\n",
       "      <td>Luxury-Oriented Professionals - Upscale Lifest...</td>\n",
       "      <td>\"Elevate your evenings with gourmet delights 🍴...</td>\n",
       "      <td>330783</td>\n",
       "      <td>1.30</td>\n",
       "      <td>4300</td>\n",
       "    </tr>\n",
       "    <tr>\n",
       "      <th>25</th>\n",
       "      <td>AD-1571</td>\n",
       "      <td>College Students - Campus Life (UCLA / USC)</td>\n",
       "      <td>\"Get ready to crush campus life! 🎓 Our backpac...</td>\n",
       "      <td>167119</td>\n",
       "      <td>0.87</td>\n",
       "      <td>1453</td>\n",
       "    </tr>\n",
       "    <tr>\n",
       "      <th>26</th>\n",
       "      <td>AD-2481</td>\n",
       "      <td>College Students - Campus Life (UCLA / USC)</td>\n",
       "      <td>\"Study in style at UCLA/USC! 📚💻 Our laptops ke...</td>\n",
       "      <td>450373</td>\n",
       "      <td>3.99</td>\n",
       "      <td>17969</td>\n",
       "    </tr>\n",
       "    <tr>\n",
       "      <th>27</th>\n",
       "      <td>AD-5884</td>\n",
       "      <td>College Students - Campus Life (UCLA / USC)</td>\n",
       "      <td>\"Fuel your all-nighters! 🚀 Our coffee maker br...</td>\n",
       "      <td>449222</td>\n",
       "      <td>1.99</td>\n",
       "      <td>8939</td>\n",
       "    </tr>\n",
       "    <tr>\n",
       "      <th>28</th>\n",
       "      <td>AD-1307</td>\n",
       "      <td>College Students - Campus Life (UCLA / USC)</td>\n",
       "      <td>\"Score great grades with our affordable textbo...</td>\n",
       "      <td>114085</td>\n",
       "      <td>3.56</td>\n",
       "      <td>4061</td>\n",
       "    </tr>\n",
       "    <tr>\n",
       "      <th>29</th>\n",
       "      <td>AD-3094</td>\n",
       "      <td>College Students - Campus Life (UCLA / USC)</td>\n",
       "      <td>\"Upgrade your campus vibes with our epic headp...</td>\n",
       "      <td>367374</td>\n",
       "      <td>5.00</td>\n",
       "      <td>18368</td>\n",
       "    </tr>\n",
       "  </tbody>\n",
       "</table>\n",
       "</div>"
      ],
      "text/plain": [
       "   campaign_id                                            segment  \\\n",
       "0      AD-1278  Young Professional Women - Urban Explorers (Do...   \n",
       "1      AD-9023  Young Professional Women - Urban Explorers (Do...   \n",
       "2      AD-1928  Young Professional Women - Urban Explorers (Do...   \n",
       "3      AD-4147  Young Professional Women - Urban Explorers (Do...   \n",
       "4      AD-1704  Young Professional Women - Urban Explorers (Do...   \n",
       "5      AD-8158  Tech-Savvy Professionals - Silicon Beach Innov...   \n",
       "6      AD-1416  Tech-Savvy Professionals - Silicon Beach Innov...   \n",
       "7      AD-4578  Tech-Savvy Professionals - Silicon Beach Innov...   \n",
       "8      AD-7041  Tech-Savvy Professionals - Silicon Beach Innov...   \n",
       "9      AD-2033  Tech-Savvy Professionals - Silicon Beach Innov...   \n",
       "10     AD-9590  Creative Entrepreneurs - Hollywood Creatives (...   \n",
       "11     AD-4229  Creative Entrepreneurs - Hollywood Creatives (...   \n",
       "12     AD-8480  Creative Entrepreneurs - Hollywood Creatives (...   \n",
       "13     AD-3000  Creative Entrepreneurs - Hollywood Creatives (...   \n",
       "14     AD-5521  Creative Entrepreneurs - Hollywood Creatives (...   \n",
       "15     AD-7346  Eco-Conscious Millennials - Sustainable Lifest...   \n",
       "16     AD-1614  Eco-Conscious Millennials - Sustainable Lifest...   \n",
       "17     AD-4481  Eco-Conscious Millennials - Sustainable Lifest...   \n",
       "18     AD-6958  Eco-Conscious Millennials - Sustainable Lifest...   \n",
       "19     AD-2840  Eco-Conscious Millennials - Sustainable Lifest...   \n",
       "20     AD-3318  Luxury-Oriented Professionals - Upscale Lifest...   \n",
       "21     AD-9222  Luxury-Oriented Professionals - Upscale Lifest...   \n",
       "22     AD-2864  Luxury-Oriented Professionals - Upscale Lifest...   \n",
       "23     AD-2526  Luxury-Oriented Professionals - Upscale Lifest...   \n",
       "24     AD-9567  Luxury-Oriented Professionals - Upscale Lifest...   \n",
       "25     AD-1571        College Students - Campus Life (UCLA / USC)   \n",
       "26     AD-2481        College Students - Campus Life (UCLA / USC)   \n",
       "27     AD-5884        College Students - Campus Life (UCLA / USC)   \n",
       "28     AD-1307        College Students - Campus Life (UCLA / USC)   \n",
       "29     AD-3094        College Students - Campus Life (UCLA / USC)   \n",
       "\n",
       "                                    optimized_ad_copy  impressions   ctr  \\\n",
       "0   \"Explore the city in style! 💃 Durable, lightwe...       130989  0.81   \n",
       "1   \"Explore the city in style 🕶️! Our sunglasses ...       456835  2.22   \n",
       "2   \"Capture city vibes with our compact camera! 📸...       338971  2.74   \n",
       "3   \"Explore the city with ease 🗺️. Our smartphone...       256674  1.37   \n",
       "4   \"Track your downtown adventures 🏙️ and crush y...       352175  2.66   \n",
       "5   \"Upgrade your mobile game 📈 with our latest sm...       189330  0.70   \n",
       "6   \"Upgrade your workflow with our ultra-fast lap...       436097  2.68   \n",
       "7   \"Upgrade your hustle with our smartwatch 🕒️! T...       136413  2.47   \n",
       "8   \"Upgrade your workflow 🚀 with our cutting-edge...       150448  4.35   \n",
       "9   \"Upgrade your workflow with our wireless earbu...       406666  4.68   \n",
       "10  \"Unleash your creativity! 💻 Powerful laptop fo...       458016  4.98   \n",
       "11  \"Elevate your creative vision! 📸 Capture stunn...       304918  3.26   \n",
       "12  \"Unlock your creative flow 🌟 with our smartpho...       386156  2.56   \n",
       "13  \"Unleash your creativity 🎨! Get pro-grade tool...       219433  0.76   \n",
       "14  \"Elevate your creative vision with our luxury ...       199924  4.83   \n",
       "15  \"Stay hydrated, reduce waste 🌎. Our reusable w...       328840  2.80   \n",
       "16  \"Love your skin, love the earth 🌿! Our organic...       263548  3.94   \n",
       "17  \"Switch to bamboo toothbrushes 🌿 and join the ...        37947  4.21   \n",
       "18  \"Go green in Culver City & Echo Park! 🌿 Our e-...       332245  2.87   \n",
       "19  \"Power up sustainably 🌞 with our solar charger...       324639  2.29   \n",
       "20  \"Elevate your style with our luxury watches 🕰️...       438734  2.70   \n",
       "21  \"Elevate your art with our luxury camera 📸. Ca...       274169  4.60   \n",
       "22  \"Arrive in style 🚗 with our luxury cars, tailo...       253392  3.12   \n",
       "23  \"Indulge in luxury with our premium wine 🍷. El...       199250  1.32   \n",
       "24  \"Elevate your evenings with gourmet delights 🍴...       330783  1.30   \n",
       "25  \"Get ready to crush campus life! 🎓 Our backpac...       167119  0.87   \n",
       "26  \"Study in style at UCLA/USC! 📚💻 Our laptops ke...       450373  3.99   \n",
       "27  \"Fuel your all-nighters! 🚀 Our coffee maker br...       449222  1.99   \n",
       "28  \"Score great grades with our affordable textbo...       114085  3.56   \n",
       "29  \"Upgrade your campus vibes with our epic headp...       367374  5.00   \n",
       "\n",
       "    estimated_clicks  \n",
       "0               1061  \n",
       "1              10141  \n",
       "2               9287  \n",
       "3               3516  \n",
       "4               9367  \n",
       "5               1325  \n",
       "6              11687  \n",
       "7               3369  \n",
       "8               6544  \n",
       "9              19031  \n",
       "10             22809  \n",
       "11              9940  \n",
       "12              9885  \n",
       "13              1667  \n",
       "14              9656  \n",
       "15              9207  \n",
       "16             10383  \n",
       "17              1597  \n",
       "18              9535  \n",
       "19              7434  \n",
       "20             11845  \n",
       "21             12611  \n",
       "22              7905  \n",
       "23              2630  \n",
       "24              4300  \n",
       "25              1453  \n",
       "26             17969  \n",
       "27              8939  \n",
       "28              4061  \n",
       "29             18368  "
      ]
     },
     "metadata": {},
     "output_type": "display_data"
    },
    {
     "name": "stdout",
     "output_type": "stream",
     "text": [
      "Data saved to 'social_media_posts.json' and 'ai_optimized_campaigns.json'\n"
     ]
    }
   ],
   "source": [
    "# Generate Ad Campaigns\n",
    "campaigns = []\n",
    "for tribe, details in tribes.items():\n",
    "    for product in details[\"products\"]:\n",
    "        campaign = {\n",
    "            \"campaign_id\": f\"AD-{random.randint(1000,9999)}\",\n",
    "            \"segment\": tribe,\n",
    "            \"product\": product,\n",
    "            \"tone\": random.choice(details[\"emotions\"]),\n",
    "            \"cta\": random.choice([\"Shop now\", \"Learn more\", \"Get yours\", \"Discover\"]),\n",
    "            \"impressions\": random.randint(10000, 500000),\n",
    "            \"ctr\": round(random.uniform(0.5, 5.0), 2)\n",
    "        }\n",
    "        campaigns.append(campaign)\n",
    "\n",
    "campaigns_df = pd.DataFrame(campaigns)\n",
    "\n",
    "# Add campaign dates\n",
    "campaigns_df['start_date'] = [fake.date_between(datetime(2023,1,1), datetime(2024,1,1)) for _ in range(len(campaigns_df))]\n",
    "campaigns_df['end_date'] = [fake.date_between(datetime(2024,1,1), datetime(2024,12,31)) for _ in range(len(campaigns_df))]\n",
    "\n",
    "# Create Spark DataFrame for campaigns\n",
    "campaigns_sdf = spark.createDataFrame(campaigns_df)\n",
    "campaigns_sdf.createOrReplaceTempView(\"campaigns\")\n",
    "\n",
    "# Generate AI-optimized ad copies\n",
    "performance_query = \"\"\"\n",
    "CREATE OR REPLACE TEMP VIEW campaigns_performance AS\n",
    "SELECT\n",
    "    campaign_id,\n",
    "    segment,\n",
    "    product,\n",
    "    AI_QUERY(\n",
    "        \"databricks-meta-llama-3-3-70b-instruct\", \n",
    "        CONCAT(\n",
    "            'Create a digital ad for ', product, \n",
    "            ' targeting ', segment, \n",
    "            ' with ', tone, ' tone. Include: ',\n",
    "            '- Key product benefits\\n',\n",
    "            '- Lifestyle connection\\n',\n",
    "            '- Emoji if appropriate\\n',\n",
    "            '- CTA: ', cta, '\\n',\n",
    "            '- Max 200 characters\\n',\n",
    "            '- No hashtags\\n',\n",
    "            '- Natural conversational style'\n",
    "        )\n",
    "    ) AS optimized_ad_copy,\n",
    "    impressions,\n",
    "    ctr\n",
    "FROM campaigns\n",
    "\"\"\"\n",
    "\n",
    "spark.sql(performance_query)\n",
    "campaigns_performance_df = spark.sql(\"SELECT * FROM campaigns_performance\").toPandas()\n",
    "\n",
    "# Add performance metrics\n",
    "campaigns_performance_df['estimated_clicks'] = (campaigns_performance_df['impressions'] * \n",
    "                                               campaigns_performance_df['ctr']/100).astype(int)\n",
    "\n",
    "# Display results\n",
    "print(\"Generated Social Media Posts:\")\n",
    "display(posts_df)\n",
    "\n",
    "print(\"\\nAI-Optimized Campaign Performance:\")\n",
    "display(campaigns_performance_df[['campaign_id', 'segment', 'optimized_ad_copy', \n",
    "                                'impressions', 'ctr', 'estimated_clicks']])\n",
    "\n",
    "# Save to JSON\n",
    "posts_df.to_json('social_media_posts.json', orient='records', indent=2)\n",
    "campaigns_performance_df.to_json('ai_optimized_campaigns.json', orient='records', indent=2)\n",
    "\n",
    "print(\"Data saved to 'social_media_posts.json' and 'ai_optimized_campaigns.json'\")"
   ]
  },
  {
   "cell_type": "markdown",
   "metadata": {
    "application/vnd.databricks.v1+cell": {
     "cellMetadata": {},
     "inputWidgets": {},
     "nuid": "d92251d9-1990-4d6c-9036-86d81538d227",
     "showTitle": false,
     "tableResultSettingsMap": {},
     "title": ""
    }
   },
   "source": [
    "### Write social media posts to volume JSON and save demographic + campaign tables"
   ]
  }
 ],
 "metadata": {
  "application/vnd.databricks.v1+notebook": {
   "computePreferences": null,
   "dashboards": [],
   "environmentMetadata": {
    "base_environment": "",
    "environment_version": "2"
   },
   "language": "python",
   "notebookMetadata": {
    "mostRecentlyExecutedCommandWithImplicitDF": {
     "commandId": 3987948637745141,
     "dataframes": [
      "_sqldf"
     ]
    },
    "pythonIndentUnit": 2
   },
   "notebookName": "01_data_generation",
   "widgets": {}
  },
  "kernelspec": {
   "display_name": ".venv",
   "language": "python",
   "name": "python3"
  },
  "language_info": {
   "codemirror_mode": {
    "name": "ipython",
    "version": 3
   },
   "file_extension": ".py",
   "mimetype": "text/x-python",
   "name": "python",
   "nbconvert_exporter": "python",
   "pygments_lexer": "ipython3",
   "version": "3.10.15"
  }
 },
 "nbformat": 4,
 "nbformat_minor": 0
}
