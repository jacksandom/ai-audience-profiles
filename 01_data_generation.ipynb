{
 "cells": [
  {
   "cell_type": "markdown",
   "metadata": {
    "application/vnd.databricks.v1+cell": {
     "cellMetadata": {},
     "inputWidgets": {},
     "nuid": "1c5550f5-f066-400d-8fa2-d448b99c5026",
     "showTitle": false,
     "tableResultSettingsMap": {},
     "title": ""
    }
   },
   "source": [
    "# Data Generation"
   ]
  },
  {
   "cell_type": "code",
   "execution_count": 1,
   "metadata": {
    "application/vnd.databricks.v1+cell": {
     "cellMetadata": {
      "byteLimit": 2048000,
      "rowLimit": 10000
     },
     "inputWidgets": {},
     "nuid": "544a9f79-a8b2-4c79-b347-2bc4fbc91a87",
     "showTitle": false,
     "tableResultSettingsMap": {},
     "title": ""
    }
   },
   "outputs": [
    {
     "name": "stdout",
     "output_type": "stream",
     "text": [
      "Requirement already satisfied: faker==36.1.1 in ./.venv/lib/python3.10/site-packages (36.1.1)\n",
      "Requirement already satisfied: tzdata in ./.venv/lib/python3.10/site-packages (from faker==36.1.1) (2025.2)\n",
      "Note: you may need to restart the kernel to use updated packages.\n"
     ]
    }
   ],
   "source": [
    "%pip install faker==\"36.1.1\"\n",
    "dbutils.library.restartPython()"
   ]
  },
  {
   "cell_type": "code",
   "execution_count": 2,
   "metadata": {
    "application/vnd.databricks.v1+cell": {
     "cellMetadata": {
      "byteLimit": 2048000,
      "rowLimit": 10000
     },
     "inputWidgets": {},
     "nuid": "14ebf725-0d6e-408c-8d83-edb0821ba9e3",
     "showTitle": false,
     "tableResultSettingsMap": {},
     "title": ""
    }
   },
   "outputs": [],
   "source": [
    "import pandas as pd\n",
    "import pyspark.sql.functions as F\n",
    "import numpy as np\n",
    "import random\n",
    "import uuid\n",
    "\n",
    "from datetime import datetime\n",
    "from faker import Faker\n",
    "from pyspark.sql.types import StringType\n",
    "\n",
    "import numpy as np\n",
    "import pandas as pd\n",
    "import uuid\n",
    "import random\n",
    "from faker import Faker\n",
    "from datetime import datetime\n",
    "from pyspark.sql import SparkSession\n"
   ]
  },
  {
   "cell_type": "code",
   "execution_count": null,
   "metadata": {},
   "outputs": [],
   "source": [
    "%run ./_resources/00_setup"
   ]
  },
  {
   "cell_type": "markdown",
   "metadata": {
    "application/vnd.databricks.v1+cell": {
     "cellMetadata": {},
     "inputWidgets": {},
     "nuid": "35a6a737-cbc0-4b1e-95e6-0cf32d19d74e",
     "showTitle": false,
     "tableResultSettingsMap": {},
     "title": ""
    }
   },
   "source": [
    "## Step 1: Generate structured data for clustering"
   ]
  },
  {
   "cell_type": "markdown",
   "metadata": {},
   "source": [
    "## Introduction to Demographic Clustering\n",
    "Demographic clustering involves categorizing individuals based on characteristics like age, income, and education level. This process helps in understanding and targeting specific groups more effectively.\n",
    "\n",
    "## Defining Clusters\n",
    "We define several demographic clusters based on their characteristics:\n",
    "\n",
    "- **Young Urban Professional**\n",
    "- **Suburban Family-Oriented**\n",
    "- **Retired Rural Dweller**\n",
    "- **College Student**\n",
    "- **High-Income Empty Nester**\n",
    "\n",
    "## LA Tribes\n",
    "Additionally, we focus on specific tribes in Los Angeles:\n",
    "\n",
    "- **Young Professional Women - Urban Explorers**\n",
    "- **Tech-Savvy Professionals - Silicon Beach Innovators**\n",
    "- **Creative Entrepreneurs - Hollywood Creatives**\n",
    "- **Eco-Conscious Millennials - Sustainable Lifestyle**\n",
    "- **Luxury-Oriented Professionals - Upscale Lifestyles**\n",
    "- **College Students - Campus Life**\n",
    "\n",
    "## Code Implementation\n",
    "\n",
    "Below is the Python code to generate these demographic clusters and tribes:\n",
    "\n"
   ]
  },
  {
   "cell_type": "code",
   "execution_count": 3,
   "metadata": {
    "application/vnd.databricks.v1+cell": {
     "cellMetadata": {
      "byteLimit": 2048000,
      "rowLimit": 10000
     },
     "inputWidgets": {},
     "nuid": "41e7d271-1442-4836-8b99-5f478c593440",
     "showTitle": false,
     "tableResultSettingsMap": {},
     "title": ""
    }
   },
   "outputs": [],
   "source": [
    "# Set seed\n",
    "np.random.seed(42)"
   ]
  },
  {
   "cell_type": "markdown",
   "metadata": {},
   "source": [
    "We need to use conditional probabilities in our data gen code in order to \"force\" the clusters for later."
   ]
  },
  {
   "cell_type": "code",
   "execution_count": 4,
   "metadata": {},
   "outputs": [],
   "source": [
    "# Initialize Faker for generating fake dates\n",
    "fake = Faker()\n",
    "\n",
    "# Define the tribe sizes and their descriptions\n",
    "tribe_sizes = {\n",
    "    \"Young Professional Women - Urban Explorers\": 250,\n",
    "    \"Tech-Savvy Professionals - Silicon Beach Innovators\": 200,\n",
    "    \"Creative Entrepreneurs - Hollywood Creatives\": 150,\n",
    "    \"Eco-Conscious Millennials - Sustainable Lifestyle\": 180,\n",
    "    \"Luxury-Oriented Professionals - Upscale Lifestyles\": 200,\n",
    "    \"College Students - Campus Life (UCLA / USC)\": 300,\n",
    "}\n",
    "\n",
    "# Define the tribe sizes and their descriptions\n",
    "tribe_sizes_location = {\n",
    "    \"Young Professional Women - Urban Explorers (Downtown LA / Arts District)\": 250,\n",
    "    \"Tech-Savvy Professionals - Silicon Beach Innovators (Venice Beach / Santa Monica)\": 200,\n",
    "    \"Creative Entrepreneurs - Hollywood Creatives (West Hollywood / Beverly Hills)\": 150,\n",
    "    \"Eco-Conscious Millennials - Sustainable Lifestyle (Culver City / Echo Park)\": 180,\n",
    "    \"Luxury-Oriented Professionals - Upscale Lifestyles (Beverly Hills / Bel Air)\": 200,\n",
    "    \"College Students - Campus Life (UCLA / USC)\": 300,\n",
    "}\n",
    "# Function to generate data for LA-based tribes\n",
    "def generate_la_tribe_data(tribe_name, size):\n",
    "    if \"Urban Explorers\" in tribe_name:\n",
    "        locations = random.choices([\"Downtown LA\", \"Arts District\", \"Silver Lake\", \"Echo Park\"], k=size)\n",
    "        incomes = np.random.normal(45000, 12000, size).clip(30000, 80000)\n",
    "        occupations = random.choices([\"Freelancer\", \"Graphic Designer\", \"Social Media Influencer\"], k=size)\n",
    "        ages = np.random.randint(25, 35, size)\n",
    "        education_levels = np.random.choice([\"Bachelor's\", \"Post Graduate\"], size, p=[0.7, 0.3])\n",
    "        relationship_statuses = random.choices([\"Single\", \"Cohabiting\"], k=size)\n",
    "        number_dependants = [0] * size\n",
    "        short_description = \"Downtown LA professionals\"\n",
    "\n",
    "    elif \"Silicon Beach Innovators\" in tribe_name:\n",
    "        locations = random.choices([\"Venice Beach\", \"Santa Monica\", \"Playa Vista\"], k=size)\n",
    "        incomes = np.random.normal(100000, 25000, size).clip(70000, 200000)\n",
    "        occupations = random.choices([\"Software Engineer\", \"Product Manager\", \"UX/UI Designer\"], k=size)\n",
    "        ages = np.random.randint(25, 40, size)\n",
    "        education_levels = np.random.choice([\"Bachelor's\", \"Post Graduate\"], size, p=[0.8, 0.2])\n",
    "        relationship_statuses = random.choices([\"Single\", \"Cohabiting\"], k=size)\n",
    "        number_dependants = [0] * size\n",
    "        short_description = \"Venice Beach tech industry leaders\"\n",
    "\n",
    "    elif \"Hollywood Creatives\" in tribe_name:\n",
    "        locations = random.choices([\"West Hollywood\", \"Beverly Hills\", \"Sunset Strip\"], k=size)\n",
    "        incomes = np.random.normal(120000, 30000, size).clip(80000, 250000)\n",
    "        occupations = random.choices([\"Filmmaker\", \"Designer\", \"Fashion Entrepreneur\"], k=size)\n",
    "        ages = np.random.randint(25, 45, size)\n",
    "        education_levels = np.random.choice([\"Bachelor's\", \"Post Graduate\"], size, p=[0.6, 0.4])\n",
    "        relationship_statuses = random.choices([\"Single\", \"Cohabiting\"], k=size)\n",
    "        number_dependants = [0] * size\n",
    "        short_description = \"West Hollywood creatives\"\n",
    "\n",
    "    elif \"Sustainable Lifestyle\" in tribe_name:\n",
    "        locations = random.choices([\"Culver City\", \"Echo Park\", \"Silver Lake\"], k=size)\n",
    "        incomes = np.random.normal(55000, 15000, size).clip(40000, 100000)\n",
    "        occupations = random.choices([\"Sustainability Consultant\", \"Eco-Entrepreneur\", \"Health Coach\"], k=size)\n",
    "        ages = np.random.randint(25, 35, size)\n",
    "        education_levels = np.random.choice([\"Bachelor's\", \"Post Graduate\"], size, p=[0.7, 0.3])\n",
    "        relationship_statuses = random.choices([\"Single\", \"Cohabiting\"], k=size)\n",
    "        number_dependants = [0] * size\n",
    "        short_description = \"Culver City eco-advocates\"\n",
    "\n",
    "    elif \"Luxury-Oriented Professionals\" in tribe_name:\n",
    "        locations = random.choices([\"Beverly Hills\", \"Bel Air\", \"Westwood\"], k=size)\n",
    "        incomes = np.random.normal(200000, 50000, size).clip(150000, 300000)\n",
    "        occupations = random.choices([\"Real Estate Executive\", \"Investment Banker\", \"Entertainment Lawyer\"], k=size)\n",
    "        ages = np.random.randint(35, 55, size)\n",
    "        education_levels = np.random.choice([\"Bachelor's\", \"Post Graduate\"], size, p=[0.6, 0.4])\n",
    "        relationship_statuses = random.choices([\"Single\", \"Cohabiting\"], k=size)\n",
    "        number_dependants = [0] * size\n",
    "        short_description = \"Beverly Hills luxury professionals\"\n",
    "\n",
    "    elif \"College Students\" in tribe_name:\n",
    "        locations = random.choices([\"Westwood (UCLA)\", \"South LA (USC)\", \"Downtown LA\"], k=size)\n",
    "        incomes = np.random.normal(15000, 3000, size).clip(10000, 25000)\n",
    "        occupations = random.choices([\"Student\", \"Intern\", \"Part-time Worker\"], k=size)\n",
    "        ages = np.random.randint(18, 24, size)\n",
    "        education_levels = [\"Some College\"] * size\n",
    "        relationship_statuses = [\"Single\"] * size\n",
    "        number_dependants = [0] * size\n",
    "        short_description = \"UCLA/USC students\"\n",
    "\n",
    "    return pd.DataFrame({\n",
    "        \"age\": ages,\n",
    "        \"income\": incomes.round(-3),\n",
    "        \"location\": locations,\n",
    "        \"education\": education_levels,\n",
    "        \"relationship_status\": relationship_statuses,\n",
    "        \"number_dependants\": number_dependants,\n",
    "        \"occupation\": occupations,\n",
    "        \"tribe\": tribe_name,\n",
    "        \"short_description\": short_description\n",
    "    })\n",
    "\n",
    "# Generate data for all LA tribes\n",
    "tribe_dfs = [generate_la_tribe_data(tribe, size) for tribe, size in tribe_sizes.items()]\n",
    "demographic_df = pd.concat(tribe_dfs, ignore_index=True)\n",
    "\n",
    "# Shuffle the dataset\n",
    "demographic_df = demographic_df.sample(frac=1).reset_index(drop=True)\n",
    "\n",
    "# Add UUIDs for each individual\n",
    "demographic_df.insert(0, 'uuid', [str(uuid.uuid4()) for _ in range(len(demographic_df))])\n",
    "\n",
    "# Add fake creation dates for each record (simulating when they joined the platform)\n",
    "demographic_df['created_at'] = [\n",
    "  fake.date_time_between(datetime(2023, 1, 1), datetime(2024, 12, 31)).strftime('%Y-%m-%d %H:%M:%S') for _ in range(len(demographic_df))]\n"
   ]
  },
  {
   "cell_type": "code",
   "execution_count": 5,
   "metadata": {
    "application/vnd.databricks.v1+cell": {
     "cellMetadata": {
      "byteLimit": 2048000,
      "rowLimit": 10000
     },
     "inputWidgets": {},
     "nuid": "f8c46e72-3a3a-4f2c-a321-80d65bda031a",
     "showTitle": false,
     "tableResultSettingsMap": {},
     "title": ""
    }
   },
   "outputs": [
    {
     "data": {
      "application/vnd.microsoft.datawrangler.viewer.v0+json": {
       "columns": [
        {
         "name": "index",
         "rawType": "int64",
         "type": "integer"
        },
        {
         "name": "uuid",
         "rawType": "object",
         "type": "string"
        },
        {
         "name": "age",
         "rawType": "int64",
         "type": "integer"
        },
        {
         "name": "income",
         "rawType": "float64",
         "type": "float"
        },
        {
         "name": "location",
         "rawType": "object",
         "type": "string"
        },
        {
         "name": "education",
         "rawType": "object",
         "type": "string"
        },
        {
         "name": "relationship_status",
         "rawType": "object",
         "type": "string"
        },
        {
         "name": "number_dependants",
         "rawType": "int64",
         "type": "integer"
        },
        {
         "name": "occupation",
         "rawType": "object",
         "type": "string"
        },
        {
         "name": "tribe",
         "rawType": "object",
         "type": "string"
        },
        {
         "name": "short_description",
         "rawType": "object",
         "type": "string"
        },
        {
         "name": "created_at",
         "rawType": "object",
         "type": "string"
        }
       ],
       "conversionMethod": "pd.DataFrame",
       "ref": "35cdb1d4-c4f8-4394-954d-39b1cfdbd75c",
       "rows": [
        [
         "0",
         "df96c50d-dd8e-4839-91d2-27122716ef32",
         "36",
         "80000.0",
         "Sunset Strip",
         "Post Graduate",
         "Single",
         "0",
         "Filmmaker",
         "Creative Entrepreneurs - Hollywood Creatives",
         "West Hollywood creatives",
         "2023-07-06 08:44:02"
        ],
        [
         "1",
         "93f838e4-5846-44f9-a594-0da21dcb677c",
         "34",
         "96000.0",
         "Playa Vista",
         "Bachelor's",
         "Single",
         "0",
         "Software Engineer",
         "Tech-Savvy Professionals - Silicon Beach Innovators",
         "Venice Beach tech industry leaders",
         "2024-01-16 06:56:40"
        ],
        [
         "2",
         "3e610e5e-edb3-4133-87e6-de1fca5cbbb1",
         "23",
         "16000.0",
         "Downtown LA",
         "Some College",
         "Single",
         "0",
         "Intern",
         "College Students - Campus Life (UCLA / USC)",
         "UCLA/USC students",
         "2024-09-14 06:15:13"
        ],
        [
         "3",
         "2fdfc1d2-d1b4-422e-90ad-52bfa91106bc",
         "36",
         "149000.0",
         "Sunset Strip",
         "Post Graduate",
         "Single",
         "0",
         "Fashion Entrepreneur",
         "Creative Entrepreneurs - Hollywood Creatives",
         "West Hollywood creatives",
         "2024-04-16 08:48:10"
        ],
        [
         "4",
         "d37c808a-5fad-4a3c-9605-bb638c936de6",
         "29",
         "42000.0",
         "Silver Lake",
         "Post Graduate",
         "Cohabiting",
         "0",
         "Health Coach",
         "Eco-Conscious Millennials - Sustainable Lifestyle",
         "Culver City eco-advocates",
         "2024-07-26 21:00:47"
        ],
        [
         "5",
         "474a29ea-bfaa-4c2d-979a-d54e67e62fa9",
         "22",
         "16000.0",
         "Westwood (UCLA)",
         "Some College",
         "Single",
         "0",
         "Intern",
         "College Students - Campus Life (UCLA / USC)",
         "UCLA/USC students",
         "2024-02-29 18:34:08"
        ],
        [
         "6",
         "7a6f3a49-5e88-4df9-9fdf-45edf9d44483",
         "53",
         "202000.0",
         "Westwood",
         "Post Graduate",
         "Single",
         "0",
         "Investment Banker",
         "Luxury-Oriented Professionals - Upscale Lifestyles",
         "Beverly Hills luxury professionals",
         "2024-07-01 19:35:23"
        ],
        [
         "7",
         "b7534cd3-63e2-4467-9388-9e0978e92e92",
         "30",
         "53000.0",
         "Arts District",
         "Bachelor's",
         "Single",
         "0",
         "Freelancer",
         "Young Professional Women - Urban Explorers",
         "Downtown LA professionals",
         "2024-11-28 03:17:09"
        ],
        [
         "8",
         "90c0c001-1c18-4da4-aa42-4a4cba8cf2d6",
         "31",
         "128000.0",
         "Venice Beach",
         "Bachelor's",
         "Single",
         "0",
         "UX/UI Designer",
         "Tech-Savvy Professionals - Silicon Beach Innovators",
         "Venice Beach tech industry leaders",
         "2024-04-17 13:12:38"
        ],
        [
         "9",
         "6591365b-750b-4b0c-a3ad-82b4937f0b04",
         "22",
         "17000.0",
         "Downtown LA",
         "Some College",
         "Single",
         "0",
         "Intern",
         "College Students - Campus Life (UCLA / USC)",
         "UCLA/USC students",
         "2024-09-02 14:19:33"
        ],
        [
         "10",
         "8223baf6-6a19-43c2-ba63-10071e6ac998",
         "31",
         "67000.0",
         "Silver Lake",
         "Bachelor's",
         "Single",
         "0",
         "Health Coach",
         "Eco-Conscious Millennials - Sustainable Lifestyle",
         "Culver City eco-advocates",
         "2024-10-12 20:07:05"
        ],
        [
         "11",
         "fc32f89c-f725-4927-aaf9-8a4b7b88a49d",
         "28",
         "53000.0",
         "Silver Lake",
         "Post Graduate",
         "Single",
         "0",
         "Eco-Entrepreneur",
         "Eco-Conscious Millennials - Sustainable Lifestyle",
         "Culver City eco-advocates",
         "2023-12-28 16:22:37"
        ],
        [
         "12",
         "4dfedbf7-12c7-4051-bd42-c52dab8b2bf9",
         "20",
         "12000.0",
         "Westwood (UCLA)",
         "Some College",
         "Single",
         "0",
         "Intern",
         "College Students - Campus Life (UCLA / USC)",
         "UCLA/USC students",
         "2024-09-14 19:42:29"
        ],
        [
         "13",
         "44a7b5d2-783c-49ba-a2dc-758b40863cc1",
         "43",
         "150000.0",
         "Westwood",
         "Post Graduate",
         "Single",
         "0",
         "Investment Banker",
         "Luxury-Oriented Professionals - Upscale Lifestyles",
         "Beverly Hills luxury professionals",
         "2023-07-09 17:45:07"
        ],
        [
         "14",
         "0cd75213-fee4-4803-ad38-ba3ec7f3ff6b",
         "36",
         "162000.0",
         "Beverly Hills",
         "Bachelor's",
         "Single",
         "0",
         "Real Estate Executive",
         "Luxury-Oriented Professionals - Upscale Lifestyles",
         "Beverly Hills luxury professionals",
         "2023-08-22 23:25:27"
        ],
        [
         "15",
         "1a760a5a-0952-4a03-b6a1-66086aaf522f",
         "28",
         "54000.0",
         "Silver Lake",
         "Bachelor's",
         "Cohabiting",
         "0",
         "Health Coach",
         "Eco-Conscious Millennials - Sustainable Lifestyle",
         "Culver City eco-advocates",
         "2023-12-20 11:58:47"
        ],
        [
         "16",
         "55021d08-ddc9-4502-9f33-175963f456b8",
         "20",
         "19000.0",
         "Downtown LA",
         "Some College",
         "Single",
         "0",
         "Student",
         "College Students - Campus Life (UCLA / USC)",
         "UCLA/USC students",
         "2023-11-27 02:18:46"
        ],
        [
         "17",
         "e6b7e788-4cd9-4b82-8a3f-8cc0d03e1f96",
         "49",
         "150000.0",
         "Bel Air",
         "Bachelor's",
         "Single",
         "0",
         "Entertainment Lawyer",
         "Luxury-Oriented Professionals - Upscale Lifestyles",
         "Beverly Hills luxury professionals",
         "2024-07-02 10:57:31"
        ],
        [
         "18",
         "900128a9-6128-4f2e-845b-861cea871d88",
         "23",
         "12000.0",
         "South LA (USC)",
         "Some College",
         "Single",
         "0",
         "Intern",
         "College Students - Campus Life (UCLA / USC)",
         "UCLA/USC students",
         "2023-01-10 01:39:36"
        ],
        [
         "19",
         "4a605d2a-2ed3-4587-b377-b86156bf67a7",
         "32",
         "54000.0",
         "Downtown LA",
         "Bachelor's",
         "Single",
         "0",
         "Social Media Influencer",
         "Young Professional Women - Urban Explorers",
         "Downtown LA professionals",
         "2023-02-23 00:41:32"
        ],
        [
         "20",
         "d46d30dd-b82a-4d1c-a721-de1a788dd093",
         "32",
         "80000.0",
         "West Hollywood",
         "Bachelor's",
         "Single",
         "0",
         "Filmmaker",
         "Creative Entrepreneurs - Hollywood Creatives",
         "West Hollywood creatives",
         "2024-10-25 21:37:29"
        ],
        [
         "21",
         "fb1262bb-9c85-4f7f-977c-74a0048c97e2",
         "30",
         "88000.0",
         "Venice Beach",
         "Bachelor's",
         "Single",
         "0",
         "UX/UI Designer",
         "Tech-Savvy Professionals - Silicon Beach Innovators",
         "Venice Beach tech industry leaders",
         "2023-04-11 12:00:33"
        ],
        [
         "22",
         "2e2ec2fb-f836-4c2c-a09c-7874a9617bff",
         "45",
         "219000.0",
         "Westwood",
         "Bachelor's",
         "Single",
         "0",
         "Entertainment Lawyer",
         "Luxury-Oriented Professionals - Upscale Lifestyles",
         "Beverly Hills luxury professionals",
         "2023-09-12 01:36:07"
        ],
        [
         "23",
         "b8eb525a-2f82-4838-9cb4-45b16f9ea3e4",
         "31",
         "128000.0",
         "Playa Vista",
         "Bachelor's",
         "Cohabiting",
         "0",
         "UX/UI Designer",
         "Tech-Savvy Professionals - Silicon Beach Innovators",
         "Venice Beach tech industry leaders",
         "2023-09-30 00:30:34"
        ],
        [
         "24",
         "a12960b0-79eb-4d0f-b7aa-8adf0acf2117",
         "22",
         "15000.0",
         "Westwood (UCLA)",
         "Some College",
         "Single",
         "0",
         "Intern",
         "College Students - Campus Life (UCLA / USC)",
         "UCLA/USC students",
         "2024-08-15 09:22:27"
        ],
        [
         "25",
         "41598e97-8985-4d8c-98a3-77508e8ac7ab",
         "34",
         "81000.0",
         "West Hollywood",
         "Post Graduate",
         "Cohabiting",
         "0",
         "Fashion Entrepreneur",
         "Creative Entrepreneurs - Hollywood Creatives",
         "West Hollywood creatives",
         "2024-02-08 06:52:24"
        ],
        [
         "26",
         "ce7251b7-143b-4220-8f5a-e9b892569948",
         "50",
         "257000.0",
         "Beverly Hills",
         "Post Graduate",
         "Cohabiting",
         "0",
         "Entertainment Lawyer",
         "Luxury-Oriented Professionals - Upscale Lifestyles",
         "Beverly Hills luxury professionals",
         "2023-10-11 03:55:04"
        ],
        [
         "27",
         "23abc58d-b5e5-42ed-8d7a-47f2253921f1",
         "23",
         "11000.0",
         "Downtown LA",
         "Some College",
         "Single",
         "0",
         "Intern",
         "College Students - Campus Life (UCLA / USC)",
         "UCLA/USC students",
         "2024-11-02 11:23:05"
        ],
        [
         "28",
         "cc6f19d4-be77-4403-a9fa-ca74b992d99e",
         "29",
         "48000.0",
         "Silver Lake",
         "Bachelor's",
         "Single",
         "0",
         "Freelancer",
         "Young Professional Women - Urban Explorers",
         "Downtown LA professionals",
         "2024-07-10 19:38:20"
        ],
        [
         "29",
         "4db66dfd-66e3-42eb-9baf-2829d5b11994",
         "22",
         "16000.0",
         "Westwood (UCLA)",
         "Some College",
         "Single",
         "0",
         "Intern",
         "College Students - Campus Life (UCLA / USC)",
         "UCLA/USC students",
         "2023-12-19 00:12:45"
        ],
        [
         "30",
         "960d27b5-ec27-4f21-b7b3-18c31c029b4b",
         "33",
         "135000.0",
         "Sunset Strip",
         "Bachelor's",
         "Cohabiting",
         "0",
         "Designer",
         "Creative Entrepreneurs - Hollywood Creatives",
         "West Hollywood creatives",
         "2023-03-19 20:20:56"
        ],
        [
         "31",
         "3c047135-3dee-472d-9cea-9493069f02c2",
         "22",
         "19000.0",
         "South LA (USC)",
         "Some College",
         "Single",
         "0",
         "Student",
         "College Students - Campus Life (UCLA / USC)",
         "UCLA/USC students",
         "2024-02-11 10:12:53"
        ],
        [
         "32",
         "906ff0d6-959c-4ead-bc71-e9330910de40",
         "34",
         "59000.0",
         "Silver Lake",
         "Bachelor's",
         "Cohabiting",
         "0",
         "Sustainability Consultant",
         "Eco-Conscious Millennials - Sustainable Lifestyle",
         "Culver City eco-advocates",
         "2023-04-03 07:38:35"
        ],
        [
         "33",
         "eda3acc4-a324-4aff-97e9-c0e84af86586",
         "23",
         "10000.0",
         "South LA (USC)",
         "Some College",
         "Single",
         "0",
         "Intern",
         "College Students - Campus Life (UCLA / USC)",
         "UCLA/USC students",
         "2023-02-01 19:10:11"
        ],
        [
         "34",
         "b19972c6-3481-46a1-be7a-504182e2348e",
         "19",
         "16000.0",
         "South LA (USC)",
         "Some College",
         "Single",
         "0",
         "Part-time Worker",
         "College Students - Campus Life (UCLA / USC)",
         "UCLA/USC students",
         "2023-02-10 14:36:09"
        ],
        [
         "35",
         "a267c5e8-77ab-46b5-9e06-f6ff39e839ac",
         "18",
         "15000.0",
         "Downtown LA",
         "Some College",
         "Single",
         "0",
         "Intern",
         "College Students - Campus Life (UCLA / USC)",
         "UCLA/USC students",
         "2024-11-23 21:50:44"
        ],
        [
         "36",
         "95e3b0ca-45a9-4e20-8e87-089238fe8bf8",
         "28",
         "121000.0",
         "Beverly Hills",
         "Bachelor's",
         "Single",
         "0",
         "Designer",
         "Creative Entrepreneurs - Hollywood Creatives",
         "West Hollywood creatives",
         "2023-09-16 04:46:47"
        ],
        [
         "37",
         "82e69e86-02da-49af-ad0a-af32827b2440",
         "33",
         "42000.0",
         "Downtown LA",
         "Bachelor's",
         "Cohabiting",
         "0",
         "Graphic Designer",
         "Young Professional Women - Urban Explorers",
         "Downtown LA professionals",
         "2024-08-20 11:24:25"
        ],
        [
         "38",
         "da83d245-b1ad-416a-bcd2-b436bb96e454",
         "36",
         "127000.0",
         "Venice Beach",
         "Post Graduate",
         "Single",
         "0",
         "Software Engineer",
         "Tech-Savvy Professionals - Silicon Beach Innovators",
         "Venice Beach tech industry leaders",
         "2024-08-26 18:19:16"
        ],
        [
         "39",
         "05475b12-29bb-4062-aece-a77de86449d8",
         "23",
         "15000.0",
         "Downtown LA",
         "Some College",
         "Single",
         "0",
         "Part-time Worker",
         "College Students - Campus Life (UCLA / USC)",
         "UCLA/USC students",
         "2024-02-12 17:34:26"
        ],
        [
         "40",
         "8986c472-a611-4dd2-b52a-a1540f4833ef",
         "28",
         "90000.0",
         "Echo Park",
         "Post Graduate",
         "Cohabiting",
         "0",
         "Health Coach",
         "Eco-Conscious Millennials - Sustainable Lifestyle",
         "Culver City eco-advocates",
         "2023-07-24 09:56:13"
        ],
        [
         "41",
         "7de2dc0c-b96d-4f72-941e-b3de2c2f4a51",
         "32",
         "80000.0",
         "West Hollywood",
         "Bachelor's",
         "Cohabiting",
         "0",
         "Filmmaker",
         "Creative Entrepreneurs - Hollywood Creatives",
         "West Hollywood creatives",
         "2023-10-28 05:32:38"
        ],
        [
         "42",
         "74ac3fe8-d9a3-409e-a6ac-d5bd0a4b6be9",
         "21",
         "18000.0",
         "Downtown LA",
         "Some College",
         "Single",
         "0",
         "Part-time Worker",
         "College Students - Campus Life (UCLA / USC)",
         "UCLA/USC students",
         "2023-01-23 01:37:26"
        ],
        [
         "43",
         "8ae1dd58-dc3a-4ab9-a8a0-4875fe7b1369",
         "20",
         "18000.0",
         "South LA (USC)",
         "Some College",
         "Single",
         "0",
         "Intern",
         "College Students - Campus Life (UCLA / USC)",
         "UCLA/USC students",
         "2024-11-26 22:23:32"
        ],
        [
         "44",
         "5c9fc740-7d83-40d3-a7a5-03d3b822c5bb",
         "49",
         "259000.0",
         "Bel Air",
         "Bachelor's",
         "Single",
         "0",
         "Real Estate Executive",
         "Luxury-Oriented Professionals - Upscale Lifestyles",
         "Beverly Hills luxury professionals",
         "2024-08-29 08:55:03"
        ],
        [
         "45",
         "1c246700-81a9-4853-8c84-6d05a3fe62a2",
         "26",
         "48000.0",
         "Culver City",
         "Post Graduate",
         "Cohabiting",
         "0",
         "Sustainability Consultant",
         "Eco-Conscious Millennials - Sustainable Lifestyle",
         "Culver City eco-advocates",
         "2024-01-20 10:12:53"
        ],
        [
         "46",
         "17cacd8f-d6c6-49f1-8d52-76f8e8c3a652",
         "43",
         "230000.0",
         "Westwood",
         "Bachelor's",
         "Single",
         "0",
         "Entertainment Lawyer",
         "Luxury-Oriented Professionals - Upscale Lifestyles",
         "Beverly Hills luxury professionals",
         "2023-05-26 14:19:00"
        ],
        [
         "47",
         "9ac5797f-999a-4718-a866-edb0e4ae91df",
         "19",
         "15000.0",
         "South LA (USC)",
         "Some College",
         "Single",
         "0",
         "Part-time Worker",
         "College Students - Campus Life (UCLA / USC)",
         "UCLA/USC students",
         "2023-01-20 22:35:23"
        ],
        [
         "48",
         "51a02fec-4718-4830-8d62-c06644059ad5",
         "25",
         "48000.0",
         "Silver Lake",
         "Post Graduate",
         "Single",
         "0",
         "Freelancer",
         "Young Professional Women - Urban Explorers",
         "Downtown LA professionals",
         "2024-08-13 13:31:24"
        ],
        [
         "49",
         "b593bb6d-71d2-411c-8169-b9090de36f5b",
         "25",
         "49000.0",
         "Echo Park",
         "Bachelor's",
         "Single",
         "0",
         "Social Media Influencer",
         "Young Professional Women - Urban Explorers",
         "Downtown LA professionals",
         "2023-09-28 22:02:53"
        ]
       ],
       "shape": {
        "columns": 11,
        "rows": 1280
       }
      },
      "text/html": [
       "<div>\n",
       "<style scoped>\n",
       "    .dataframe tbody tr th:only-of-type {\n",
       "        vertical-align: middle;\n",
       "    }\n",
       "\n",
       "    .dataframe tbody tr th {\n",
       "        vertical-align: top;\n",
       "    }\n",
       "\n",
       "    .dataframe thead th {\n",
       "        text-align: right;\n",
       "    }\n",
       "</style>\n",
       "<table border=\"1\" class=\"dataframe\">\n",
       "  <thead>\n",
       "    <tr style=\"text-align: right;\">\n",
       "      <th></th>\n",
       "      <th>uuid</th>\n",
       "      <th>age</th>\n",
       "      <th>income</th>\n",
       "      <th>location</th>\n",
       "      <th>education</th>\n",
       "      <th>relationship_status</th>\n",
       "      <th>number_dependants</th>\n",
       "      <th>occupation</th>\n",
       "      <th>tribe</th>\n",
       "      <th>short_description</th>\n",
       "      <th>created_at</th>\n",
       "    </tr>\n",
       "  </thead>\n",
       "  <tbody>\n",
       "    <tr>\n",
       "      <th>0</th>\n",
       "      <td>df96c50d-dd8e-4839-91d2-27122716ef32</td>\n",
       "      <td>36</td>\n",
       "      <td>80000.0</td>\n",
       "      <td>Sunset Strip</td>\n",
       "      <td>Post Graduate</td>\n",
       "      <td>Single</td>\n",
       "      <td>0</td>\n",
       "      <td>Filmmaker</td>\n",
       "      <td>Creative Entrepreneurs - Hollywood Creatives</td>\n",
       "      <td>West Hollywood creatives</td>\n",
       "      <td>2023-07-06 08:44:02</td>\n",
       "    </tr>\n",
       "    <tr>\n",
       "      <th>1</th>\n",
       "      <td>93f838e4-5846-44f9-a594-0da21dcb677c</td>\n",
       "      <td>34</td>\n",
       "      <td>96000.0</td>\n",
       "      <td>Playa Vista</td>\n",
       "      <td>Bachelor's</td>\n",
       "      <td>Single</td>\n",
       "      <td>0</td>\n",
       "      <td>Software Engineer</td>\n",
       "      <td>Tech-Savvy Professionals - Silicon Beach Innov...</td>\n",
       "      <td>Venice Beach tech industry leaders</td>\n",
       "      <td>2024-01-16 06:56:40</td>\n",
       "    </tr>\n",
       "    <tr>\n",
       "      <th>2</th>\n",
       "      <td>3e610e5e-edb3-4133-87e6-de1fca5cbbb1</td>\n",
       "      <td>23</td>\n",
       "      <td>16000.0</td>\n",
       "      <td>Downtown LA</td>\n",
       "      <td>Some College</td>\n",
       "      <td>Single</td>\n",
       "      <td>0</td>\n",
       "      <td>Intern</td>\n",
       "      <td>College Students - Campus Life (UCLA / USC)</td>\n",
       "      <td>UCLA/USC students</td>\n",
       "      <td>2024-09-14 06:15:13</td>\n",
       "    </tr>\n",
       "    <tr>\n",
       "      <th>3</th>\n",
       "      <td>2fdfc1d2-d1b4-422e-90ad-52bfa91106bc</td>\n",
       "      <td>36</td>\n",
       "      <td>149000.0</td>\n",
       "      <td>Sunset Strip</td>\n",
       "      <td>Post Graduate</td>\n",
       "      <td>Single</td>\n",
       "      <td>0</td>\n",
       "      <td>Fashion Entrepreneur</td>\n",
       "      <td>Creative Entrepreneurs - Hollywood Creatives</td>\n",
       "      <td>West Hollywood creatives</td>\n",
       "      <td>2024-04-16 08:48:10</td>\n",
       "    </tr>\n",
       "    <tr>\n",
       "      <th>4</th>\n",
       "      <td>d37c808a-5fad-4a3c-9605-bb638c936de6</td>\n",
       "      <td>29</td>\n",
       "      <td>42000.0</td>\n",
       "      <td>Silver Lake</td>\n",
       "      <td>Post Graduate</td>\n",
       "      <td>Cohabiting</td>\n",
       "      <td>0</td>\n",
       "      <td>Health Coach</td>\n",
       "      <td>Eco-Conscious Millennials - Sustainable Lifestyle</td>\n",
       "      <td>Culver City eco-advocates</td>\n",
       "      <td>2024-07-26 21:00:47</td>\n",
       "    </tr>\n",
       "    <tr>\n",
       "      <th>...</th>\n",
       "      <td>...</td>\n",
       "      <td>...</td>\n",
       "      <td>...</td>\n",
       "      <td>...</td>\n",
       "      <td>...</td>\n",
       "      <td>...</td>\n",
       "      <td>...</td>\n",
       "      <td>...</td>\n",
       "      <td>...</td>\n",
       "      <td>...</td>\n",
       "      <td>...</td>\n",
       "    </tr>\n",
       "    <tr>\n",
       "      <th>1275</th>\n",
       "      <td>b6adaa01-d48b-417f-8e53-ca1c4ffc9137</td>\n",
       "      <td>23</td>\n",
       "      <td>15000.0</td>\n",
       "      <td>Westwood (UCLA)</td>\n",
       "      <td>Some College</td>\n",
       "      <td>Single</td>\n",
       "      <td>0</td>\n",
       "      <td>Student</td>\n",
       "      <td>College Students - Campus Life (UCLA / USC)</td>\n",
       "      <td>UCLA/USC students</td>\n",
       "      <td>2024-05-22 19:09:53</td>\n",
       "    </tr>\n",
       "    <tr>\n",
       "      <th>1276</th>\n",
       "      <td>934cc35a-5675-4d23-adf6-d14782c92936</td>\n",
       "      <td>29</td>\n",
       "      <td>43000.0</td>\n",
       "      <td>Silver Lake</td>\n",
       "      <td>Bachelor's</td>\n",
       "      <td>Cohabiting</td>\n",
       "      <td>0</td>\n",
       "      <td>Health Coach</td>\n",
       "      <td>Eco-Conscious Millennials - Sustainable Lifestyle</td>\n",
       "      <td>Culver City eco-advocates</td>\n",
       "      <td>2024-03-26 21:48:01</td>\n",
       "    </tr>\n",
       "    <tr>\n",
       "      <th>1277</th>\n",
       "      <td>163db4c9-7b41-4708-b5d2-c19256d4af2b</td>\n",
       "      <td>19</td>\n",
       "      <td>21000.0</td>\n",
       "      <td>South LA (USC)</td>\n",
       "      <td>Some College</td>\n",
       "      <td>Single</td>\n",
       "      <td>0</td>\n",
       "      <td>Part-time Worker</td>\n",
       "      <td>College Students - Campus Life (UCLA / USC)</td>\n",
       "      <td>UCLA/USC students</td>\n",
       "      <td>2024-11-17 11:40:01</td>\n",
       "    </tr>\n",
       "    <tr>\n",
       "      <th>1278</th>\n",
       "      <td>35da780d-836e-47ec-badf-4ba8200c4c1c</td>\n",
       "      <td>29</td>\n",
       "      <td>30000.0</td>\n",
       "      <td>Arts District</td>\n",
       "      <td>Post Graduate</td>\n",
       "      <td>Single</td>\n",
       "      <td>0</td>\n",
       "      <td>Social Media Influencer</td>\n",
       "      <td>Young Professional Women - Urban Explorers</td>\n",
       "      <td>Downtown LA professionals</td>\n",
       "      <td>2024-06-26 10:17:16</td>\n",
       "    </tr>\n",
       "    <tr>\n",
       "      <th>1279</th>\n",
       "      <td>483089aa-cda3-4609-8704-71bc91faa6e5</td>\n",
       "      <td>25</td>\n",
       "      <td>70000.0</td>\n",
       "      <td>Culver City</td>\n",
       "      <td>Bachelor's</td>\n",
       "      <td>Cohabiting</td>\n",
       "      <td>0</td>\n",
       "      <td>Eco-Entrepreneur</td>\n",
       "      <td>Eco-Conscious Millennials - Sustainable Lifestyle</td>\n",
       "      <td>Culver City eco-advocates</td>\n",
       "      <td>2023-02-08 02:28:33</td>\n",
       "    </tr>\n",
       "  </tbody>\n",
       "</table>\n",
       "<p>1280 rows × 11 columns</p>\n",
       "</div>"
      ],
      "text/plain": [
       "                                      uuid  age    income         location  \\\n",
       "0     df96c50d-dd8e-4839-91d2-27122716ef32   36   80000.0     Sunset Strip   \n",
       "1     93f838e4-5846-44f9-a594-0da21dcb677c   34   96000.0      Playa Vista   \n",
       "2     3e610e5e-edb3-4133-87e6-de1fca5cbbb1   23   16000.0      Downtown LA   \n",
       "3     2fdfc1d2-d1b4-422e-90ad-52bfa91106bc   36  149000.0     Sunset Strip   \n",
       "4     d37c808a-5fad-4a3c-9605-bb638c936de6   29   42000.0      Silver Lake   \n",
       "...                                    ...  ...       ...              ...   \n",
       "1275  b6adaa01-d48b-417f-8e53-ca1c4ffc9137   23   15000.0  Westwood (UCLA)   \n",
       "1276  934cc35a-5675-4d23-adf6-d14782c92936   29   43000.0      Silver Lake   \n",
       "1277  163db4c9-7b41-4708-b5d2-c19256d4af2b   19   21000.0   South LA (USC)   \n",
       "1278  35da780d-836e-47ec-badf-4ba8200c4c1c   29   30000.0    Arts District   \n",
       "1279  483089aa-cda3-4609-8704-71bc91faa6e5   25   70000.0      Culver City   \n",
       "\n",
       "          education relationship_status  number_dependants  \\\n",
       "0     Post Graduate              Single                  0   \n",
       "1        Bachelor's              Single                  0   \n",
       "2      Some College              Single                  0   \n",
       "3     Post Graduate              Single                  0   \n",
       "4     Post Graduate          Cohabiting                  0   \n",
       "...             ...                 ...                ...   \n",
       "1275   Some College              Single                  0   \n",
       "1276     Bachelor's          Cohabiting                  0   \n",
       "1277   Some College              Single                  0   \n",
       "1278  Post Graduate              Single                  0   \n",
       "1279     Bachelor's          Cohabiting                  0   \n",
       "\n",
       "                   occupation  \\\n",
       "0                   Filmmaker   \n",
       "1           Software Engineer   \n",
       "2                      Intern   \n",
       "3        Fashion Entrepreneur   \n",
       "4                Health Coach   \n",
       "...                       ...   \n",
       "1275                  Student   \n",
       "1276             Health Coach   \n",
       "1277         Part-time Worker   \n",
       "1278  Social Media Influencer   \n",
       "1279         Eco-Entrepreneur   \n",
       "\n",
       "                                                  tribe  \\\n",
       "0          Creative Entrepreneurs - Hollywood Creatives   \n",
       "1     Tech-Savvy Professionals - Silicon Beach Innov...   \n",
       "2           College Students - Campus Life (UCLA / USC)   \n",
       "3          Creative Entrepreneurs - Hollywood Creatives   \n",
       "4     Eco-Conscious Millennials - Sustainable Lifestyle   \n",
       "...                                                 ...   \n",
       "1275        College Students - Campus Life (UCLA / USC)   \n",
       "1276  Eco-Conscious Millennials - Sustainable Lifestyle   \n",
       "1277        College Students - Campus Life (UCLA / USC)   \n",
       "1278         Young Professional Women - Urban Explorers   \n",
       "1279  Eco-Conscious Millennials - Sustainable Lifestyle   \n",
       "\n",
       "                       short_description           created_at  \n",
       "0               West Hollywood creatives  2023-07-06 08:44:02  \n",
       "1     Venice Beach tech industry leaders  2024-01-16 06:56:40  \n",
       "2                      UCLA/USC students  2024-09-14 06:15:13  \n",
       "3               West Hollywood creatives  2024-04-16 08:48:10  \n",
       "4              Culver City eco-advocates  2024-07-26 21:00:47  \n",
       "...                                  ...                  ...  \n",
       "1275                   UCLA/USC students  2024-05-22 19:09:53  \n",
       "1276           Culver City eco-advocates  2024-03-26 21:48:01  \n",
       "1277                   UCLA/USC students  2024-11-17 11:40:01  \n",
       "1278           Downtown LA professionals  2024-06-26 10:17:16  \n",
       "1279           Culver City eco-advocates  2023-02-08 02:28:33  \n",
       "\n",
       "[1280 rows x 11 columns]"
      ]
     },
     "metadata": {},
     "output_type": "display_data"
    }
   ],
   "source": [
    "# Display the first few records of the generated dataset\n",
    "\n",
    "display(demographic_df)"
   ]
  },
  {
   "cell_type": "code",
   "execution_count": 6,
   "metadata": {},
   "outputs": [
    {
     "name": "stdout",
     "output_type": "stream",
     "text": [
      "Warning: Some locations do not have coordinates in the dictionary.\n",
      "Missing locations: {'South LA'}\n"
     ]
    },
    {
     "name": "stderr",
     "output_type": "stream",
     "text": [
      "/var/folders/rr/zp_q92ys68lb4520hwhhn6440000gp/T/ipykernel_14571/2401904708.py:38: DeprecationWarning: *scatter_mapbox* is deprecated! Use *scatter_map* instead. Learn more at: https://plotly.com/python/mapbox-to-maplibre/\n",
      "  fig = px.scatter_mapbox(\n"
     ]
    },
    {
     "data": {
      "application/vnd.plotly.v1+json": {
       "config": {
        "plotlyServerURL": "https://plot.ly"
       },
       "data": [
        {
         "customdata": [
          [
           36,
           "Filmmaker",
           "Post Graduate"
          ],
          [
           36,
           "Fashion Entrepreneur",
           "Post Graduate"
          ],
          [
           32,
           "Filmmaker",
           "Bachelor's"
          ],
          [
           34,
           "Fashion Entrepreneur",
           "Post Graduate"
          ],
          [
           33,
           "Designer",
           "Bachelor's"
          ],
          [
           28,
           "Designer",
           "Bachelor's"
          ],
          [
           32,
           "Filmmaker",
           "Bachelor's"
          ],
          [
           34,
           "Designer",
           "Bachelor's"
          ],
          [
           27,
           "Designer",
           "Bachelor's"
          ],
          [
           37,
           "Filmmaker",
           "Post Graduate"
          ],
          [
           36,
           "Designer",
           "Bachelor's"
          ],
          [
           40,
           "Designer",
           "Post Graduate"
          ],
          [
           32,
           "Designer",
           "Bachelor's"
          ],
          [
           41,
           "Fashion Entrepreneur",
           "Post Graduate"
          ],
          [
           27,
           "Fashion Entrepreneur",
           "Bachelor's"
          ],
          [
           38,
           "Fashion Entrepreneur",
           "Bachelor's"
          ],
          [
           35,
           "Fashion Entrepreneur",
           "Bachelor's"
          ],
          [
           28,
           "Fashion Entrepreneur",
           "Bachelor's"
          ],
          [
           36,
           "Fashion Entrepreneur",
           "Bachelor's"
          ],
          [
           33,
           "Fashion Entrepreneur",
           "Post Graduate"
          ],
          [
           37,
           "Fashion Entrepreneur",
           "Post Graduate"
          ],
          [
           26,
           "Designer",
           "Bachelor's"
          ],
          [
           34,
           "Designer",
           "Bachelor's"
          ],
          [
           25,
           "Filmmaker",
           "Bachelor's"
          ],
          [
           43,
           "Fashion Entrepreneur",
           "Post Graduate"
          ],
          [
           30,
           "Designer",
           "Bachelor's"
          ],
          [
           25,
           "Filmmaker",
           "Bachelor's"
          ],
          [
           27,
           "Filmmaker",
           "Post Graduate"
          ],
          [
           28,
           "Fashion Entrepreneur",
           "Bachelor's"
          ],
          [
           28,
           "Designer",
           "Bachelor's"
          ],
          [
           32,
           "Filmmaker",
           "Bachelor's"
          ],
          [
           40,
           "Fashion Entrepreneur",
           "Bachelor's"
          ],
          [
           28,
           "Fashion Entrepreneur",
           "Bachelor's"
          ],
          [
           29,
           "Designer",
           "Bachelor's"
          ],
          [
           42,
           "Filmmaker",
           "Post Graduate"
          ],
          [
           26,
           "Fashion Entrepreneur",
           "Post Graduate"
          ],
          [
           39,
           "Designer",
           "Bachelor's"
          ],
          [
           39,
           "Fashion Entrepreneur",
           "Post Graduate"
          ],
          [
           41,
           "Filmmaker",
           "Bachelor's"
          ],
          [
           30,
           "Filmmaker",
           "Bachelor's"
          ],
          [
           42,
           "Designer",
           "Bachelor's"
          ],
          [
           35,
           "Filmmaker",
           "Bachelor's"
          ],
          [
           34,
           "Designer",
           "Bachelor's"
          ],
          [
           32,
           "Fashion Entrepreneur",
           "Bachelor's"
          ],
          [
           40,
           "Filmmaker",
           "Bachelor's"
          ],
          [
           33,
           "Designer",
           "Post Graduate"
          ],
          [
           38,
           "Fashion Entrepreneur",
           "Post Graduate"
          ],
          [
           36,
           "Fashion Entrepreneur",
           "Post Graduate"
          ],
          [
           26,
           "Filmmaker",
           "Bachelor's"
          ],
          [
           32,
           "Filmmaker",
           "Bachelor's"
          ],
          [
           43,
           "Designer",
           "Bachelor's"
          ],
          [
           31,
           "Designer",
           "Bachelor's"
          ],
          [
           42,
           "Designer",
           "Bachelor's"
          ],
          [
           31,
           "Designer",
           "Bachelor's"
          ],
          [
           31,
           "Fashion Entrepreneur",
           "Bachelor's"
          ],
          [
           44,
           "Filmmaker",
           "Post Graduate"
          ],
          [
           37,
           "Filmmaker",
           "Post Graduate"
          ],
          [
           33,
           "Filmmaker",
           "Bachelor's"
          ],
          [
           25,
           "Designer",
           "Bachelor's"
          ],
          [
           38,
           "Designer",
           "Post Graduate"
          ],
          [
           28,
           "Fashion Entrepreneur",
           "Bachelor's"
          ],
          [
           28,
           "Designer",
           "Post Graduate"
          ],
          [
           37,
           "Designer",
           "Bachelor's"
          ],
          [
           37,
           "Designer",
           "Bachelor's"
          ],
          [
           39,
           "Filmmaker",
           "Bachelor's"
          ],
          [
           36,
           "Filmmaker",
           "Post Graduate"
          ],
          [
           44,
           "Filmmaker",
           "Post Graduate"
          ],
          [
           34,
           "Fashion Entrepreneur",
           "Bachelor's"
          ],
          [
           42,
           "Designer",
           "Bachelor's"
          ],
          [
           42,
           "Filmmaker",
           "Bachelor's"
          ],
          [
           43,
           "Fashion Entrepreneur",
           "Bachelor's"
          ],
          [
           40,
           "Designer",
           "Post Graduate"
          ],
          [
           28,
           "Designer",
           "Bachelor's"
          ],
          [
           40,
           "Fashion Entrepreneur",
           "Bachelor's"
          ],
          [
           38,
           "Fashion Entrepreneur",
           "Bachelor's"
          ],
          [
           26,
           "Designer",
           "Bachelor's"
          ],
          [
           32,
           "Fashion Entrepreneur",
           "Bachelor's"
          ],
          [
           30,
           "Designer",
           "Bachelor's"
          ],
          [
           36,
           "Filmmaker",
           "Bachelor's"
          ],
          [
           42,
           "Designer",
           "Post Graduate"
          ],
          [
           27,
           "Fashion Entrepreneur",
           "Bachelor's"
          ],
          [
           35,
           "Designer",
           "Post Graduate"
          ],
          [
           39,
           "Fashion Entrepreneur",
           "Bachelor's"
          ],
          [
           34,
           "Fashion Entrepreneur",
           "Bachelor's"
          ],
          [
           26,
           "Designer",
           "Post Graduate"
          ],
          [
           30,
           "Filmmaker",
           "Post Graduate"
          ],
          [
           27,
           "Fashion Entrepreneur",
           "Post Graduate"
          ],
          [
           40,
           "Fashion Entrepreneur",
           "Bachelor's"
          ],
          [
           31,
           "Designer",
           "Post Graduate"
          ],
          [
           29,
           "Filmmaker",
           "Post Graduate"
          ],
          [
           29,
           "Designer",
           "Bachelor's"
          ],
          [
           29,
           "Designer",
           "Post Graduate"
          ],
          [
           35,
           "Designer",
           "Bachelor's"
          ],
          [
           26,
           "Filmmaker",
           "Bachelor's"
          ],
          [
           39,
           "Fashion Entrepreneur",
           "Post Graduate"
          ],
          [
           31,
           "Designer",
           "Post Graduate"
          ],
          [
           27,
           "Designer",
           "Bachelor's"
          ],
          [
           35,
           "Filmmaker",
           "Bachelor's"
          ],
          [
           35,
           "Fashion Entrepreneur",
           "Bachelor's"
          ],
          [
           28,
           "Fashion Entrepreneur",
           "Post Graduate"
          ],
          [
           28,
           "Designer",
           "Post Graduate"
          ],
          [
           28,
           "Filmmaker",
           "Bachelor's"
          ],
          [
           39,
           "Designer",
           "Post Graduate"
          ],
          [
           36,
           "Fashion Entrepreneur",
           "Post Graduate"
          ],
          [
           31,
           "Fashion Entrepreneur",
           "Post Graduate"
          ],
          [
           37,
           "Designer",
           "Bachelor's"
          ],
          [
           37,
           "Designer",
           "Post Graduate"
          ],
          [
           34,
           "Designer",
           "Bachelor's"
          ],
          [
           26,
           "Filmmaker",
           "Bachelor's"
          ],
          [
           34,
           "Designer",
           "Post Graduate"
          ],
          [
           28,
           "Filmmaker",
           "Post Graduate"
          ],
          [
           29,
           "Designer",
           "Post Graduate"
          ],
          [
           33,
           "Fashion Entrepreneur",
           "Post Graduate"
          ],
          [
           41,
           "Fashion Entrepreneur",
           "Bachelor's"
          ],
          [
           27,
           "Designer",
           "Post Graduate"
          ],
          [
           41,
           "Fashion Entrepreneur",
           "Post Graduate"
          ],
          [
           25,
           "Designer",
           "Post Graduate"
          ],
          [
           25,
           "Fashion Entrepreneur",
           "Post Graduate"
          ],
          [
           34,
           "Filmmaker",
           "Bachelor's"
          ],
          [
           26,
           "Filmmaker",
           "Post Graduate"
          ],
          [
           28,
           "Filmmaker",
           "Bachelor's"
          ],
          [
           31,
           "Designer",
           "Bachelor's"
          ],
          [
           31,
           "Designer",
           "Bachelor's"
          ],
          [
           39,
           "Fashion Entrepreneur",
           "Bachelor's"
          ],
          [
           28,
           "Filmmaker",
           "Bachelor's"
          ],
          [
           31,
           "Fashion Entrepreneur",
           "Bachelor's"
          ],
          [
           30,
           "Fashion Entrepreneur",
           "Bachelor's"
          ],
          [
           41,
           "Fashion Entrepreneur",
           "Post Graduate"
          ],
          [
           37,
           "Filmmaker",
           "Bachelor's"
          ],
          [
           33,
           "Filmmaker",
           "Bachelor's"
          ],
          [
           38,
           "Filmmaker",
           "Bachelor's"
          ],
          [
           43,
           "Fashion Entrepreneur",
           "Bachelor's"
          ],
          [
           29,
           "Filmmaker",
           "Post Graduate"
          ],
          [
           34,
           "Filmmaker",
           "Bachelor's"
          ],
          [
           27,
           "Designer",
           "Bachelor's"
          ],
          [
           43,
           "Designer",
           "Post Graduate"
          ],
          [
           34,
           "Designer",
           "Post Graduate"
          ],
          [
           44,
           "Designer",
           "Post Graduate"
          ],
          [
           34,
           "Fashion Entrepreneur",
           "Post Graduate"
          ],
          [
           39,
           "Filmmaker",
           "Bachelor's"
          ],
          [
           27,
           "Fashion Entrepreneur",
           "Bachelor's"
          ],
          [
           41,
           "Designer",
           "Bachelor's"
          ],
          [
           37,
           "Fashion Entrepreneur",
           "Bachelor's"
          ],
          [
           28,
           "Designer",
           "Post Graduate"
          ],
          [
           39,
           "Designer",
           "Bachelor's"
          ],
          [
           41,
           "Designer",
           "Bachelor's"
          ],
          [
           31,
           "Filmmaker",
           "Bachelor's"
          ],
          [
           41,
           "Fashion Entrepreneur",
           "Bachelor's"
          ],
          [
           31,
           "Filmmaker",
           "Post Graduate"
          ],
          [
           37,
           "Designer",
           "Post Graduate"
          ]
         ],
         "hovertemplate": "<b>%{hovertext}</b><br><br>tribe=Creative Entrepreneurs - Hollywood Creatives<br>income=%{marker.size}<br>latitude=%{lat}<br>longitude=%{lon}<br>age=%{customdata[0]}<br>occupation=%{customdata[1]}<br>education=%{customdata[2]}<extra></extra>",
         "hovertext": [
          "West Hollywood creatives",
          "West Hollywood creatives",
          "West Hollywood creatives",
          "West Hollywood creatives",
          "West Hollywood creatives",
          "West Hollywood creatives",
          "West Hollywood creatives",
          "West Hollywood creatives",
          "West Hollywood creatives",
          "West Hollywood creatives",
          "West Hollywood creatives",
          "West Hollywood creatives",
          "West Hollywood creatives",
          "West Hollywood creatives",
          "West Hollywood creatives",
          "West Hollywood creatives",
          "West Hollywood creatives",
          "West Hollywood creatives",
          "West Hollywood creatives",
          "West Hollywood creatives",
          "West Hollywood creatives",
          "West Hollywood creatives",
          "West Hollywood creatives",
          "West Hollywood creatives",
          "West Hollywood creatives",
          "West Hollywood creatives",
          "West Hollywood creatives",
          "West Hollywood creatives",
          "West Hollywood creatives",
          "West Hollywood creatives",
          "West Hollywood creatives",
          "West Hollywood creatives",
          "West Hollywood creatives",
          "West Hollywood creatives",
          "West Hollywood creatives",
          "West Hollywood creatives",
          "West Hollywood creatives",
          "West Hollywood creatives",
          "West Hollywood creatives",
          "West Hollywood creatives",
          "West Hollywood creatives",
          "West Hollywood creatives",
          "West Hollywood creatives",
          "West Hollywood creatives",
          "West Hollywood creatives",
          "West Hollywood creatives",
          "West Hollywood creatives",
          "West Hollywood creatives",
          "West Hollywood creatives",
          "West Hollywood creatives",
          "West Hollywood creatives",
          "West Hollywood creatives",
          "West Hollywood creatives",
          "West Hollywood creatives",
          "West Hollywood creatives",
          "West Hollywood creatives",
          "West Hollywood creatives",
          "West Hollywood creatives",
          "West Hollywood creatives",
          "West Hollywood creatives",
          "West Hollywood creatives",
          "West Hollywood creatives",
          "West Hollywood creatives",
          "West Hollywood creatives",
          "West Hollywood creatives",
          "West Hollywood creatives",
          "West Hollywood creatives",
          "West Hollywood creatives",
          "West Hollywood creatives",
          "West Hollywood creatives",
          "West Hollywood creatives",
          "West Hollywood creatives",
          "West Hollywood creatives",
          "West Hollywood creatives",
          "West Hollywood creatives",
          "West Hollywood creatives",
          "West Hollywood creatives",
          "West Hollywood creatives",
          "West Hollywood creatives",
          "West Hollywood creatives",
          "West Hollywood creatives",
          "West Hollywood creatives",
          "West Hollywood creatives",
          "West Hollywood creatives",
          "West Hollywood creatives",
          "West Hollywood creatives",
          "West Hollywood creatives",
          "West Hollywood creatives",
          "West Hollywood creatives",
          "West Hollywood creatives",
          "West Hollywood creatives",
          "West Hollywood creatives",
          "West Hollywood creatives",
          "West Hollywood creatives",
          "West Hollywood creatives",
          "West Hollywood creatives",
          "West Hollywood creatives",
          "West Hollywood creatives",
          "West Hollywood creatives",
          "West Hollywood creatives",
          "West Hollywood creatives",
          "West Hollywood creatives",
          "West Hollywood creatives",
          "West Hollywood creatives",
          "West Hollywood creatives",
          "West Hollywood creatives",
          "West Hollywood creatives",
          "West Hollywood creatives",
          "West Hollywood creatives",
          "West Hollywood creatives",
          "West Hollywood creatives",
          "West Hollywood creatives",
          "West Hollywood creatives",
          "West Hollywood creatives",
          "West Hollywood creatives",
          "West Hollywood creatives",
          "West Hollywood creatives",
          "West Hollywood creatives",
          "West Hollywood creatives",
          "West Hollywood creatives",
          "West Hollywood creatives",
          "West Hollywood creatives",
          "West Hollywood creatives",
          "West Hollywood creatives",
          "West Hollywood creatives",
          "West Hollywood creatives",
          "West Hollywood creatives",
          "West Hollywood creatives",
          "West Hollywood creatives",
          "West Hollywood creatives",
          "West Hollywood creatives",
          "West Hollywood creatives",
          "West Hollywood creatives",
          "West Hollywood creatives",
          "West Hollywood creatives",
          "West Hollywood creatives",
          "West Hollywood creatives",
          "West Hollywood creatives",
          "West Hollywood creatives",
          "West Hollywood creatives",
          "West Hollywood creatives",
          "West Hollywood creatives",
          "West Hollywood creatives",
          "West Hollywood creatives",
          "West Hollywood creatives",
          "West Hollywood creatives",
          "West Hollywood creatives",
          "West Hollywood creatives",
          "West Hollywood creatives",
          "West Hollywood creatives"
         ],
         "lat": {
          "bdata": "zojS3uALQUDOiNLe4AtBQOxRuB6FC0FA7FG4HoULQUDOiNLe4AtBQCh+jLlrCUFA7FG4HoULQUAofoy5awlBQOxRuB6FC0FA7FG4HoULQUDsUbgehQtBQCh+jLlrCUFAKH6MuWsJQUDOiNLe4AtBQCh+jLlrCUFAKH6MuWsJQUDsUbgehQtBQOxRuB6FC0FAKH6MuWsJQUDOiNLe4AtBQCh+jLlrCUFAKH6MuWsJQUDsUbgehQtBQCh+jLlrCUFAKH6MuWsJQUDsUbgehQtBQM6I0t7gC0FAKH6MuWsJQUDsUbgehQtBQCh+jLlrCUFA7FG4HoULQUAofoy5awlBQCh+jLlrCUFA7FG4HoULQUDsUbgehQtBQCh+jLlrCUFAKH6MuWsJQUDsUbgehQtBQOxRuB6FC0FA7FG4HoULQUDOiNLe4AtBQM6I0t7gC0FAKH6MuWsJQUDOiNLe4AtBQM6I0t7gC0FAzojS3uALQUDOiNLe4AtBQCh+jLlrCUFA7FG4HoULQUDsUbgehQtBQM6I0t7gC0FAzojS3uALQUDsUbgehQtBQCh+jLlrCUFAKH6MuWsJQUAofoy5awlBQCh+jLlrCUFAzojS3uALQUDsUbgehQtBQM6I0t7gC0FA7FG4HoULQUDOiNLe4AtBQM6I0t7gC0FA7FG4HoULQUAofoy5awlBQOxRuB6FC0FAKH6MuWsJQUDOiNLe4AtBQOxRuB6FC0FAzojS3uALQUDsUbgehQtBQOxRuB6FC0FAzojS3uALQUDsUbgehQtBQOxRuB6FC0FAKH6MuWsJQUDOiNLe4AtBQM6I0t7gC0FAzojS3uALQUAofoy5awlBQOxRuB6FC0FAKH6MuWsJQUDOiNLe4AtBQOxRuB6FC0FA7FG4HoULQUDOiNLe4AtBQOxRuB6FC0FAzojS3uALQUDsUbgehQtBQOxRuB6FC0FAzojS3uALQUAofoy5awlBQOxRuB6FC0FAzojS3uALQUDOiNLe4AtBQM6I0t7gC0FA7FG4HoULQUDsUbgehQtBQOxRuB6FC0FA7FG4HoULQUAofoy5awlBQM6I0t7gC0FAKH6MuWsJQUDOiNLe4AtBQOxRuB6FC0FA7FG4HoULQUAofoy5awlBQCh+jLlrCUFA7FG4HoULQUDsUbgehQtBQOxRuB6FC0FA7FG4HoULQUDOiNLe4AtBQM6I0t7gC0FAKH6MuWsJQUDsUbgehQtBQOxRuB6FC0FAzojS3uALQUDOiNLe4AtBQOxRuB6FC0FAKH6MuWsJQUDOiNLe4AtBQOxRuB6FC0FAKH6MuWsJQUDsUbgehQtBQM6I0t7gC0FAKH6MuWsJQUAofoy5awlBQCh+jLlrCUFAzojS3uALQUDOiNLe4AtBQCh+jLlrCUFAzojS3uALQUDsUbgehQtBQM6I0t7gC0FAzojS3uALQUAofoy5awlBQM6I0t7gC0FA7FG4HoULQUDOiNLe4AtBQCh+jLlrCUFAzojS3uALQUAofoy5awlBQOxRuB6FC0FAzojS3uALQUAofoy5awlBQOxRuB6FC0FA7FG4HoULQUDsUbgehQtBQOxRuB6FC0FA",
          "dtype": "f8"
         },
         "legendgroup": "Creative Entrepreneurs - Hollywood Creatives",
         "lon": {
          "bdata": "OPjCZKqYXcA4+MJkqphdwKW9wRcml13Apb3BFyaXXcA4+MJkqphdwGFUUiegmV3Apb3BFyaXXcBhVFInoJldwKW9wRcml13Apb3BFyaXXcClvcEXJpddwGFUUiegmV3AYVRSJ6CZXcA4+MJkqphdwGFUUiegmV3AYVRSJ6CZXcClvcEXJpddwKW9wRcml13AYVRSJ6CZXcA4+MJkqphdwGFUUiegmV3AYVRSJ6CZXcClvcEXJpddwGFUUiegmV3AYVRSJ6CZXcClvcEXJpddwDj4wmSqmF3AYVRSJ6CZXcClvcEXJpddwGFUUiegmV3Apb3BFyaXXcBhVFInoJldwGFUUiegmV3Apb3BFyaXXcClvcEXJpddwGFUUiegmV3AYVRSJ6CZXcClvcEXJpddwKW9wRcml13Apb3BFyaXXcA4+MJkqphdwDj4wmSqmF3AYVRSJ6CZXcA4+MJkqphdwDj4wmSqmF3AOPjCZKqYXcA4+MJkqphdwGFUUiegmV3Apb3BFyaXXcClvcEXJpddwDj4wmSqmF3AOPjCZKqYXcClvcEXJpddwGFUUiegmV3AYVRSJ6CZXcBhVFInoJldwGFUUiegmV3AOPjCZKqYXcClvcEXJpddwDj4wmSqmF3Apb3BFyaXXcA4+MJkqphdwDj4wmSqmF3Apb3BFyaXXcBhVFInoJldwKW9wRcml13AYVRSJ6CZXcA4+MJkqphdwKW9wRcml13AOPjCZKqYXcClvcEXJpddwKW9wRcml13AOPjCZKqYXcClvcEXJpddwKW9wRcml13AYVRSJ6CZXcA4+MJkqphdwDj4wmSqmF3AOPjCZKqYXcBhVFInoJldwKW9wRcml13AYVRSJ6CZXcA4+MJkqphdwKW9wRcml13Apb3BFyaXXcA4+MJkqphdwKW9wRcml13AOPjCZKqYXcClvcEXJpddwKW9wRcml13AOPjCZKqYXcBhVFInoJldwKW9wRcml13AOPjCZKqYXcA4+MJkqphdwDj4wmSqmF3Apb3BFyaXXcClvcEXJpddwKW9wRcml13Apb3BFyaXXcBhVFInoJldwDj4wmSqmF3AYVRSJ6CZXcA4+MJkqphdwKW9wRcml13Apb3BFyaXXcBhVFInoJldwGFUUiegmV3Apb3BFyaXXcClvcEXJpddwKW9wRcml13Apb3BFyaXXcA4+MJkqphdwDj4wmSqmF3AYVRSJ6CZXcClvcEXJpddwKW9wRcml13AOPjCZKqYXcA4+MJkqphdwKW9wRcml13AYVRSJ6CZXcA4+MJkqphdwKW9wRcml13AYVRSJ6CZXcClvcEXJpddwDj4wmSqmF3AYVRSJ6CZXcBhVFInoJldwGFUUiegmV3AOPjCZKqYXcA4+MJkqphdwGFUUiegmV3AOPjCZKqYXcClvcEXJpddwDj4wmSqmF3AOPjCZKqYXcBhVFInoJldwDj4wmSqmF3Apb3BFyaXXcA4+MJkqphdwGFUUiegmV3AOPjCZKqYXcBhVFInoJldwKW9wRcml13AOPjCZKqYXcBhVFInoJldwKW9wRcml13Apb3BFyaXXcClvcEXJpddwKW9wRcml13A",
          "dtype": "f8"
         },
         "marker": {
          "color": "#636efa",
          "size": {
           "bdata": "AAAAAACI80AAAAAAQDACQQAAAAAAiPNAAAAAAIDG80AAAAAAwHoAQQAAAACAiv1AAAAAAACI80AAAAAAAIgDQQAAAACAB/5AAAAAAABG/kAAAAAAgCX5QAAAAAAAvf9AAAAAAICK/UAAAAAAwHQBQQAAAAAAiPNAAAAAAMB0AUEAAAAAwPcAQQAAAADAegBBAAAAAABA/0AAAAAAwHoAQQAAAAAAZPlAAAAAAAB89UAAAAAAgB/6QAAAAACAovlAAAAAAIDYAEEAAAAAgH7/QAAAAAAAvf9AAAAAAABe+kAAAAAAgIT+QAAAAAAAUvxAAAAAAACI80AAAAAAAGr4QAAAAABAPABBAAAAAAARAkEAAAAAAP/0QAAAAABANgFBAAAAAMDfBEEAAAAAQAAKQQAAAACAK/hAAAAAAECtAkEAAAAAAEb+QAAAAAAAiPNAAAAAAIDABEEAAAAAAFj7QAAAAACAovlAAAAAAABe+kAAAAAAAGQJQQAAAACAxgNBAAAAAADh+UAAAAAAwGIEQQAAAAAAiPNAAAAAAADt90AAAAAAgLT2QAAAAAAAz/xAAAAAAADh+UAAAAAAQDACQQAAAACAfv9AAAAAAIBDBEEAAAAAQDYBQQAAAAAAiPNAAAAAAIAT/EAAAAAAgE8CQQAAAAAA/wRBAAAAAACI80AAAAAAgBP8QAAAAAAA2/pAAAAAAIAfCkEAAAAAQDwAQQAAAABAMAJBAAAAAMDrAkEAAAAAAMP+QAAAAADAYgRBAAAAAICE/kAAAAAAgKj4QAAAAADAegBBAAAAAACI80AAAAAAAIjzQAAAAAAAgvRAAAAAAIAZ+0AAAAAAgMYDQQAAAABAGAZBAAAAAIBD9EAAAAAAgFsAQQAAAAAAiPNAAAAAAIDGA0EAAAAAAF76QAAAAACASQNBAAAAAACI80AAAAAAAOH5QAAAAAAAEQJBAAAAAACI80AAAAAAQK0CQQAAAAAAXvpAAAAAAMDTBkEAAAAAQKEEQQAAAAAA7fdAAAAAAMB0AUEAAAAAAAsDQQAAAAAAz/xAAAAAAACI80AAAAAAAFL8QAAAAACArvdAAAAAAIAl+UAAAAAAgNIBQQAAAADA9wBBAAAAAIAB/0AAAAAAgMwCQQAAAACAtPZAAAAAAADb+kAAAAAAAED/QAAAAACAH/pAAAAAAABk+UAAAAAAAHD3QAAAAADA2QVBAAAAAEASB0EAAAAAgH7/QAAAAADA8QFBAAAAAABG/kAAAAAAAFL8QAAAAACADf1AAAAAAIA99UAAAAAAAMn9QAAAAACAPQVBAAAAAIAT/EAAAAAAgAf+QAAAAADA8QFBAAAAAACOAkEAAAAAAJQBQQAAAACAnPpAAAAAAACI80AAAAAAAMP+QAAAAAAAWPtAAAAAAADn+EAAAAAAAIjzQAAAAAAAyf1AAAAAAACI80AAAAAAAPP2QAAAAAAAggRBAAAAAIAZ+0AAAAAAAF76QAAAAAAAlAFBAAAAAABq+EAAAAAAgCv4QAAAAACAovlAAAAAAACI80AAAAAAAIIEQQAAAAAAiPNAAAAAAADh+UAAAAAAgEkDQQAAAACAxvNA",
           "dtype": "f8"
          },
          "sizemode": "area",
          "sizeref": 750
         },
         "mode": "markers",
         "name": "Creative Entrepreneurs - Hollywood Creatives",
         "showlegend": true,
         "subplot": "mapbox",
         "type": "scattermapbox"
        },
        {
         "customdata": [
          [
           34,
           "Software Engineer",
           "Bachelor's"
          ],
          [
           31,
           "UX/UI Designer",
           "Bachelor's"
          ],
          [
           30,
           "UX/UI Designer",
           "Bachelor's"
          ],
          [
           31,
           "UX/UI Designer",
           "Bachelor's"
          ],
          [
           36,
           "Software Engineer",
           "Post Graduate"
          ],
          [
           38,
           "UX/UI Designer",
           "Bachelor's"
          ],
          [
           39,
           "UX/UI Designer",
           "Bachelor's"
          ],
          [
           25,
           "Software Engineer",
           "Bachelor's"
          ],
          [
           35,
           "UX/UI Designer",
           "Post Graduate"
          ],
          [
           28,
           "Product Manager",
           "Bachelor's"
          ],
          [
           38,
           "Product Manager",
           "Bachelor's"
          ],
          [
           35,
           "UX/UI Designer",
           "Bachelor's"
          ],
          [
           34,
           "UX/UI Designer",
           "Bachelor's"
          ],
          [
           33,
           "Software Engineer",
           "Post Graduate"
          ],
          [
           32,
           "Software Engineer",
           "Post Graduate"
          ],
          [
           26,
           "UX/UI Designer",
           "Post Graduate"
          ],
          [
           27,
           "UX/UI Designer",
           "Bachelor's"
          ],
          [
           25,
           "Software Engineer",
           "Bachelor's"
          ],
          [
           31,
           "Product Manager",
           "Bachelor's"
          ],
          [
           38,
           "UX/UI Designer",
           "Bachelor's"
          ],
          [
           37,
           "UX/UI Designer",
           "Post Graduate"
          ],
          [
           36,
           "Software Engineer",
           "Bachelor's"
          ],
          [
           37,
           "Product Manager",
           "Bachelor's"
          ],
          [
           33,
           "Software Engineer",
           "Bachelor's"
          ],
          [
           32,
           "Software Engineer",
           "Bachelor's"
          ],
          [
           30,
           "Product Manager",
           "Post Graduate"
          ],
          [
           26,
           "UX/UI Designer",
           "Bachelor's"
          ],
          [
           32,
           "Software Engineer",
           "Bachelor's"
          ],
          [
           28,
           "UX/UI Designer",
           "Bachelor's"
          ],
          [
           39,
           "Product Manager",
           "Bachelor's"
          ],
          [
           25,
           "UX/UI Designer",
           "Bachelor's"
          ],
          [
           28,
           "Product Manager",
           "Bachelor's"
          ],
          [
           28,
           "Product Manager",
           "Bachelor's"
          ],
          [
           28,
           "UX/UI Designer",
           "Bachelor's"
          ],
          [
           27,
           "UX/UI Designer",
           "Bachelor's"
          ],
          [
           25,
           "Software Engineer",
           "Bachelor's"
          ],
          [
           29,
           "Software Engineer",
           "Bachelor's"
          ],
          [
           32,
           "Product Manager",
           "Bachelor's"
          ],
          [
           27,
           "UX/UI Designer",
           "Bachelor's"
          ],
          [
           25,
           "Software Engineer",
           "Bachelor's"
          ],
          [
           28,
           "Software Engineer",
           "Bachelor's"
          ],
          [
           34,
           "UX/UI Designer",
           "Bachelor's"
          ],
          [
           37,
           "Software Engineer",
           "Bachelor's"
          ],
          [
           37,
           "Product Manager",
           "Bachelor's"
          ],
          [
           31,
           "Product Manager",
           "Bachelor's"
          ],
          [
           31,
           "UX/UI Designer",
           "Bachelor's"
          ],
          [
           30,
           "Product Manager",
           "Post Graduate"
          ],
          [
           29,
           "Product Manager",
           "Bachelor's"
          ],
          [
           33,
           "Software Engineer",
           "Bachelor's"
          ],
          [
           33,
           "Software Engineer",
           "Bachelor's"
          ],
          [
           31,
           "UX/UI Designer",
           "Bachelor's"
          ],
          [
           27,
           "Software Engineer",
           "Bachelor's"
          ],
          [
           33,
           "Software Engineer",
           "Bachelor's"
          ],
          [
           27,
           "Product Manager",
           "Bachelor's"
          ],
          [
           28,
           "Product Manager",
           "Bachelor's"
          ],
          [
           33,
           "Product Manager",
           "Bachelor's"
          ],
          [
           35,
           "Software Engineer",
           "Bachelor's"
          ],
          [
           28,
           "Software Engineer",
           "Bachelor's"
          ],
          [
           36,
           "Product Manager",
           "Post Graduate"
          ],
          [
           36,
           "UX/UI Designer",
           "Bachelor's"
          ],
          [
           25,
           "Software Engineer",
           "Post Graduate"
          ],
          [
           35,
           "UX/UI Designer",
           "Bachelor's"
          ],
          [
           38,
           "Product Manager",
           "Post Graduate"
          ],
          [
           39,
           "Product Manager",
           "Bachelor's"
          ],
          [
           38,
           "UX/UI Designer",
           "Bachelor's"
          ],
          [
           34,
           "UX/UI Designer",
           "Bachelor's"
          ],
          [
           34,
           "Product Manager",
           "Bachelor's"
          ],
          [
           38,
           "UX/UI Designer",
           "Bachelor's"
          ],
          [
           29,
           "Software Engineer",
           "Post Graduate"
          ],
          [
           26,
           "UX/UI Designer",
           "Post Graduate"
          ],
          [
           39,
           "Product Manager",
           "Bachelor's"
          ],
          [
           32,
           "Software Engineer",
           "Post Graduate"
          ],
          [
           34,
           "UX/UI Designer",
           "Bachelor's"
          ],
          [
           31,
           "UX/UI Designer",
           "Post Graduate"
          ],
          [
           29,
           "UX/UI Designer",
           "Bachelor's"
          ],
          [
           36,
           "Software Engineer",
           "Bachelor's"
          ],
          [
           39,
           "Product Manager",
           "Bachelor's"
          ],
          [
           25,
           "Product Manager",
           "Post Graduate"
          ],
          [
           31,
           "UX/UI Designer",
           "Post Graduate"
          ],
          [
           31,
           "Product Manager",
           "Post Graduate"
          ],
          [
           29,
           "Software Engineer",
           "Post Graduate"
          ],
          [
           36,
           "Product Manager",
           "Bachelor's"
          ],
          [
           29,
           "UX/UI Designer",
           "Bachelor's"
          ],
          [
           32,
           "Software Engineer",
           "Bachelor's"
          ],
          [
           27,
           "Product Manager",
           "Bachelor's"
          ],
          [
           39,
           "Product Manager",
           "Post Graduate"
          ],
          [
           38,
           "Software Engineer",
           "Bachelor's"
          ],
          [
           35,
           "Software Engineer",
           "Bachelor's"
          ],
          [
           37,
           "Software Engineer",
           "Bachelor's"
          ],
          [
           34,
           "Software Engineer",
           "Bachelor's"
          ],
          [
           38,
           "UX/UI Designer",
           "Bachelor's"
          ],
          [
           37,
           "UX/UI Designer",
           "Post Graduate"
          ],
          [
           28,
           "UX/UI Designer",
           "Bachelor's"
          ],
          [
           30,
           "Software Engineer",
           "Bachelor's"
          ],
          [
           27,
           "UX/UI Designer",
           "Bachelor's"
          ],
          [
           35,
           "UX/UI Designer",
           "Post Graduate"
          ],
          [
           33,
           "Product Manager",
           "Bachelor's"
          ],
          [
           39,
           "Software Engineer",
           "Post Graduate"
          ],
          [
           35,
           "Software Engineer",
           "Bachelor's"
          ],
          [
           27,
           "UX/UI Designer",
           "Post Graduate"
          ],
          [
           29,
           "UX/UI Designer",
           "Bachelor's"
          ],
          [
           37,
           "Software Engineer",
           "Bachelor's"
          ],
          [
           26,
           "UX/UI Designer",
           "Post Graduate"
          ],
          [
           35,
           "UX/UI Designer",
           "Bachelor's"
          ],
          [
           34,
           "Product Manager",
           "Bachelor's"
          ],
          [
           29,
           "Software Engineer",
           "Bachelor's"
          ],
          [
           30,
           "Software Engineer",
           "Post Graduate"
          ],
          [
           33,
           "Software Engineer",
           "Bachelor's"
          ],
          [
           31,
           "Software Engineer",
           "Bachelor's"
          ],
          [
           39,
           "Software Engineer",
           "Bachelor's"
          ],
          [
           38,
           "UX/UI Designer",
           "Post Graduate"
          ],
          [
           28,
           "Product Manager",
           "Post Graduate"
          ],
          [
           37,
           "Software Engineer",
           "Post Graduate"
          ],
          [
           26,
           "Software Engineer",
           "Bachelor's"
          ],
          [
           26,
           "Product Manager",
           "Post Graduate"
          ],
          [
           32,
           "Software Engineer",
           "Bachelor's"
          ],
          [
           25,
           "Software Engineer",
           "Bachelor's"
          ],
          [
           25,
           "Product Manager",
           "Bachelor's"
          ],
          [
           26,
           "Product Manager",
           "Post Graduate"
          ],
          [
           38,
           "Product Manager",
           "Bachelor's"
          ],
          [
           35,
           "Software Engineer",
           "Bachelor's"
          ],
          [
           38,
           "Software Engineer",
           "Bachelor's"
          ],
          [
           32,
           "UX/UI Designer",
           "Post Graduate"
          ],
          [
           31,
           "Product Manager",
           "Post Graduate"
          ],
          [
           37,
           "UX/UI Designer",
           "Bachelor's"
          ],
          [
           36,
           "Product Manager",
           "Bachelor's"
          ],
          [
           34,
           "Software Engineer",
           "Bachelor's"
          ],
          [
           25,
           "Product Manager",
           "Bachelor's"
          ],
          [
           32,
           "UX/UI Designer",
           "Bachelor's"
          ],
          [
           26,
           "Software Engineer",
           "Bachelor's"
          ],
          [
           33,
           "Software Engineer",
           "Bachelor's"
          ],
          [
           27,
           "UX/UI Designer",
           "Bachelor's"
          ],
          [
           33,
           "Software Engineer",
           "Post Graduate"
          ],
          [
           37,
           "Product Manager",
           "Bachelor's"
          ],
          [
           33,
           "UX/UI Designer",
           "Post Graduate"
          ],
          [
           37,
           "UX/UI Designer",
           "Bachelor's"
          ],
          [
           30,
           "UX/UI Designer",
           "Bachelor's"
          ],
          [
           34,
           "Product Manager",
           "Bachelor's"
          ],
          [
           32,
           "Software Engineer",
           "Bachelor's"
          ],
          [
           28,
           "UX/UI Designer",
           "Bachelor's"
          ],
          [
           29,
           "UX/UI Designer",
           "Bachelor's"
          ],
          [
           33,
           "Software Engineer",
           "Bachelor's"
          ],
          [
           27,
           "Software Engineer",
           "Bachelor's"
          ],
          [
           37,
           "Product Manager",
           "Bachelor's"
          ],
          [
           39,
           "Software Engineer",
           "Bachelor's"
          ],
          [
           35,
           "Product Manager",
           "Bachelor's"
          ],
          [
           37,
           "Product Manager",
           "Post Graduate"
          ],
          [
           32,
           "Software Engineer",
           "Post Graduate"
          ],
          [
           37,
           "Product Manager",
           "Bachelor's"
          ],
          [
           32,
           "UX/UI Designer",
           "Bachelor's"
          ],
          [
           35,
           "UX/UI Designer",
           "Post Graduate"
          ],
          [
           32,
           "Software Engineer",
           "Post Graduate"
          ],
          [
           34,
           "UX/UI Designer",
           "Bachelor's"
          ],
          [
           38,
           "UX/UI Designer",
           "Bachelor's"
          ],
          [
           34,
           "Product Manager",
           "Bachelor's"
          ],
          [
           36,
           "Software Engineer",
           "Bachelor's"
          ],
          [
           26,
           "Software Engineer",
           "Bachelor's"
          ],
          [
           33,
           "Product Manager",
           "Bachelor's"
          ],
          [
           33,
           "Product Manager",
           "Bachelor's"
          ],
          [
           36,
           "Software Engineer",
           "Bachelor's"
          ],
          [
           26,
           "Software Engineer",
           "Bachelor's"
          ],
          [
           39,
           "Product Manager",
           "Bachelor's"
          ],
          [
           38,
           "UX/UI Designer",
           "Post Graduate"
          ],
          [
           37,
           "UX/UI Designer",
           "Bachelor's"
          ],
          [
           39,
           "UX/UI Designer",
           "Bachelor's"
          ],
          [
           26,
           "UX/UI Designer",
           "Bachelor's"
          ],
          [
           29,
           "Product Manager",
           "Bachelor's"
          ],
          [
           38,
           "UX/UI Designer",
           "Bachelor's"
          ],
          [
           36,
           "Software Engineer",
           "Bachelor's"
          ],
          [
           32,
           "Software Engineer",
           "Bachelor's"
          ],
          [
           27,
           "Product Manager",
           "Bachelor's"
          ],
          [
           35,
           "UX/UI Designer",
           "Bachelor's"
          ],
          [
           26,
           "Product Manager",
           "Bachelor's"
          ],
          [
           26,
           "UX/UI Designer",
           "Bachelor's"
          ],
          [
           38,
           "UX/UI Designer",
           "Bachelor's"
          ],
          [
           33,
           "Software Engineer",
           "Bachelor's"
          ],
          [
           33,
           "Product Manager",
           "Bachelor's"
          ],
          [
           33,
           "Software Engineer",
           "Bachelor's"
          ],
          [
           27,
           "Product Manager",
           "Bachelor's"
          ],
          [
           35,
           "UX/UI Designer",
           "Bachelor's"
          ],
          [
           27,
           "UX/UI Designer",
           "Bachelor's"
          ],
          [
           38,
           "Product Manager",
           "Bachelor's"
          ],
          [
           29,
           "Software Engineer",
           "Bachelor's"
          ],
          [
           29,
           "UX/UI Designer",
           "Post Graduate"
          ],
          [
           26,
           "UX/UI Designer",
           "Post Graduate"
          ],
          [
           31,
           "Software Engineer",
           "Post Graduate"
          ],
          [
           33,
           "Software Engineer",
           "Bachelor's"
          ],
          [
           37,
           "Product Manager",
           "Post Graduate"
          ],
          [
           38,
           "Product Manager",
           "Bachelor's"
          ],
          [
           25,
           "Product Manager",
           "Post Graduate"
          ],
          [
           26,
           "Product Manager",
           "Bachelor's"
          ],
          [
           39,
           "Product Manager",
           "Bachelor's"
          ],
          [
           25,
           "UX/UI Designer",
           "Bachelor's"
          ],
          [
           37,
           "UX/UI Designer",
           "Bachelor's"
          ],
          [
           26,
           "UX/UI Designer",
           "Post Graduate"
          ],
          [
           38,
           "Product Manager",
           "Bachelor's"
          ],
          [
           32,
           "UX/UI Designer",
           "Bachelor's"
          ],
          [
           35,
           "UX/UI Designer",
           "Bachelor's"
          ],
          [
           27,
           "Product Manager",
           "Bachelor's"
          ],
          [
           37,
           "Product Manager",
           "Bachelor's"
          ]
         ],
         "hovertemplate": "<b>%{hovertext}</b><br><br>tribe=Tech-Savvy Professionals - Silicon Beach Innovators<br>income=%{marker.size}<br>latitude=%{lat}<br>longitude=%{lon}<br>age=%{customdata[0]}<br>occupation=%{customdata[1]}<br>education=%{customdata[2]}<extra></extra>",
         "hovertext": [
          "Venice Beach tech industry leaders",
          "Venice Beach tech industry leaders",
          "Venice Beach tech industry leaders",
          "Venice Beach tech industry leaders",
          "Venice Beach tech industry leaders",
          "Venice Beach tech industry leaders",
          "Venice Beach tech industry leaders",
          "Venice Beach tech industry leaders",
          "Venice Beach tech industry leaders",
          "Venice Beach tech industry leaders",
          "Venice Beach tech industry leaders",
          "Venice Beach tech industry leaders",
          "Venice Beach tech industry leaders",
          "Venice Beach tech industry leaders",
          "Venice Beach tech industry leaders",
          "Venice Beach tech industry leaders",
          "Venice Beach tech industry leaders",
          "Venice Beach tech industry leaders",
          "Venice Beach tech industry leaders",
          "Venice Beach tech industry leaders",
          "Venice Beach tech industry leaders",
          "Venice Beach tech industry leaders",
          "Venice Beach tech industry leaders",
          "Venice Beach tech industry leaders",
          "Venice Beach tech industry leaders",
          "Venice Beach tech industry leaders",
          "Venice Beach tech industry leaders",
          "Venice Beach tech industry leaders",
          "Venice Beach tech industry leaders",
          "Venice Beach tech industry leaders",
          "Venice Beach tech industry leaders",
          "Venice Beach tech industry leaders",
          "Venice Beach tech industry leaders",
          "Venice Beach tech industry leaders",
          "Venice Beach tech industry leaders",
          "Venice Beach tech industry leaders",
          "Venice Beach tech industry leaders",
          "Venice Beach tech industry leaders",
          "Venice Beach tech industry leaders",
          "Venice Beach tech industry leaders",
          "Venice Beach tech industry leaders",
          "Venice Beach tech industry leaders",
          "Venice Beach tech industry leaders",
          "Venice Beach tech industry leaders",
          "Venice Beach tech industry leaders",
          "Venice Beach tech industry leaders",
          "Venice Beach tech industry leaders",
          "Venice Beach tech industry leaders",
          "Venice Beach tech industry leaders",
          "Venice Beach tech industry leaders",
          "Venice Beach tech industry leaders",
          "Venice Beach tech industry leaders",
          "Venice Beach tech industry leaders",
          "Venice Beach tech industry leaders",
          "Venice Beach tech industry leaders",
          "Venice Beach tech industry leaders",
          "Venice Beach tech industry leaders",
          "Venice Beach tech industry leaders",
          "Venice Beach tech industry leaders",
          "Venice Beach tech industry leaders",
          "Venice Beach tech industry leaders",
          "Venice Beach tech industry leaders",
          "Venice Beach tech industry leaders",
          "Venice Beach tech industry leaders",
          "Venice Beach tech industry leaders",
          "Venice Beach tech industry leaders",
          "Venice Beach tech industry leaders",
          "Venice Beach tech industry leaders",
          "Venice Beach tech industry leaders",
          "Venice Beach tech industry leaders",
          "Venice Beach tech industry leaders",
          "Venice Beach tech industry leaders",
          "Venice Beach tech industry leaders",
          "Venice Beach tech industry leaders",
          "Venice Beach tech industry leaders",
          "Venice Beach tech industry leaders",
          "Venice Beach tech industry leaders",
          "Venice Beach tech industry leaders",
          "Venice Beach tech industry leaders",
          "Venice Beach tech industry leaders",
          "Venice Beach tech industry leaders",
          "Venice Beach tech industry leaders",
          "Venice Beach tech industry leaders",
          "Venice Beach tech industry leaders",
          "Venice Beach tech industry leaders",
          "Venice Beach tech industry leaders",
          "Venice Beach tech industry leaders",
          "Venice Beach tech industry leaders",
          "Venice Beach tech industry leaders",
          "Venice Beach tech industry leaders",
          "Venice Beach tech industry leaders",
          "Venice Beach tech industry leaders",
          "Venice Beach tech industry leaders",
          "Venice Beach tech industry leaders",
          "Venice Beach tech industry leaders",
          "Venice Beach tech industry leaders",
          "Venice Beach tech industry leaders",
          "Venice Beach tech industry leaders",
          "Venice Beach tech industry leaders",
          "Venice Beach tech industry leaders",
          "Venice Beach tech industry leaders",
          "Venice Beach tech industry leaders",
          "Venice Beach tech industry leaders",
          "Venice Beach tech industry leaders",
          "Venice Beach tech industry leaders",
          "Venice Beach tech industry leaders",
          "Venice Beach tech industry leaders",
          "Venice Beach tech industry leaders",
          "Venice Beach tech industry leaders",
          "Venice Beach tech industry leaders",
          "Venice Beach tech industry leaders",
          "Venice Beach tech industry leaders",
          "Venice Beach tech industry leaders",
          "Venice Beach tech industry leaders",
          "Venice Beach tech industry leaders",
          "Venice Beach tech industry leaders",
          "Venice Beach tech industry leaders",
          "Venice Beach tech industry leaders",
          "Venice Beach tech industry leaders",
          "Venice Beach tech industry leaders",
          "Venice Beach tech industry leaders",
          "Venice Beach tech industry leaders",
          "Venice Beach tech industry leaders",
          "Venice Beach tech industry leaders",
          "Venice Beach tech industry leaders",
          "Venice Beach tech industry leaders",
          "Venice Beach tech industry leaders",
          "Venice Beach tech industry leaders",
          "Venice Beach tech industry leaders",
          "Venice Beach tech industry leaders",
          "Venice Beach tech industry leaders",
          "Venice Beach tech industry leaders",
          "Venice Beach tech industry leaders",
          "Venice Beach tech industry leaders",
          "Venice Beach tech industry leaders",
          "Venice Beach tech industry leaders",
          "Venice Beach tech industry leaders",
          "Venice Beach tech industry leaders",
          "Venice Beach tech industry leaders",
          "Venice Beach tech industry leaders",
          "Venice Beach tech industry leaders",
          "Venice Beach tech industry leaders",
          "Venice Beach tech industry leaders",
          "Venice Beach tech industry leaders",
          "Venice Beach tech industry leaders",
          "Venice Beach tech industry leaders",
          "Venice Beach tech industry leaders",
          "Venice Beach tech industry leaders",
          "Venice Beach tech industry leaders",
          "Venice Beach tech industry leaders",
          "Venice Beach tech industry leaders",
          "Venice Beach tech industry leaders",
          "Venice Beach tech industry leaders",
          "Venice Beach tech industry leaders",
          "Venice Beach tech industry leaders",
          "Venice Beach tech industry leaders",
          "Venice Beach tech industry leaders",
          "Venice Beach tech industry leaders",
          "Venice Beach tech industry leaders",
          "Venice Beach tech industry leaders",
          "Venice Beach tech industry leaders",
          "Venice Beach tech industry leaders",
          "Venice Beach tech industry leaders",
          "Venice Beach tech industry leaders",
          "Venice Beach tech industry leaders",
          "Venice Beach tech industry leaders",
          "Venice Beach tech industry leaders",
          "Venice Beach tech industry leaders",
          "Venice Beach tech industry leaders",
          "Venice Beach tech industry leaders",
          "Venice Beach tech industry leaders",
          "Venice Beach tech industry leaders",
          "Venice Beach tech industry leaders",
          "Venice Beach tech industry leaders",
          "Venice Beach tech industry leaders",
          "Venice Beach tech industry leaders",
          "Venice Beach tech industry leaders",
          "Venice Beach tech industry leaders",
          "Venice Beach tech industry leaders",
          "Venice Beach tech industry leaders",
          "Venice Beach tech industry leaders",
          "Venice Beach tech industry leaders",
          "Venice Beach tech industry leaders",
          "Venice Beach tech industry leaders",
          "Venice Beach tech industry leaders",
          "Venice Beach tech industry leaders",
          "Venice Beach tech industry leaders",
          "Venice Beach tech industry leaders",
          "Venice Beach tech industry leaders",
          "Venice Beach tech industry leaders",
          "Venice Beach tech industry leaders",
          "Venice Beach tech industry leaders",
          "Venice Beach tech industry leaders",
          "Venice Beach tech industry leaders",
          "Venice Beach tech industry leaders",
          "Venice Beach tech industry leaders",
          "Venice Beach tech industry leaders",
          "Venice Beach tech industry leaders",
          "Venice Beach tech industry leaders",
          "Venice Beach tech industry leaders"
         ],
         "lat": {
          "bdata": "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",
          "dtype": "f8"
         },
         "legendgroup": "Tech-Savvy Professionals - Silicon Beach Innovators",
         "lon": {
          "bdata": "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",
          "dtype": "f8"
         },
         "marker": {
          "color": "#EF553B",
          "size": {
           "bdata": "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",
           "dtype": "f8"
          },
          "sizemode": "area",
          "sizeref": 750
         },
         "mode": "markers",
         "name": "Tech-Savvy Professionals - Silicon Beach Innovators",
         "showlegend": true,
         "subplot": "mapbox",
         "type": "scattermapbox"
        },
        {
         "customdata": [
          [
           23,
           "Intern",
           "Some College"
          ],
          [
           22,
           "Intern",
           "Some College"
          ],
          [
           22,
           "Intern",
           "Some College"
          ],
          [
           20,
           "Intern",
           "Some College"
          ],
          [
           20,
           "Student",
           "Some College"
          ],
          [
           22,
           "Intern",
           "Some College"
          ],
          [
           23,
           "Intern",
           "Some College"
          ],
          [
           22,
           "Intern",
           "Some College"
          ],
          [
           18,
           "Intern",
           "Some College"
          ],
          [
           23,
           "Part-time Worker",
           "Some College"
          ],
          [
           21,
           "Part-time Worker",
           "Some College"
          ],
          [
           23,
           "Part-time Worker",
           "Some College"
          ],
          [
           19,
           "Part-time Worker",
           "Some College"
          ],
          [
           18,
           "Intern",
           "Some College"
          ],
          [
           20,
           "Intern",
           "Some College"
          ],
          [
           21,
           "Part-time Worker",
           "Some College"
          ],
          [
           18,
           "Intern",
           "Some College"
          ],
          [
           20,
           "Part-time Worker",
           "Some College"
          ],
          [
           20,
           "Intern",
           "Some College"
          ],
          [
           19,
           "Student",
           "Some College"
          ],
          [
           21,
           "Intern",
           "Some College"
          ],
          [
           20,
           "Intern",
           "Some College"
          ],
          [
           22,
           "Student",
           "Some College"
          ],
          [
           18,
           "Intern",
           "Some College"
          ],
          [
           23,
           "Student",
           "Some College"
          ],
          [
           21,
           "Part-time Worker",
           "Some College"
          ],
          [
           18,
           "Intern",
           "Some College"
          ],
          [
           22,
           "Part-time Worker",
           "Some College"
          ],
          [
           20,
           "Part-time Worker",
           "Some College"
          ],
          [
           18,
           "Part-time Worker",
           "Some College"
          ],
          [
           20,
           "Intern",
           "Some College"
          ],
          [
           20,
           "Part-time Worker",
           "Some College"
          ],
          [
           21,
           "Student",
           "Some College"
          ],
          [
           21,
           "Student",
           "Some College"
          ],
          [
           20,
           "Student",
           "Some College"
          ],
          [
           22,
           "Intern",
           "Some College"
          ],
          [
           18,
           "Student",
           "Some College"
          ],
          [
           23,
           "Intern",
           "Some College"
          ],
          [
           23,
           "Part-time Worker",
           "Some College"
          ],
          [
           19,
           "Student",
           "Some College"
          ],
          [
           18,
           "Intern",
           "Some College"
          ],
          [
           21,
           "Part-time Worker",
           "Some College"
          ],
          [
           22,
           "Intern",
           "Some College"
          ],
          [
           20,
           "Part-time Worker",
           "Some College"
          ],
          [
           21,
           "Student",
           "Some College"
          ],
          [
           21,
           "Part-time Worker",
           "Some College"
          ],
          [
           18,
           "Student",
           "Some College"
          ],
          [
           23,
           "Part-time Worker",
           "Some College"
          ],
          [
           20,
           "Part-time Worker",
           "Some College"
          ],
          [
           23,
           "Student",
           "Some College"
          ],
          [
           22,
           "Part-time Worker",
           "Some College"
          ],
          [
           23,
           "Student",
           "Some College"
          ],
          [
           21,
           "Part-time Worker",
           "Some College"
          ],
          [
           20,
           "Student",
           "Some College"
          ],
          [
           23,
           "Intern",
           "Some College"
          ],
          [
           19,
           "Student",
           "Some College"
          ],
          [
           21,
           "Part-time Worker",
           "Some College"
          ],
          [
           19,
           "Student",
           "Some College"
          ],
          [
           19,
           "Student",
           "Some College"
          ],
          [
           21,
           "Intern",
           "Some College"
          ],
          [
           23,
           "Student",
           "Some College"
          ],
          [
           23,
           "Part-time Worker",
           "Some College"
          ],
          [
           18,
           "Intern",
           "Some College"
          ],
          [
           20,
           "Part-time Worker",
           "Some College"
          ],
          [
           22,
           "Student",
           "Some College"
          ],
          [
           20,
           "Part-time Worker",
           "Some College"
          ],
          [
           20,
           "Student",
           "Some College"
          ],
          [
           23,
           "Part-time Worker",
           "Some College"
          ],
          [
           23,
           "Intern",
           "Some College"
          ],
          [
           18,
           "Intern",
           "Some College"
          ],
          [
           23,
           "Student",
           "Some College"
          ],
          [
           22,
           "Part-time Worker",
           "Some College"
          ],
          [
           19,
           "Student",
           "Some College"
          ],
          [
           20,
           "Part-time Worker",
           "Some College"
          ],
          [
           18,
           "Part-time Worker",
           "Some College"
          ],
          [
           20,
           "Part-time Worker",
           "Some College"
          ],
          [
           22,
           "Intern",
           "Some College"
          ],
          [
           18,
           "Part-time Worker",
           "Some College"
          ],
          [
           18,
           "Part-time Worker",
           "Some College"
          ],
          [
           22,
           "Student",
           "Some College"
          ],
          [
           19,
           "Student",
           "Some College"
          ],
          [
           22,
           "Intern",
           "Some College"
          ],
          [
           21,
           "Student",
           "Some College"
          ],
          [
           20,
           "Part-time Worker",
           "Some College"
          ],
          [
           18,
           "Student",
           "Some College"
          ],
          [
           22,
           "Intern",
           "Some College"
          ],
          [
           21,
           "Student",
           "Some College"
          ],
          [
           19,
           "Part-time Worker",
           "Some College"
          ],
          [
           23,
           "Intern",
           "Some College"
          ],
          [
           22,
           "Intern",
           "Some College"
          ],
          [
           19,
           "Student",
           "Some College"
          ],
          [
           18,
           "Student",
           "Some College"
          ],
          [
           22,
           "Student",
           "Some College"
          ],
          [
           23,
           "Part-time Worker",
           "Some College"
          ],
          [
           23,
           "Student",
           "Some College"
          ],
          [
           20,
           "Part-time Worker",
           "Some College"
          ],
          [
           19,
           "Part-time Worker",
           "Some College"
          ],
          [
           19,
           "Student",
           "Some College"
          ],
          [
           19,
           "Intern",
           "Some College"
          ],
          [
           23,
           "Student",
           "Some College"
          ],
          [
           22,
           "Intern",
           "Some College"
          ],
          [
           21,
           "Part-time Worker",
           "Some College"
          ],
          [
           21,
           "Student",
           "Some College"
          ],
          [
           23,
           "Intern",
           "Some College"
          ],
          [
           20,
           "Student",
           "Some College"
          ],
          [
           22,
           "Student",
           "Some College"
          ],
          [
           20,
           "Intern",
           "Some College"
          ],
          [
           23,
           "Part-time Worker",
           "Some College"
          ],
          [
           23,
           "Part-time Worker",
           "Some College"
          ],
          [
           21,
           "Part-time Worker",
           "Some College"
          ],
          [
           22,
           "Intern",
           "Some College"
          ],
          [
           18,
           "Student",
           "Some College"
          ],
          [
           18,
           "Part-time Worker",
           "Some College"
          ],
          [
           22,
           "Student",
           "Some College"
          ],
          [
           22,
           "Part-time Worker",
           "Some College"
          ],
          [
           20,
           "Intern",
           "Some College"
          ],
          [
           23,
           "Intern",
           "Some College"
          ],
          [
           20,
           "Part-time Worker",
           "Some College"
          ],
          [
           23,
           "Intern",
           "Some College"
          ],
          [
           18,
           "Intern",
           "Some College"
          ],
          [
           19,
           "Student",
           "Some College"
          ],
          [
           21,
           "Intern",
           "Some College"
          ],
          [
           22,
           "Intern",
           "Some College"
          ],
          [
           21,
           "Part-time Worker",
           "Some College"
          ],
          [
           19,
           "Intern",
           "Some College"
          ],
          [
           18,
           "Part-time Worker",
           "Some College"
          ],
          [
           21,
           "Part-time Worker",
           "Some College"
          ],
          [
           22,
           "Student",
           "Some College"
          ],
          [
           22,
           "Intern",
           "Some College"
          ],
          [
           23,
           "Part-time Worker",
           "Some College"
          ],
          [
           22,
           "Student",
           "Some College"
          ],
          [
           22,
           "Intern",
           "Some College"
          ],
          [
           21,
           "Intern",
           "Some College"
          ],
          [
           19,
           "Intern",
           "Some College"
          ],
          [
           20,
           "Student",
           "Some College"
          ],
          [
           23,
           "Student",
           "Some College"
          ],
          [
           18,
           "Part-time Worker",
           "Some College"
          ],
          [
           19,
           "Part-time Worker",
           "Some College"
          ],
          [
           20,
           "Part-time Worker",
           "Some College"
          ],
          [
           20,
           "Student",
           "Some College"
          ],
          [
           21,
           "Intern",
           "Some College"
          ],
          [
           23,
           "Part-time Worker",
           "Some College"
          ],
          [
           18,
           "Intern",
           "Some College"
          ],
          [
           23,
           "Part-time Worker",
           "Some College"
          ],
          [
           22,
           "Student",
           "Some College"
          ],
          [
           20,
           "Intern",
           "Some College"
          ],
          [
           22,
           "Part-time Worker",
           "Some College"
          ],
          [
           21,
           "Part-time Worker",
           "Some College"
          ],
          [
           18,
           "Part-time Worker",
           "Some College"
          ],
          [
           20,
           "Intern",
           "Some College"
          ],
          [
           21,
           "Part-time Worker",
           "Some College"
          ],
          [
           23,
           "Intern",
           "Some College"
          ],
          [
           22,
           "Student",
           "Some College"
          ],
          [
           20,
           "Part-time Worker",
           "Some College"
          ],
          [
           23,
           "Part-time Worker",
           "Some College"
          ],
          [
           20,
           "Part-time Worker",
           "Some College"
          ],
          [
           19,
           "Student",
           "Some College"
          ],
          [
           19,
           "Student",
           "Some College"
          ],
          [
           23,
           "Part-time Worker",
           "Some College"
          ],
          [
           22,
           "Intern",
           "Some College"
          ],
          [
           19,
           "Intern",
           "Some College"
          ],
          [
           20,
           "Student",
           "Some College"
          ],
          [
           20,
           "Student",
           "Some College"
          ],
          [
           19,
           "Part-time Worker",
           "Some College"
          ],
          [
           18,
           "Student",
           "Some College"
          ],
          [
           19,
           "Student",
           "Some College"
          ],
          [
           23,
           "Student",
           "Some College"
          ],
          [
           21,
           "Part-time Worker",
           "Some College"
          ],
          [
           18,
           "Student",
           "Some College"
          ],
          [
           21,
           "Student",
           "Some College"
          ],
          [
           23,
           "Student",
           "Some College"
          ],
          [
           19,
           "Student",
           "Some College"
          ],
          [
           22,
           "Part-time Worker",
           "Some College"
          ],
          [
           23,
           "Student",
           "Some College"
          ],
          [
           22,
           "Student",
           "Some College"
          ],
          [
           19,
           "Intern",
           "Some College"
          ],
          [
           23,
           "Part-time Worker",
           "Some College"
          ],
          [
           19,
           "Student",
           "Some College"
          ],
          [
           21,
           "Intern",
           "Some College"
          ],
          [
           23,
           "Part-time Worker",
           "Some College"
          ],
          [
           22,
           "Part-time Worker",
           "Some College"
          ],
          [
           21,
           "Part-time Worker",
           "Some College"
          ],
          [
           22,
           "Student",
           "Some College"
          ],
          [
           22,
           "Intern",
           "Some College"
          ],
          [
           21,
           "Student",
           "Some College"
          ],
          [
           19,
           "Part-time Worker",
           "Some College"
          ],
          [
           20,
           "Student",
           "Some College"
          ],
          [
           20,
           "Student",
           "Some College"
          ],
          [
           18,
           "Part-time Worker",
           "Some College"
          ],
          [
           23,
           "Student",
           "Some College"
          ],
          [
           22,
           "Part-time Worker",
           "Some College"
          ],
          [
           23,
           "Student",
           "Some College"
          ],
          [
           21,
           "Intern",
           "Some College"
          ],
          [
           21,
           "Intern",
           "Some College"
          ],
          [
           21,
           "Intern",
           "Some College"
          ],
          [
           23,
           "Student",
           "Some College"
          ],
          [
           22,
           "Student",
           "Some College"
          ],
          [
           22,
           "Part-time Worker",
           "Some College"
          ],
          [
           20,
           "Intern",
           "Some College"
          ],
          [
           19,
           "Part-time Worker",
           "Some College"
          ],
          [
           21,
           "Student",
           "Some College"
          ],
          [
           21,
           "Student",
           "Some College"
          ],
          [
           20,
           "Part-time Worker",
           "Some College"
          ],
          [
           23,
           "Student",
           "Some College"
          ]
         ],
         "hovertemplate": "<b>%{hovertext}</b><br><br>tribe=College Students - Campus Life (UCLA / USC)<br>income=%{marker.size}<br>latitude=%{lat}<br>longitude=%{lon}<br>age=%{customdata[0]}<br>occupation=%{customdata[1]}<br>education=%{customdata[2]}<extra></extra>",
         "hovertext": [
          "UCLA/USC students",
          "UCLA/USC students",
          "UCLA/USC students",
          "UCLA/USC students",
          "UCLA/USC students",
          "UCLA/USC students",
          "UCLA/USC students",
          "UCLA/USC students",
          "UCLA/USC students",
          "UCLA/USC students",
          "UCLA/USC students",
          "UCLA/USC students",
          "UCLA/USC students",
          "UCLA/USC students",
          "UCLA/USC students",
          "UCLA/USC students",
          "UCLA/USC students",
          "UCLA/USC students",
          "UCLA/USC students",
          "UCLA/USC students",
          "UCLA/USC students",
          "UCLA/USC students",
          "UCLA/USC students",
          "UCLA/USC students",
          "UCLA/USC students",
          "UCLA/USC students",
          "UCLA/USC students",
          "UCLA/USC students",
          "UCLA/USC students",
          "UCLA/USC students",
          "UCLA/USC students",
          "UCLA/USC students",
          "UCLA/USC students",
          "UCLA/USC students",
          "UCLA/USC students",
          "UCLA/USC students",
          "UCLA/USC students",
          "UCLA/USC students",
          "UCLA/USC students",
          "UCLA/USC students",
          "UCLA/USC students",
          "UCLA/USC students",
          "UCLA/USC students",
          "UCLA/USC students",
          "UCLA/USC students",
          "UCLA/USC students",
          "UCLA/USC students",
          "UCLA/USC students",
          "UCLA/USC students",
          "UCLA/USC students",
          "UCLA/USC students",
          "UCLA/USC students",
          "UCLA/USC students",
          "UCLA/USC students",
          "UCLA/USC students",
          "UCLA/USC students",
          "UCLA/USC students",
          "UCLA/USC students",
          "UCLA/USC students",
          "UCLA/USC students",
          "UCLA/USC students",
          "UCLA/USC students",
          "UCLA/USC students",
          "UCLA/USC students",
          "UCLA/USC students",
          "UCLA/USC students",
          "UCLA/USC students",
          "UCLA/USC students",
          "UCLA/USC students",
          "UCLA/USC students",
          "UCLA/USC students",
          "UCLA/USC students",
          "UCLA/USC students",
          "UCLA/USC students",
          "UCLA/USC students",
          "UCLA/USC students",
          "UCLA/USC students",
          "UCLA/USC students",
          "UCLA/USC students",
          "UCLA/USC students",
          "UCLA/USC students",
          "UCLA/USC students",
          "UCLA/USC students",
          "UCLA/USC students",
          "UCLA/USC students",
          "UCLA/USC students",
          "UCLA/USC students",
          "UCLA/USC students",
          "UCLA/USC students",
          "UCLA/USC students",
          "UCLA/USC students",
          "UCLA/USC students",
          "UCLA/USC students",
          "UCLA/USC students",
          "UCLA/USC students",
          "UCLA/USC students",
          "UCLA/USC students",
          "UCLA/USC students",
          "UCLA/USC students",
          "UCLA/USC students",
          "UCLA/USC students",
          "UCLA/USC students",
          "UCLA/USC students",
          "UCLA/USC students",
          "UCLA/USC students",
          "UCLA/USC students",
          "UCLA/USC students",
          "UCLA/USC students",
          "UCLA/USC students",
          "UCLA/USC students",
          "UCLA/USC students",
          "UCLA/USC students",
          "UCLA/USC students",
          "UCLA/USC students",
          "UCLA/USC students",
          "UCLA/USC students",
          "UCLA/USC students",
          "UCLA/USC students",
          "UCLA/USC students",
          "UCLA/USC students",
          "UCLA/USC students",
          "UCLA/USC students",
          "UCLA/USC students",
          "UCLA/USC students",
          "UCLA/USC students",
          "UCLA/USC students",
          "UCLA/USC students",
          "UCLA/USC students",
          "UCLA/USC students",
          "UCLA/USC students",
          "UCLA/USC students",
          "UCLA/USC students",
          "UCLA/USC students",
          "UCLA/USC students",
          "UCLA/USC students",
          "UCLA/USC students",
          "UCLA/USC students",
          "UCLA/USC students",
          "UCLA/USC students",
          "UCLA/USC students",
          "UCLA/USC students",
          "UCLA/USC students",
          "UCLA/USC students",
          "UCLA/USC students",
          "UCLA/USC students",
          "UCLA/USC students",
          "UCLA/USC students",
          "UCLA/USC students",
          "UCLA/USC students",
          "UCLA/USC students",
          "UCLA/USC students",
          "UCLA/USC students",
          "UCLA/USC students",
          "UCLA/USC students",
          "UCLA/USC students",
          "UCLA/USC students",
          "UCLA/USC students",
          "UCLA/USC students",
          "UCLA/USC students",
          "UCLA/USC students",
          "UCLA/USC students",
          "UCLA/USC students",
          "UCLA/USC students",
          "UCLA/USC students",
          "UCLA/USC students",
          "UCLA/USC students",
          "UCLA/USC students",
          "UCLA/USC students",
          "UCLA/USC students",
          "UCLA/USC students",
          "UCLA/USC students",
          "UCLA/USC students",
          "UCLA/USC students",
          "UCLA/USC students",
          "UCLA/USC students",
          "UCLA/USC students",
          "UCLA/USC students",
          "UCLA/USC students",
          "UCLA/USC students",
          "UCLA/USC students",
          "UCLA/USC students",
          "UCLA/USC students",
          "UCLA/USC students",
          "UCLA/USC students",
          "UCLA/USC students",
          "UCLA/USC students",
          "UCLA/USC students",
          "UCLA/USC students",
          "UCLA/USC students",
          "UCLA/USC students",
          "UCLA/USC students",
          "UCLA/USC students",
          "UCLA/USC students",
          "UCLA/USC students",
          "UCLA/USC students",
          "UCLA/USC students",
          "UCLA/USC students",
          "UCLA/USC students",
          "UCLA/USC students",
          "UCLA/USC students",
          "UCLA/USC students",
          "UCLA/USC students",
          "UCLA/USC students",
          "UCLA/USC students"
         ],
         "lat": {
          "bdata": "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",
          "dtype": "f8"
         },
         "legendgroup": "College Students - Campus Life (UCLA / USC)",
         "lon": {
          "bdata": "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",
          "dtype": "f8"
         },
         "marker": {
          "color": "#00cc96",
          "size": {
           "bdata": "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",
           "dtype": "f8"
          },
          "sizemode": "area",
          "sizeref": 750
         },
         "mode": "markers",
         "name": "College Students - Campus Life (UCLA / USC)",
         "showlegend": true,
         "subplot": "mapbox",
         "type": "scattermapbox"
        },
        {
         "customdata": [
          [
           29,
           "Health Coach",
           "Post Graduate"
          ],
          [
           31,
           "Health Coach",
           "Bachelor's"
          ],
          [
           28,
           "Eco-Entrepreneur",
           "Post Graduate"
          ],
          [
           28,
           "Health Coach",
           "Bachelor's"
          ],
          [
           34,
           "Sustainability Consultant",
           "Bachelor's"
          ],
          [
           28,
           "Health Coach",
           "Post Graduate"
          ],
          [
           26,
           "Sustainability Consultant",
           "Post Graduate"
          ],
          [
           28,
           "Eco-Entrepreneur",
           "Bachelor's"
          ],
          [
           29,
           "Eco-Entrepreneur",
           "Post Graduate"
          ],
          [
           34,
           "Eco-Entrepreneur",
           "Bachelor's"
          ],
          [
           27,
           "Sustainability Consultant",
           "Bachelor's"
          ],
          [
           33,
           "Health Coach",
           "Post Graduate"
          ],
          [
           29,
           "Health Coach",
           "Bachelor's"
          ],
          [
           27,
           "Health Coach",
           "Bachelor's"
          ],
          [
           33,
           "Health Coach",
           "Bachelor's"
          ],
          [
           28,
           "Sustainability Consultant",
           "Bachelor's"
          ],
          [
           30,
           "Health Coach",
           "Post Graduate"
          ],
          [
           26,
           "Eco-Entrepreneur",
           "Post Graduate"
          ],
          [
           27,
           "Health Coach",
           "Bachelor's"
          ],
          [
           27,
           "Sustainability Consultant",
           "Bachelor's"
          ],
          [
           27,
           "Health Coach",
           "Bachelor's"
          ],
          [
           27,
           "Eco-Entrepreneur",
           "Bachelor's"
          ],
          [
           33,
           "Sustainability Consultant",
           "Bachelor's"
          ],
          [
           29,
           "Eco-Entrepreneur",
           "Bachelor's"
          ],
          [
           32,
           "Health Coach",
           "Bachelor's"
          ],
          [
           34,
           "Sustainability Consultant",
           "Bachelor's"
          ],
          [
           32,
           "Health Coach",
           "Bachelor's"
          ],
          [
           27,
           "Sustainability Consultant",
           "Bachelor's"
          ],
          [
           29,
           "Eco-Entrepreneur",
           "Bachelor's"
          ],
          [
           26,
           "Eco-Entrepreneur",
           "Bachelor's"
          ],
          [
           26,
           "Health Coach",
           "Bachelor's"
          ],
          [
           34,
           "Eco-Entrepreneur",
           "Bachelor's"
          ],
          [
           26,
           "Eco-Entrepreneur",
           "Bachelor's"
          ],
          [
           30,
           "Eco-Entrepreneur",
           "Post Graduate"
          ],
          [
           29,
           "Sustainability Consultant",
           "Bachelor's"
          ],
          [
           26,
           "Health Coach",
           "Bachelor's"
          ],
          [
           27,
           "Sustainability Consultant",
           "Bachelor's"
          ],
          [
           26,
           "Eco-Entrepreneur",
           "Bachelor's"
          ],
          [
           25,
           "Eco-Entrepreneur",
           "Bachelor's"
          ],
          [
           29,
           "Sustainability Consultant",
           "Post Graduate"
          ],
          [
           25,
           "Sustainability Consultant",
           "Bachelor's"
          ],
          [
           34,
           "Sustainability Consultant",
           "Post Graduate"
          ],
          [
           34,
           "Eco-Entrepreneur",
           "Post Graduate"
          ],
          [
           27,
           "Sustainability Consultant",
           "Bachelor's"
          ],
          [
           26,
           "Eco-Entrepreneur",
           "Post Graduate"
          ],
          [
           25,
           "Eco-Entrepreneur",
           "Post Graduate"
          ],
          [
           25,
           "Sustainability Consultant",
           "Bachelor's"
          ],
          [
           31,
           "Eco-Entrepreneur",
           "Bachelor's"
          ],
          [
           32,
           "Health Coach",
           "Bachelor's"
          ],
          [
           33,
           "Sustainability Consultant",
           "Bachelor's"
          ],
          [
           34,
           "Health Coach",
           "Post Graduate"
          ],
          [
           31,
           "Sustainability Consultant",
           "Bachelor's"
          ],
          [
           34,
           "Health Coach",
           "Post Graduate"
          ],
          [
           33,
           "Eco-Entrepreneur",
           "Bachelor's"
          ],
          [
           30,
           "Sustainability Consultant",
           "Bachelor's"
          ],
          [
           32,
           "Sustainability Consultant",
           "Bachelor's"
          ],
          [
           34,
           "Eco-Entrepreneur",
           "Bachelor's"
          ],
          [
           32,
           "Sustainability Consultant",
           "Post Graduate"
          ],
          [
           26,
           "Sustainability Consultant",
           "Post Graduate"
          ],
          [
           32,
           "Sustainability Consultant",
           "Bachelor's"
          ],
          [
           34,
           "Eco-Entrepreneur",
           "Post Graduate"
          ],
          [
           28,
           "Health Coach",
           "Post Graduate"
          ],
          [
           25,
           "Eco-Entrepreneur",
           "Bachelor's"
          ],
          [
           31,
           "Eco-Entrepreneur",
           "Bachelor's"
          ],
          [
           29,
           "Eco-Entrepreneur",
           "Post Graduate"
          ],
          [
           32,
           "Eco-Entrepreneur",
           "Bachelor's"
          ],
          [
           26,
           "Eco-Entrepreneur",
           "Bachelor's"
          ],
          [
           30,
           "Sustainability Consultant",
           "Bachelor's"
          ],
          [
           32,
           "Health Coach",
           "Post Graduate"
          ],
          [
           29,
           "Health Coach",
           "Bachelor's"
          ],
          [
           25,
           "Sustainability Consultant",
           "Bachelor's"
          ],
          [
           29,
           "Health Coach",
           "Post Graduate"
          ],
          [
           27,
           "Eco-Entrepreneur",
           "Bachelor's"
          ],
          [
           28,
           "Health Coach",
           "Bachelor's"
          ],
          [
           26,
           "Eco-Entrepreneur",
           "Bachelor's"
          ],
          [
           34,
           "Sustainability Consultant",
           "Bachelor's"
          ],
          [
           31,
           "Health Coach",
           "Bachelor's"
          ],
          [
           32,
           "Eco-Entrepreneur",
           "Bachelor's"
          ],
          [
           33,
           "Sustainability Consultant",
           "Bachelor's"
          ],
          [
           26,
           "Health Coach",
           "Post Graduate"
          ],
          [
           27,
           "Eco-Entrepreneur",
           "Bachelor's"
          ],
          [
           33,
           "Sustainability Consultant",
           "Bachelor's"
          ],
          [
           32,
           "Eco-Entrepreneur",
           "Bachelor's"
          ],
          [
           33,
           "Sustainability Consultant",
           "Bachelor's"
          ],
          [
           28,
           "Eco-Entrepreneur",
           "Post Graduate"
          ],
          [
           33,
           "Sustainability Consultant",
           "Post Graduate"
          ],
          [
           33,
           "Eco-Entrepreneur",
           "Bachelor's"
          ],
          [
           31,
           "Health Coach",
           "Post Graduate"
          ],
          [
           26,
           "Sustainability Consultant",
           "Post Graduate"
          ],
          [
           27,
           "Health Coach",
           "Bachelor's"
          ],
          [
           29,
           "Health Coach",
           "Bachelor's"
          ],
          [
           29,
           "Sustainability Consultant",
           "Post Graduate"
          ],
          [
           27,
           "Health Coach",
           "Post Graduate"
          ],
          [
           33,
           "Health Coach",
           "Bachelor's"
          ],
          [
           34,
           "Eco-Entrepreneur",
           "Post Graduate"
          ],
          [
           29,
           "Health Coach",
           "Bachelor's"
          ],
          [
           29,
           "Eco-Entrepreneur",
           "Bachelor's"
          ],
          [
           32,
           "Eco-Entrepreneur",
           "Bachelor's"
          ],
          [
           29,
           "Eco-Entrepreneur",
           "Post Graduate"
          ],
          [
           30,
           "Eco-Entrepreneur",
           "Post Graduate"
          ],
          [
           28,
           "Sustainability Consultant",
           "Bachelor's"
          ],
          [
           30,
           "Eco-Entrepreneur",
           "Bachelor's"
          ],
          [
           32,
           "Health Coach",
           "Post Graduate"
          ],
          [
           31,
           "Sustainability Consultant",
           "Bachelor's"
          ],
          [
           33,
           "Sustainability Consultant",
           "Bachelor's"
          ],
          [
           30,
           "Sustainability Consultant",
           "Bachelor's"
          ],
          [
           32,
           "Sustainability Consultant",
           "Bachelor's"
          ],
          [
           34,
           "Health Coach",
           "Bachelor's"
          ],
          [
           25,
           "Health Coach",
           "Bachelor's"
          ],
          [
           29,
           "Health Coach",
           "Bachelor's"
          ],
          [
           34,
           "Health Coach",
           "Bachelor's"
          ],
          [
           27,
           "Sustainability Consultant",
           "Bachelor's"
          ],
          [
           25,
           "Health Coach",
           "Bachelor's"
          ],
          [
           25,
           "Eco-Entrepreneur",
           "Bachelor's"
          ],
          [
           26,
           "Sustainability Consultant",
           "Post Graduate"
          ],
          [
           29,
           "Health Coach",
           "Bachelor's"
          ],
          [
           30,
           "Sustainability Consultant",
           "Bachelor's"
          ],
          [
           33,
           "Sustainability Consultant",
           "Bachelor's"
          ],
          [
           31,
           "Health Coach",
           "Bachelor's"
          ],
          [
           31,
           "Sustainability Consultant",
           "Post Graduate"
          ],
          [
           30,
           "Sustainability Consultant",
           "Post Graduate"
          ],
          [
           30,
           "Sustainability Consultant",
           "Bachelor's"
          ],
          [
           25,
           "Sustainability Consultant",
           "Bachelor's"
          ],
          [
           31,
           "Eco-Entrepreneur",
           "Bachelor's"
          ],
          [
           28,
           "Eco-Entrepreneur",
           "Bachelor's"
          ],
          [
           25,
           "Sustainability Consultant",
           "Bachelor's"
          ],
          [
           34,
           "Eco-Entrepreneur",
           "Post Graduate"
          ],
          [
           28,
           "Sustainability Consultant",
           "Bachelor's"
          ],
          [
           32,
           "Eco-Entrepreneur",
           "Bachelor's"
          ],
          [
           31,
           "Health Coach",
           "Bachelor's"
          ],
          [
           30,
           "Eco-Entrepreneur",
           "Bachelor's"
          ],
          [
           28,
           "Eco-Entrepreneur",
           "Bachelor's"
          ],
          [
           26,
           "Eco-Entrepreneur",
           "Bachelor's"
          ],
          [
           31,
           "Health Coach",
           "Post Graduate"
          ],
          [
           32,
           "Health Coach",
           "Post Graduate"
          ],
          [
           34,
           "Sustainability Consultant",
           "Bachelor's"
          ],
          [
           28,
           "Health Coach",
           "Post Graduate"
          ],
          [
           32,
           "Sustainability Consultant",
           "Bachelor's"
          ],
          [
           33,
           "Sustainability Consultant",
           "Bachelor's"
          ],
          [
           31,
           "Sustainability Consultant",
           "Bachelor's"
          ],
          [
           30,
           "Health Coach",
           "Bachelor's"
          ],
          [
           25,
           "Eco-Entrepreneur",
           "Post Graduate"
          ],
          [
           32,
           "Eco-Entrepreneur",
           "Bachelor's"
          ],
          [
           29,
           "Sustainability Consultant",
           "Bachelor's"
          ],
          [
           26,
           "Sustainability Consultant",
           "Post Graduate"
          ],
          [
           34,
           "Health Coach",
           "Bachelor's"
          ],
          [
           30,
           "Sustainability Consultant",
           "Bachelor's"
          ],
          [
           33,
           "Health Coach",
           "Bachelor's"
          ],
          [
           26,
           "Sustainability Consultant",
           "Post Graduate"
          ],
          [
           26,
           "Eco-Entrepreneur",
           "Post Graduate"
          ],
          [
           30,
           "Sustainability Consultant",
           "Bachelor's"
          ],
          [
           32,
           "Eco-Entrepreneur",
           "Bachelor's"
          ],
          [
           30,
           "Sustainability Consultant",
           "Bachelor's"
          ],
          [
           28,
           "Sustainability Consultant",
           "Post Graduate"
          ],
          [
           32,
           "Sustainability Consultant",
           "Bachelor's"
          ],
          [
           25,
           "Health Coach",
           "Bachelor's"
          ],
          [
           26,
           "Sustainability Consultant",
           "Bachelor's"
          ],
          [
           27,
           "Eco-Entrepreneur",
           "Bachelor's"
          ],
          [
           30,
           "Eco-Entrepreneur",
           "Post Graduate"
          ],
          [
           33,
           "Health Coach",
           "Bachelor's"
          ],
          [
           33,
           "Eco-Entrepreneur",
           "Bachelor's"
          ],
          [
           27,
           "Sustainability Consultant",
           "Bachelor's"
          ],
          [
           33,
           "Sustainability Consultant",
           "Bachelor's"
          ],
          [
           29,
           "Health Coach",
           "Bachelor's"
          ],
          [
           29,
           "Sustainability Consultant",
           "Bachelor's"
          ],
          [
           28,
           "Eco-Entrepreneur",
           "Bachelor's"
          ],
          [
           25,
           "Eco-Entrepreneur",
           "Post Graduate"
          ],
          [
           31,
           "Eco-Entrepreneur",
           "Bachelor's"
          ],
          [
           28,
           "Eco-Entrepreneur",
           "Post Graduate"
          ],
          [
           32,
           "Health Coach",
           "Bachelor's"
          ],
          [
           26,
           "Eco-Entrepreneur",
           "Bachelor's"
          ],
          [
           28,
           "Sustainability Consultant",
           "Bachelor's"
          ],
          [
           31,
           "Sustainability Consultant",
           "Bachelor's"
          ],
          [
           30,
           "Health Coach",
           "Post Graduate"
          ],
          [
           34,
           "Health Coach",
           "Bachelor's"
          ],
          [
           28,
           "Health Coach",
           "Post Graduate"
          ],
          [
           30,
           "Eco-Entrepreneur",
           "Post Graduate"
          ],
          [
           31,
           "Eco-Entrepreneur",
           "Bachelor's"
          ],
          [
           29,
           "Health Coach",
           "Bachelor's"
          ],
          [
           25,
           "Eco-Entrepreneur",
           "Bachelor's"
          ]
         ],
         "hovertemplate": "<b>%{hovertext}</b><br><br>tribe=Eco-Conscious Millennials - Sustainable Lifestyle<br>income=%{marker.size}<br>latitude=%{lat}<br>longitude=%{lon}<br>age=%{customdata[0]}<br>occupation=%{customdata[1]}<br>education=%{customdata[2]}<extra></extra>",
         "hovertext": [
          "Culver City eco-advocates",
          "Culver City eco-advocates",
          "Culver City eco-advocates",
          "Culver City eco-advocates",
          "Culver City eco-advocates",
          "Culver City eco-advocates",
          "Culver City eco-advocates",
          "Culver City eco-advocates",
          "Culver City eco-advocates",
          "Culver City eco-advocates",
          "Culver City eco-advocates",
          "Culver City eco-advocates",
          "Culver City eco-advocates",
          "Culver City eco-advocates",
          "Culver City eco-advocates",
          "Culver City eco-advocates",
          "Culver City eco-advocates",
          "Culver City eco-advocates",
          "Culver City eco-advocates",
          "Culver City eco-advocates",
          "Culver City eco-advocates",
          "Culver City eco-advocates",
          "Culver City eco-advocates",
          "Culver City eco-advocates",
          "Culver City eco-advocates",
          "Culver City eco-advocates",
          "Culver City eco-advocates",
          "Culver City eco-advocates",
          "Culver City eco-advocates",
          "Culver City eco-advocates",
          "Culver City eco-advocates",
          "Culver City eco-advocates",
          "Culver City eco-advocates",
          "Culver City eco-advocates",
          "Culver City eco-advocates",
          "Culver City eco-advocates",
          "Culver City eco-advocates",
          "Culver City eco-advocates",
          "Culver City eco-advocates",
          "Culver City eco-advocates",
          "Culver City eco-advocates",
          "Culver City eco-advocates",
          "Culver City eco-advocates",
          "Culver City eco-advocates",
          "Culver City eco-advocates",
          "Culver City eco-advocates",
          "Culver City eco-advocates",
          "Culver City eco-advocates",
          "Culver City eco-advocates",
          "Culver City eco-advocates",
          "Culver City eco-advocates",
          "Culver City eco-advocates",
          "Culver City eco-advocates",
          "Culver City eco-advocates",
          "Culver City eco-advocates",
          "Culver City eco-advocates",
          "Culver City eco-advocates",
          "Culver City eco-advocates",
          "Culver City eco-advocates",
          "Culver City eco-advocates",
          "Culver City eco-advocates",
          "Culver City eco-advocates",
          "Culver City eco-advocates",
          "Culver City eco-advocates",
          "Culver City eco-advocates",
          "Culver City eco-advocates",
          "Culver City eco-advocates",
          "Culver City eco-advocates",
          "Culver City eco-advocates",
          "Culver City eco-advocates",
          "Culver City eco-advocates",
          "Culver City eco-advocates",
          "Culver City eco-advocates",
          "Culver City eco-advocates",
          "Culver City eco-advocates",
          "Culver City eco-advocates",
          "Culver City eco-advocates",
          "Culver City eco-advocates",
          "Culver City eco-advocates",
          "Culver City eco-advocates",
          "Culver City eco-advocates",
          "Culver City eco-advocates",
          "Culver City eco-advocates",
          "Culver City eco-advocates",
          "Culver City eco-advocates",
          "Culver City eco-advocates",
          "Culver City eco-advocates",
          "Culver City eco-advocates",
          "Culver City eco-advocates",
          "Culver City eco-advocates",
          "Culver City eco-advocates",
          "Culver City eco-advocates",
          "Culver City eco-advocates",
          "Culver City eco-advocates",
          "Culver City eco-advocates",
          "Culver City eco-advocates",
          "Culver City eco-advocates",
          "Culver City eco-advocates",
          "Culver City eco-advocates",
          "Culver City eco-advocates",
          "Culver City eco-advocates",
          "Culver City eco-advocates",
          "Culver City eco-advocates",
          "Culver City eco-advocates",
          "Culver City eco-advocates",
          "Culver City eco-advocates",
          "Culver City eco-advocates",
          "Culver City eco-advocates",
          "Culver City eco-advocates",
          "Culver City eco-advocates",
          "Culver City eco-advocates",
          "Culver City eco-advocates",
          "Culver City eco-advocates",
          "Culver City eco-advocates",
          "Culver City eco-advocates",
          "Culver City eco-advocates",
          "Culver City eco-advocates",
          "Culver City eco-advocates",
          "Culver City eco-advocates",
          "Culver City eco-advocates",
          "Culver City eco-advocates",
          "Culver City eco-advocates",
          "Culver City eco-advocates",
          "Culver City eco-advocates",
          "Culver City eco-advocates",
          "Culver City eco-advocates",
          "Culver City eco-advocates",
          "Culver City eco-advocates",
          "Culver City eco-advocates",
          "Culver City eco-advocates",
          "Culver City eco-advocates",
          "Culver City eco-advocates",
          "Culver City eco-advocates",
          "Culver City eco-advocates",
          "Culver City eco-advocates",
          "Culver City eco-advocates",
          "Culver City eco-advocates",
          "Culver City eco-advocates",
          "Culver City eco-advocates",
          "Culver City eco-advocates",
          "Culver City eco-advocates",
          "Culver City eco-advocates",
          "Culver City eco-advocates",
          "Culver City eco-advocates",
          "Culver City eco-advocates",
          "Culver City eco-advocates",
          "Culver City eco-advocates",
          "Culver City eco-advocates",
          "Culver City eco-advocates",
          "Culver City eco-advocates",
          "Culver City eco-advocates",
          "Culver City eco-advocates",
          "Culver City eco-advocates",
          "Culver City eco-advocates",
          "Culver City eco-advocates",
          "Culver City eco-advocates",
          "Culver City eco-advocates",
          "Culver City eco-advocates",
          "Culver City eco-advocates",
          "Culver City eco-advocates",
          "Culver City eco-advocates",
          "Culver City eco-advocates",
          "Culver City eco-advocates",
          "Culver City eco-advocates",
          "Culver City eco-advocates",
          "Culver City eco-advocates",
          "Culver City eco-advocates",
          "Culver City eco-advocates",
          "Culver City eco-advocates",
          "Culver City eco-advocates",
          "Culver City eco-advocates",
          "Culver City eco-advocates",
          "Culver City eco-advocates",
          "Culver City eco-advocates",
          "Culver City eco-advocates",
          "Culver City eco-advocates",
          "Culver City eco-advocates",
          "Culver City eco-advocates",
          "Culver City eco-advocates",
          "Culver City eco-advocates"
         ],
         "lat": {
          "bdata": "CRueXikLQUAJG55eKQtBQAkbnl4pC0FACRueXikLQUAJG55eKQtBQAtGJXUCCkFACfmgZ7MCQUAJG55eKQtBQAkbnl4pC0FAC0YldQIKQUALRiV1AgpBQAtGJXUCCkFAC0YldQIKQUAJ+aBnswJBQAtGJXUCCkFACfmgZ7MCQUAJ+aBnswJBQAkbnl4pC0FACfmgZ7MCQUAJ+aBnswJBQAtGJXUCCkFACfmgZ7MCQUALRiV1AgpBQAtGJXUCCkFACRueXikLQUAJG55eKQtBQAkbnl4pC0FACfmgZ7MCQUAJ+aBnswJBQAn5oGezAkFACfmgZ7MCQUAJG55eKQtBQAtGJXUCCkFACfmgZ7MCQUAJG55eKQtBQAn5oGezAkFAC0YldQIKQUAJ+aBnswJBQAtGJXUCCkFACfmgZ7MCQUAJ+aBnswJBQAn5oGezAkFACRueXikLQUALRiV1AgpBQAn5oGezAkFAC0YldQIKQUAJG55eKQtBQAtGJXUCCkFAC0YldQIKQUALRiV1AgpBQAn5oGezAkFACfmgZ7MCQUALRiV1AgpBQAn5oGezAkFACRueXikLQUAJ+aBnswJBQAn5oGezAkFACfmgZ7MCQUALRiV1AgpBQAtGJXUCCkFAC0YldQIKQUALRiV1AgpBQAn5oGezAkFAC0YldQIKQUAJG55eKQtBQAtGJXUCCkFAC0YldQIKQUAJG55eKQtBQAtGJXUCCkFACRueXikLQUAJ+aBnswJBQAkbnl4pC0FACfmgZ7MCQUAJ+aBnswJBQAkbnl4pC0FACRueXikLQUAJ+aBnswJBQAn5oGezAkFACfmgZ7MCQUALRiV1AgpBQAtGJXUCCkFACfmgZ7MCQUALRiV1AgpBQAn5oGezAkFAC0YldQIKQUAJG55eKQtBQAkbnl4pC0FACfmgZ7MCQUAJG55eKQtBQAtGJXUCCkFACRueXikLQUAJ+aBnswJBQAn5oGezAkFACRueXikLQUAJ+aBnswJBQAtGJXUCCkFACfmgZ7MCQUALRiV1AgpBQAtGJXUCCkFACRueXikLQUAJ+aBnswJBQAkbnl4pC0FACRueXikLQUAJG55eKQtBQAn5oGezAkFACfmgZ7MCQUAJ+aBnswJBQAn5oGezAkFACfmgZ7MCQUAJ+aBnswJBQAkbnl4pC0FACfmgZ7MCQUAJG55eKQtBQAn5oGezAkFAC0YldQIKQUAJG55eKQtBQAn5oGezAkFAC0YldQIKQUAJG55eKQtBQAn5oGezAkFACRueXikLQUAJ+aBnswJBQAtGJXUCCkFACRueXikLQUALRiV1AgpBQAkbnl4pC0FACfmgZ7MCQUALRiV1AgpBQAkbnl4pC0FACfmgZ7MCQUAJG55eKQtBQAtGJXUCCkFAC0YldQIKQUAJG55eKQtBQAtGJXUCCkFAC0YldQIKQUAJG55eKQtBQAn5oGezAkFACRueXikLQUAJG55eKQtBQAtGJXUCCkFAC0YldQIKQUAJ+aBnswJBQAn5oGezAkFACRueXikLQUALRiV1AgpBQAn5oGezAkFACRueXikLQUAJG55eKQtBQAtGJXUCCkFAC0YldQIKQUAJ+aBnswJBQAtGJXUCCkFACfmgZ7MCQUALRiV1AgpBQAtGJXUCCkFAC0YldQIKQUAJ+aBnswJBQAtGJXUCCkFAC0YldQIKQUAJ+aBnswJBQAkbnl4pC0FACRueXikLQUALRiV1AgpBQAn5oGezAkFAC0YldQIKQUAJ+aBnswJBQAkbnl4pC0FACfmgZ7MCQUALRiV1AgpBQAtGJXUCCkFACRueXikLQUALRiV1AgpBQAtGJXUCCkFACRueXikLQUAJG55eKQtBQAkbnl4pC0FACRueXikLQUAJG55eKQtBQAn5oGezAkFA",
          "dtype": "f8"
         },
         "legendgroup": "Eco-Conscious Millennials - Sustainable Lifestyle",
         "lon": {
          "bdata": "vsEXJlORXcC+wRcmU5FdwL7BFyZTkV3AvsEXJlORXcC+wRcmU5FdwJtVn6utkF3ATDeJQWCZXcC+wRcmU5FdwL7BFyZTkV3Am1Wfq62QXcCbVZ+rrZBdwJtVn6utkF3Am1Wfq62QXcBMN4lBYJldwJtVn6utkF3ATDeJQWCZXcBMN4lBYJldwL7BFyZTkV3ATDeJQWCZXcBMN4lBYJldwJtVn6utkF3ATDeJQWCZXcCbVZ+rrZBdwJtVn6utkF3AvsEXJlORXcC+wRcmU5FdwL7BFyZTkV3ATDeJQWCZXcBMN4lBYJldwEw3iUFgmV3ATDeJQWCZXcC+wRcmU5FdwJtVn6utkF3ATDeJQWCZXcC+wRcmU5FdwEw3iUFgmV3Am1Wfq62QXcBMN4lBYJldwJtVn6utkF3ATDeJQWCZXcBMN4lBYJldwEw3iUFgmV3AvsEXJlORXcCbVZ+rrZBdwEw3iUFgmV3Am1Wfq62QXcC+wRcmU5FdwJtVn6utkF3Am1Wfq62QXcCbVZ+rrZBdwEw3iUFgmV3ATDeJQWCZXcCbVZ+rrZBdwEw3iUFgmV3AvsEXJlORXcBMN4lBYJldwEw3iUFgmV3ATDeJQWCZXcCbVZ+rrZBdwJtVn6utkF3Am1Wfq62QXcCbVZ+rrZBdwEw3iUFgmV3Am1Wfq62QXcC+wRcmU5FdwJtVn6utkF3Am1Wfq62QXcC+wRcmU5FdwJtVn6utkF3AvsEXJlORXcBMN4lBYJldwL7BFyZTkV3ATDeJQWCZXcBMN4lBYJldwL7BFyZTkV3AvsEXJlORXcBMN4lBYJldwEw3iUFgmV3ATDeJQWCZXcCbVZ+rrZBdwJtVn6utkF3ATDeJQWCZXcCbVZ+rrZBdwEw3iUFgmV3Am1Wfq62QXcC+wRcmU5FdwL7BFyZTkV3ATDeJQWCZXcC+wRcmU5FdwJtVn6utkF3AvsEXJlORXcBMN4lBYJldwEw3iUFgmV3AvsEXJlORXcBMN4lBYJldwJtVn6utkF3ATDeJQWCZXcCbVZ+rrZBdwJtVn6utkF3AvsEXJlORXcBMN4lBYJldwL7BFyZTkV3AvsEXJlORXcC+wRcmU5FdwEw3iUFgmV3ATDeJQWCZXcBMN4lBYJldwEw3iUFgmV3ATDeJQWCZXcBMN4lBYJldwL7BFyZTkV3ATDeJQWCZXcC+wRcmU5FdwEw3iUFgmV3Am1Wfq62QXcC+wRcmU5FdwEw3iUFgmV3Am1Wfq62QXcC+wRcmU5FdwEw3iUFgmV3AvsEXJlORXcBMN4lBYJldwJtVn6utkF3AvsEXJlORXcCbVZ+rrZBdwL7BFyZTkV3ATDeJQWCZXcCbVZ+rrZBdwL7BFyZTkV3ATDeJQWCZXcC+wRcmU5FdwJtVn6utkF3Am1Wfq62QXcC+wRcmU5FdwJtVn6utkF3Am1Wfq62QXcC+wRcmU5FdwEw3iUFgmV3AvsEXJlORXcC+wRcmU5FdwJtVn6utkF3Am1Wfq62QXcBMN4lBYJldwEw3iUFgmV3AvsEXJlORXcCbVZ+rrZBdwEw3iUFgmV3AvsEXJlORXcC+wRcmU5FdwJtVn6utkF3Am1Wfq62QXcBMN4lBYJldwJtVn6utkF3ATDeJQWCZXcCbVZ+rrZBdwJtVn6utkF3Am1Wfq62QXcBMN4lBYJldwJtVn6utkF3Am1Wfq62QXcBMN4lBYJldwL7BFyZTkV3AvsEXJlORXcCbVZ+rrZBdwEw3iUFgmV3Am1Wfq62QXcBMN4lBYJldwL7BFyZTkV3ATDeJQWCZXcCbVZ+rrZBdwJtVn6utkF3AvsEXJlORXcCbVZ+rrZBdwJtVn6utkF3AvsEXJlORXcC+wRcmU5FdwL7BFyZTkV3AvsEXJlORXcC+wRcmU5FdwEw3iUFgmV3A",
          "dtype": "f8"
         },
         "marker": {
          "color": "#ab63fa",
          "size": {
           "bdata": "AAAAAACC5EAAAAAAgFvwQAAAAAAA4elAAAAAAABe6kAAAAAAAM/sQAAAAAAA+fVAAAAAAABw50AAAAAAAAvzQAAAAAAAauhAAAAAAAAX8UAAAAAAgNjwQAAAAACAxvNAAAAAAABq6EAAAAAAAIjjQAAAAAAAiONAAAAAAABe6kAAAAAAAOfoQAAAAAAAWOtAAAAAAADP7EAAAAAAgNLxQAAAAAAABeRAAAAAAADJ7UAAAAAAAF7qQAAAAAAAZOlAAAAAAAAF9EAAAAAAAEztQAAAAAAAz+xAAAAAAAAX8UAAAAAAAIjjQAAAAAAAUuxAAAAAAAB85UAAAAAAgFXxQAAAAAAAduZAAAAAAACC5EAAAAAAAIjzQAAAAAAAQO9AAAAAAABw50AAAAAAAP/kQAAAAAAAUuxAAAAAAABS7EAAAAAAAFjrQAAAAAAAz+xAAAAAAADb6kAAAAAAAI7yQAAAAAAA/+RAAAAAAACI40AAAAAAAJTxQAAAAAAA4elAAAAAAIBb8EAAAAAAAMntQAAAAAAAiONAAAAAAACI40AAAAAAAMntQAAAAAAAmvBAAAAAAABe6kAAAAAAAHbmQAAAAACAW/BAAAAAAAD/5EAAAAAAAB3wQAAAAACA0vFAAAAAAABA70AAAAAAAGTpQAAAAAAAguRAAAAAAAAF5EAAAAAAAB3wQAAAAAAAauhAAAAAAADV60AAAAAAgLr1QAAAAAAAiONAAAAAAADh6UAAAAAAAF7qQAAAAACAW/BAAAAAAADb6kAAAAAAAGroQAAAAAAATO1AAAAAAACI40AAAAAAAP/kQAAAAAAAmvBAAAAAAABS7EAAAAAAAPnlQAAAAAAA5+hAAAAAAABS7EAAAAAAAEztQAAAAAAA+eVAAAAAAABk6UAAAAAAAHDnQAAAAAAA7edAAAAAAADb6kAAAAAAgFvwQAAAAAAAiONAAAAAAACI40AAAAAAAOHpQAAAAACAW/BAAAAAAABq6EAAAAAAAGTpQAAAAAAA8+ZAAAAAAACC5EAAAAAAgFvwQAAAAAAA2+pAAAAAAADb6kAAAAAAgE/yQAAAAAAAduZAAAAAAACI40AAAAAAgLT2QAAAAACA2PBAAAAAAACI40AAAAAAAPPmQAAAAAAAiONAAAAAAAD55UAAAAAAAFjrQAAAAAAA8+ZAAAAAAACC5EAAAAAAAOfoQAAAAAAAauhAAAAAAADP7EAAAAAAAGroQAAAAAAAF/FAAAAAAABM7UAAAAAAAIjzQAAAAAAA2+pAAAAAAACI40AAAAAAAIjjQAAAAAAAHfBAAAAAAABq6EAAAAAAAPnlQAAAAAAAHfBAAAAAAABS7EAAAAAAAMPuQAAAAAAAz+xAAAAAAADh6UAAAAAAAJrwQAAAAAAAguRAAAAAAADb6kAAAAAAAF7qQAAAAACA0vFAAAAAAIDM8kAAAAAAAIjjQAAAAAAA7edAAAAAAAB85UAAAAAAAIjjQAAAAACAVfFAAAAAAACI40AAAAAAANXrQAAAAAAAEfJAAAAAAABM7UAAAAAAAILkQAAAAAAAw+5AAAAAAADD7kAAAAAAAIjjQAAAAAAA8/ZAAAAAAIDY8EAAAAAAAM/sQAAAAAAARu5AAAAAAIBb8EAAAAAAAEztQAAAAAAAiONAAAAAAAC970AAAAAAAHzlQAAAAAAAiONAAAAAAADD7kAAAAAAAFjrQAAAAAAA7edAAAAAAACI40AAAAAAAOHpQAAAAAAA5+hAAAAAAADV60AAAAAAAIjzQAAAAAAAiONAAAAAAABe6kAAAAAAAOfoQAAAAAAAye1AAAAAAACI40AAAAAAAL3vQAAAAAAAiONAAAAAAACC5EAAAAAAAEztQAAAAAAAlPFAAAAAAADD7kAAAAAAAP/kQAAAAAAAF/FA",
           "dtype": "f8"
          },
          "sizemode": "area",
          "sizeref": 750
         },
         "mode": "markers",
         "name": "Eco-Conscious Millennials - Sustainable Lifestyle",
         "showlegend": true,
         "subplot": "mapbox",
         "type": "scattermapbox"
        },
        {
         "customdata": [
          [
           53,
           "Investment Banker",
           "Post Graduate"
          ],
          [
           43,
           "Investment Banker",
           "Post Graduate"
          ],
          [
           36,
           "Real Estate Executive",
           "Bachelor's"
          ],
          [
           49,
           "Entertainment Lawyer",
           "Bachelor's"
          ],
          [
           45,
           "Entertainment Lawyer",
           "Bachelor's"
          ],
          [
           50,
           "Entertainment Lawyer",
           "Post Graduate"
          ],
          [
           49,
           "Real Estate Executive",
           "Bachelor's"
          ],
          [
           43,
           "Entertainment Lawyer",
           "Bachelor's"
          ],
          [
           44,
           "Real Estate Executive",
           "Bachelor's"
          ],
          [
           47,
           "Real Estate Executive",
           "Bachelor's"
          ],
          [
           46,
           "Investment Banker",
           "Bachelor's"
          ],
          [
           41,
           "Investment Banker",
           "Post Graduate"
          ],
          [
           37,
           "Investment Banker",
           "Post Graduate"
          ],
          [
           46,
           "Investment Banker",
           "Post Graduate"
          ],
          [
           42,
           "Entertainment Lawyer",
           "Bachelor's"
          ],
          [
           35,
           "Real Estate Executive",
           "Bachelor's"
          ],
          [
           41,
           "Investment Banker",
           "Bachelor's"
          ],
          [
           46,
           "Real Estate Executive",
           "Bachelor's"
          ],
          [
           45,
           "Investment Banker",
           "Bachelor's"
          ],
          [
           38,
           "Real Estate Executive",
           "Post Graduate"
          ],
          [
           49,
           "Investment Banker",
           "Bachelor's"
          ],
          [
           40,
           "Real Estate Executive",
           "Post Graduate"
          ],
          [
           35,
           "Entertainment Lawyer",
           "Post Graduate"
          ],
          [
           35,
           "Entertainment Lawyer",
           "Bachelor's"
          ],
          [
           52,
           "Investment Banker",
           "Bachelor's"
          ],
          [
           42,
           "Investment Banker",
           "Post Graduate"
          ],
          [
           40,
           "Real Estate Executive",
           "Post Graduate"
          ],
          [
           46,
           "Real Estate Executive",
           "Post Graduate"
          ],
          [
           48,
           "Entertainment Lawyer",
           "Post Graduate"
          ],
          [
           49,
           "Real Estate Executive",
           "Bachelor's"
          ],
          [
           38,
           "Investment Banker",
           "Bachelor's"
          ],
          [
           36,
           "Real Estate Executive",
           "Bachelor's"
          ],
          [
           41,
           "Real Estate Executive",
           "Post Graduate"
          ],
          [
           38,
           "Entertainment Lawyer",
           "Bachelor's"
          ],
          [
           54,
           "Real Estate Executive",
           "Bachelor's"
          ],
          [
           46,
           "Real Estate Executive",
           "Bachelor's"
          ],
          [
           39,
           "Real Estate Executive",
           "Bachelor's"
          ],
          [
           46,
           "Investment Banker",
           "Bachelor's"
          ],
          [
           41,
           "Entertainment Lawyer",
           "Bachelor's"
          ],
          [
           54,
           "Real Estate Executive",
           "Post Graduate"
          ],
          [
           43,
           "Investment Banker",
           "Post Graduate"
          ],
          [
           49,
           "Real Estate Executive",
           "Bachelor's"
          ],
          [
           52,
           "Investment Banker",
           "Bachelor's"
          ],
          [
           45,
           "Real Estate Executive",
           "Bachelor's"
          ],
          [
           46,
           "Entertainment Lawyer",
           "Bachelor's"
          ],
          [
           42,
           "Investment Banker",
           "Bachelor's"
          ],
          [
           37,
           "Entertainment Lawyer",
           "Bachelor's"
          ],
          [
           51,
           "Investment Banker",
           "Post Graduate"
          ],
          [
           35,
           "Investment Banker",
           "Post Graduate"
          ],
          [
           40,
           "Investment Banker",
           "Bachelor's"
          ],
          [
           39,
           "Entertainment Lawyer",
           "Bachelor's"
          ],
          [
           45,
           "Real Estate Executive",
           "Bachelor's"
          ],
          [
           40,
           "Investment Banker",
           "Post Graduate"
          ],
          [
           42,
           "Investment Banker",
           "Bachelor's"
          ],
          [
           40,
           "Entertainment Lawyer",
           "Post Graduate"
          ],
          [
           46,
           "Real Estate Executive",
           "Bachelor's"
          ],
          [
           52,
           "Entertainment Lawyer",
           "Post Graduate"
          ],
          [
           39,
           "Entertainment Lawyer",
           "Bachelor's"
          ],
          [
           49,
           "Entertainment Lawyer",
           "Bachelor's"
          ],
          [
           39,
           "Real Estate Executive",
           "Bachelor's"
          ],
          [
           54,
           "Real Estate Executive",
           "Bachelor's"
          ],
          [
           50,
           "Entertainment Lawyer",
           "Bachelor's"
          ],
          [
           40,
           "Entertainment Lawyer",
           "Post Graduate"
          ],
          [
           37,
           "Entertainment Lawyer",
           "Bachelor's"
          ],
          [
           43,
           "Investment Banker",
           "Bachelor's"
          ],
          [
           40,
           "Entertainment Lawyer",
           "Bachelor's"
          ],
          [
           45,
           "Real Estate Executive",
           "Post Graduate"
          ],
          [
           54,
           "Entertainment Lawyer",
           "Post Graduate"
          ],
          [
           52,
           "Investment Banker",
           "Bachelor's"
          ],
          [
           45,
           "Investment Banker",
           "Bachelor's"
          ],
          [
           54,
           "Investment Banker",
           "Post Graduate"
          ],
          [
           39,
           "Entertainment Lawyer",
           "Post Graduate"
          ],
          [
           46,
           "Real Estate Executive",
           "Post Graduate"
          ],
          [
           51,
           "Real Estate Executive",
           "Bachelor's"
          ],
          [
           47,
           "Entertainment Lawyer",
           "Bachelor's"
          ],
          [
           51,
           "Investment Banker",
           "Bachelor's"
          ],
          [
           52,
           "Real Estate Executive",
           "Post Graduate"
          ],
          [
           47,
           "Real Estate Executive",
           "Post Graduate"
          ],
          [
           43,
           "Entertainment Lawyer",
           "Post Graduate"
          ],
          [
           52,
           "Investment Banker",
           "Post Graduate"
          ],
          [
           54,
           "Entertainment Lawyer",
           "Post Graduate"
          ],
          [
           38,
           "Real Estate Executive",
           "Bachelor's"
          ],
          [
           51,
           "Real Estate Executive",
           "Bachelor's"
          ],
          [
           49,
           "Entertainment Lawyer",
           "Bachelor's"
          ],
          [
           37,
           "Entertainment Lawyer",
           "Post Graduate"
          ],
          [
           53,
           "Entertainment Lawyer",
           "Post Graduate"
          ],
          [
           47,
           "Entertainment Lawyer",
           "Post Graduate"
          ],
          [
           42,
           "Real Estate Executive",
           "Post Graduate"
          ],
          [
           49,
           "Investment Banker",
           "Post Graduate"
          ],
          [
           51,
           "Investment Banker",
           "Post Graduate"
          ],
          [
           43,
           "Real Estate Executive",
           "Post Graduate"
          ],
          [
           43,
           "Entertainment Lawyer",
           "Bachelor's"
          ],
          [
           51,
           "Investment Banker",
           "Bachelor's"
          ],
          [
           43,
           "Investment Banker",
           "Bachelor's"
          ],
          [
           35,
           "Investment Banker",
           "Post Graduate"
          ],
          [
           44,
           "Real Estate Executive",
           "Bachelor's"
          ],
          [
           44,
           "Entertainment Lawyer",
           "Bachelor's"
          ],
          [
           43,
           "Real Estate Executive",
           "Bachelor's"
          ],
          [
           44,
           "Real Estate Executive",
           "Bachelor's"
          ],
          [
           43,
           "Investment Banker",
           "Post Graduate"
          ],
          [
           52,
           "Entertainment Lawyer",
           "Bachelor's"
          ],
          [
           46,
           "Investment Banker",
           "Post Graduate"
          ],
          [
           49,
           "Investment Banker",
           "Bachelor's"
          ],
          [
           51,
           "Entertainment Lawyer",
           "Post Graduate"
          ],
          [
           50,
           "Entertainment Lawyer",
           "Bachelor's"
          ],
          [
           49,
           "Real Estate Executive",
           "Bachelor's"
          ],
          [
           46,
           "Entertainment Lawyer",
           "Post Graduate"
          ],
          [
           36,
           "Investment Banker",
           "Post Graduate"
          ],
          [
           45,
           "Entertainment Lawyer",
           "Post Graduate"
          ],
          [
           53,
           "Investment Banker",
           "Bachelor's"
          ],
          [
           36,
           "Entertainment Lawyer",
           "Bachelor's"
          ],
          [
           45,
           "Entertainment Lawyer",
           "Bachelor's"
          ],
          [
           51,
           "Entertainment Lawyer",
           "Post Graduate"
          ],
          [
           43,
           "Investment Banker",
           "Post Graduate"
          ],
          [
           44,
           "Investment Banker",
           "Post Graduate"
          ],
          [
           35,
           "Investment Banker",
           "Post Graduate"
          ],
          [
           43,
           "Entertainment Lawyer",
           "Post Graduate"
          ],
          [
           38,
           "Entertainment Lawyer",
           "Post Graduate"
          ],
          [
           47,
           "Investment Banker",
           "Bachelor's"
          ],
          [
           38,
           "Entertainment Lawyer",
           "Bachelor's"
          ],
          [
           40,
           "Investment Banker",
           "Bachelor's"
          ],
          [
           45,
           "Investment Banker",
           "Bachelor's"
          ],
          [
           51,
           "Entertainment Lawyer",
           "Bachelor's"
          ],
          [
           36,
           "Entertainment Lawyer",
           "Bachelor's"
          ],
          [
           54,
           "Entertainment Lawyer",
           "Post Graduate"
          ],
          [
           42,
           "Entertainment Lawyer",
           "Bachelor's"
          ],
          [
           47,
           "Real Estate Executive",
           "Post Graduate"
          ],
          [
           52,
           "Entertainment Lawyer",
           "Post Graduate"
          ],
          [
           44,
           "Real Estate Executive",
           "Post Graduate"
          ],
          [
           47,
           "Real Estate Executive",
           "Post Graduate"
          ],
          [
           43,
           "Real Estate Executive",
           "Bachelor's"
          ],
          [
           47,
           "Real Estate Executive",
           "Bachelor's"
          ],
          [
           35,
           "Entertainment Lawyer",
           "Bachelor's"
          ],
          [
           35,
           "Investment Banker",
           "Post Graduate"
          ],
          [
           48,
           "Entertainment Lawyer",
           "Post Graduate"
          ],
          [
           46,
           "Real Estate Executive",
           "Bachelor's"
          ],
          [
           48,
           "Investment Banker",
           "Post Graduate"
          ],
          [
           39,
           "Entertainment Lawyer",
           "Bachelor's"
          ],
          [
           41,
           "Entertainment Lawyer",
           "Post Graduate"
          ],
          [
           46,
           "Entertainment Lawyer",
           "Bachelor's"
          ],
          [
           37,
           "Real Estate Executive",
           "Bachelor's"
          ],
          [
           42,
           "Investment Banker",
           "Bachelor's"
          ],
          [
           37,
           "Real Estate Executive",
           "Post Graduate"
          ],
          [
           36,
           "Investment Banker",
           "Bachelor's"
          ],
          [
           51,
           "Investment Banker",
           "Post Graduate"
          ],
          [
           36,
           "Entertainment Lawyer",
           "Bachelor's"
          ],
          [
           50,
           "Real Estate Executive",
           "Bachelor's"
          ],
          [
           52,
           "Entertainment Lawyer",
           "Post Graduate"
          ],
          [
           36,
           "Investment Banker",
           "Bachelor's"
          ],
          [
           47,
           "Investment Banker",
           "Bachelor's"
          ],
          [
           47,
           "Investment Banker",
           "Post Graduate"
          ],
          [
           50,
           "Real Estate Executive",
           "Post Graduate"
          ],
          [
           52,
           "Investment Banker",
           "Bachelor's"
          ],
          [
           38,
           "Investment Banker",
           "Post Graduate"
          ],
          [
           49,
           "Real Estate Executive",
           "Post Graduate"
          ],
          [
           43,
           "Investment Banker",
           "Bachelor's"
          ],
          [
           41,
           "Investment Banker",
           "Bachelor's"
          ],
          [
           40,
           "Real Estate Executive",
           "Bachelor's"
          ],
          [
           47,
           "Real Estate Executive",
           "Bachelor's"
          ],
          [
           39,
           "Real Estate Executive",
           "Post Graduate"
          ],
          [
           37,
           "Entertainment Lawyer",
           "Bachelor's"
          ],
          [
           46,
           "Entertainment Lawyer",
           "Bachelor's"
          ],
          [
           51,
           "Investment Banker",
           "Post Graduate"
          ],
          [
           38,
           "Investment Banker",
           "Bachelor's"
          ],
          [
           47,
           "Real Estate Executive",
           "Bachelor's"
          ],
          [
           42,
           "Real Estate Executive",
           "Bachelor's"
          ],
          [
           45,
           "Investment Banker",
           "Post Graduate"
          ],
          [
           38,
           "Entertainment Lawyer",
           "Bachelor's"
          ],
          [
           36,
           "Real Estate Executive",
           "Post Graduate"
          ],
          [
           46,
           "Entertainment Lawyer",
           "Post Graduate"
          ],
          [
           53,
           "Real Estate Executive",
           "Bachelor's"
          ],
          [
           50,
           "Real Estate Executive",
           "Bachelor's"
          ],
          [
           38,
           "Entertainment Lawyer",
           "Bachelor's"
          ],
          [
           38,
           "Entertainment Lawyer",
           "Post Graduate"
          ],
          [
           48,
           "Entertainment Lawyer",
           "Bachelor's"
          ],
          [
           47,
           "Investment Banker",
           "Bachelor's"
          ],
          [
           49,
           "Real Estate Executive",
           "Bachelor's"
          ],
          [
           45,
           "Real Estate Executive",
           "Post Graduate"
          ],
          [
           49,
           "Investment Banker",
           "Post Graduate"
          ],
          [
           54,
           "Real Estate Executive",
           "Post Graduate"
          ],
          [
           39,
           "Real Estate Executive",
           "Post Graduate"
          ],
          [
           48,
           "Real Estate Executive",
           "Bachelor's"
          ],
          [
           42,
           "Investment Banker",
           "Post Graduate"
          ],
          [
           42,
           "Real Estate Executive",
           "Bachelor's"
          ],
          [
           51,
           "Investment Banker",
           "Post Graduate"
          ],
          [
           44,
           "Entertainment Lawyer",
           "Bachelor's"
          ],
          [
           41,
           "Entertainment Lawyer",
           "Bachelor's"
          ],
          [
           53,
           "Entertainment Lawyer",
           "Bachelor's"
          ],
          [
           48,
           "Real Estate Executive",
           "Post Graduate"
          ],
          [
           44,
           "Entertainment Lawyer",
           "Bachelor's"
          ],
          [
           43,
           "Entertainment Lawyer",
           "Bachelor's"
          ],
          [
           50,
           "Entertainment Lawyer",
           "Post Graduate"
          ],
          [
           38,
           "Entertainment Lawyer",
           "Bachelor's"
          ],
          [
           38,
           "Real Estate Executive",
           "Bachelor's"
          ],
          [
           53,
           "Real Estate Executive",
           "Post Graduate"
          ],
          [
           46,
           "Investment Banker",
           "Bachelor's"
          ],
          [
           39,
           "Entertainment Lawyer",
           "Bachelor's"
          ],
          [
           52,
           "Real Estate Executive",
           "Bachelor's"
          ],
          [
           53,
           "Investment Banker",
           "Bachelor's"
          ],
          [
           38,
           "Investment Banker",
           "Bachelor's"
          ]
         ],
         "hovertemplate": "<b>%{hovertext}</b><br><br>tribe=Luxury-Oriented Professionals - Upscale Lifestyles<br>income=%{marker.size}<br>latitude=%{lat}<br>longitude=%{lon}<br>age=%{customdata[0]}<br>occupation=%{customdata[1]}<br>education=%{customdata[2]}<extra></extra>",
         "hovertext": [
          "Beverly Hills luxury professionals",
          "Beverly Hills luxury professionals",
          "Beverly Hills luxury professionals",
          "Beverly Hills luxury professionals",
          "Beverly Hills luxury professionals",
          "Beverly Hills luxury professionals",
          "Beverly Hills luxury professionals",
          "Beverly Hills luxury professionals",
          "Beverly Hills luxury professionals",
          "Beverly Hills luxury professionals",
          "Beverly Hills luxury professionals",
          "Beverly Hills luxury professionals",
          "Beverly Hills luxury professionals",
          "Beverly Hills luxury professionals",
          "Beverly Hills luxury professionals",
          "Beverly Hills luxury professionals",
          "Beverly Hills luxury professionals",
          "Beverly Hills luxury professionals",
          "Beverly Hills luxury professionals",
          "Beverly Hills luxury professionals",
          "Beverly Hills luxury professionals",
          "Beverly Hills luxury professionals",
          "Beverly Hills luxury professionals",
          "Beverly Hills luxury professionals",
          "Beverly Hills luxury professionals",
          "Beverly Hills luxury professionals",
          "Beverly Hills luxury professionals",
          "Beverly Hills luxury professionals",
          "Beverly Hills luxury professionals",
          "Beverly Hills luxury professionals",
          "Beverly Hills luxury professionals",
          "Beverly Hills luxury professionals",
          "Beverly Hills luxury professionals",
          "Beverly Hills luxury professionals",
          "Beverly Hills luxury professionals",
          "Beverly Hills luxury professionals",
          "Beverly Hills luxury professionals",
          "Beverly Hills luxury professionals",
          "Beverly Hills luxury professionals",
          "Beverly Hills luxury professionals",
          "Beverly Hills luxury professionals",
          "Beverly Hills luxury professionals",
          "Beverly Hills luxury professionals",
          "Beverly Hills luxury professionals",
          "Beverly Hills luxury professionals",
          "Beverly Hills luxury professionals",
          "Beverly Hills luxury professionals",
          "Beverly Hills luxury professionals",
          "Beverly Hills luxury professionals",
          "Beverly Hills luxury professionals",
          "Beverly Hills luxury professionals",
          "Beverly Hills luxury professionals",
          "Beverly Hills luxury professionals",
          "Beverly Hills luxury professionals",
          "Beverly Hills luxury professionals",
          "Beverly Hills luxury professionals",
          "Beverly Hills luxury professionals",
          "Beverly Hills luxury professionals",
          "Beverly Hills luxury professionals",
          "Beverly Hills luxury professionals",
          "Beverly Hills luxury professionals",
          "Beverly Hills luxury professionals",
          "Beverly Hills luxury professionals",
          "Beverly Hills luxury professionals",
          "Beverly Hills luxury professionals",
          "Beverly Hills luxury professionals",
          "Beverly Hills luxury professionals",
          "Beverly Hills luxury professionals",
          "Beverly Hills luxury professionals",
          "Beverly Hills luxury professionals",
          "Beverly Hills luxury professionals",
          "Beverly Hills luxury professionals",
          "Beverly Hills luxury professionals",
          "Beverly Hills luxury professionals",
          "Beverly Hills luxury professionals",
          "Beverly Hills luxury professionals",
          "Beverly Hills luxury professionals",
          "Beverly Hills luxury professionals",
          "Beverly Hills luxury professionals",
          "Beverly Hills luxury professionals",
          "Beverly Hills luxury professionals",
          "Beverly Hills luxury professionals",
          "Beverly Hills luxury professionals",
          "Beverly Hills luxury professionals",
          "Beverly Hills luxury professionals",
          "Beverly Hills luxury professionals",
          "Beverly Hills luxury professionals",
          "Beverly Hills luxury professionals",
          "Beverly Hills luxury professionals",
          "Beverly Hills luxury professionals",
          "Beverly Hills luxury professionals",
          "Beverly Hills luxury professionals",
          "Beverly Hills luxury professionals",
          "Beverly Hills luxury professionals",
          "Beverly Hills luxury professionals",
          "Beverly Hills luxury professionals",
          "Beverly Hills luxury professionals",
          "Beverly Hills luxury professionals",
          "Beverly Hills luxury professionals",
          "Beverly Hills luxury professionals",
          "Beverly Hills luxury professionals",
          "Beverly Hills luxury professionals",
          "Beverly Hills luxury professionals",
          "Beverly Hills luxury professionals",
          "Beverly Hills luxury professionals",
          "Beverly Hills luxury professionals",
          "Beverly Hills luxury professionals",
          "Beverly Hills luxury professionals",
          "Beverly Hills luxury professionals",
          "Beverly Hills luxury professionals",
          "Beverly Hills luxury professionals",
          "Beverly Hills luxury professionals",
          "Beverly Hills luxury professionals",
          "Beverly Hills luxury professionals",
          "Beverly Hills luxury professionals",
          "Beverly Hills luxury professionals",
          "Beverly Hills luxury professionals",
          "Beverly Hills luxury professionals",
          "Beverly Hills luxury professionals",
          "Beverly Hills luxury professionals",
          "Beverly Hills luxury professionals",
          "Beverly Hills luxury professionals",
          "Beverly Hills luxury professionals",
          "Beverly Hills luxury professionals",
          "Beverly Hills luxury professionals",
          "Beverly Hills luxury professionals",
          "Beverly Hills luxury professionals",
          "Beverly Hills luxury professionals",
          "Beverly Hills luxury professionals",
          "Beverly Hills luxury professionals",
          "Beverly Hills luxury professionals",
          "Beverly Hills luxury professionals",
          "Beverly Hills luxury professionals",
          "Beverly Hills luxury professionals",
          "Beverly Hills luxury professionals",
          "Beverly Hills luxury professionals",
          "Beverly Hills luxury professionals",
          "Beverly Hills luxury professionals",
          "Beverly Hills luxury professionals",
          "Beverly Hills luxury professionals",
          "Beverly Hills luxury professionals",
          "Beverly Hills luxury professionals",
          "Beverly Hills luxury professionals",
          "Beverly Hills luxury professionals",
          "Beverly Hills luxury professionals",
          "Beverly Hills luxury professionals",
          "Beverly Hills luxury professionals",
          "Beverly Hills luxury professionals",
          "Beverly Hills luxury professionals",
          "Beverly Hills luxury professionals",
          "Beverly Hills luxury professionals",
          "Beverly Hills luxury professionals",
          "Beverly Hills luxury professionals",
          "Beverly Hills luxury professionals",
          "Beverly Hills luxury professionals",
          "Beverly Hills luxury professionals",
          "Beverly Hills luxury professionals",
          "Beverly Hills luxury professionals",
          "Beverly Hills luxury professionals",
          "Beverly Hills luxury professionals",
          "Beverly Hills luxury professionals",
          "Beverly Hills luxury professionals",
          "Beverly Hills luxury professionals",
          "Beverly Hills luxury professionals",
          "Beverly Hills luxury professionals",
          "Beverly Hills luxury professionals",
          "Beverly Hills luxury professionals",
          "Beverly Hills luxury professionals",
          "Beverly Hills luxury professionals",
          "Beverly Hills luxury professionals",
          "Beverly Hills luxury professionals",
          "Beverly Hills luxury professionals",
          "Beverly Hills luxury professionals",
          "Beverly Hills luxury professionals",
          "Beverly Hills luxury professionals",
          "Beverly Hills luxury professionals",
          "Beverly Hills luxury professionals",
          "Beverly Hills luxury professionals",
          "Beverly Hills luxury professionals",
          "Beverly Hills luxury professionals",
          "Beverly Hills luxury professionals",
          "Beverly Hills luxury professionals",
          "Beverly Hills luxury professionals",
          "Beverly Hills luxury professionals",
          "Beverly Hills luxury professionals",
          "Beverly Hills luxury professionals",
          "Beverly Hills luxury professionals",
          "Beverly Hills luxury professionals",
          "Beverly Hills luxury professionals",
          "Beverly Hills luxury professionals",
          "Beverly Hills luxury professionals",
          "Beverly Hills luxury professionals",
          "Beverly Hills luxury professionals",
          "Beverly Hills luxury professionals",
          "Beverly Hills luxury professionals",
          "Beverly Hills luxury professionals",
          "Beverly Hills luxury professionals",
          "Beverly Hills luxury professionals",
          "Beverly Hills luxury professionals",
          "Beverly Hills luxury professionals"
         ],
         "lat": {
          "bdata": "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",
          "dtype": "f8"
         },
         "legendgroup": "Luxury-Oriented Professionals - Upscale Lifestyles",
         "lon": {
          "bdata": "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",
          "dtype": "f8"
         },
         "marker": {
          "color": "#FFA15A",
          "size": {
           "bdata": "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",
           "dtype": "f8"
          },
          "sizemode": "area",
          "sizeref": 750
         },
         "mode": "markers",
         "name": "Luxury-Oriented Professionals - Upscale Lifestyles",
         "showlegend": true,
         "subplot": "mapbox",
         "type": "scattermapbox"
        },
        {
         "customdata": [
          [
           30,
           "Freelancer",
           "Bachelor's"
          ],
          [
           32,
           "Social Media Influencer",
           "Bachelor's"
          ],
          [
           29,
           "Freelancer",
           "Bachelor's"
          ],
          [
           33,
           "Graphic Designer",
           "Bachelor's"
          ],
          [
           25,
           "Freelancer",
           "Post Graduate"
          ],
          [
           25,
           "Social Media Influencer",
           "Bachelor's"
          ],
          [
           31,
           "Freelancer",
           "Bachelor's"
          ],
          [
           27,
           "Freelancer",
           "Bachelor's"
          ],
          [
           33,
           "Freelancer",
           "Bachelor's"
          ],
          [
           29,
           "Graphic Designer",
           "Post Graduate"
          ],
          [
           34,
           "Social Media Influencer",
           "Post Graduate"
          ],
          [
           28,
           "Social Media Influencer",
           "Bachelor's"
          ],
          [
           33,
           "Freelancer",
           "Bachelor's"
          ],
          [
           27,
           "Graphic Designer",
           "Bachelor's"
          ],
          [
           29,
           "Freelancer",
           "Bachelor's"
          ],
          [
           29,
           "Graphic Designer",
           "Bachelor's"
          ],
          [
           31,
           "Freelancer",
           "Bachelor's"
          ],
          [
           25,
           "Social Media Influencer",
           "Bachelor's"
          ],
          [
           34,
           "Graphic Designer",
           "Post Graduate"
          ],
          [
           34,
           "Graphic Designer",
           "Bachelor's"
          ],
          [
           27,
           "Freelancer",
           "Bachelor's"
          ],
          [
           31,
           "Social Media Influencer",
           "Bachelor's"
          ],
          [
           25,
           "Graphic Designer",
           "Bachelor's"
          ],
          [
           29,
           "Graphic Designer",
           "Bachelor's"
          ],
          [
           34,
           "Freelancer",
           "Bachelor's"
          ],
          [
           27,
           "Social Media Influencer",
           "Post Graduate"
          ],
          [
           32,
           "Social Media Influencer",
           "Bachelor's"
          ],
          [
           28,
           "Social Media Influencer",
           "Post Graduate"
          ],
          [
           33,
           "Freelancer",
           "Post Graduate"
          ],
          [
           25,
           "Freelancer",
           "Bachelor's"
          ],
          [
           27,
           "Graphic Designer",
           "Post Graduate"
          ],
          [
           28,
           "Freelancer",
           "Post Graduate"
          ],
          [
           34,
           "Freelancer",
           "Bachelor's"
          ],
          [
           29,
           "Freelancer",
           "Bachelor's"
          ],
          [
           27,
           "Graphic Designer",
           "Bachelor's"
          ],
          [
           32,
           "Graphic Designer",
           "Bachelor's"
          ],
          [
           25,
           "Social Media Influencer",
           "Bachelor's"
          ],
          [
           33,
           "Freelancer",
           "Post Graduate"
          ],
          [
           29,
           "Graphic Designer",
           "Bachelor's"
          ],
          [
           33,
           "Graphic Designer",
           "Bachelor's"
          ],
          [
           28,
           "Freelancer",
           "Bachelor's"
          ],
          [
           34,
           "Graphic Designer",
           "Bachelor's"
          ],
          [
           29,
           "Social Media Influencer",
           "Bachelor's"
          ],
          [
           25,
           "Freelancer",
           "Bachelor's"
          ],
          [
           26,
           "Freelancer",
           "Bachelor's"
          ],
          [
           29,
           "Social Media Influencer",
           "Bachelor's"
          ],
          [
           25,
           "Graphic Designer",
           "Post Graduate"
          ],
          [
           32,
           "Social Media Influencer",
           "Bachelor's"
          ],
          [
           27,
           "Graphic Designer",
           "Bachelor's"
          ],
          [
           34,
           "Social Media Influencer",
           "Post Graduate"
          ],
          [
           31,
           "Graphic Designer",
           "Bachelor's"
          ],
          [
           34,
           "Freelancer",
           "Bachelor's"
          ],
          [
           28,
           "Freelancer",
           "Bachelor's"
          ],
          [
           34,
           "Freelancer",
           "Bachelor's"
          ],
          [
           25,
           "Freelancer",
           "Bachelor's"
          ],
          [
           28,
           "Social Media Influencer",
           "Bachelor's"
          ],
          [
           25,
           "Graphic Designer",
           "Bachelor's"
          ],
          [
           31,
           "Social Media Influencer",
           "Bachelor's"
          ],
          [
           34,
           "Graphic Designer",
           "Post Graduate"
          ],
          [
           32,
           "Social Media Influencer",
           "Post Graduate"
          ],
          [
           25,
           "Social Media Influencer",
           "Post Graduate"
          ],
          [
           33,
           "Graphic Designer",
           "Bachelor's"
          ],
          [
           27,
           "Graphic Designer",
           "Bachelor's"
          ],
          [
           26,
           "Graphic Designer",
           "Bachelor's"
          ],
          [
           30,
           "Social Media Influencer",
           "Post Graduate"
          ],
          [
           28,
           "Social Media Influencer",
           "Bachelor's"
          ],
          [
           31,
           "Social Media Influencer",
           "Bachelor's"
          ],
          [
           29,
           "Graphic Designer",
           "Bachelor's"
          ],
          [
           34,
           "Graphic Designer",
           "Post Graduate"
          ],
          [
           27,
           "Social Media Influencer",
           "Bachelor's"
          ],
          [
           27,
           "Graphic Designer",
           "Bachelor's"
          ],
          [
           31,
           "Social Media Influencer",
           "Post Graduate"
          ],
          [
           32,
           "Graphic Designer",
           "Post Graduate"
          ],
          [
           33,
           "Graphic Designer",
           "Post Graduate"
          ],
          [
           32,
           "Social Media Influencer",
           "Bachelor's"
          ],
          [
           28,
           "Freelancer",
           "Bachelor's"
          ],
          [
           31,
           "Social Media Influencer",
           "Post Graduate"
          ],
          [
           25,
           "Freelancer",
           "Bachelor's"
          ],
          [
           32,
           "Freelancer",
           "Bachelor's"
          ],
          [
           29,
           "Social Media Influencer",
           "Bachelor's"
          ],
          [
           32,
           "Social Media Influencer",
           "Bachelor's"
          ],
          [
           33,
           "Freelancer",
           "Bachelor's"
          ],
          [
           34,
           "Social Media Influencer",
           "Bachelor's"
          ],
          [
           30,
           "Graphic Designer",
           "Post Graduate"
          ],
          [
           34,
           "Graphic Designer",
           "Bachelor's"
          ],
          [
           28,
           "Social Media Influencer",
           "Post Graduate"
          ],
          [
           29,
           "Freelancer",
           "Bachelor's"
          ],
          [
           29,
           "Freelancer",
           "Bachelor's"
          ],
          [
           34,
           "Social Media Influencer",
           "Post Graduate"
          ],
          [
           29,
           "Graphic Designer",
           "Post Graduate"
          ],
          [
           27,
           "Social Media Influencer",
           "Bachelor's"
          ],
          [
           26,
           "Freelancer",
           "Bachelor's"
          ],
          [
           31,
           "Freelancer",
           "Bachelor's"
          ],
          [
           34,
           "Freelancer",
           "Bachelor's"
          ],
          [
           28,
           "Social Media Influencer",
           "Post Graduate"
          ],
          [
           26,
           "Social Media Influencer",
           "Bachelor's"
          ],
          [
           31,
           "Freelancer",
           "Bachelor's"
          ],
          [
           27,
           "Social Media Influencer",
           "Post Graduate"
          ],
          [
           25,
           "Social Media Influencer",
           "Bachelor's"
          ],
          [
           32,
           "Freelancer",
           "Bachelor's"
          ],
          [
           33,
           "Freelancer",
           "Bachelor's"
          ],
          [
           30,
           "Social Media Influencer",
           "Bachelor's"
          ],
          [
           26,
           "Social Media Influencer",
           "Post Graduate"
          ],
          [
           26,
           "Graphic Designer",
           "Post Graduate"
          ],
          [
           30,
           "Freelancer",
           "Bachelor's"
          ],
          [
           29,
           "Graphic Designer",
           "Bachelor's"
          ],
          [
           31,
           "Social Media Influencer",
           "Post Graduate"
          ],
          [
           28,
           "Social Media Influencer",
           "Post Graduate"
          ],
          [
           28,
           "Freelancer",
           "Post Graduate"
          ],
          [
           33,
           "Freelancer",
           "Bachelor's"
          ],
          [
           25,
           "Freelancer",
           "Post Graduate"
          ],
          [
           33,
           "Freelancer",
           "Bachelor's"
          ],
          [
           25,
           "Graphic Designer",
           "Bachelor's"
          ],
          [
           28,
           "Freelancer",
           "Bachelor's"
          ],
          [
           32,
           "Graphic Designer",
           "Bachelor's"
          ],
          [
           34,
           "Freelancer",
           "Post Graduate"
          ],
          [
           29,
           "Social Media Influencer",
           "Bachelor's"
          ],
          [
           26,
           "Graphic Designer",
           "Bachelor's"
          ],
          [
           27,
           "Freelancer",
           "Bachelor's"
          ],
          [
           34,
           "Social Media Influencer",
           "Bachelor's"
          ],
          [
           34,
           "Social Media Influencer",
           "Post Graduate"
          ],
          [
           33,
           "Freelancer",
           "Bachelor's"
          ],
          [
           34,
           "Social Media Influencer",
           "Bachelor's"
          ],
          [
           28,
           "Social Media Influencer",
           "Bachelor's"
          ],
          [
           34,
           "Social Media Influencer",
           "Bachelor's"
          ],
          [
           30,
           "Freelancer",
           "Bachelor's"
          ],
          [
           34,
           "Freelancer",
           "Bachelor's"
          ],
          [
           31,
           "Graphic Designer",
           "Post Graduate"
          ],
          [
           28,
           "Graphic Designer",
           "Bachelor's"
          ],
          [
           27,
           "Freelancer",
           "Post Graduate"
          ],
          [
           28,
           "Graphic Designer",
           "Bachelor's"
          ],
          [
           33,
           "Graphic Designer",
           "Bachelor's"
          ],
          [
           28,
           "Social Media Influencer",
           "Bachelor's"
          ],
          [
           25,
           "Social Media Influencer",
           "Bachelor's"
          ],
          [
           29,
           "Social Media Influencer",
           "Bachelor's"
          ],
          [
           30,
           "Social Media Influencer",
           "Bachelor's"
          ],
          [
           32,
           "Freelancer",
           "Post Graduate"
          ],
          [
           25,
           "Freelancer",
           "Post Graduate"
          ],
          [
           33,
           "Freelancer",
           "Bachelor's"
          ],
          [
           34,
           "Social Media Influencer",
           "Bachelor's"
          ],
          [
           31,
           "Freelancer",
           "Post Graduate"
          ],
          [
           27,
           "Social Media Influencer",
           "Bachelor's"
          ],
          [
           31,
           "Graphic Designer",
           "Bachelor's"
          ],
          [
           34,
           "Freelancer",
           "Bachelor's"
          ],
          [
           26,
           "Graphic Designer",
           "Post Graduate"
          ],
          [
           26,
           "Freelancer",
           "Bachelor's"
          ],
          [
           32,
           "Graphic Designer",
           "Bachelor's"
          ],
          [
           29,
           "Graphic Designer",
           "Bachelor's"
          ],
          [
           33,
           "Freelancer",
           "Post Graduate"
          ],
          [
           33,
           "Social Media Influencer",
           "Bachelor's"
          ],
          [
           26,
           "Freelancer",
           "Bachelor's"
          ],
          [
           29,
           "Graphic Designer",
           "Post Graduate"
          ],
          [
           28,
           "Freelancer",
           "Bachelor's"
          ],
          [
           29,
           "Graphic Designer",
           "Post Graduate"
          ],
          [
           29,
           "Social Media Influencer",
           "Post Graduate"
          ],
          [
           31,
           "Freelancer",
           "Bachelor's"
          ],
          [
           31,
           "Graphic Designer",
           "Bachelor's"
          ],
          [
           34,
           "Freelancer",
           "Post Graduate"
          ],
          [
           30,
           "Graphic Designer",
           "Bachelor's"
          ],
          [
           29,
           "Social Media Influencer",
           "Bachelor's"
          ],
          [
           25,
           "Graphic Designer",
           "Post Graduate"
          ],
          [
           31,
           "Graphic Designer",
           "Post Graduate"
          ],
          [
           27,
           "Social Media Influencer",
           "Post Graduate"
          ],
          [
           31,
           "Social Media Influencer",
           "Post Graduate"
          ],
          [
           27,
           "Graphic Designer",
           "Post Graduate"
          ],
          [
           30,
           "Social Media Influencer",
           "Bachelor's"
          ],
          [
           31,
           "Freelancer",
           "Bachelor's"
          ],
          [
           25,
           "Freelancer",
           "Post Graduate"
          ],
          [
           27,
           "Freelancer",
           "Bachelor's"
          ],
          [
           32,
           "Freelancer",
           "Bachelor's"
          ],
          [
           25,
           "Graphic Designer",
           "Post Graduate"
          ],
          [
           34,
           "Social Media Influencer",
           "Bachelor's"
          ],
          [
           25,
           "Social Media Influencer",
           "Bachelor's"
          ],
          [
           28,
           "Social Media Influencer",
           "Bachelor's"
          ],
          [
           34,
           "Social Media Influencer",
           "Bachelor's"
          ],
          [
           33,
           "Freelancer",
           "Bachelor's"
          ],
          [
           33,
           "Freelancer",
           "Post Graduate"
          ],
          [
           34,
           "Freelancer",
           "Bachelor's"
          ],
          [
           32,
           "Graphic Designer",
           "Post Graduate"
          ],
          [
           26,
           "Graphic Designer",
           "Bachelor's"
          ],
          [
           26,
           "Social Media Influencer",
           "Bachelor's"
          ],
          [
           29,
           "Social Media Influencer",
           "Post Graduate"
          ],
          [
           30,
           "Social Media Influencer",
           "Post Graduate"
          ],
          [
           27,
           "Graphic Designer",
           "Bachelor's"
          ],
          [
           34,
           "Freelancer",
           "Post Graduate"
          ],
          [
           28,
           "Freelancer",
           "Post Graduate"
          ],
          [
           32,
           "Graphic Designer",
           "Bachelor's"
          ],
          [
           29,
           "Social Media Influencer",
           "Bachelor's"
          ],
          [
           33,
           "Freelancer",
           "Post Graduate"
          ],
          [
           27,
           "Graphic Designer",
           "Bachelor's"
          ],
          [
           28,
           "Social Media Influencer",
           "Post Graduate"
          ],
          [
           33,
           "Social Media Influencer",
           "Post Graduate"
          ],
          [
           32,
           "Freelancer",
           "Post Graduate"
          ],
          [
           32,
           "Graphic Designer",
           "Bachelor's"
          ],
          [
           29,
           "Graphic Designer",
           "Bachelor's"
          ],
          [
           30,
           "Freelancer",
           "Bachelor's"
          ],
          [
           33,
           "Social Media Influencer",
           "Bachelor's"
          ],
          [
           33,
           "Graphic Designer",
           "Bachelor's"
          ],
          [
           25,
           "Freelancer",
           "Bachelor's"
          ],
          [
           26,
           "Freelancer",
           "Bachelor's"
          ],
          [
           27,
           "Freelancer",
           "Bachelor's"
          ],
          [
           27,
           "Freelancer",
           "Bachelor's"
          ],
          [
           30,
           "Freelancer",
           "Bachelor's"
          ],
          [
           26,
           "Social Media Influencer",
           "Bachelor's"
          ],
          [
           29,
           "Freelancer",
           "Bachelor's"
          ],
          [
           32,
           "Social Media Influencer",
           "Bachelor's"
          ],
          [
           27,
           "Graphic Designer",
           "Bachelor's"
          ],
          [
           28,
           "Social Media Influencer",
           "Post Graduate"
          ],
          [
           28,
           "Graphic Designer",
           "Post Graduate"
          ],
          [
           30,
           "Freelancer",
           "Bachelor's"
          ],
          [
           26,
           "Graphic Designer",
           "Bachelor's"
          ],
          [
           30,
           "Freelancer",
           "Bachelor's"
          ],
          [
           34,
           "Freelancer",
           "Bachelor's"
          ],
          [
           26,
           "Graphic Designer",
           "Bachelor's"
          ],
          [
           31,
           "Social Media Influencer",
           "Post Graduate"
          ],
          [
           25,
           "Social Media Influencer",
           "Bachelor's"
          ],
          [
           34,
           "Graphic Designer",
           "Bachelor's"
          ],
          [
           30,
           "Freelancer",
           "Bachelor's"
          ],
          [
           34,
           "Graphic Designer",
           "Bachelor's"
          ],
          [
           31,
           "Graphic Designer",
           "Bachelor's"
          ],
          [
           33,
           "Graphic Designer",
           "Post Graduate"
          ],
          [
           30,
           "Social Media Influencer",
           "Bachelor's"
          ],
          [
           25,
           "Freelancer",
           "Bachelor's"
          ],
          [
           30,
           "Social Media Influencer",
           "Bachelor's"
          ],
          [
           30,
           "Freelancer",
           "Bachelor's"
          ],
          [
           31,
           "Social Media Influencer",
           "Bachelor's"
          ],
          [
           29,
           "Social Media Influencer",
           "Bachelor's"
          ],
          [
           27,
           "Social Media Influencer",
           "Bachelor's"
          ],
          [
           29,
           "Freelancer",
           "Bachelor's"
          ],
          [
           27,
           "Freelancer",
           "Post Graduate"
          ],
          [
           34,
           "Freelancer",
           "Bachelor's"
          ],
          [
           25,
           "Social Media Influencer",
           "Bachelor's"
          ],
          [
           30,
           "Freelancer",
           "Bachelor's"
          ],
          [
           27,
           "Freelancer",
           "Bachelor's"
          ],
          [
           29,
           "Freelancer",
           "Bachelor's"
          ],
          [
           25,
           "Graphic Designer",
           "Post Graduate"
          ],
          [
           28,
           "Graphic Designer",
           "Post Graduate"
          ],
          [
           25,
           "Social Media Influencer",
           "Bachelor's"
          ],
          [
           25,
           "Graphic Designer",
           "Bachelor's"
          ],
          [
           25,
           "Social Media Influencer",
           "Bachelor's"
          ],
          [
           33,
           "Freelancer",
           "Bachelor's"
          ],
          [
           26,
           "Freelancer",
           "Post Graduate"
          ],
          [
           29,
           "Graphic Designer",
           "Post Graduate"
          ],
          [
           29,
           "Freelancer",
           "Post Graduate"
          ],
          [
           29,
           "Social Media Influencer",
           "Post Graduate"
          ],
          [
           26,
           "Graphic Designer",
           "Post Graduate"
          ],
          [
           31,
           "Freelancer",
           "Post Graduate"
          ],
          [
           27,
           "Graphic Designer",
           "Post Graduate"
          ],
          [
           34,
           "Social Media Influencer",
           "Bachelor's"
          ],
          [
           29,
           "Social Media Influencer",
           "Post Graduate"
          ]
         ],
         "hovertemplate": "<b>%{hovertext}</b><br><br>tribe=Young Professional Women - Urban Explorers<br>income=%{marker.size}<br>latitude=%{lat}<br>longitude=%{lon}<br>age=%{customdata[0]}<br>occupation=%{customdata[1]}<br>education=%{customdata[2]}<extra></extra>",
         "hovertext": [
          "Downtown LA professionals",
          "Downtown LA professionals",
          "Downtown LA professionals",
          "Downtown LA professionals",
          "Downtown LA professionals",
          "Downtown LA professionals",
          "Downtown LA professionals",
          "Downtown LA professionals",
          "Downtown LA professionals",
          "Downtown LA professionals",
          "Downtown LA professionals",
          "Downtown LA professionals",
          "Downtown LA professionals",
          "Downtown LA professionals",
          "Downtown LA professionals",
          "Downtown LA professionals",
          "Downtown LA professionals",
          "Downtown LA professionals",
          "Downtown LA professionals",
          "Downtown LA professionals",
          "Downtown LA professionals",
          "Downtown LA professionals",
          "Downtown LA professionals",
          "Downtown LA professionals",
          "Downtown LA professionals",
          "Downtown LA professionals",
          "Downtown LA professionals",
          "Downtown LA professionals",
          "Downtown LA professionals",
          "Downtown LA professionals",
          "Downtown LA professionals",
          "Downtown LA professionals",
          "Downtown LA professionals",
          "Downtown LA professionals",
          "Downtown LA professionals",
          "Downtown LA professionals",
          "Downtown LA professionals",
          "Downtown LA professionals",
          "Downtown LA professionals",
          "Downtown LA professionals",
          "Downtown LA professionals",
          "Downtown LA professionals",
          "Downtown LA professionals",
          "Downtown LA professionals",
          "Downtown LA professionals",
          "Downtown LA professionals",
          "Downtown LA professionals",
          "Downtown LA professionals",
          "Downtown LA professionals",
          "Downtown LA professionals",
          "Downtown LA professionals",
          "Downtown LA professionals",
          "Downtown LA professionals",
          "Downtown LA professionals",
          "Downtown LA professionals",
          "Downtown LA professionals",
          "Downtown LA professionals",
          "Downtown LA professionals",
          "Downtown LA professionals",
          "Downtown LA professionals",
          "Downtown LA professionals",
          "Downtown LA professionals",
          "Downtown LA professionals",
          "Downtown LA professionals",
          "Downtown LA professionals",
          "Downtown LA professionals",
          "Downtown LA professionals",
          "Downtown LA professionals",
          "Downtown LA professionals",
          "Downtown LA professionals",
          "Downtown LA professionals",
          "Downtown LA professionals",
          "Downtown LA professionals",
          "Downtown LA professionals",
          "Downtown LA professionals",
          "Downtown LA professionals",
          "Downtown LA professionals",
          "Downtown LA professionals",
          "Downtown LA professionals",
          "Downtown LA professionals",
          "Downtown LA professionals",
          "Downtown LA professionals",
          "Downtown LA professionals",
          "Downtown LA professionals",
          "Downtown LA professionals",
          "Downtown LA professionals",
          "Downtown LA professionals",
          "Downtown LA professionals",
          "Downtown LA professionals",
          "Downtown LA professionals",
          "Downtown LA professionals",
          "Downtown LA professionals",
          "Downtown LA professionals",
          "Downtown LA professionals",
          "Downtown LA professionals",
          "Downtown LA professionals",
          "Downtown LA professionals",
          "Downtown LA professionals",
          "Downtown LA professionals",
          "Downtown LA professionals",
          "Downtown LA professionals",
          "Downtown LA professionals",
          "Downtown LA professionals",
          "Downtown LA professionals",
          "Downtown LA professionals",
          "Downtown LA professionals",
          "Downtown LA professionals",
          "Downtown LA professionals",
          "Downtown LA professionals",
          "Downtown LA professionals",
          "Downtown LA professionals",
          "Downtown LA professionals",
          "Downtown LA professionals",
          "Downtown LA professionals",
          "Downtown LA professionals",
          "Downtown LA professionals",
          "Downtown LA professionals",
          "Downtown LA professionals",
          "Downtown LA professionals",
          "Downtown LA professionals",
          "Downtown LA professionals",
          "Downtown LA professionals",
          "Downtown LA professionals",
          "Downtown LA professionals",
          "Downtown LA professionals",
          "Downtown LA professionals",
          "Downtown LA professionals",
          "Downtown LA professionals",
          "Downtown LA professionals",
          "Downtown LA professionals",
          "Downtown LA professionals",
          "Downtown LA professionals",
          "Downtown LA professionals",
          "Downtown LA professionals",
          "Downtown LA professionals",
          "Downtown LA professionals",
          "Downtown LA professionals",
          "Downtown LA professionals",
          "Downtown LA professionals",
          "Downtown LA professionals",
          "Downtown LA professionals",
          "Downtown LA professionals",
          "Downtown LA professionals",
          "Downtown LA professionals",
          "Downtown LA professionals",
          "Downtown LA professionals",
          "Downtown LA professionals",
          "Downtown LA professionals",
          "Downtown LA professionals",
          "Downtown LA professionals",
          "Downtown LA professionals",
          "Downtown LA professionals",
          "Downtown LA professionals",
          "Downtown LA professionals",
          "Downtown LA professionals",
          "Downtown LA professionals",
          "Downtown LA professionals",
          "Downtown LA professionals",
          "Downtown LA professionals",
          "Downtown LA professionals",
          "Downtown LA professionals",
          "Downtown LA professionals",
          "Downtown LA professionals",
          "Downtown LA professionals",
          "Downtown LA professionals",
          "Downtown LA professionals",
          "Downtown LA professionals",
          "Downtown LA professionals",
          "Downtown LA professionals",
          "Downtown LA professionals",
          "Downtown LA professionals",
          "Downtown LA professionals",
          "Downtown LA professionals",
          "Downtown LA professionals",
          "Downtown LA professionals",
          "Downtown LA professionals",
          "Downtown LA professionals",
          "Downtown LA professionals",
          "Downtown LA professionals",
          "Downtown LA professionals",
          "Downtown LA professionals",
          "Downtown LA professionals",
          "Downtown LA professionals",
          "Downtown LA professionals",
          "Downtown LA professionals",
          "Downtown LA professionals",
          "Downtown LA professionals",
          "Downtown LA professionals",
          "Downtown LA professionals",
          "Downtown LA professionals",
          "Downtown LA professionals",
          "Downtown LA professionals",
          "Downtown LA professionals",
          "Downtown LA professionals",
          "Downtown LA professionals",
          "Downtown LA professionals",
          "Downtown LA professionals",
          "Downtown LA professionals",
          "Downtown LA professionals",
          "Downtown LA professionals",
          "Downtown LA professionals",
          "Downtown LA professionals",
          "Downtown LA professionals",
          "Downtown LA professionals",
          "Downtown LA professionals",
          "Downtown LA professionals",
          "Downtown LA professionals",
          "Downtown LA professionals",
          "Downtown LA professionals",
          "Downtown LA professionals",
          "Downtown LA professionals",
          "Downtown LA professionals",
          "Downtown LA professionals",
          "Downtown LA professionals",
          "Downtown LA professionals",
          "Downtown LA professionals",
          "Downtown LA professionals",
          "Downtown LA professionals",
          "Downtown LA professionals",
          "Downtown LA professionals",
          "Downtown LA professionals",
          "Downtown LA professionals",
          "Downtown LA professionals",
          "Downtown LA professionals",
          "Downtown LA professionals",
          "Downtown LA professionals",
          "Downtown LA professionals",
          "Downtown LA professionals",
          "Downtown LA professionals",
          "Downtown LA professionals",
          "Downtown LA professionals",
          "Downtown LA professionals",
          "Downtown LA professionals",
          "Downtown LA professionals",
          "Downtown LA professionals",
          "Downtown LA professionals",
          "Downtown LA professionals",
          "Downtown LA professionals",
          "Downtown LA professionals",
          "Downtown LA professionals",
          "Downtown LA professionals",
          "Downtown LA professionals",
          "Downtown LA professionals",
          "Downtown LA professionals",
          "Downtown LA professionals",
          "Downtown LA professionals",
          "Downtown LA professionals",
          "Downtown LA professionals",
          "Downtown LA professionals",
          "Downtown LA professionals"
         ],
         "lat": {
          "bdata": "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",
          "dtype": "f8"
         },
         "legendgroup": "Young Professional Women - Urban Explorers",
         "lon": {
          "bdata": "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",
          "dtype": "f8"
         },
         "marker": {
          "color": "#19d3f3",
          "size": {
           "bdata": "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",
           "dtype": "f8"
          },
          "sizemode": "area",
          "sizeref": 750
         },
         "mode": "markers",
         "name": "Young Professional Women - Urban Explorers",
         "showlegend": true,
         "subplot": "mapbox",
         "type": "scattermapbox"
        }
       ],
       "layout": {
        "height": 600,
        "legend": {
         "font": {
          "size": 8
         },
         "itemsizing": "constant",
         "orientation": "h",
         "title": {
          "text": "tribe"
         },
         "tracegroupgap": 0,
         "x": 1,
         "xanchor": "right",
         "y": 1.02,
         "yanchor": "bottom"
        },
        "mapbox": {
         "accesstoken": "pk.eyJ1IjoibWFyY2Fwb2xhayIsImEiOiJjbThvajN1bHAwMHo1MmxzYXhjb3p3Zjh0In0.emuUuaDMhcM6R9-XtsvZWA",
         "center": {
          "lat": 34.05514805743244,
          "lon": -118.35604256756758
         },
         "domain": {
          "x": [
           0,
           1
          ],
          "y": [
           0,
           1
          ]
         },
         "style": "mapbox://styles/mapbox/streets-v12",
         "zoom": 10
        },
        "margin": {
         "b": 0,
         "l": 0,
         "r": 0,
         "t": 0
        },
        "template": {
         "data": {
          "bar": [
           {
            "error_x": {
             "color": "#2a3f5f"
            },
            "error_y": {
             "color": "#2a3f5f"
            },
            "marker": {
             "line": {
              "color": "#E5ECF6",
              "width": 0.5
             },
             "pattern": {
              "fillmode": "overlay",
              "size": 10,
              "solidity": 0.2
             }
            },
            "type": "bar"
           }
          ],
          "barpolar": [
           {
            "marker": {
             "line": {
              "color": "#E5ECF6",
              "width": 0.5
             },
             "pattern": {
              "fillmode": "overlay",
              "size": 10,
              "solidity": 0.2
             }
            },
            "type": "barpolar"
           }
          ],
          "carpet": [
           {
            "aaxis": {
             "endlinecolor": "#2a3f5f",
             "gridcolor": "white",
             "linecolor": "white",
             "minorgridcolor": "white",
             "startlinecolor": "#2a3f5f"
            },
            "baxis": {
             "endlinecolor": "#2a3f5f",
             "gridcolor": "white",
             "linecolor": "white",
             "minorgridcolor": "white",
             "startlinecolor": "#2a3f5f"
            },
            "type": "carpet"
           }
          ],
          "choropleth": [
           {
            "colorbar": {
             "outlinewidth": 0,
             "ticks": ""
            },
            "type": "choropleth"
           }
          ],
          "contour": [
           {
            "colorbar": {
             "outlinewidth": 0,
             "ticks": ""
            },
            "colorscale": [
             [
              0,
              "#0d0887"
             ],
             [
              0.1111111111111111,
              "#46039f"
             ],
             [
              0.2222222222222222,
              "#7201a8"
             ],
             [
              0.3333333333333333,
              "#9c179e"
             ],
             [
              0.4444444444444444,
              "#bd3786"
             ],
             [
              0.5555555555555556,
              "#d8576b"
             ],
             [
              0.6666666666666666,
              "#ed7953"
             ],
             [
              0.7777777777777778,
              "#fb9f3a"
             ],
             [
              0.8888888888888888,
              "#fdca26"
             ],
             [
              1,
              "#f0f921"
             ]
            ],
            "type": "contour"
           }
          ],
          "contourcarpet": [
           {
            "colorbar": {
             "outlinewidth": 0,
             "ticks": ""
            },
            "type": "contourcarpet"
           }
          ],
          "heatmap": [
           {
            "colorbar": {
             "outlinewidth": 0,
             "ticks": ""
            },
            "colorscale": [
             [
              0,
              "#0d0887"
             ],
             [
              0.1111111111111111,
              "#46039f"
             ],
             [
              0.2222222222222222,
              "#7201a8"
             ],
             [
              0.3333333333333333,
              "#9c179e"
             ],
             [
              0.4444444444444444,
              "#bd3786"
             ],
             [
              0.5555555555555556,
              "#d8576b"
             ],
             [
              0.6666666666666666,
              "#ed7953"
             ],
             [
              0.7777777777777778,
              "#fb9f3a"
             ],
             [
              0.8888888888888888,
              "#fdca26"
             ],
             [
              1,
              "#f0f921"
             ]
            ],
            "type": "heatmap"
           }
          ],
          "histogram": [
           {
            "marker": {
             "pattern": {
              "fillmode": "overlay",
              "size": 10,
              "solidity": 0.2
             }
            },
            "type": "histogram"
           }
          ],
          "histogram2d": [
           {
            "colorbar": {
             "outlinewidth": 0,
             "ticks": ""
            },
            "colorscale": [
             [
              0,
              "#0d0887"
             ],
             [
              0.1111111111111111,
              "#46039f"
             ],
             [
              0.2222222222222222,
              "#7201a8"
             ],
             [
              0.3333333333333333,
              "#9c179e"
             ],
             [
              0.4444444444444444,
              "#bd3786"
             ],
             [
              0.5555555555555556,
              "#d8576b"
             ],
             [
              0.6666666666666666,
              "#ed7953"
             ],
             [
              0.7777777777777778,
              "#fb9f3a"
             ],
             [
              0.8888888888888888,
              "#fdca26"
             ],
             [
              1,
              "#f0f921"
             ]
            ],
            "type": "histogram2d"
           }
          ],
          "histogram2dcontour": [
           {
            "colorbar": {
             "outlinewidth": 0,
             "ticks": ""
            },
            "colorscale": [
             [
              0,
              "#0d0887"
             ],
             [
              0.1111111111111111,
              "#46039f"
             ],
             [
              0.2222222222222222,
              "#7201a8"
             ],
             [
              0.3333333333333333,
              "#9c179e"
             ],
             [
              0.4444444444444444,
              "#bd3786"
             ],
             [
              0.5555555555555556,
              "#d8576b"
             ],
             [
              0.6666666666666666,
              "#ed7953"
             ],
             [
              0.7777777777777778,
              "#fb9f3a"
             ],
             [
              0.8888888888888888,
              "#fdca26"
             ],
             [
              1,
              "#f0f921"
             ]
            ],
            "type": "histogram2dcontour"
           }
          ],
          "mesh3d": [
           {
            "colorbar": {
             "outlinewidth": 0,
             "ticks": ""
            },
            "type": "mesh3d"
           }
          ],
          "parcoords": [
           {
            "line": {
             "colorbar": {
              "outlinewidth": 0,
              "ticks": ""
             }
            },
            "type": "parcoords"
           }
          ],
          "pie": [
           {
            "automargin": true,
            "type": "pie"
           }
          ],
          "scatter": [
           {
            "fillpattern": {
             "fillmode": "overlay",
             "size": 10,
             "solidity": 0.2
            },
            "type": "scatter"
           }
          ],
          "scatter3d": [
           {
            "line": {
             "colorbar": {
              "outlinewidth": 0,
              "ticks": ""
             }
            },
            "marker": {
             "colorbar": {
              "outlinewidth": 0,
              "ticks": ""
             }
            },
            "type": "scatter3d"
           }
          ],
          "scattercarpet": [
           {
            "marker": {
             "colorbar": {
              "outlinewidth": 0,
              "ticks": ""
             }
            },
            "type": "scattercarpet"
           }
          ],
          "scattergeo": [
           {
            "marker": {
             "colorbar": {
              "outlinewidth": 0,
              "ticks": ""
             }
            },
            "type": "scattergeo"
           }
          ],
          "scattergl": [
           {
            "marker": {
             "colorbar": {
              "outlinewidth": 0,
              "ticks": ""
             }
            },
            "type": "scattergl"
           }
          ],
          "scattermap": [
           {
            "marker": {
             "colorbar": {
              "outlinewidth": 0,
              "ticks": ""
             }
            },
            "type": "scattermap"
           }
          ],
          "scattermapbox": [
           {
            "marker": {
             "colorbar": {
              "outlinewidth": 0,
              "ticks": ""
             }
            },
            "type": "scattermapbox"
           }
          ],
          "scatterpolar": [
           {
            "marker": {
             "colorbar": {
              "outlinewidth": 0,
              "ticks": ""
             }
            },
            "type": "scatterpolar"
           }
          ],
          "scatterpolargl": [
           {
            "marker": {
             "colorbar": {
              "outlinewidth": 0,
              "ticks": ""
             }
            },
            "type": "scatterpolargl"
           }
          ],
          "scatterternary": [
           {
            "marker": {
             "colorbar": {
              "outlinewidth": 0,
              "ticks": ""
             }
            },
            "type": "scatterternary"
           }
          ],
          "surface": [
           {
            "colorbar": {
             "outlinewidth": 0,
             "ticks": ""
            },
            "colorscale": [
             [
              0,
              "#0d0887"
             ],
             [
              0.1111111111111111,
              "#46039f"
             ],
             [
              0.2222222222222222,
              "#7201a8"
             ],
             [
              0.3333333333333333,
              "#9c179e"
             ],
             [
              0.4444444444444444,
              "#bd3786"
             ],
             [
              0.5555555555555556,
              "#d8576b"
             ],
             [
              0.6666666666666666,
              "#ed7953"
             ],
             [
              0.7777777777777778,
              "#fb9f3a"
             ],
             [
              0.8888888888888888,
              "#fdca26"
             ],
             [
              1,
              "#f0f921"
             ]
            ],
            "type": "surface"
           }
          ],
          "table": [
           {
            "cells": {
             "fill": {
              "color": "#EBF0F8"
             },
             "line": {
              "color": "white"
             }
            },
            "header": {
             "fill": {
              "color": "#C8D4E3"
             },
             "line": {
              "color": "white"
             }
            },
            "type": "table"
           }
          ]
         },
         "layout": {
          "annotationdefaults": {
           "arrowcolor": "#2a3f5f",
           "arrowhead": 0,
           "arrowwidth": 1
          },
          "autotypenumbers": "strict",
          "coloraxis": {
           "colorbar": {
            "outlinewidth": 0,
            "ticks": ""
           }
          },
          "colorscale": {
           "diverging": [
            [
             0,
             "#8e0152"
            ],
            [
             0.1,
             "#c51b7d"
            ],
            [
             0.2,
             "#de77ae"
            ],
            [
             0.3,
             "#f1b6da"
            ],
            [
             0.4,
             "#fde0ef"
            ],
            [
             0.5,
             "#f7f7f7"
            ],
            [
             0.6,
             "#e6f5d0"
            ],
            [
             0.7,
             "#b8e186"
            ],
            [
             0.8,
             "#7fbc41"
            ],
            [
             0.9,
             "#4d9221"
            ],
            [
             1,
             "#276419"
            ]
           ],
           "sequential": [
            [
             0,
             "#0d0887"
            ],
            [
             0.1111111111111111,
             "#46039f"
            ],
            [
             0.2222222222222222,
             "#7201a8"
            ],
            [
             0.3333333333333333,
             "#9c179e"
            ],
            [
             0.4444444444444444,
             "#bd3786"
            ],
            [
             0.5555555555555556,
             "#d8576b"
            ],
            [
             0.6666666666666666,
             "#ed7953"
            ],
            [
             0.7777777777777778,
             "#fb9f3a"
            ],
            [
             0.8888888888888888,
             "#fdca26"
            ],
            [
             1,
             "#f0f921"
            ]
           ],
           "sequentialminus": [
            [
             0,
             "#0d0887"
            ],
            [
             0.1111111111111111,
             "#46039f"
            ],
            [
             0.2222222222222222,
             "#7201a8"
            ],
            [
             0.3333333333333333,
             "#9c179e"
            ],
            [
             0.4444444444444444,
             "#bd3786"
            ],
            [
             0.5555555555555556,
             "#d8576b"
            ],
            [
             0.6666666666666666,
             "#ed7953"
            ],
            [
             0.7777777777777778,
             "#fb9f3a"
            ],
            [
             0.8888888888888888,
             "#fdca26"
            ],
            [
             1,
             "#f0f921"
            ]
           ]
          },
          "colorway": [
           "#636efa",
           "#EF553B",
           "#00cc96",
           "#ab63fa",
           "#FFA15A",
           "#19d3f3",
           "#FF6692",
           "#B6E880",
           "#FF97FF",
           "#FECB52"
          ],
          "font": {
           "color": "#2a3f5f"
          },
          "geo": {
           "bgcolor": "white",
           "lakecolor": "white",
           "landcolor": "#E5ECF6",
           "showlakes": true,
           "showland": true,
           "subunitcolor": "white"
          },
          "hoverlabel": {
           "align": "left"
          },
          "hovermode": "closest",
          "mapbox": {
           "style": "light"
          },
          "paper_bgcolor": "white",
          "plot_bgcolor": "#E5ECF6",
          "polar": {
           "angularaxis": {
            "gridcolor": "white",
            "linecolor": "white",
            "ticks": ""
           },
           "bgcolor": "#E5ECF6",
           "radialaxis": {
            "gridcolor": "white",
            "linecolor": "white",
            "ticks": ""
           }
          },
          "scene": {
           "xaxis": {
            "backgroundcolor": "#E5ECF6",
            "gridcolor": "white",
            "gridwidth": 2,
            "linecolor": "white",
            "showbackground": true,
            "ticks": "",
            "zerolinecolor": "white"
           },
           "yaxis": {
            "backgroundcolor": "#E5ECF6",
            "gridcolor": "white",
            "gridwidth": 2,
            "linecolor": "white",
            "showbackground": true,
            "ticks": "",
            "zerolinecolor": "white"
           },
           "zaxis": {
            "backgroundcolor": "#E5ECF6",
            "gridcolor": "white",
            "gridwidth": 2,
            "linecolor": "white",
            "showbackground": true,
            "ticks": "",
            "zerolinecolor": "white"
           }
          },
          "shapedefaults": {
           "line": {
            "color": "#2a3f5f"
           }
          },
          "ternary": {
           "aaxis": {
            "gridcolor": "white",
            "linecolor": "white",
            "ticks": ""
           },
           "baxis": {
            "gridcolor": "white",
            "linecolor": "white",
            "ticks": ""
           },
           "bgcolor": "#E5ECF6",
           "caxis": {
            "gridcolor": "white",
            "linecolor": "white",
            "ticks": ""
           }
          },
          "title": {
           "x": 0.05
          },
          "xaxis": {
           "automargin": true,
           "gridcolor": "white",
           "linecolor": "white",
           "ticks": "",
           "title": {
            "standoff": 15
           },
           "zerolinecolor": "white",
           "zerolinewidth": 2
          },
          "yaxis": {
           "automargin": true,
           "gridcolor": "white",
           "linecolor": "white",
           "ticks": "",
           "title": {
            "standoff": 15
           },
           "zerolinecolor": "white",
           "zerolinewidth": 2
          }
         }
        }
       }
      }
     },
     "metadata": {},
     "output_type": "display_data"
    }
   ],
   "source": [
    "import pandas as pd\n",
    "import plotly.express as px\n",
    "\n",
    "# Set your Mapbox access token\n",
    "px.set_mapbox_access_token(\"pk.eyJ1IjoibWFyY2Fwb2xhayIsImEiOiJjbThvajN1bHAwMHo1MmxzYXhjb3p3Zjh0In0.emuUuaDMhcM6R9-XtsvZWA\")\n",
    "\n",
    "# Define location coordinates\n",
    "location_coords = {\n",
    "    \"Downtown LA\": (34.0522, -118.2437),\n",
    "    \"Arts District\": (34.0403, -118.2352),\n",
    "    \"Silver Lake\": (34.0872, -118.2707),\n",
    "    \"Echo Park\": (34.0782, -118.2606),\n",
    "    \"Venice Beach\": (33.9850, -118.4695),\n",
    "    \"Santa Monica\": (34.0195, -118.4912),\n",
    "    \"Playa Vista\": (33.9754, -118.4208),\n",
    "    \"West Hollywood\": (34.0900, -118.3617),\n",
    "    \"Beverly Hills\": (34.0736, -118.4004),\n",
    "    \"Sunset Strip\": (34.0928, -118.3854),\n",
    "    \"Culver City\": (34.0211, -118.3965),\n",
    "    \"Bel Air\": (34.1000, -118.4614),\n",
    "    \"Westwood\": (34.0561, -118.4290),\n",
    "    \"Westwood (UCLA)\": (34.0689, -118.4452),\n",
    "    \"South LA (USC)\": (34.0224, -118.2851)\n",
    "}\n",
    "\n",
    "# Add latitude and longitude to the dataframe\n",
    "demographic_df['latitude'] = demographic_df['location'].map(lambda x: location_coords.get(x.split('(')[0].strip(), (None, None))[0])\n",
    "demographic_df['longitude'] = demographic_df['location'].map(lambda x: location_coords.get(x.split('(')[0].strip(), (None, None))[1])\n",
    "\n",
    "# Check if latitude and longitude columns were added correctly\n",
    "if demographic_df[['latitude', 'longitude']].isnull().any().any():\n",
    "    print(\"Warning: Some locations do not have coordinates in the dictionary.\")\n",
    "    missing_locations = set(demographic_df['location'].map(lambda x: x.split('(')[0].strip())) - set(location_coords.keys())\n",
    "    print(\"Missing locations:\", missing_locations)\n",
    "\n",
    "demographic_df = demographic_df.dropna(subset=['latitude', 'longitude'])\n",
    "\n",
    "fig = px.scatter_mapbox(\n",
    "    demographic_df,\n",
    "    lat=\"latitude\",\n",
    "    lon=\"longitude\",\n",
    "    color=\"tribe\",\n",
    "    size=\"income\",\n",
    "    hover_name=\"short_description\",\n",
    "    hover_data=[\"age\", \"occupation\", \"education\"],\n",
    "    zoom=10,\n",
    "    height=600\n",
    ")\n",
    "\n",
    "fig.update_layout(\n",
    "    mapbox_style=\"mapbox://styles/mapbox/streets-v12\",\n",
    "    margin={\"r\": 0, \"t\": 0, \"l\": 0, \"b\": 0},\n",
    "    legend=dict(\n",
    "        orientation=\"h\",  # Horizontal orientation\n",
    "        yanchor=\"bottom\",  # Position at the bottom\n",
    "        y=1.02,  # Slightly above the bottom\n",
    "        xanchor=\"right\",  # Align to the right\n",
    "        x=1,  # Position at the right edge\n",
    "        font=dict(size=8)  # Reduce font size\n",
    "    )\n",
    ")\n",
    "\n",
    "fig.show()\n"
   ]
  },
  {
   "cell_type": "markdown",
   "metadata": {
    "application/vnd.databricks.v1+cell": {
     "cellMetadata": {},
     "inputWidgets": {},
     "nuid": "77068db6-d72d-4c1b-8751-bb80b0ddbc2d",
     "showTitle": false,
     "tableResultSettingsMap": {},
     "title": ""
    }
   },
   "source": [
    "## Step 2: Generate social media posts"
   ]
  },
  {
   "cell_type": "code",
   "execution_count": 7,
   "metadata": {},
   "outputs": [],
   "source": [
    "fake = Faker()\n",
    "\n",
    "# Updated Tribes based on your focus\n",
    "tribes = {\n",
    "    \"Young Professional Women - Urban Explorers\": {\n",
    "        \"products\": [\"travel bag\", \"stylish sunglasses\", \"compact camera\", \"smartphone\", \"fitness tracker\"],\n",
    "        \"emotions\": [\"excited\", \"curious\", \"adventurous\", \"relaxed\"]\n",
    "    },\n",
    "    \"Tech-Savvy Professionals - Silicon Beach Innovators\": {\n",
    "        \"products\": [\"smartphone\", \"laptop\", \"smartwatch\", \"tablet\", \"wireless earbuds\"],\n",
    "        \"emotions\": [\"excited\", \"satisfied\", \"curious\", \"innovative\"]\n",
    "    },\n",
    "    \"Creative Entrepreneurs - Hollywood Creatives\": {\n",
    "        \"products\": [\"designer laptop\", \"high-end camera\", \"smartphone\", \"creative tools\", \"luxury watch\"],\n",
    "        \"emotions\": [\"inspired\", \"excited\", \"content\", \"creative\"]\n",
    "    },\n",
    "    \"Eco-Conscious Millennials - Sustainable Lifestyle\": {\n",
    "        \"products\": [\"reusable water bottle\", \"organic skincare\", \"bamboo toothbrush\", \"electric bike\", \"solar-powered charger\"],\n",
    "        \"emotions\": [\"satisfied\", \"relaxed\", \"eco-friendly\", \"content\"]\n",
    "    },\n",
    "    \"Luxury-Oriented Professionals - Upscale Lifestyles\": {\n",
    "        \"products\": [\"luxury watch\", \"high-end camera\", \"luxury car\", \"premium wine\", \"gourmet food subscription\"],\n",
    "        \"emotions\": [\"satisfied\", \"relaxed\", \"luxurious\", \"content\"]\n",
    "    },\n",
    "    \"College Students - Campus Life (UCLA / USC)\": {\n",
    "        \"products\": [\"backpack\", \"laptop\", \"coffee maker\", \"textbooks\", \"headphones\"],\n",
    "        \"emotions\": [\"excited\", \"curious\", \"satisfied\", \"motivated\"]\n",
    "    }\n",
    "}\n",
    "\n",
    "\n",
    "# Get random sample from demographic data (assuming `demographic_df` is already created)\n",
    "sampled_df = demographic_df.sample(n=100).reset_index(drop=True)\n",
    "\n",
    "# Generate combinations for 100 unique posts\n",
    "combinations = []\n",
    "unique_combinations = set()\n",
    "\n",
    "while len(unique_combinations) < 100:\n",
    "    # Select a tribe randomly from the dictionary\n",
    "    tribe_name = random.choice(list(tribes.keys()))\n",
    "    \n",
    "    # Select a random author_id from the demographic data based on the tribe (segment)\n",
    "    author_id = demographic_df[demographic_df[\"tribe\"] == tribe_name][\"uuid\"].sample(1).values[0]\n",
    "    \n",
    "    # Choose a product and emotion from the tribe\n",
    "    product = random.choice(tribes[tribe_name][\"products\"])\n",
    "    emotion = random.choice(tribes[tribe_name][\"emotions\"])\n",
    "    \n",
    "    # Create a tuple to check for uniqueness\n",
    "    combination_tuple = (tribe_name, product, emotion)\n",
    "    \n",
    "    # Add only if the combination is unique\n",
    "    if combination_tuple not in unique_combinations:\n",
    "        unique_combinations.add(combination_tuple)\n",
    "        combinations.append({\n",
    "            \"author_id\": author_id,\n",
    "            \"tribe\": tribe_name,\n",
    "            \"product\": product,\n",
    "            \"emotion\": emotion\n",
    "        })\n",
    "\n",
    "combinations_df = pd.DataFrame(combinations)"
   ]
  },
  {
   "cell_type": "code",
   "execution_count": 8,
   "metadata": {},
   "outputs": [],
   "source": [
    "combinations_sdf = spark.createDataFrame(combinations_df)"
   ]
  },
  {
   "cell_type": "code",
   "execution_count": 9,
   "metadata": {},
   "outputs": [
    {
     "data": {
      "text/html": [
       "<table border=\"1\" class=\"dataframe\">\n",
       "  <thead>\n",
       "    <tr style=\"text-align: right;\">\n",
       "      <th></th>\n",
       "      <th>tribe</th>\n",
       "      <th>count</th>\n",
       "    </tr>\n",
       "  </thead>\n",
       "  <tbody>\n",
       "    <tr>\n",
       "      <th>0</th>\n",
       "      <td>Eco-Conscious Millennials - Sustainable Lifestyle</td>\n",
       "      <td>15</td>\n",
       "    </tr>\n",
       "    <tr>\n",
       "      <th>1</th>\n",
       "      <td>Tech-Savvy Professionals - Silicon Beach Innovators</td>\n",
       "      <td>17</td>\n",
       "    </tr>\n",
       "    <tr>\n",
       "      <th>2</th>\n",
       "      <td>College Students - Campus Life (UCLA / USC)</td>\n",
       "      <td>20</td>\n",
       "    </tr>\n",
       "    <tr>\n",
       "      <th>3</th>\n",
       "      <td>Creative Entrepreneurs - Hollywood Creatives</td>\n",
       "      <td>17</td>\n",
       "    </tr>\n",
       "    <tr>\n",
       "      <th>4</th>\n",
       "      <td>Luxury-Oriented Professionals - Upscale Lifestyles</td>\n",
       "      <td>17</td>\n",
       "    </tr>\n",
       "    <tr>\n",
       "      <th>5</th>\n",
       "      <td>Young Professional Women - Urban Explorers</td>\n",
       "      <td>14</td>\n",
       "    </tr>\n",
       "  </tbody>\n",
       "</table>"
      ],
      "text/plain": [
       "DataFrame[tribe: string, count: bigint]"
      ]
     },
     "metadata": {},
     "output_type": "display_data"
    }
   ],
   "source": [
    "display(combinations_sdf.groupBy(\"tribe\").count())"
   ]
  },
  {
   "cell_type": "code",
   "execution_count": 10,
   "metadata": {},
   "outputs": [],
   "source": [
    "# Creat temp view for AI_QUERY\n",
    "combinations_sdf.createOrReplaceTempView(\"sampled_audience\")"
   ]
  },
  {
   "cell_type": "code",
   "execution_count": 11,
   "metadata": {},
   "outputs": [],
   "source": [
    "# Create the SQL query for generating social media posts\n",
    "sql_query = \"\"\"\n",
    "CREATE OR REPLACE TEMP VIEW sampled_audience_posts AS\n",
    "SELECT\n",
    "    author_id,\n",
    "    tribe,\n",
    "    product,\n",
    "    emotion,\n",
    "    AI_QUERY(\n",
    "        \"databricks-meta-llama-3-3-70b-instruct\", \n",
    "        CONCAT(\n",
    "            'Generate a realistic social media post from a consumer who recently purchased a ',\n",
    "            product, \n",
    "            ' from the perspective of a ', tribe, \n",
    "            ' who is ', emotion, \n",
    "            ' about the product. The post should reflect their genuine experience, including specific details about the product\\'s features, performance, and how it fits into their lifestyle. Maintain a conversational and engaging tone, similar to how people naturally write on social media. Optionally, include a hashtag or emoji for authenticity. Don\\'t explicitly mention the tribe or that you are an AI assistant. Remove quotation marks.'\n",
    "        ) AS post\n",
    "FROM sampled_audience\n",
    "\"\"\""
   ]
  },
  {
   "cell_type": "code",
   "execution_count": 12,
   "metadata": {},
   "outputs": [
    {
     "data": {
      "application/vnd.microsoft.datawrangler.viewer.v0+json": {
       "columns": [
        {
         "name": "index",
         "rawType": "int64",
         "type": "integer"
        },
        {
         "name": "author_id",
         "rawType": "object",
         "type": "string"
        },
        {
         "name": "tribe",
         "rawType": "object",
         "type": "string"
        },
        {
         "name": "product",
         "rawType": "object",
         "type": "string"
        },
        {
         "name": "emotion",
         "rawType": "object",
         "type": "string"
        }
       ],
       "conversionMethod": "pd.DataFrame",
       "ref": "339e6371-db95-4170-95e4-66d9f00e15c9",
       "rows": [
        [
         "0",
         "8c60ff26-5f37-44e7-99fb-4d2b270ceae4",
         "Eco-Conscious Millennials - Sustainable Lifestyle",
         "bamboo toothbrush",
         "satisfied"
        ],
        [
         "1",
         "483089aa-cda3-4609-8704-71bc91faa6e5",
         "Eco-Conscious Millennials - Sustainable Lifestyle",
         "organic skincare",
         "satisfied"
        ],
        [
         "2",
         "eecb7210-aaca-4915-a3b4-8d3e4abfa5f9",
         "Tech-Savvy Professionals - Silicon Beach Innovators",
         "smartphone",
         "excited"
        ],
        [
         "3",
         "567eca8b-78d7-4b3a-a704-9839511269e1",
         "College Students - Campus Life (UCLA / USC)",
         "textbooks",
         "curious"
        ],
        [
         "4",
         "37296c8e-cef3-41ad-8472-8d6f27ee94c2",
         "College Students - Campus Life (UCLA / USC)",
         "textbooks",
         "satisfied"
        ],
        [
         "5",
         "2a2fbf83-98ec-494a-8529-9a987738c8f4",
         "Tech-Savvy Professionals - Silicon Beach Innovators",
         "smartwatch",
         "excited"
        ],
        [
         "6",
         "fecdf4a0-223f-4d8f-a5ca-d1331fc1d52d",
         "Creative Entrepreneurs - Hollywood Creatives",
         "designer laptop",
         "content"
        ],
        [
         "7",
         "19e940bb-c736-4371-96ad-b03279a87f63",
         "College Students - Campus Life (UCLA / USC)",
         "headphones",
         "motivated"
        ],
        [
         "8",
         "2756dafa-61ba-4f36-acd7-0673a0e660d1",
         "Young Professional Women - Urban Explorers",
         "stylish sunglasses",
         "curious"
        ],
        [
         "9",
         "32e07015-6644-48c8-8393-d94bc9cb2cb4",
         "Luxury-Oriented Professionals - Upscale Lifestyles",
         "high-end camera",
         "content"
        ],
        [
         "10",
         "aaac0596-7ac8-45a2-9ee8-e8f28f79cccb",
         "College Students - Campus Life (UCLA / USC)",
         "backpack",
         "motivated"
        ],
        [
         "11",
         "d88cc15f-de27-4dfc-a192-8ba61b67be47",
         "Creative Entrepreneurs - Hollywood Creatives",
         "luxury watch",
         "creative"
        ],
        [
         "12",
         "b5920ba5-fb84-47f4-8015-20e1be2db06f",
         "Luxury-Oriented Professionals - Upscale Lifestyles",
         "gourmet food subscription",
         "content"
        ],
        [
         "13",
         "9e18fc18-9379-41e4-a3d0-15478b1d8a2d",
         "Tech-Savvy Professionals - Silicon Beach Innovators",
         "tablet",
         "innovative"
        ],
        [
         "14",
         "17cacd8f-d6c6-49f1-8d52-76f8e8c3a652",
         "Luxury-Oriented Professionals - Upscale Lifestyles",
         "high-end camera",
         "luxurious"
        ],
        [
         "15",
         "7e56e9f5-49e8-404d-86e2-83e8f21ecfca",
         "College Students - Campus Life (UCLA / USC)",
         "backpack",
         "excited"
        ],
        [
         "16",
         "fa7dc231-0722-42fa-b8d4-3b79ee56418d",
         "College Students - Campus Life (UCLA / USC)",
         "laptop",
         "curious"
        ],
        [
         "17",
         "4a0a11a1-9283-4094-baa8-7f61d905f79b",
         "Creative Entrepreneurs - Hollywood Creatives",
         "smartphone",
         "content"
        ],
        [
         "18",
         "69c8c9a0-c682-4d15-8599-3f938d0bc45e",
         "College Students - Campus Life (UCLA / USC)",
         "headphones",
         "curious"
        ],
        [
         "19",
         "d479b05d-9f99-4975-a6d8-9ed75f776d54",
         "Tech-Savvy Professionals - Silicon Beach Innovators",
         "smartphone",
         "innovative"
        ],
        [
         "20",
         "452d8e73-dae8-44b9-b7a8-ddfc997e95e3",
         "Luxury-Oriented Professionals - Upscale Lifestyles",
         "high-end camera",
         "satisfied"
        ],
        [
         "21",
         "3c8688da-1499-4835-9ae6-e7aa98db2a2d",
         "Eco-Conscious Millennials - Sustainable Lifestyle",
         "reusable water bottle",
         "satisfied"
        ],
        [
         "22",
         "78c01085-66a7-4694-ac47-d69d28de6889",
         "Creative Entrepreneurs - Hollywood Creatives",
         "smartphone",
         "inspired"
        ],
        [
         "23",
         "fa52bcbe-fcb0-4292-b4a8-c3a0b2667998",
         "Luxury-Oriented Professionals - Upscale Lifestyles",
         "luxury car",
         "relaxed"
        ],
        [
         "24",
         "811f1c22-c01a-4606-b0c5-5a317dcf19c8",
         "Creative Entrepreneurs - Hollywood Creatives",
         "luxury watch",
         "content"
        ],
        [
         "25",
         "b0be4023-f830-4581-9c61-f40cc3af0ae5",
         "Creative Entrepreneurs - Hollywood Creatives",
         "high-end camera",
         "content"
        ],
        [
         "26",
         "b1e88853-37b2-4eb1-9e33-0a20ffddbd88",
         "College Students - Campus Life (UCLA / USC)",
         "coffee maker",
         "satisfied"
        ],
        [
         "27",
         "c2f5a4b3-78ca-4c1f-9fed-7eefc9e7a6da",
         "Eco-Conscious Millennials - Sustainable Lifestyle",
         "organic skincare",
         "eco-friendly"
        ],
        [
         "28",
         "8d9d120b-6063-440d-8153-4e8e6ba12b64",
         "Young Professional Women - Urban Explorers",
         "travel bag",
         "relaxed"
        ],
        [
         "29",
         "685fce09-4968-455d-8e61-061800807b88",
         "Young Professional Women - Urban Explorers",
         "fitness tracker",
         "excited"
        ],
        [
         "30",
         "d72155f1-d054-4987-af6f-5fbca51b4ff2",
         "College Students - Campus Life (UCLA / USC)",
         "laptop",
         "satisfied"
        ],
        [
         "31",
         "4bad1fb4-cc7f-4f4e-9344-f59570fb398a",
         "Tech-Savvy Professionals - Silicon Beach Innovators",
         "tablet",
         "excited"
        ],
        [
         "32",
         "d80ef5a5-8b30-42c7-a0d8-2e99aa08c3cf",
         "Tech-Savvy Professionals - Silicon Beach Innovators",
         "wireless earbuds",
         "curious"
        ],
        [
         "33",
         "4982a7b7-d3d2-49df-9618-d50dc4b70f4e",
         "Creative Entrepreneurs - Hollywood Creatives",
         "designer laptop",
         "creative"
        ],
        [
         "34",
         "65d720ad-f85e-4d36-ba9e-7320bf1c8248",
         "Young Professional Women - Urban Explorers",
         "compact camera",
         "adventurous"
        ],
        [
         "35",
         "1093fe4b-1ff1-4909-8c0a-74a21963cb73",
         "Creative Entrepreneurs - Hollywood Creatives",
         "creative tools",
         "creative"
        ],
        [
         "36",
         "16d8348f-f71f-46d2-bbc7-38cd9530cf4c",
         "Eco-Conscious Millennials - Sustainable Lifestyle",
         "electric bike",
         "eco-friendly"
        ],
        [
         "37",
         "e2efa246-b46f-47b8-b313-80785fac48b2",
         "Tech-Savvy Professionals - Silicon Beach Innovators",
         "wireless earbuds",
         "excited"
        ],
        [
         "38",
         "006b3c5f-6ccf-4f13-95aa-7862c061877a",
         "Tech-Savvy Professionals - Silicon Beach Innovators",
         "wireless earbuds",
         "innovative"
        ],
        [
         "39",
         "ebc83ef8-5ce1-43bf-bc1c-bb8d2cd0b60e",
         "Eco-Conscious Millennials - Sustainable Lifestyle",
         "reusable water bottle",
         "eco-friendly"
        ],
        [
         "40",
         "cec2d748-70f3-409f-b129-78665637c9c6",
         "Tech-Savvy Professionals - Silicon Beach Innovators",
         "tablet",
         "curious"
        ],
        [
         "41",
         "2b078c34-388b-40cf-be6e-37ccd8e5a1ac",
         "Luxury-Oriented Professionals - Upscale Lifestyles",
         "luxury watch",
         "relaxed"
        ],
        [
         "42",
         "58d71489-4321-495c-8001-f81d990bde5a",
         "Tech-Savvy Professionals - Silicon Beach Innovators",
         "laptop",
         "excited"
        ],
        [
         "43",
         "97b6afe1-9595-459c-8ee9-9fc020e2b43f",
         "College Students - Campus Life (UCLA / USC)",
         "headphones",
         "excited"
        ],
        [
         "44",
         "17280139-84f5-4095-8bfd-4fe0481b6cea",
         "Tech-Savvy Professionals - Silicon Beach Innovators",
         "smartwatch",
         "curious"
        ],
        [
         "45",
         "f2cf3d6d-ca76-4702-8695-fce472f5e6ac",
         "College Students - Campus Life (UCLA / USC)",
         "coffee maker",
         "motivated"
        ],
        [
         "46",
         "fac0c2aa-329c-43fb-84cf-16048117d3a3",
         "Eco-Conscious Millennials - Sustainable Lifestyle",
         "electric bike",
         "content"
        ],
        [
         "47",
         "86c18077-dd12-4394-9f8c-2068d0cce120",
         "Young Professional Women - Urban Explorers",
         "fitness tracker",
         "adventurous"
        ],
        [
         "48",
         "67817a7a-7165-4f12-852e-3ce309f9b410",
         "College Students - Campus Life (UCLA / USC)",
         "laptop",
         "excited"
        ],
        [
         "49",
         "86c18077-dd12-4394-9f8c-2068d0cce120",
         "Young Professional Women - Urban Explorers",
         "stylish sunglasses",
         "relaxed"
        ]
       ],
       "shape": {
        "columns": 4,
        "rows": 100
       }
      },
      "text/html": [
       "<div>\n",
       "<style scoped>\n",
       "    .dataframe tbody tr th:only-of-type {\n",
       "        vertical-align: middle;\n",
       "    }\n",
       "\n",
       "    .dataframe tbody tr th {\n",
       "        vertical-align: top;\n",
       "    }\n",
       "\n",
       "    .dataframe thead th {\n",
       "        text-align: right;\n",
       "    }\n",
       "</style>\n",
       "<table border=\"1\" class=\"dataframe\">\n",
       "  <thead>\n",
       "    <tr style=\"text-align: right;\">\n",
       "      <th></th>\n",
       "      <th>author_id</th>\n",
       "      <th>tribe</th>\n",
       "      <th>product</th>\n",
       "      <th>emotion</th>\n",
       "    </tr>\n",
       "  </thead>\n",
       "  <tbody>\n",
       "    <tr>\n",
       "      <th>0</th>\n",
       "      <td>8c60ff26-5f37-44e7-99fb-4d2b270ceae4</td>\n",
       "      <td>Eco-Conscious Millennials - Sustainable Lifestyle</td>\n",
       "      <td>bamboo toothbrush</td>\n",
       "      <td>satisfied</td>\n",
       "    </tr>\n",
       "    <tr>\n",
       "      <th>1</th>\n",
       "      <td>483089aa-cda3-4609-8704-71bc91faa6e5</td>\n",
       "      <td>Eco-Conscious Millennials - Sustainable Lifestyle</td>\n",
       "      <td>organic skincare</td>\n",
       "      <td>satisfied</td>\n",
       "    </tr>\n",
       "    <tr>\n",
       "      <th>2</th>\n",
       "      <td>eecb7210-aaca-4915-a3b4-8d3e4abfa5f9</td>\n",
       "      <td>Tech-Savvy Professionals - Silicon Beach Innov...</td>\n",
       "      <td>smartphone</td>\n",
       "      <td>excited</td>\n",
       "    </tr>\n",
       "    <tr>\n",
       "      <th>3</th>\n",
       "      <td>567eca8b-78d7-4b3a-a704-9839511269e1</td>\n",
       "      <td>College Students - Campus Life (UCLA / USC)</td>\n",
       "      <td>textbooks</td>\n",
       "      <td>curious</td>\n",
       "    </tr>\n",
       "    <tr>\n",
       "      <th>4</th>\n",
       "      <td>37296c8e-cef3-41ad-8472-8d6f27ee94c2</td>\n",
       "      <td>College Students - Campus Life (UCLA / USC)</td>\n",
       "      <td>textbooks</td>\n",
       "      <td>satisfied</td>\n",
       "    </tr>\n",
       "    <tr>\n",
       "      <th>...</th>\n",
       "      <td>...</td>\n",
       "      <td>...</td>\n",
       "      <td>...</td>\n",
       "      <td>...</td>\n",
       "    </tr>\n",
       "    <tr>\n",
       "      <th>95</th>\n",
       "      <td>de4e6ae7-c64a-44f3-b636-3ae099c66939</td>\n",
       "      <td>Young Professional Women - Urban Explorers</td>\n",
       "      <td>travel bag</td>\n",
       "      <td>excited</td>\n",
       "    </tr>\n",
       "    <tr>\n",
       "      <th>96</th>\n",
       "      <td>d06e1276-24f1-4b67-bbcc-71a1873eef6b</td>\n",
       "      <td>Eco-Conscious Millennials - Sustainable Lifestyle</td>\n",
       "      <td>electric bike</td>\n",
       "      <td>satisfied</td>\n",
       "    </tr>\n",
       "    <tr>\n",
       "      <th>97</th>\n",
       "      <td>3b61da9c-96d5-45da-b3c4-4ba788698526</td>\n",
       "      <td>Luxury-Oriented Professionals - Upscale Lifest...</td>\n",
       "      <td>gourmet food subscription</td>\n",
       "      <td>luxurious</td>\n",
       "    </tr>\n",
       "    <tr>\n",
       "      <th>98</th>\n",
       "      <td>779f4e35-fca3-4da1-9d9b-bec4c89c4ecc</td>\n",
       "      <td>Creative Entrepreneurs - Hollywood Creatives</td>\n",
       "      <td>luxury watch</td>\n",
       "      <td>excited</td>\n",
       "    </tr>\n",
       "    <tr>\n",
       "      <th>99</th>\n",
       "      <td>56619ac2-4853-4be2-89a2-ede7d6911784</td>\n",
       "      <td>Luxury-Oriented Professionals - Upscale Lifest...</td>\n",
       "      <td>luxury watch</td>\n",
       "      <td>content</td>\n",
       "    </tr>\n",
       "  </tbody>\n",
       "</table>\n",
       "<p>100 rows × 4 columns</p>\n",
       "</div>"
      ],
      "text/plain": [
       "                               author_id  \\\n",
       "0   8c60ff26-5f37-44e7-99fb-4d2b270ceae4   \n",
       "1   483089aa-cda3-4609-8704-71bc91faa6e5   \n",
       "2   eecb7210-aaca-4915-a3b4-8d3e4abfa5f9   \n",
       "3   567eca8b-78d7-4b3a-a704-9839511269e1   \n",
       "4   37296c8e-cef3-41ad-8472-8d6f27ee94c2   \n",
       "..                                   ...   \n",
       "95  de4e6ae7-c64a-44f3-b636-3ae099c66939   \n",
       "96  d06e1276-24f1-4b67-bbcc-71a1873eef6b   \n",
       "97  3b61da9c-96d5-45da-b3c4-4ba788698526   \n",
       "98  779f4e35-fca3-4da1-9d9b-bec4c89c4ecc   \n",
       "99  56619ac2-4853-4be2-89a2-ede7d6911784   \n",
       "\n",
       "                                                tribe  \\\n",
       "0   Eco-Conscious Millennials - Sustainable Lifestyle   \n",
       "1   Eco-Conscious Millennials - Sustainable Lifestyle   \n",
       "2   Tech-Savvy Professionals - Silicon Beach Innov...   \n",
       "3         College Students - Campus Life (UCLA / USC)   \n",
       "4         College Students - Campus Life (UCLA / USC)   \n",
       "..                                                ...   \n",
       "95         Young Professional Women - Urban Explorers   \n",
       "96  Eco-Conscious Millennials - Sustainable Lifestyle   \n",
       "97  Luxury-Oriented Professionals - Upscale Lifest...   \n",
       "98       Creative Entrepreneurs - Hollywood Creatives   \n",
       "99  Luxury-Oriented Professionals - Upscale Lifest...   \n",
       "\n",
       "                      product    emotion  \n",
       "0           bamboo toothbrush  satisfied  \n",
       "1            organic skincare  satisfied  \n",
       "2                  smartphone    excited  \n",
       "3                   textbooks    curious  \n",
       "4                   textbooks  satisfied  \n",
       "..                        ...        ...  \n",
       "95                 travel bag    excited  \n",
       "96              electric bike  satisfied  \n",
       "97  gourmet food subscription  luxurious  \n",
       "98               luxury watch    excited  \n",
       "99               luxury watch    content  \n",
       "\n",
       "[100 rows x 4 columns]"
      ]
     },
     "metadata": {},
     "output_type": "display_data"
    }
   ],
   "source": [
    "posts_df = spark.sql(\"SELECT * FROM sampled_audience\").toPandas()\n",
    "display(posts_df)"
   ]
  },
  {
   "cell_type": "markdown",
   "metadata": {
    "application/vnd.databricks.v1+cell": {
     "cellMetadata": {},
     "inputWidgets": {},
     "nuid": "5b7f0dbf-735c-471a-a1b9-4726be4af0d6",
     "showTitle": false,
     "tableResultSettingsMap": {},
     "title": ""
    }
   },
   "source": [
    "## Step 3: Generate Ad Campaigns"
   ]
  },
  {
   "cell_type": "code",
   "execution_count": 13,
   "metadata": {},
   "outputs": [],
   "source": [
    "# Add fake creation dates for the posts\n",
    "posts_df['created_at'] = [fake.date_time_between(datetime(2023, 1, 1), datetime(2024, 12, 31)).strftime('%Y-%m-%d %H:%M:%S') for _ in range(len(posts_df))]\n",
    "\n",
    "# Optionally: Save posts to a JSON or database\n",
    "posts_df.to_json('social_media_posts.json', orient='records')"
   ]
  },
  {
   "cell_type": "code",
   "execution_count": 14,
   "metadata": {},
   "outputs": [
    {
     "name": "stdout",
     "output_type": "stream",
     "text": [
      "Generated Social Media Posts:\n"
     ]
    },
    {
     "data": {
      "application/vnd.microsoft.datawrangler.viewer.v0+json": {
       "columns": [
        {
         "name": "index",
         "rawType": "int64",
         "type": "integer"
        },
        {
         "name": "author_id",
         "rawType": "object",
         "type": "string"
        },
        {
         "name": "tribe",
         "rawType": "object",
         "type": "string"
        },
        {
         "name": "product",
         "rawType": "object",
         "type": "string"
        },
        {
         "name": "emotion",
         "rawType": "object",
         "type": "string"
        },
        {
         "name": "created_at",
         "rawType": "object",
         "type": "string"
        }
       ],
       "conversionMethod": "pd.DataFrame",
       "ref": "f60345ed-7926-4c64-8306-3eab84247531",
       "rows": [
        [
         "0",
         "8c60ff26-5f37-44e7-99fb-4d2b270ceae4",
         "Eco-Conscious Millennials - Sustainable Lifestyle",
         "bamboo toothbrush",
         "satisfied",
         "2024-03-12 09:54:47"
        ],
        [
         "1",
         "483089aa-cda3-4609-8704-71bc91faa6e5",
         "Eco-Conscious Millennials - Sustainable Lifestyle",
         "organic skincare",
         "satisfied",
         "2023-02-13 00:15:58"
        ],
        [
         "2",
         "eecb7210-aaca-4915-a3b4-8d3e4abfa5f9",
         "Tech-Savvy Professionals - Silicon Beach Innovators",
         "smartphone",
         "excited",
         "2024-10-21 22:53:47"
        ],
        [
         "3",
         "567eca8b-78d7-4b3a-a704-9839511269e1",
         "College Students - Campus Life (UCLA / USC)",
         "textbooks",
         "curious",
         "2023-08-30 10:22:49"
        ],
        [
         "4",
         "37296c8e-cef3-41ad-8472-8d6f27ee94c2",
         "College Students - Campus Life (UCLA / USC)",
         "textbooks",
         "satisfied",
         "2023-06-17 03:43:49"
        ],
        [
         "5",
         "2a2fbf83-98ec-494a-8529-9a987738c8f4",
         "Tech-Savvy Professionals - Silicon Beach Innovators",
         "smartwatch",
         "excited",
         "2024-04-28 07:39:43"
        ],
        [
         "6",
         "fecdf4a0-223f-4d8f-a5ca-d1331fc1d52d",
         "Creative Entrepreneurs - Hollywood Creatives",
         "designer laptop",
         "content",
         "2024-11-11 13:12:34"
        ],
        [
         "7",
         "19e940bb-c736-4371-96ad-b03279a87f63",
         "College Students - Campus Life (UCLA / USC)",
         "headphones",
         "motivated",
         "2023-07-23 12:06:11"
        ],
        [
         "8",
         "2756dafa-61ba-4f36-acd7-0673a0e660d1",
         "Young Professional Women - Urban Explorers",
         "stylish sunglasses",
         "curious",
         "2023-11-05 12:47:37"
        ],
        [
         "9",
         "32e07015-6644-48c8-8393-d94bc9cb2cb4",
         "Luxury-Oriented Professionals - Upscale Lifestyles",
         "high-end camera",
         "content",
         "2024-08-27 02:19:16"
        ],
        [
         "10",
         "aaac0596-7ac8-45a2-9ee8-e8f28f79cccb",
         "College Students - Campus Life (UCLA / USC)",
         "backpack",
         "motivated",
         "2024-12-26 23:48:25"
        ],
        [
         "11",
         "d88cc15f-de27-4dfc-a192-8ba61b67be47",
         "Creative Entrepreneurs - Hollywood Creatives",
         "luxury watch",
         "creative",
         "2024-07-08 17:09:12"
        ],
        [
         "12",
         "b5920ba5-fb84-47f4-8015-20e1be2db06f",
         "Luxury-Oriented Professionals - Upscale Lifestyles",
         "gourmet food subscription",
         "content",
         "2023-12-26 01:29:57"
        ],
        [
         "13",
         "9e18fc18-9379-41e4-a3d0-15478b1d8a2d",
         "Tech-Savvy Professionals - Silicon Beach Innovators",
         "tablet",
         "innovative",
         "2023-09-07 11:15:14"
        ],
        [
         "14",
         "17cacd8f-d6c6-49f1-8d52-76f8e8c3a652",
         "Luxury-Oriented Professionals - Upscale Lifestyles",
         "high-end camera",
         "luxurious",
         "2023-10-24 00:57:05"
        ],
        [
         "15",
         "7e56e9f5-49e8-404d-86e2-83e8f21ecfca",
         "College Students - Campus Life (UCLA / USC)",
         "backpack",
         "excited",
         "2024-02-09 17:21:08"
        ],
        [
         "16",
         "fa7dc231-0722-42fa-b8d4-3b79ee56418d",
         "College Students - Campus Life (UCLA / USC)",
         "laptop",
         "curious",
         "2024-01-03 13:42:27"
        ],
        [
         "17",
         "4a0a11a1-9283-4094-baa8-7f61d905f79b",
         "Creative Entrepreneurs - Hollywood Creatives",
         "smartphone",
         "content",
         "2024-06-21 20:18:20"
        ],
        [
         "18",
         "69c8c9a0-c682-4d15-8599-3f938d0bc45e",
         "College Students - Campus Life (UCLA / USC)",
         "headphones",
         "curious",
         "2024-03-15 05:21:02"
        ],
        [
         "19",
         "d479b05d-9f99-4975-a6d8-9ed75f776d54",
         "Tech-Savvy Professionals - Silicon Beach Innovators",
         "smartphone",
         "innovative",
         "2024-04-30 08:00:41"
        ],
        [
         "20",
         "452d8e73-dae8-44b9-b7a8-ddfc997e95e3",
         "Luxury-Oriented Professionals - Upscale Lifestyles",
         "high-end camera",
         "satisfied",
         "2023-01-12 03:16:27"
        ],
        [
         "21",
         "3c8688da-1499-4835-9ae6-e7aa98db2a2d",
         "Eco-Conscious Millennials - Sustainable Lifestyle",
         "reusable water bottle",
         "satisfied",
         "2024-12-10 17:44:59"
        ],
        [
         "22",
         "78c01085-66a7-4694-ac47-d69d28de6889",
         "Creative Entrepreneurs - Hollywood Creatives",
         "smartphone",
         "inspired",
         "2024-12-25 12:36:01"
        ],
        [
         "23",
         "fa52bcbe-fcb0-4292-b4a8-c3a0b2667998",
         "Luxury-Oriented Professionals - Upscale Lifestyles",
         "luxury car",
         "relaxed",
         "2024-03-04 11:36:26"
        ],
        [
         "24",
         "811f1c22-c01a-4606-b0c5-5a317dcf19c8",
         "Creative Entrepreneurs - Hollywood Creatives",
         "luxury watch",
         "content",
         "2023-04-09 20:30:24"
        ],
        [
         "25",
         "b0be4023-f830-4581-9c61-f40cc3af0ae5",
         "Creative Entrepreneurs - Hollywood Creatives",
         "high-end camera",
         "content",
         "2023-02-15 02:59:51"
        ],
        [
         "26",
         "b1e88853-37b2-4eb1-9e33-0a20ffddbd88",
         "College Students - Campus Life (UCLA / USC)",
         "coffee maker",
         "satisfied",
         "2023-04-04 11:08:27"
        ],
        [
         "27",
         "c2f5a4b3-78ca-4c1f-9fed-7eefc9e7a6da",
         "Eco-Conscious Millennials - Sustainable Lifestyle",
         "organic skincare",
         "eco-friendly",
         "2024-10-06 23:52:03"
        ],
        [
         "28",
         "8d9d120b-6063-440d-8153-4e8e6ba12b64",
         "Young Professional Women - Urban Explorers",
         "travel bag",
         "relaxed",
         "2024-08-02 05:31:33"
        ],
        [
         "29",
         "685fce09-4968-455d-8e61-061800807b88",
         "Young Professional Women - Urban Explorers",
         "fitness tracker",
         "excited",
         "2024-09-14 07:44:40"
        ],
        [
         "30",
         "d72155f1-d054-4987-af6f-5fbca51b4ff2",
         "College Students - Campus Life (UCLA / USC)",
         "laptop",
         "satisfied",
         "2023-08-12 14:12:33"
        ],
        [
         "31",
         "4bad1fb4-cc7f-4f4e-9344-f59570fb398a",
         "Tech-Savvy Professionals - Silicon Beach Innovators",
         "tablet",
         "excited",
         "2024-11-02 13:20:25"
        ],
        [
         "32",
         "d80ef5a5-8b30-42c7-a0d8-2e99aa08c3cf",
         "Tech-Savvy Professionals - Silicon Beach Innovators",
         "wireless earbuds",
         "curious",
         "2024-06-07 03:43:49"
        ],
        [
         "33",
         "4982a7b7-d3d2-49df-9618-d50dc4b70f4e",
         "Creative Entrepreneurs - Hollywood Creatives",
         "designer laptop",
         "creative",
         "2024-09-20 01:41:07"
        ],
        [
         "34",
         "65d720ad-f85e-4d36-ba9e-7320bf1c8248",
         "Young Professional Women - Urban Explorers",
         "compact camera",
         "adventurous",
         "2024-07-15 10:20:52"
        ],
        [
         "35",
         "1093fe4b-1ff1-4909-8c0a-74a21963cb73",
         "Creative Entrepreneurs - Hollywood Creatives",
         "creative tools",
         "creative",
         "2023-06-15 08:01:29"
        ],
        [
         "36",
         "16d8348f-f71f-46d2-bbc7-38cd9530cf4c",
         "Eco-Conscious Millennials - Sustainable Lifestyle",
         "electric bike",
         "eco-friendly",
         "2024-09-20 13:18:26"
        ],
        [
         "37",
         "e2efa246-b46f-47b8-b313-80785fac48b2",
         "Tech-Savvy Professionals - Silicon Beach Innovators",
         "wireless earbuds",
         "excited",
         "2024-06-24 10:25:08"
        ],
        [
         "38",
         "006b3c5f-6ccf-4f13-95aa-7862c061877a",
         "Tech-Savvy Professionals - Silicon Beach Innovators",
         "wireless earbuds",
         "innovative",
         "2023-11-27 15:32:40"
        ],
        [
         "39",
         "ebc83ef8-5ce1-43bf-bc1c-bb8d2cd0b60e",
         "Eco-Conscious Millennials - Sustainable Lifestyle",
         "reusable water bottle",
         "eco-friendly",
         "2024-06-30 05:08:59"
        ],
        [
         "40",
         "cec2d748-70f3-409f-b129-78665637c9c6",
         "Tech-Savvy Professionals - Silicon Beach Innovators",
         "tablet",
         "curious",
         "2023-05-06 18:29:53"
        ],
        [
         "41",
         "2b078c34-388b-40cf-be6e-37ccd8e5a1ac",
         "Luxury-Oriented Professionals - Upscale Lifestyles",
         "luxury watch",
         "relaxed",
         "2023-12-13 04:28:59"
        ],
        [
         "42",
         "58d71489-4321-495c-8001-f81d990bde5a",
         "Tech-Savvy Professionals - Silicon Beach Innovators",
         "laptop",
         "excited",
         "2023-11-28 02:04:27"
        ],
        [
         "43",
         "97b6afe1-9595-459c-8ee9-9fc020e2b43f",
         "College Students - Campus Life (UCLA / USC)",
         "headphones",
         "excited",
         "2023-12-09 16:19:11"
        ],
        [
         "44",
         "17280139-84f5-4095-8bfd-4fe0481b6cea",
         "Tech-Savvy Professionals - Silicon Beach Innovators",
         "smartwatch",
         "curious",
         "2024-05-28 19:29:37"
        ],
        [
         "45",
         "f2cf3d6d-ca76-4702-8695-fce472f5e6ac",
         "College Students - Campus Life (UCLA / USC)",
         "coffee maker",
         "motivated",
         "2024-06-06 18:34:03"
        ],
        [
         "46",
         "fac0c2aa-329c-43fb-84cf-16048117d3a3",
         "Eco-Conscious Millennials - Sustainable Lifestyle",
         "electric bike",
         "content",
         "2023-10-30 14:06:45"
        ],
        [
         "47",
         "86c18077-dd12-4394-9f8c-2068d0cce120",
         "Young Professional Women - Urban Explorers",
         "fitness tracker",
         "adventurous",
         "2024-01-30 17:09:16"
        ],
        [
         "48",
         "67817a7a-7165-4f12-852e-3ce309f9b410",
         "College Students - Campus Life (UCLA / USC)",
         "laptop",
         "excited",
         "2024-07-13 18:09:04"
        ],
        [
         "49",
         "86c18077-dd12-4394-9f8c-2068d0cce120",
         "Young Professional Women - Urban Explorers",
         "stylish sunglasses",
         "relaxed",
         "2023-05-17 19:11:53"
        ]
       ],
       "shape": {
        "columns": 5,
        "rows": 100
       }
      },
      "text/html": [
       "<div>\n",
       "<style scoped>\n",
       "    .dataframe tbody tr th:only-of-type {\n",
       "        vertical-align: middle;\n",
       "    }\n",
       "\n",
       "    .dataframe tbody tr th {\n",
       "        vertical-align: top;\n",
       "    }\n",
       "\n",
       "    .dataframe thead th {\n",
       "        text-align: right;\n",
       "    }\n",
       "</style>\n",
       "<table border=\"1\" class=\"dataframe\">\n",
       "  <thead>\n",
       "    <tr style=\"text-align: right;\">\n",
       "      <th></th>\n",
       "      <th>author_id</th>\n",
       "      <th>tribe</th>\n",
       "      <th>product</th>\n",
       "      <th>emotion</th>\n",
       "      <th>created_at</th>\n",
       "    </tr>\n",
       "  </thead>\n",
       "  <tbody>\n",
       "    <tr>\n",
       "      <th>0</th>\n",
       "      <td>8c60ff26-5f37-44e7-99fb-4d2b270ceae4</td>\n",
       "      <td>Eco-Conscious Millennials - Sustainable Lifestyle</td>\n",
       "      <td>bamboo toothbrush</td>\n",
       "      <td>satisfied</td>\n",
       "      <td>2024-03-12 09:54:47</td>\n",
       "    </tr>\n",
       "    <tr>\n",
       "      <th>1</th>\n",
       "      <td>483089aa-cda3-4609-8704-71bc91faa6e5</td>\n",
       "      <td>Eco-Conscious Millennials - Sustainable Lifestyle</td>\n",
       "      <td>organic skincare</td>\n",
       "      <td>satisfied</td>\n",
       "      <td>2023-02-13 00:15:58</td>\n",
       "    </tr>\n",
       "    <tr>\n",
       "      <th>2</th>\n",
       "      <td>eecb7210-aaca-4915-a3b4-8d3e4abfa5f9</td>\n",
       "      <td>Tech-Savvy Professionals - Silicon Beach Innov...</td>\n",
       "      <td>smartphone</td>\n",
       "      <td>excited</td>\n",
       "      <td>2024-10-21 22:53:47</td>\n",
       "    </tr>\n",
       "    <tr>\n",
       "      <th>3</th>\n",
       "      <td>567eca8b-78d7-4b3a-a704-9839511269e1</td>\n",
       "      <td>College Students - Campus Life (UCLA / USC)</td>\n",
       "      <td>textbooks</td>\n",
       "      <td>curious</td>\n",
       "      <td>2023-08-30 10:22:49</td>\n",
       "    </tr>\n",
       "    <tr>\n",
       "      <th>4</th>\n",
       "      <td>37296c8e-cef3-41ad-8472-8d6f27ee94c2</td>\n",
       "      <td>College Students - Campus Life (UCLA / USC)</td>\n",
       "      <td>textbooks</td>\n",
       "      <td>satisfied</td>\n",
       "      <td>2023-06-17 03:43:49</td>\n",
       "    </tr>\n",
       "    <tr>\n",
       "      <th>...</th>\n",
       "      <td>...</td>\n",
       "      <td>...</td>\n",
       "      <td>...</td>\n",
       "      <td>...</td>\n",
       "      <td>...</td>\n",
       "    </tr>\n",
       "    <tr>\n",
       "      <th>95</th>\n",
       "      <td>de4e6ae7-c64a-44f3-b636-3ae099c66939</td>\n",
       "      <td>Young Professional Women - Urban Explorers</td>\n",
       "      <td>travel bag</td>\n",
       "      <td>excited</td>\n",
       "      <td>2024-04-17 10:08:10</td>\n",
       "    </tr>\n",
       "    <tr>\n",
       "      <th>96</th>\n",
       "      <td>d06e1276-24f1-4b67-bbcc-71a1873eef6b</td>\n",
       "      <td>Eco-Conscious Millennials - Sustainable Lifestyle</td>\n",
       "      <td>electric bike</td>\n",
       "      <td>satisfied</td>\n",
       "      <td>2023-05-13 08:26:34</td>\n",
       "    </tr>\n",
       "    <tr>\n",
       "      <th>97</th>\n",
       "      <td>3b61da9c-96d5-45da-b3c4-4ba788698526</td>\n",
       "      <td>Luxury-Oriented Professionals - Upscale Lifest...</td>\n",
       "      <td>gourmet food subscription</td>\n",
       "      <td>luxurious</td>\n",
       "      <td>2023-06-04 16:55:49</td>\n",
       "    </tr>\n",
       "    <tr>\n",
       "      <th>98</th>\n",
       "      <td>779f4e35-fca3-4da1-9d9b-bec4c89c4ecc</td>\n",
       "      <td>Creative Entrepreneurs - Hollywood Creatives</td>\n",
       "      <td>luxury watch</td>\n",
       "      <td>excited</td>\n",
       "      <td>2024-02-26 22:10:03</td>\n",
       "    </tr>\n",
       "    <tr>\n",
       "      <th>99</th>\n",
       "      <td>56619ac2-4853-4be2-89a2-ede7d6911784</td>\n",
       "      <td>Luxury-Oriented Professionals - Upscale Lifest...</td>\n",
       "      <td>luxury watch</td>\n",
       "      <td>content</td>\n",
       "      <td>2023-01-01 06:29:39</td>\n",
       "    </tr>\n",
       "  </tbody>\n",
       "</table>\n",
       "<p>100 rows × 5 columns</p>\n",
       "</div>"
      ],
      "text/plain": [
       "                               author_id  \\\n",
       "0   8c60ff26-5f37-44e7-99fb-4d2b270ceae4   \n",
       "1   483089aa-cda3-4609-8704-71bc91faa6e5   \n",
       "2   eecb7210-aaca-4915-a3b4-8d3e4abfa5f9   \n",
       "3   567eca8b-78d7-4b3a-a704-9839511269e1   \n",
       "4   37296c8e-cef3-41ad-8472-8d6f27ee94c2   \n",
       "..                                   ...   \n",
       "95  de4e6ae7-c64a-44f3-b636-3ae099c66939   \n",
       "96  d06e1276-24f1-4b67-bbcc-71a1873eef6b   \n",
       "97  3b61da9c-96d5-45da-b3c4-4ba788698526   \n",
       "98  779f4e35-fca3-4da1-9d9b-bec4c89c4ecc   \n",
       "99  56619ac2-4853-4be2-89a2-ede7d6911784   \n",
       "\n",
       "                                                tribe  \\\n",
       "0   Eco-Conscious Millennials - Sustainable Lifestyle   \n",
       "1   Eco-Conscious Millennials - Sustainable Lifestyle   \n",
       "2   Tech-Savvy Professionals - Silicon Beach Innov...   \n",
       "3         College Students - Campus Life (UCLA / USC)   \n",
       "4         College Students - Campus Life (UCLA / USC)   \n",
       "..                                                ...   \n",
       "95         Young Professional Women - Urban Explorers   \n",
       "96  Eco-Conscious Millennials - Sustainable Lifestyle   \n",
       "97  Luxury-Oriented Professionals - Upscale Lifest...   \n",
       "98       Creative Entrepreneurs - Hollywood Creatives   \n",
       "99  Luxury-Oriented Professionals - Upscale Lifest...   \n",
       "\n",
       "                      product    emotion           created_at  \n",
       "0           bamboo toothbrush  satisfied  2024-03-12 09:54:47  \n",
       "1            organic skincare  satisfied  2023-02-13 00:15:58  \n",
       "2                  smartphone    excited  2024-10-21 22:53:47  \n",
       "3                   textbooks    curious  2023-08-30 10:22:49  \n",
       "4                   textbooks  satisfied  2023-06-17 03:43:49  \n",
       "..                        ...        ...                  ...  \n",
       "95                 travel bag    excited  2024-04-17 10:08:10  \n",
       "96              electric bike  satisfied  2023-05-13 08:26:34  \n",
       "97  gourmet food subscription  luxurious  2023-06-04 16:55:49  \n",
       "98               luxury watch    excited  2024-02-26 22:10:03  \n",
       "99               luxury watch    content  2023-01-01 06:29:39  \n",
       "\n",
       "[100 rows x 5 columns]"
      ]
     },
     "metadata": {},
     "output_type": "display_data"
    },
    {
     "name": "stdout",
     "output_type": "stream",
     "text": [
      "\n",
      "AI-Optimized Campaign Performance:\n"
     ]
    },
    {
     "data": {
      "application/vnd.microsoft.datawrangler.viewer.v0+json": {
       "columns": [
        {
         "name": "index",
         "rawType": "int64",
         "type": "integer"
        },
        {
         "name": "campaign_id",
         "rawType": "object",
         "type": "string"
        },
        {
         "name": "segment",
         "rawType": "object",
         "type": "string"
        },
        {
         "name": "optimized_ad_copy",
         "rawType": "object",
         "type": "string"
        },
        {
         "name": "impressions",
         "rawType": "int64",
         "type": "integer"
        },
        {
         "name": "ctr",
         "rawType": "float64",
         "type": "float"
        },
        {
         "name": "estimated_clicks",
         "rawType": "int64",
         "type": "integer"
        }
       ],
       "conversionMethod": "pd.DataFrame",
       "ref": "ceae981e-38cf-4277-8eb5-c3857db3836f",
       "rows": [
        [
         "0",
         "AD-5124",
         "Young Professional Women - Urban Explorers",
         "\"Ready for your next urban escape? 💼🗺️ Our travel bag is durable, stylish & fits all your essentials. Discover\"",
         "38066",
         "2.26",
         "860"
        ],
        [
         "1",
         "AD-6213",
         "Young Professional Women - Urban Explorers",
         "\"Explore the city in style! 💃 Our sunglasses offer UV protection, polarized lenses & sleek designs. Learn more\"",
         "171145",
         "0.74",
         "1266"
        ],
        [
         "2",
         "AD-2972",
         "Young Professional Women - Urban Explorers",
         "\"Capture city vibes 📸 with our compact camera! Lightweight, 4K video & Wi-Fi connectivity. Get yours\"",
         "197423",
         "1.33",
         "2625"
        ],
        [
         "3",
         "AD-6868",
         "Young Professional Women - Urban Explorers",
         "\"Unleash your city adventures with our smartphone! 📱 Capture stunning pics, navigate with ease & stay connected on-the-go! Discover\"",
         "167547",
         "0.64",
         "1072"
        ],
        [
         "4",
         "AD-2068",
         "Young Professional Women - Urban Explorers",
         "\"Track your urban adventures 🏃‍♀️! Monitor steps, sleep & heart rate. Get yours\"",
         "465213",
         "2.61",
         "12142"
        ],
        [
         "5",
         "AD-8596",
         "Tech-Savvy Professionals - Silicon Beach Innovators",
         "\"Upgrade your mobile experience 📈! Our smartphone offers lightning-fast performance, advanced security, and seamless multitasking. Perfect for Silicon Beach innovators like you! Learn more\"",
         "345380",
         "1.72",
         "5940"
        ],
        [
         "6",
         "AD-9611",
         "Tech-Savvy Professionals - Silicon Beach Innovators",
         "\"Upgrade your workflow 🚀 with our cutting-edge laptop, designed for innovators like you. Unleash productivity and creativity on-the-go! Learn more\"",
         "420701",
         "1.65",
         "6941"
        ],
        [
         "7",
         "AD-4428",
         "Tech-Savvy Professionals - Silicon Beach Innovators",
         "\"Upgrade your hustle with our smartwatch! 🚀 Track fitness, receive notifications & control music on the go! Learn more\"",
         "150041",
         "2.13",
         "3195"
        ],
        [
         "8",
         "AD-1530",
         "Tech-Savvy Professionals - Silicon Beach Innovators",
         "\"Upgrade your workflow 📊 with our latest tablet, designed for innovators like you. Discover\"",
         "320915",
         "4.28",
         "13735"
        ],
        [
         "9",
         "AD-8982",
         "Tech-Savvy Professionals - Silicon Beach Innovators",
         "\"Upgrade your commute! 💻 Wireless earbuds with 10hr battery life & seamless connectivity. Shop now!\"",
         "126590",
         "4.41",
         "5582"
        ],
        [
         "10",
         "AD-8970",
         "Creative Entrepreneurs - Hollywood Creatives",
         "\"Unleash your creativity! 💻 Our designer laptop empowers Hollywood creatives with lightning speed & stunning visuals. Get yours!\"",
         "132541",
         "2.71",
         "3591"
        ],
        [
         "11",
         "AD-5987",
         "Creative Entrepreneurs - Hollywood Creatives",
         "\"Elevate your art 📸 with our high-end camera. Capture life's moments in stunning clarity. Get yours\"",
         "417760",
         "4.03",
         "16835"
        ],
        [
         "12",
         "AD-4032",
         "Creative Entrepreneurs - Hollywood Creatives",
         "\"Unleash your creativity! 🎥 Our smartphone empowers you to create, edit & share on-the-go! Get yours\"",
         "143577",
         "4.58",
         "6575"
        ],
        [
         "13",
         "AD-3983",
         "Creative Entrepreneurs - Hollywood Creatives",
         "\"Unleash your creativity 🎬! Get pro tools to streamline your workflow, boost productivity, and bring your vision to life. Learn more\"",
         "223800",
         "3.16",
         "7072"
        ],
        [
         "14",
         "AD-3655",
         "Creative Entrepreneurs - Hollywood Creatives",
         "\"Elevate your creative vision with our luxury watch 🕰️. Precision, style, and sophistication for the bold thinkers of Hollywood. Learn more\"",
         "38367",
         "0.79",
         "303"
        ],
        [
         "15",
         "AD-5748",
         "Eco-Conscious Millennials - Sustainable Lifestyle",
         "\"Stay hydrated, reduce waste 🌎 with our reusable water bottle. Ditch single-use plastics and live sustainably. Learn more\"",
         "160740",
         "3.66",
         "5883"
        ],
        [
         "16",
         "AD-5646",
         "Eco-Conscious Millennials - Sustainable Lifestyle",
         "\"Nourish your skin, naturally 🌿! Our organic skincare is cruelty-free, vegan, and eco-friendly. Get yours!\"",
         "465729",
         "0.77",
         "3586"
        ],
        [
         "17",
         "AD-6161",
         "Eco-Conscious Millennials - Sustainable Lifestyle",
         "\"Smile sustainably 🌿! Our bamboo toothbrush is biodegradable, reducing waste and promoting a healthier planet. Discover\"",
         "123481",
         "4.04",
         "4988"
        ],
        [
         "18",
         "AD-8840",
         "Eco-Conscious Millennials - Sustainable Lifestyle",
         "\"Go green with our eco-friendly e-bikes! 🌿 Reduce carbon footprint, boost fitness & fun. Shop now\"",
         "45691",
         "1.59",
         "726"
        ],
        [
         "19",
         "AD-5107",
         "Eco-Conscious Millennials - Sustainable Lifestyle",
         "\"Power up sustainably 🌞 with our solar charger! Reduce carbon footprint, charge on-the-go. Get yours\"",
         "293768",
         "3.92",
         "11515"
        ],
        [
         "20",
         "AD-3515",
         "Luxury-Oriented Professionals - Upscale Lifestyles",
         "\"Elevate your style with our luxury watches 🕰️. Precision, sophistication, and timeless design. Learn more\"",
         "95787",
         "2.24",
         "2145"
        ],
        [
         "21",
         "AD-6546",
         "Luxury-Oriented Professionals - Upscale Lifestyles",
         "\"Elevate your art with our premium camera 📸. Capture life's finest moments in stunning clarity. Get yours\"",
         "412012",
         "3.48",
         "14338"
        ],
        [
         "22",
         "AD-6260",
         "Luxury-Oriented Professionals - Upscale Lifestyles",
         "\"Arrive in style 🚗 with our luxury car, designed for professionals who demand the best. Experience unparalleled comfort and performance. Discover\"",
         "245834",
         "3.9",
         "9587"
        ],
        [
         "23",
         "AD-7299",
         "Luxury-Oriented Professionals - Upscale Lifestyles",
         "\"Unwind with our premium wine 🍷. Rich flavors, smooth finish. Pair with life's finer moments. Shop now\"",
         "455609",
         "3.74",
         "17039"
        ],
        [
         "24",
         "AD-7223",
         "Luxury-Oriented Professionals - Upscale Lifestyles",
         "Indulge in gourmet delights 🍴, curated for discerning professionals. Savor exclusive flavors, elevate your entertaining. Get yours",
         "120142",
         "4.0",
         "4805"
        ],
        [
         "25",
         "AD-6450",
         "College Students - Campus Life (UCLA / USC)",
         "\"Get ready to crush campus life! 🎓 Our backpacks are comfy, stylish & spacious. Discover the perfect fit for UCLA & USC adventures!\"",
         "460037",
         "0.93",
         "4278"
        ],
        [
         "26",
         "AD-8361",
         "College Students - Campus Life (UCLA / USC)",
         "\"Upgrade your campus life with our laptops! 💻 Fast, portable, and perfect for studying and streaming. Learn more!\"",
         "285511",
         "1.04",
         "2969"
        ],
        [
         "27",
         "AD-2926",
         "College Students - Campus Life (UCLA / USC)",
         "\"Fuel your all-nighters 🌃 with our coffee maker! Rich flavor, easy use. Discover\"",
         "287470",
         "1.19",
         "3420"
        ],
        [
         "28",
         "AD-2254",
         "College Students - Campus Life (UCLA / USC)",
         "\"Boost your grades & campus life! 📚 Affordable textbooks, fast shipping. Shop now!\"",
         "162583",
         "4.75",
         "7722"
        ],
        [
         "29",
         "AD-2789",
         "College Students - Campus Life (UCLA / USC)",
         "\"Upgrade your campus vibes with our epic headphones! 💃🏽 Immerse yourself in study sessions, jam out between classes, and chill with friends. Learn more!\"",
         "149118",
         "1.44",
         "2147"
        ]
       ],
       "shape": {
        "columns": 6,
        "rows": 30
       }
      },
      "text/html": [
       "<div>\n",
       "<style scoped>\n",
       "    .dataframe tbody tr th:only-of-type {\n",
       "        vertical-align: middle;\n",
       "    }\n",
       "\n",
       "    .dataframe tbody tr th {\n",
       "        vertical-align: top;\n",
       "    }\n",
       "\n",
       "    .dataframe thead th {\n",
       "        text-align: right;\n",
       "    }\n",
       "</style>\n",
       "<table border=\"1\" class=\"dataframe\">\n",
       "  <thead>\n",
       "    <tr style=\"text-align: right;\">\n",
       "      <th></th>\n",
       "      <th>campaign_id</th>\n",
       "      <th>segment</th>\n",
       "      <th>optimized_ad_copy</th>\n",
       "      <th>impressions</th>\n",
       "      <th>ctr</th>\n",
       "      <th>estimated_clicks</th>\n",
       "    </tr>\n",
       "  </thead>\n",
       "  <tbody>\n",
       "    <tr>\n",
       "      <th>0</th>\n",
       "      <td>AD-5124</td>\n",
       "      <td>Young Professional Women - Urban Explorers</td>\n",
       "      <td>\"Ready for your next urban escape? 💼🗺️ Our tra...</td>\n",
       "      <td>38066</td>\n",
       "      <td>2.26</td>\n",
       "      <td>860</td>\n",
       "    </tr>\n",
       "    <tr>\n",
       "      <th>1</th>\n",
       "      <td>AD-6213</td>\n",
       "      <td>Young Professional Women - Urban Explorers</td>\n",
       "      <td>\"Explore the city in style! 💃 Our sunglasses o...</td>\n",
       "      <td>171145</td>\n",
       "      <td>0.74</td>\n",
       "      <td>1266</td>\n",
       "    </tr>\n",
       "    <tr>\n",
       "      <th>2</th>\n",
       "      <td>AD-2972</td>\n",
       "      <td>Young Professional Women - Urban Explorers</td>\n",
       "      <td>\"Capture city vibes 📸 with our compact camera!...</td>\n",
       "      <td>197423</td>\n",
       "      <td>1.33</td>\n",
       "      <td>2625</td>\n",
       "    </tr>\n",
       "    <tr>\n",
       "      <th>3</th>\n",
       "      <td>AD-6868</td>\n",
       "      <td>Young Professional Women - Urban Explorers</td>\n",
       "      <td>\"Unleash your city adventures with our smartph...</td>\n",
       "      <td>167547</td>\n",
       "      <td>0.64</td>\n",
       "      <td>1072</td>\n",
       "    </tr>\n",
       "    <tr>\n",
       "      <th>4</th>\n",
       "      <td>AD-2068</td>\n",
       "      <td>Young Professional Women - Urban Explorers</td>\n",
       "      <td>\"Track your urban adventures 🏃‍♀️! Monitor ste...</td>\n",
       "      <td>465213</td>\n",
       "      <td>2.61</td>\n",
       "      <td>12142</td>\n",
       "    </tr>\n",
       "    <tr>\n",
       "      <th>5</th>\n",
       "      <td>AD-8596</td>\n",
       "      <td>Tech-Savvy Professionals - Silicon Beach Innov...</td>\n",
       "      <td>\"Upgrade your mobile experience 📈! Our smartph...</td>\n",
       "      <td>345380</td>\n",
       "      <td>1.72</td>\n",
       "      <td>5940</td>\n",
       "    </tr>\n",
       "    <tr>\n",
       "      <th>6</th>\n",
       "      <td>AD-9611</td>\n",
       "      <td>Tech-Savvy Professionals - Silicon Beach Innov...</td>\n",
       "      <td>\"Upgrade your workflow 🚀 with our cutting-edge...</td>\n",
       "      <td>420701</td>\n",
       "      <td>1.65</td>\n",
       "      <td>6941</td>\n",
       "    </tr>\n",
       "    <tr>\n",
       "      <th>7</th>\n",
       "      <td>AD-4428</td>\n",
       "      <td>Tech-Savvy Professionals - Silicon Beach Innov...</td>\n",
       "      <td>\"Upgrade your hustle with our smartwatch! 🚀 Tr...</td>\n",
       "      <td>150041</td>\n",
       "      <td>2.13</td>\n",
       "      <td>3195</td>\n",
       "    </tr>\n",
       "    <tr>\n",
       "      <th>8</th>\n",
       "      <td>AD-1530</td>\n",
       "      <td>Tech-Savvy Professionals - Silicon Beach Innov...</td>\n",
       "      <td>\"Upgrade your workflow 📊 with our latest table...</td>\n",
       "      <td>320915</td>\n",
       "      <td>4.28</td>\n",
       "      <td>13735</td>\n",
       "    </tr>\n",
       "    <tr>\n",
       "      <th>9</th>\n",
       "      <td>AD-8982</td>\n",
       "      <td>Tech-Savvy Professionals - Silicon Beach Innov...</td>\n",
       "      <td>\"Upgrade your commute! 💻 Wireless earbuds with...</td>\n",
       "      <td>126590</td>\n",
       "      <td>4.41</td>\n",
       "      <td>5582</td>\n",
       "    </tr>\n",
       "    <tr>\n",
       "      <th>10</th>\n",
       "      <td>AD-8970</td>\n",
       "      <td>Creative Entrepreneurs - Hollywood Creatives</td>\n",
       "      <td>\"Unleash your creativity! 💻 Our designer lapto...</td>\n",
       "      <td>132541</td>\n",
       "      <td>2.71</td>\n",
       "      <td>3591</td>\n",
       "    </tr>\n",
       "    <tr>\n",
       "      <th>11</th>\n",
       "      <td>AD-5987</td>\n",
       "      <td>Creative Entrepreneurs - Hollywood Creatives</td>\n",
       "      <td>\"Elevate your art 📸 with our high-end camera. ...</td>\n",
       "      <td>417760</td>\n",
       "      <td>4.03</td>\n",
       "      <td>16835</td>\n",
       "    </tr>\n",
       "    <tr>\n",
       "      <th>12</th>\n",
       "      <td>AD-4032</td>\n",
       "      <td>Creative Entrepreneurs - Hollywood Creatives</td>\n",
       "      <td>\"Unleash your creativity! 🎥 Our smartphone emp...</td>\n",
       "      <td>143577</td>\n",
       "      <td>4.58</td>\n",
       "      <td>6575</td>\n",
       "    </tr>\n",
       "    <tr>\n",
       "      <th>13</th>\n",
       "      <td>AD-3983</td>\n",
       "      <td>Creative Entrepreneurs - Hollywood Creatives</td>\n",
       "      <td>\"Unleash your creativity 🎬! Get pro tools to s...</td>\n",
       "      <td>223800</td>\n",
       "      <td>3.16</td>\n",
       "      <td>7072</td>\n",
       "    </tr>\n",
       "    <tr>\n",
       "      <th>14</th>\n",
       "      <td>AD-3655</td>\n",
       "      <td>Creative Entrepreneurs - Hollywood Creatives</td>\n",
       "      <td>\"Elevate your creative vision with our luxury ...</td>\n",
       "      <td>38367</td>\n",
       "      <td>0.79</td>\n",
       "      <td>303</td>\n",
       "    </tr>\n",
       "    <tr>\n",
       "      <th>15</th>\n",
       "      <td>AD-5748</td>\n",
       "      <td>Eco-Conscious Millennials - Sustainable Lifestyle</td>\n",
       "      <td>\"Stay hydrated, reduce waste 🌎 with our reusab...</td>\n",
       "      <td>160740</td>\n",
       "      <td>3.66</td>\n",
       "      <td>5883</td>\n",
       "    </tr>\n",
       "    <tr>\n",
       "      <th>16</th>\n",
       "      <td>AD-5646</td>\n",
       "      <td>Eco-Conscious Millennials - Sustainable Lifestyle</td>\n",
       "      <td>\"Nourish your skin, naturally 🌿! Our organic s...</td>\n",
       "      <td>465729</td>\n",
       "      <td>0.77</td>\n",
       "      <td>3586</td>\n",
       "    </tr>\n",
       "    <tr>\n",
       "      <th>17</th>\n",
       "      <td>AD-6161</td>\n",
       "      <td>Eco-Conscious Millennials - Sustainable Lifestyle</td>\n",
       "      <td>\"Smile sustainably 🌿! Our bamboo toothbrush is...</td>\n",
       "      <td>123481</td>\n",
       "      <td>4.04</td>\n",
       "      <td>4988</td>\n",
       "    </tr>\n",
       "    <tr>\n",
       "      <th>18</th>\n",
       "      <td>AD-8840</td>\n",
       "      <td>Eco-Conscious Millennials - Sustainable Lifestyle</td>\n",
       "      <td>\"Go green with our eco-friendly e-bikes! 🌿 Red...</td>\n",
       "      <td>45691</td>\n",
       "      <td>1.59</td>\n",
       "      <td>726</td>\n",
       "    </tr>\n",
       "    <tr>\n",
       "      <th>19</th>\n",
       "      <td>AD-5107</td>\n",
       "      <td>Eco-Conscious Millennials - Sustainable Lifestyle</td>\n",
       "      <td>\"Power up sustainably 🌞 with our solar charger...</td>\n",
       "      <td>293768</td>\n",
       "      <td>3.92</td>\n",
       "      <td>11515</td>\n",
       "    </tr>\n",
       "    <tr>\n",
       "      <th>20</th>\n",
       "      <td>AD-3515</td>\n",
       "      <td>Luxury-Oriented Professionals - Upscale Lifest...</td>\n",
       "      <td>\"Elevate your style with our luxury watches 🕰️...</td>\n",
       "      <td>95787</td>\n",
       "      <td>2.24</td>\n",
       "      <td>2145</td>\n",
       "    </tr>\n",
       "    <tr>\n",
       "      <th>21</th>\n",
       "      <td>AD-6546</td>\n",
       "      <td>Luxury-Oriented Professionals - Upscale Lifest...</td>\n",
       "      <td>\"Elevate your art with our premium camera 📸. C...</td>\n",
       "      <td>412012</td>\n",
       "      <td>3.48</td>\n",
       "      <td>14338</td>\n",
       "    </tr>\n",
       "    <tr>\n",
       "      <th>22</th>\n",
       "      <td>AD-6260</td>\n",
       "      <td>Luxury-Oriented Professionals - Upscale Lifest...</td>\n",
       "      <td>\"Arrive in style 🚗 with our luxury car, design...</td>\n",
       "      <td>245834</td>\n",
       "      <td>3.90</td>\n",
       "      <td>9587</td>\n",
       "    </tr>\n",
       "    <tr>\n",
       "      <th>23</th>\n",
       "      <td>AD-7299</td>\n",
       "      <td>Luxury-Oriented Professionals - Upscale Lifest...</td>\n",
       "      <td>\"Unwind with our premium wine 🍷. Rich flavors,...</td>\n",
       "      <td>455609</td>\n",
       "      <td>3.74</td>\n",
       "      <td>17039</td>\n",
       "    </tr>\n",
       "    <tr>\n",
       "      <th>24</th>\n",
       "      <td>AD-7223</td>\n",
       "      <td>Luxury-Oriented Professionals - Upscale Lifest...</td>\n",
       "      <td>Indulge in gourmet delights 🍴, curated for dis...</td>\n",
       "      <td>120142</td>\n",
       "      <td>4.00</td>\n",
       "      <td>4805</td>\n",
       "    </tr>\n",
       "    <tr>\n",
       "      <th>25</th>\n",
       "      <td>AD-6450</td>\n",
       "      <td>College Students - Campus Life (UCLA / USC)</td>\n",
       "      <td>\"Get ready to crush campus life! 🎓 Our backpac...</td>\n",
       "      <td>460037</td>\n",
       "      <td>0.93</td>\n",
       "      <td>4278</td>\n",
       "    </tr>\n",
       "    <tr>\n",
       "      <th>26</th>\n",
       "      <td>AD-8361</td>\n",
       "      <td>College Students - Campus Life (UCLA / USC)</td>\n",
       "      <td>\"Upgrade your campus life with our laptops! 💻 ...</td>\n",
       "      <td>285511</td>\n",
       "      <td>1.04</td>\n",
       "      <td>2969</td>\n",
       "    </tr>\n",
       "    <tr>\n",
       "      <th>27</th>\n",
       "      <td>AD-2926</td>\n",
       "      <td>College Students - Campus Life (UCLA / USC)</td>\n",
       "      <td>\"Fuel your all-nighters 🌃 with our coffee make...</td>\n",
       "      <td>287470</td>\n",
       "      <td>1.19</td>\n",
       "      <td>3420</td>\n",
       "    </tr>\n",
       "    <tr>\n",
       "      <th>28</th>\n",
       "      <td>AD-2254</td>\n",
       "      <td>College Students - Campus Life (UCLA / USC)</td>\n",
       "      <td>\"Boost your grades &amp; campus life! 📚 Affordable...</td>\n",
       "      <td>162583</td>\n",
       "      <td>4.75</td>\n",
       "      <td>7722</td>\n",
       "    </tr>\n",
       "    <tr>\n",
       "      <th>29</th>\n",
       "      <td>AD-2789</td>\n",
       "      <td>College Students - Campus Life (UCLA / USC)</td>\n",
       "      <td>\"Upgrade your campus vibes with our epic headp...</td>\n",
       "      <td>149118</td>\n",
       "      <td>1.44</td>\n",
       "      <td>2147</td>\n",
       "    </tr>\n",
       "  </tbody>\n",
       "</table>\n",
       "</div>"
      ],
      "text/plain": [
       "   campaign_id                                            segment  \\\n",
       "0      AD-5124         Young Professional Women - Urban Explorers   \n",
       "1      AD-6213         Young Professional Women - Urban Explorers   \n",
       "2      AD-2972         Young Professional Women - Urban Explorers   \n",
       "3      AD-6868         Young Professional Women - Urban Explorers   \n",
       "4      AD-2068         Young Professional Women - Urban Explorers   \n",
       "5      AD-8596  Tech-Savvy Professionals - Silicon Beach Innov...   \n",
       "6      AD-9611  Tech-Savvy Professionals - Silicon Beach Innov...   \n",
       "7      AD-4428  Tech-Savvy Professionals - Silicon Beach Innov...   \n",
       "8      AD-1530  Tech-Savvy Professionals - Silicon Beach Innov...   \n",
       "9      AD-8982  Tech-Savvy Professionals - Silicon Beach Innov...   \n",
       "10     AD-8970       Creative Entrepreneurs - Hollywood Creatives   \n",
       "11     AD-5987       Creative Entrepreneurs - Hollywood Creatives   \n",
       "12     AD-4032       Creative Entrepreneurs - Hollywood Creatives   \n",
       "13     AD-3983       Creative Entrepreneurs - Hollywood Creatives   \n",
       "14     AD-3655       Creative Entrepreneurs - Hollywood Creatives   \n",
       "15     AD-5748  Eco-Conscious Millennials - Sustainable Lifestyle   \n",
       "16     AD-5646  Eco-Conscious Millennials - Sustainable Lifestyle   \n",
       "17     AD-6161  Eco-Conscious Millennials - Sustainable Lifestyle   \n",
       "18     AD-8840  Eco-Conscious Millennials - Sustainable Lifestyle   \n",
       "19     AD-5107  Eco-Conscious Millennials - Sustainable Lifestyle   \n",
       "20     AD-3515  Luxury-Oriented Professionals - Upscale Lifest...   \n",
       "21     AD-6546  Luxury-Oriented Professionals - Upscale Lifest...   \n",
       "22     AD-6260  Luxury-Oriented Professionals - Upscale Lifest...   \n",
       "23     AD-7299  Luxury-Oriented Professionals - Upscale Lifest...   \n",
       "24     AD-7223  Luxury-Oriented Professionals - Upscale Lifest...   \n",
       "25     AD-6450        College Students - Campus Life (UCLA / USC)   \n",
       "26     AD-8361        College Students - Campus Life (UCLA / USC)   \n",
       "27     AD-2926        College Students - Campus Life (UCLA / USC)   \n",
       "28     AD-2254        College Students - Campus Life (UCLA / USC)   \n",
       "29     AD-2789        College Students - Campus Life (UCLA / USC)   \n",
       "\n",
       "                                    optimized_ad_copy  impressions   ctr  \\\n",
       "0   \"Ready for your next urban escape? 💼🗺️ Our tra...        38066  2.26   \n",
       "1   \"Explore the city in style! 💃 Our sunglasses o...       171145  0.74   \n",
       "2   \"Capture city vibes 📸 with our compact camera!...       197423  1.33   \n",
       "3   \"Unleash your city adventures with our smartph...       167547  0.64   \n",
       "4   \"Track your urban adventures 🏃‍♀️! Monitor ste...       465213  2.61   \n",
       "5   \"Upgrade your mobile experience 📈! Our smartph...       345380  1.72   \n",
       "6   \"Upgrade your workflow 🚀 with our cutting-edge...       420701  1.65   \n",
       "7   \"Upgrade your hustle with our smartwatch! 🚀 Tr...       150041  2.13   \n",
       "8   \"Upgrade your workflow 📊 with our latest table...       320915  4.28   \n",
       "9   \"Upgrade your commute! 💻 Wireless earbuds with...       126590  4.41   \n",
       "10  \"Unleash your creativity! 💻 Our designer lapto...       132541  2.71   \n",
       "11  \"Elevate your art 📸 with our high-end camera. ...       417760  4.03   \n",
       "12  \"Unleash your creativity! 🎥 Our smartphone emp...       143577  4.58   \n",
       "13  \"Unleash your creativity 🎬! Get pro tools to s...       223800  3.16   \n",
       "14  \"Elevate your creative vision with our luxury ...        38367  0.79   \n",
       "15  \"Stay hydrated, reduce waste 🌎 with our reusab...       160740  3.66   \n",
       "16  \"Nourish your skin, naturally 🌿! Our organic s...       465729  0.77   \n",
       "17  \"Smile sustainably 🌿! Our bamboo toothbrush is...       123481  4.04   \n",
       "18  \"Go green with our eco-friendly e-bikes! 🌿 Red...        45691  1.59   \n",
       "19  \"Power up sustainably 🌞 with our solar charger...       293768  3.92   \n",
       "20  \"Elevate your style with our luxury watches 🕰️...        95787  2.24   \n",
       "21  \"Elevate your art with our premium camera 📸. C...       412012  3.48   \n",
       "22  \"Arrive in style 🚗 with our luxury car, design...       245834  3.90   \n",
       "23  \"Unwind with our premium wine 🍷. Rich flavors,...       455609  3.74   \n",
       "24  Indulge in gourmet delights 🍴, curated for dis...       120142  4.00   \n",
       "25  \"Get ready to crush campus life! 🎓 Our backpac...       460037  0.93   \n",
       "26  \"Upgrade your campus life with our laptops! 💻 ...       285511  1.04   \n",
       "27  \"Fuel your all-nighters 🌃 with our coffee make...       287470  1.19   \n",
       "28  \"Boost your grades & campus life! 📚 Affordable...       162583  4.75   \n",
       "29  \"Upgrade your campus vibes with our epic headp...       149118  1.44   \n",
       "\n",
       "    estimated_clicks  \n",
       "0                860  \n",
       "1               1266  \n",
       "2               2625  \n",
       "3               1072  \n",
       "4              12142  \n",
       "5               5940  \n",
       "6               6941  \n",
       "7               3195  \n",
       "8              13735  \n",
       "9               5582  \n",
       "10              3591  \n",
       "11             16835  \n",
       "12              6575  \n",
       "13              7072  \n",
       "14               303  \n",
       "15              5883  \n",
       "16              3586  \n",
       "17              4988  \n",
       "18               726  \n",
       "19             11515  \n",
       "20              2145  \n",
       "21             14338  \n",
       "22              9587  \n",
       "23             17039  \n",
       "24              4805  \n",
       "25              4278  \n",
       "26              2969  \n",
       "27              3420  \n",
       "28              7722  \n",
       "29              2147  "
      ]
     },
     "metadata": {},
     "output_type": "display_data"
    },
    {
     "name": "stdout",
     "output_type": "stream",
     "text": [
      "Data saved to 'social_media_posts.json' and 'ai_optimized_campaigns.json'\n"
     ]
    }
   ],
   "source": [
    "# Generate Ad Campaigns\n",
    "campaigns = []\n",
    "for tribe, details in tribes.items():\n",
    "    for product in details[\"products\"]:\n",
    "        campaign = {\n",
    "            \"campaign_id\": f\"AD-{random.randint(1000,9999)}\",\n",
    "            \"segment\": tribe,\n",
    "            \"product\": product,\n",
    "            \"tone\": random.choice(details[\"emotions\"]),\n",
    "            \"cta\": random.choice([\"Shop now\", \"Learn more\", \"Get yours\", \"Discover\"]),\n",
    "            \"impressions\": random.randint(10000, 500000),\n",
    "            \"ctr\": round(random.uniform(0.5, 5.0), 2)\n",
    "        }\n",
    "        campaigns.append(campaign)\n",
    "\n",
    "campaigns_df = pd.DataFrame(campaigns)\n",
    "\n",
    "# Add campaign dates\n",
    "campaigns_df['start_date'] = [fake.date_between(datetime(2023,1,1), datetime(2024,1,1)) for _ in range(len(campaigns_df))]\n",
    "campaigns_df['end_date'] = [fake.date_between(datetime(2024,1,1), datetime(2024,12,31)) for _ in range(len(campaigns_df))]\n",
    "\n",
    "# Create Spark DataFrame for campaigns\n",
    "campaigns_sdf = spark.createDataFrame(campaigns_df)\n",
    "campaigns_sdf.createOrReplaceTempView(\"campaigns\")\n",
    "\n",
    "# Generate AI-optimized ad copies\n",
    "performance_query = \"\"\"\n",
    "CREATE OR REPLACE TEMP VIEW campaigns_performance AS\n",
    "SELECT\n",
    "    campaign_id,\n",
    "    segment,\n",
    "    product,\n",
    "    AI_QUERY(\n",
    "        \"databricks-meta-llama-3-3-70b-instruct\", \n",
    "        CONCAT(\n",
    "            'Create a digital ad for ', product, \n",
    "            ' targeting ', segment, \n",
    "            ' with ', tone, ' tone. Include: ',\n",
    "            '- Key product benefits\\n',\n",
    "            '- Lifestyle connection\\n',\n",
    "            '- Emoji if appropriate\\n',\n",
    "            '- CTA: ', cta, '\\n',\n",
    "            '- Max 200 characters\\n',\n",
    "            '- No hashtags\\n',\n",
    "            '- Natural conversational style'\n",
    "        )\n",
    "    ) AS optimized_ad_copy,\n",
    "    impressions,\n",
    "    ctr\n",
    "FROM campaigns\n",
    "\"\"\"\n",
    "\n",
    "spark.sql(performance_query)\n",
    "campaigns_performance_df = spark.sql(\"SELECT * FROM campaigns_performance\").toPandas()\n",
    "\n",
    "# Add performance metrics\n",
    "campaigns_performance_df['estimated_clicks'] = (campaigns_performance_df['impressions'] * \n",
    "                                               campaigns_performance_df['ctr']/100).astype(int)\n",
    "\n",
    "# Display results\n",
    "print(\"Generated Social Media Posts:\")\n",
    "display(posts_df)\n",
    "\n",
    "print(\"\\nAI-Optimized Campaign Performance:\")\n",
    "display(campaigns_performance_df[['campaign_id', 'segment', 'optimized_ad_copy', \n",
    "                                'impressions', 'ctr', 'estimated_clicks']])\n",
    "\n",
    "# Save to JSON\n",
    "posts_df.to_json('social_media_posts.json', orient='records', indent=2)\n",
    "campaigns_performance_df.to_json('ai_optimized_campaigns.json', orient='records', indent=2)\n",
    "\n",
    "print(\"Data saved to 'social_media_posts.json' and 'ai_optimized_campaigns.json'\")"
   ]
  },
  {
   "cell_type": "markdown",
   "metadata": {
    "application/vnd.databricks.v1+cell": {
     "cellMetadata": {},
     "inputWidgets": {},
     "nuid": "d92251d9-1990-4d6c-9036-86d81538d227",
     "showTitle": false,
     "tableResultSettingsMap": {},
     "title": ""
    }
   },
   "source": [
    "### Write social media posts to volume JSON and save demographic + campaign tables"
   ]
  },
  {
   "cell_type": "code",
   "execution_count": 16,
   "metadata": {},
   "outputs": [],
   "source": [
    "# Define the path to save social media feed\n",
    "catalog = \"marca_tribes\"\n",
    "schema = \"ai_audience_segments\"\n",
    "socials_volume = \"social_media_feed\"\n",
    "vol_social_media_feed = f\"/mnt/{catalog}/{schema}/{socials_volume}/posts.json\"\n",
    "\n",
    "# Check if the directory exists, and create it if not\n",
    "dbutils.fs.mkdirs(f\"/mnt/{catalog}/{schema}/{socials_volume}\")\n",
    "\n",
    "# Convert the Pandas DataFrame to a Spark DataFrame if necessary\n",
    "if isinstance(posts_df, pd.DataFrame):\n",
    "    posts_df = spark.createDataFrame(posts_df)\n",
    "\n",
    "# Save the social media posts DataFrame to the volume as a JSON file\n",
    "posts_df.write.json(vol_social_media_feed, mode='overwrite')"
   ]
  },
  {
   "cell_type": "code",
   "execution_count": 21,
   "metadata": {},
   "outputs": [],
   "source": [
    "# Write demographic data to UC table dropping segment\n",
    "demographic_sdf = spark.createDataFrame(demographic_df)\n",
    "demographic_sdf = demographic_sdf.drop(\"segment\")\n",
    "\n",
    "# Define the catalog and schema\n",
    "catalog = \"marca_tribes\"\n",
    "schema = \"ai_audience_segments\"\n",
    "table_name = \"audience_demographic\"\n",
    "\n",
    "# Save the DataFrame as a Delta table in Unity Catalog\n",
    "demographic_sdf.write.format(\"delta\").mode(\"overwrite\").saveAsTable(f\"{catalog}.{schema}.{table_name}\")"
   ]
  },
  {
   "cell_type": "code",
   "execution_count": null,
   "metadata": {},
   "outputs": [],
   "source": [
    "# Write campaigns data to UC table\n",
    "campaigns_df = spark.createDataFrame(campaigns_df)\n",
    "\n",
    "# Define the catalog and schema\n",
    "catalog = \"marca_tribes\"\n",
    "schema = \"ai_audience_segments\"\n",
    "table_name = \"campaigns_performance\"\n",
    "\n",
    "# Save the DataFrame as a Delta table in Unity Catalog\n",
    "campaigns_df.write.format(\"delta\").mode(\"overwrite\").saveAsTable(f\"{catalog}.{schema}.{table_name}\")"
   ]
  }
 ],
 "metadata": {
  "application/vnd.databricks.v1+notebook": {
   "computePreferences": null,
   "dashboards": [],
   "environmentMetadata": {
    "base_environment": "",
    "environment_version": "2"
   },
   "language": "python",
   "notebookMetadata": {
    "mostRecentlyExecutedCommandWithImplicitDF": {
     "commandId": 3987948637745141,
     "dataframes": [
      "_sqldf"
     ]
    },
    "pythonIndentUnit": 2
   },
   "notebookName": "01_data_generation",
   "widgets": {}
  },
  "kernelspec": {
   "display_name": ".venv",
   "language": "python",
   "name": "python3"
  },
  "language_info": {
   "codemirror_mode": {
    "name": "ipython",
    "version": 3
   },
   "file_extension": ".py",
   "mimetype": "text/x-python",
   "name": "python",
   "nbconvert_exporter": "python",
   "pygments_lexer": "ipython3",
   "version": "3.10.15"
  }
 },
 "nbformat": 4,
 "nbformat_minor": 0
}
