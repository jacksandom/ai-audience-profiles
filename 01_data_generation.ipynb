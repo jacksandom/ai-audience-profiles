{
 "cells": [
  {
   "cell_type": "markdown",
   "metadata": {
    "application/vnd.databricks.v1+cell": {
     "cellMetadata": {},
     "inputWidgets": {},
     "nuid": "1c5550f5-f066-400d-8fa2-d448b99c5026",
     "showTitle": false,
     "tableResultSettingsMap": {},
     "title": ""
    }
   },
   "source": [
    "# Data Generation"
   ]
  },
  {
   "cell_type": "code",
   "execution_count": 24,
   "metadata": {
    "application/vnd.databricks.v1+cell": {
     "cellMetadata": {
      "byteLimit": 2048000,
      "rowLimit": 10000
     },
     "inputWidgets": {},
     "nuid": "544a9f79-a8b2-4c79-b347-2bc4fbc91a87",
     "showTitle": false,
     "tableResultSettingsMap": {},
     "title": ""
    }
   },
   "outputs": [
    {
     "name": "stdout",
     "output_type": "stream",
     "text": [
      "Requirement already satisfied: faker==36.1.1 in ./.venv/lib/python3.10/site-packages (36.1.1)\n",
      "Requirement already satisfied: tzdata in ./.venv/lib/python3.10/site-packages (from faker==36.1.1) (2025.2)\n",
      "Note: you may need to restart the kernel to use updated packages.\n"
     ]
    },
    {
     "ename": "InternalError",
     "evalue": "ContextNotFound: ",
     "output_type": "error",
     "traceback": [
      "\u001b[0;31m---------------------------------------------------------------------------\u001b[0m",
      "\u001b[0;31mInternalError\u001b[0m                             Traceback (most recent call last)",
      "Cell \u001b[0;32mIn[24], line 2\u001b[0m\n\u001b[1;32m      1\u001b[0m get_ipython()\u001b[38;5;241m.\u001b[39mrun_line_magic(\u001b[38;5;124m'\u001b[39m\u001b[38;5;124mpip\u001b[39m\u001b[38;5;124m'\u001b[39m, \u001b[38;5;124m'\u001b[39m\u001b[38;5;124minstall faker==\u001b[39m\u001b[38;5;124m\"\u001b[39m\u001b[38;5;124m36.1.1\u001b[39m\u001b[38;5;124m\"\u001b[39m\u001b[38;5;124m'\u001b[39m)\n\u001b[0;32m----> 2\u001b[0m \u001b[43mdbutils\u001b[49m\u001b[38;5;241;43m.\u001b[39;49m\u001b[43mlibrary\u001b[49m\u001b[38;5;241;43m.\u001b[39;49m\u001b[43mrestartPython\u001b[49m\u001b[43m(\u001b[49m\u001b[43m)\u001b[49m\n",
      "File \u001b[0;32m~/Spaceship/ai-audience-profiles/.venv/lib/python3.10/site-packages/databricks/sdk/dbutils.py:443\u001b[0m, in \u001b[0;36m_ProxyCall.__call__\u001b[0;34m(self, *args, **kwargs)\u001b[0m\n\u001b[1;32m    436\u001b[0m code \u001b[38;5;241m=\u001b[39m \u001b[38;5;124mf\u001b[39m\u001b[38;5;124m\"\"\"\u001b[39m\n\u001b[1;32m    437\u001b[0m \u001b[38;5;124mimport json\u001b[39m\n\u001b[1;32m    438\u001b[0m \u001b[38;5;124m(args, kwargs) = json.loads(\u001b[39m\u001b[38;5;124m'\u001b[39m\u001b[38;5;132;01m{\u001b[39;00mraw\u001b[38;5;132;01m}\u001b[39;00m\u001b[38;5;124m'\u001b[39m\u001b[38;5;124m)\u001b[39m\n\u001b[1;32m    439\u001b[0m \u001b[38;5;124mresult = dbutils.\u001b[39m\u001b[38;5;132;01m{\u001b[39;00m\u001b[38;5;28mself\u001b[39m\u001b[38;5;241m.\u001b[39m_util\u001b[38;5;132;01m}\u001b[39;00m\u001b[38;5;124m.\u001b[39m\u001b[38;5;132;01m{\u001b[39;00m\u001b[38;5;28mself\u001b[39m\u001b[38;5;241m.\u001b[39m_method\u001b[38;5;132;01m}\u001b[39;00m\u001b[38;5;124m(*args, **kwargs)\u001b[39m\n\u001b[1;32m    440\u001b[0m \u001b[38;5;124mdbutils.notebook.exit(json.dumps(result))\u001b[39m\n\u001b[1;32m    441\u001b[0m \u001b[38;5;124m\u001b[39m\u001b[38;5;124m\"\"\"\u001b[39m\n\u001b[1;32m    442\u001b[0m ctx \u001b[38;5;241m=\u001b[39m \u001b[38;5;28mself\u001b[39m\u001b[38;5;241m.\u001b[39m_context_factory()\n\u001b[0;32m--> 443\u001b[0m result \u001b[38;5;241m=\u001b[39m \u001b[38;5;28;43mself\u001b[39;49m\u001b[38;5;241;43m.\u001b[39;49m\u001b[43m_commands\u001b[49m\u001b[38;5;241;43m.\u001b[39;49m\u001b[43mexecute\u001b[49m\u001b[43m(\u001b[49m\n\u001b[1;32m    444\u001b[0m \u001b[43m    \u001b[49m\u001b[43mcluster_id\u001b[49m\u001b[38;5;241;43m=\u001b[39;49m\u001b[38;5;28;43mself\u001b[39;49m\u001b[38;5;241;43m.\u001b[39;49m\u001b[43m_cluster_id\u001b[49m\u001b[43m,\u001b[49m\n\u001b[1;32m    445\u001b[0m \u001b[43m    \u001b[49m\u001b[43mlanguage\u001b[49m\u001b[38;5;241;43m=\u001b[39;49m\u001b[43mcompute\u001b[49m\u001b[38;5;241;43m.\u001b[39;49m\u001b[43mLanguage\u001b[49m\u001b[38;5;241;43m.\u001b[39;49m\u001b[43mPYTHON\u001b[49m\u001b[43m,\u001b[49m\n\u001b[1;32m    446\u001b[0m \u001b[43m    \u001b[49m\u001b[43mcontext_id\u001b[49m\u001b[38;5;241;43m=\u001b[39;49m\u001b[43mctx\u001b[49m\u001b[38;5;241;43m.\u001b[39;49m\u001b[43mid\u001b[49m\u001b[43m,\u001b[49m\n\u001b[1;32m    447\u001b[0m \u001b[43m    \u001b[49m\u001b[43mcommand\u001b[49m\u001b[38;5;241;43m=\u001b[39;49m\u001b[43mcode\u001b[49m\u001b[43m,\u001b[49m\n\u001b[1;32m    448\u001b[0m \u001b[43m\u001b[49m\u001b[43m)\u001b[49m\u001b[38;5;241m.\u001b[39mresult()\n\u001b[1;32m    449\u001b[0m \u001b[38;5;28;01mif\u001b[39;00m result\u001b[38;5;241m.\u001b[39mstatus \u001b[38;5;241m==\u001b[39m compute\u001b[38;5;241m.\u001b[39mCommandStatus\u001b[38;5;241m.\u001b[39mFINISHED:\n\u001b[1;32m    450\u001b[0m     \u001b[38;5;28mself\u001b[39m\u001b[38;5;241m.\u001b[39m_raise_if_failed(result\u001b[38;5;241m.\u001b[39mresults)\n",
      "File \u001b[0;32m~/Spaceship/ai-audience-profiles/.venv/lib/python3.10/site-packages/databricks/sdk/service/compute.py:11754\u001b[0m, in \u001b[0;36mCommandExecutionAPI.execute\u001b[0;34m(self, cluster_id, command, context_id, language)\u001b[0m\n\u001b[1;32m  11748\u001b[0m     body[\u001b[38;5;124m\"\u001b[39m\u001b[38;5;124mlanguage\u001b[39m\u001b[38;5;124m\"\u001b[39m] \u001b[38;5;241m=\u001b[39m language\u001b[38;5;241m.\u001b[39mvalue\n\u001b[1;32m  11749\u001b[0m headers \u001b[38;5;241m=\u001b[39m {\n\u001b[1;32m  11750\u001b[0m     \u001b[38;5;124m\"\u001b[39m\u001b[38;5;124mAccept\u001b[39m\u001b[38;5;124m\"\u001b[39m: \u001b[38;5;124m\"\u001b[39m\u001b[38;5;124mapplication/json\u001b[39m\u001b[38;5;124m\"\u001b[39m,\n\u001b[1;32m  11751\u001b[0m     \u001b[38;5;124m\"\u001b[39m\u001b[38;5;124mContent-Type\u001b[39m\u001b[38;5;124m\"\u001b[39m: \u001b[38;5;124m\"\u001b[39m\u001b[38;5;124mapplication/json\u001b[39m\u001b[38;5;124m\"\u001b[39m,\n\u001b[1;32m  11752\u001b[0m }\n\u001b[0;32m> 11754\u001b[0m op_response \u001b[38;5;241m=\u001b[39m \u001b[38;5;28;43mself\u001b[39;49m\u001b[38;5;241;43m.\u001b[39;49m\u001b[43m_api\u001b[49m\u001b[38;5;241;43m.\u001b[39;49m\u001b[43mdo\u001b[49m\u001b[43m(\u001b[49m\u001b[38;5;124;43m\"\u001b[39;49m\u001b[38;5;124;43mPOST\u001b[39;49m\u001b[38;5;124;43m\"\u001b[39;49m\u001b[43m,\u001b[49m\u001b[43m \u001b[49m\u001b[38;5;124;43m\"\u001b[39;49m\u001b[38;5;124;43m/api/1.2/commands/execute\u001b[39;49m\u001b[38;5;124;43m\"\u001b[39;49m\u001b[43m,\u001b[49m\u001b[43m \u001b[49m\u001b[43mbody\u001b[49m\u001b[38;5;241;43m=\u001b[39;49m\u001b[43mbody\u001b[49m\u001b[43m,\u001b[49m\u001b[43m \u001b[49m\u001b[43mheaders\u001b[49m\u001b[38;5;241;43m=\u001b[39;49m\u001b[43mheaders\u001b[49m\u001b[43m)\u001b[49m\n\u001b[1;32m  11755\u001b[0m \u001b[38;5;28;01mreturn\u001b[39;00m Wait(\n\u001b[1;32m  11756\u001b[0m     \u001b[38;5;28mself\u001b[39m\u001b[38;5;241m.\u001b[39mwait_command_status_command_execution_finished_or_error,\n\u001b[1;32m  11757\u001b[0m     response\u001b[38;5;241m=\u001b[39mCreated\u001b[38;5;241m.\u001b[39mfrom_dict(op_response),\n\u001b[0;32m   (...)\u001b[0m\n\u001b[1;32m  11760\u001b[0m     context_id\u001b[38;5;241m=\u001b[39mcontext_id,\n\u001b[1;32m  11761\u001b[0m )\n",
      "File \u001b[0;32m~/Spaceship/ai-audience-profiles/.venv/lib/python3.10/site-packages/databricks/sdk/core.py:85\u001b[0m, in \u001b[0;36mApiClient.do\u001b[0;34m(self, method, path, url, query, headers, body, raw, files, data, auth, response_headers)\u001b[0m\n\u001b[1;32m     83\u001b[0m     path \u001b[38;5;241m=\u001b[39m re\u001b[38;5;241m.\u001b[39msub(\u001b[38;5;124m\"\u001b[39m\u001b[38;5;124m^/api/2.0/fs/files//\u001b[39m\u001b[38;5;124m\"\u001b[39m, \u001b[38;5;124m\"\u001b[39m\u001b[38;5;124m/api/2.0/fs/files/\u001b[39m\u001b[38;5;124m\"\u001b[39m, path)\n\u001b[1;32m     84\u001b[0m     url \u001b[38;5;241m=\u001b[39m \u001b[38;5;124mf\u001b[39m\u001b[38;5;124m\"\u001b[39m\u001b[38;5;132;01m{\u001b[39;00m\u001b[38;5;28mself\u001b[39m\u001b[38;5;241m.\u001b[39m_cfg\u001b[38;5;241m.\u001b[39mhost\u001b[38;5;132;01m}\u001b[39;00m\u001b[38;5;132;01m{\u001b[39;00mpath\u001b[38;5;132;01m}\u001b[39;00m\u001b[38;5;124m\"\u001b[39m\n\u001b[0;32m---> 85\u001b[0m \u001b[38;5;28;01mreturn\u001b[39;00m \u001b[38;5;28;43mself\u001b[39;49m\u001b[38;5;241;43m.\u001b[39;49m\u001b[43m_api_client\u001b[49m\u001b[38;5;241;43m.\u001b[39;49m\u001b[43mdo\u001b[49m\u001b[43m(\u001b[49m\n\u001b[1;32m     86\u001b[0m \u001b[43m    \u001b[49m\u001b[43mmethod\u001b[49m\u001b[38;5;241;43m=\u001b[39;49m\u001b[43mmethod\u001b[49m\u001b[43m,\u001b[49m\n\u001b[1;32m     87\u001b[0m \u001b[43m    \u001b[49m\u001b[43murl\u001b[49m\u001b[38;5;241;43m=\u001b[39;49m\u001b[43murl\u001b[49m\u001b[43m,\u001b[49m\n\u001b[1;32m     88\u001b[0m \u001b[43m    \u001b[49m\u001b[43mquery\u001b[49m\u001b[38;5;241;43m=\u001b[39;49m\u001b[43mquery\u001b[49m\u001b[43m,\u001b[49m\n\u001b[1;32m     89\u001b[0m \u001b[43m    \u001b[49m\u001b[43mheaders\u001b[49m\u001b[38;5;241;43m=\u001b[39;49m\u001b[43mheaders\u001b[49m\u001b[43m,\u001b[49m\n\u001b[1;32m     90\u001b[0m \u001b[43m    \u001b[49m\u001b[43mbody\u001b[49m\u001b[38;5;241;43m=\u001b[39;49m\u001b[43mbody\u001b[49m\u001b[43m,\u001b[49m\n\u001b[1;32m     91\u001b[0m \u001b[43m    \u001b[49m\u001b[43mraw\u001b[49m\u001b[38;5;241;43m=\u001b[39;49m\u001b[43mraw\u001b[49m\u001b[43m,\u001b[49m\n\u001b[1;32m     92\u001b[0m \u001b[43m    \u001b[49m\u001b[43mfiles\u001b[49m\u001b[38;5;241;43m=\u001b[39;49m\u001b[43mfiles\u001b[49m\u001b[43m,\u001b[49m\n\u001b[1;32m     93\u001b[0m \u001b[43m    \u001b[49m\u001b[43mdata\u001b[49m\u001b[38;5;241;43m=\u001b[39;49m\u001b[43mdata\u001b[49m\u001b[43m,\u001b[49m\n\u001b[1;32m     94\u001b[0m \u001b[43m    \u001b[49m\u001b[43mauth\u001b[49m\u001b[38;5;241;43m=\u001b[39;49m\u001b[43mauth\u001b[49m\u001b[43m,\u001b[49m\n\u001b[1;32m     95\u001b[0m \u001b[43m    \u001b[49m\u001b[43mresponse_headers\u001b[49m\u001b[38;5;241;43m=\u001b[39;49m\u001b[43mresponse_headers\u001b[49m\u001b[43m,\u001b[49m\n\u001b[1;32m     96\u001b[0m \u001b[43m\u001b[49m\u001b[43m)\u001b[49m\n",
      "File \u001b[0;32m~/Spaceship/ai-audience-profiles/.venv/lib/python3.10/site-packages/databricks/sdk/_base_client.py:196\u001b[0m, in \u001b[0;36m_BaseClient.do\u001b[0;34m(self, method, url, query, headers, body, raw, files, data, auth, response_headers)\u001b[0m\n\u001b[1;32m    193\u001b[0m     logger\u001b[38;5;241m.\u001b[39mdebug(\u001b[38;5;124mf\u001b[39m\u001b[38;5;124m\"\u001b[39m\u001b[38;5;124mRetry disabled for non-seekable stream: type=\u001b[39m\u001b[38;5;132;01m{\u001b[39;00m\u001b[38;5;28mtype\u001b[39m(data)\u001b[38;5;132;01m}\u001b[39;00m\u001b[38;5;124m\"\u001b[39m)\n\u001b[1;32m    194\u001b[0m     call \u001b[38;5;241m=\u001b[39m \u001b[38;5;28mself\u001b[39m\u001b[38;5;241m.\u001b[39m_perform\n\u001b[0;32m--> 196\u001b[0m response \u001b[38;5;241m=\u001b[39m \u001b[43mcall\u001b[49m\u001b[43m(\u001b[49m\n\u001b[1;32m    197\u001b[0m \u001b[43m    \u001b[49m\u001b[43mmethod\u001b[49m\u001b[43m,\u001b[49m\n\u001b[1;32m    198\u001b[0m \u001b[43m    \u001b[49m\u001b[43murl\u001b[49m\u001b[43m,\u001b[49m\n\u001b[1;32m    199\u001b[0m \u001b[43m    \u001b[49m\u001b[43mquery\u001b[49m\u001b[38;5;241;43m=\u001b[39;49m\u001b[43mquery\u001b[49m\u001b[43m,\u001b[49m\n\u001b[1;32m    200\u001b[0m \u001b[43m    \u001b[49m\u001b[43mheaders\u001b[49m\u001b[38;5;241;43m=\u001b[39;49m\u001b[43mheaders\u001b[49m\u001b[43m,\u001b[49m\n\u001b[1;32m    201\u001b[0m \u001b[43m    \u001b[49m\u001b[43mbody\u001b[49m\u001b[38;5;241;43m=\u001b[39;49m\u001b[43mbody\u001b[49m\u001b[43m,\u001b[49m\n\u001b[1;32m    202\u001b[0m \u001b[43m    \u001b[49m\u001b[43mraw\u001b[49m\u001b[38;5;241;43m=\u001b[39;49m\u001b[43mraw\u001b[49m\u001b[43m,\u001b[49m\n\u001b[1;32m    203\u001b[0m \u001b[43m    \u001b[49m\u001b[43mfiles\u001b[49m\u001b[38;5;241;43m=\u001b[39;49m\u001b[43mfiles\u001b[49m\u001b[43m,\u001b[49m\n\u001b[1;32m    204\u001b[0m \u001b[43m    \u001b[49m\u001b[43mdata\u001b[49m\u001b[38;5;241;43m=\u001b[39;49m\u001b[43mdata\u001b[49m\u001b[43m,\u001b[49m\n\u001b[1;32m    205\u001b[0m \u001b[43m    \u001b[49m\u001b[43mauth\u001b[49m\u001b[38;5;241;43m=\u001b[39;49m\u001b[43mauth\u001b[49m\u001b[43m,\u001b[49m\n\u001b[1;32m    206\u001b[0m \u001b[43m\u001b[49m\u001b[43m)\u001b[49m\n\u001b[1;32m    208\u001b[0m resp \u001b[38;5;241m=\u001b[39m \u001b[38;5;28mdict\u001b[39m()\n\u001b[1;32m    209\u001b[0m \u001b[38;5;28;01mfor\u001b[39;00m header \u001b[38;5;129;01min\u001b[39;00m response_headers \u001b[38;5;28;01mif\u001b[39;00m response_headers \u001b[38;5;28;01melse\u001b[39;00m []:\n",
      "File \u001b[0;32m~/Spaceship/ai-audience-profiles/.venv/lib/python3.10/site-packages/databricks/sdk/retries.py:57\u001b[0m, in \u001b[0;36mretried.<locals>.decorator.<locals>.wrapper\u001b[0;34m(*args, **kwargs)\u001b[0m\n\u001b[1;32m     53\u001b[0m         retry_reason \u001b[38;5;241m=\u001b[39m \u001b[38;5;124mf\u001b[39m\u001b[38;5;124m\"\u001b[39m\u001b[38;5;132;01m{\u001b[39;00m\u001b[38;5;28mtype\u001b[39m(err)\u001b[38;5;241m.\u001b[39m\u001b[38;5;18m__name__\u001b[39m\u001b[38;5;132;01m}\u001b[39;00m\u001b[38;5;124m is allowed to retry\u001b[39m\u001b[38;5;124m\"\u001b[39m\n\u001b[1;32m     55\u001b[0m \u001b[38;5;28;01mif\u001b[39;00m retry_reason \u001b[38;5;129;01mis\u001b[39;00m \u001b[38;5;28;01mNone\u001b[39;00m:\n\u001b[1;32m     56\u001b[0m     \u001b[38;5;66;03m# raise if exception is not retryable\u001b[39;00m\n\u001b[0;32m---> 57\u001b[0m     \u001b[38;5;28;01mraise\u001b[39;00m err\n\u001b[1;32m     59\u001b[0m logger\u001b[38;5;241m.\u001b[39mdebug(\u001b[38;5;124mf\u001b[39m\u001b[38;5;124m\"\u001b[39m\u001b[38;5;124mRetrying: \u001b[39m\u001b[38;5;132;01m{\u001b[39;00mretry_reason\u001b[38;5;132;01m}\u001b[39;00m\u001b[38;5;124m (sleeping ~\u001b[39m\u001b[38;5;132;01m{\u001b[39;00msleep\u001b[38;5;132;01m}\u001b[39;00m\u001b[38;5;124ms)\u001b[39m\u001b[38;5;124m\"\u001b[39m)\n\u001b[1;32m     60\u001b[0m \u001b[38;5;28;01mif\u001b[39;00m before_retry:\n",
      "File \u001b[0;32m~/Spaceship/ai-audience-profiles/.venv/lib/python3.10/site-packages/databricks/sdk/retries.py:36\u001b[0m, in \u001b[0;36mretried.<locals>.decorator.<locals>.wrapper\u001b[0;34m(*args, **kwargs)\u001b[0m\n\u001b[1;32m     34\u001b[0m \u001b[38;5;28;01mwhile\u001b[39;00m clock\u001b[38;5;241m.\u001b[39mtime() \u001b[38;5;241m<\u001b[39m deadline:\n\u001b[1;32m     35\u001b[0m     \u001b[38;5;28;01mtry\u001b[39;00m:\n\u001b[0;32m---> 36\u001b[0m         \u001b[38;5;28;01mreturn\u001b[39;00m \u001b[43mfunc\u001b[49m\u001b[43m(\u001b[49m\u001b[38;5;241;43m*\u001b[39;49m\u001b[43margs\u001b[49m\u001b[43m,\u001b[49m\u001b[43m \u001b[49m\u001b[38;5;241;43m*\u001b[39;49m\u001b[38;5;241;43m*\u001b[39;49m\u001b[43mkwargs\u001b[49m\u001b[43m)\u001b[49m\n\u001b[1;32m     37\u001b[0m     \u001b[38;5;28;01mexcept\u001b[39;00m \u001b[38;5;167;01mException\u001b[39;00m \u001b[38;5;28;01mas\u001b[39;00m err:\n\u001b[1;32m     38\u001b[0m         last_err \u001b[38;5;241m=\u001b[39m err\n",
      "File \u001b[0;32m~/Spaceship/ai-audience-profiles/.venv/lib/python3.10/site-packages/databricks/sdk/_base_client.py:298\u001b[0m, in \u001b[0;36m_BaseClient._perform\u001b[0;34m(self, method, url, query, headers, body, raw, files, data, auth)\u001b[0m\n\u001b[1;32m    296\u001b[0m error \u001b[38;5;241m=\u001b[39m \u001b[38;5;28mself\u001b[39m\u001b[38;5;241m.\u001b[39m_error_parser\u001b[38;5;241m.\u001b[39mget_api_error(response)\n\u001b[1;32m    297\u001b[0m \u001b[38;5;28;01mif\u001b[39;00m error \u001b[38;5;129;01mis\u001b[39;00m \u001b[38;5;129;01mnot\u001b[39;00m \u001b[38;5;28;01mNone\u001b[39;00m:\n\u001b[0;32m--> 298\u001b[0m     \u001b[38;5;28;01mraise\u001b[39;00m error \u001b[38;5;28;01mfrom\u001b[39;00m\u001b[38;5;250m \u001b[39m\u001b[38;5;28;01mNone\u001b[39;00m\n\u001b[1;32m    300\u001b[0m \u001b[38;5;28;01mreturn\u001b[39;00m response\n",
      "\u001b[0;31mInternalError\u001b[0m: ContextNotFound: "
     ]
    }
   ],
   "source": [
    "%pip install faker==\"36.1.1\"\n",
    "dbutils.library.restartPython()"
   ]
  },
  {
   "cell_type": "code",
   "execution_count": null,
   "metadata": {
    "application/vnd.databricks.v1+cell": {
     "cellMetadata": {
      "byteLimit": 2048000,
      "rowLimit": 10000
     },
     "inputWidgets": {},
     "nuid": "14ebf725-0d6e-408c-8d83-edb0821ba9e3",
     "showTitle": false,
     "tableResultSettingsMap": {},
     "title": ""
    }
   },
   "outputs": [],
   "source": [
    "import pandas as pd\n",
    "import pyspark.sql.functions as F\n",
    "import numpy as np\n",
    "import random\n",
    "import uuid\n",
    "\n",
    "from datetime import datetime\n",
    "from faker import Faker\n",
    "from pyspark.sql.types import StringType\n",
    "\n",
    "import numpy as np\n",
    "import pandas as pd\n",
    "import uuid\n",
    "import random\n",
    "from faker import Faker\n",
    "from datetime import datetime"
   ]
  },
  {
   "cell_type": "code",
   "execution_count": null,
   "metadata": {},
   "outputs": [],
   "source": [
    "%run ./_resources/00_setup"
   ]
  },
  {
   "cell_type": "markdown",
   "metadata": {
    "application/vnd.databricks.v1+cell": {
     "cellMetadata": {},
     "inputWidgets": {},
     "nuid": "35a6a737-cbc0-4b1e-95e6-0cf32d19d74e",
     "showTitle": false,
     "tableResultSettingsMap": {},
     "title": ""
    }
   },
   "source": [
    "## Step 1: Generate structured data for clustering"
   ]
  },
  {
   "cell_type": "markdown",
   "metadata": {},
   "source": [
    "## Introduction to Demographic Clustering\n",
    "Demographic clustering involves categorizing individuals based on characteristics like age, income, and education level. This process helps in understanding and targeting specific groups more effectively.\n",
    "\n",
    "## Defining Clusters\n",
    "We define several demographic clusters based on their characteristics:\n",
    "\n",
    "- **Young Urban Professional**\n",
    "- **Suburban Family-Oriented**\n",
    "- **Retired Rural Dweller**\n",
    "- **College Student**\n",
    "- **High-Income Empty Nester**\n",
    "\n",
    "## LA Tribes\n",
    "Additionally, we focus on specific tribes in Los Angeles:\n",
    "\n",
    "- **Young Professional Women - Urban Explorers**\n",
    "- **Tech-Savvy Professionals - Silicon Beach Innovators**\n",
    "- **Creative Entrepreneurs - Hollywood Creatives**\n",
    "- **Eco-Conscious Millennials - Sustainable Lifestyle**\n",
    "- **Luxury-Oriented Professionals - Upscale Lifestyles**\n",
    "- **College Students - Campus Life**\n",
    "\n",
    "## Code Implementation\n",
    "\n",
    "Below is the Python code to generate these demographic clusters and tribes:\n",
    "\n"
   ]
  },
  {
   "cell_type": "code",
   "execution_count": 25,
   "metadata": {
    "application/vnd.databricks.v1+cell": {
     "cellMetadata": {
      "byteLimit": 2048000,
      "rowLimit": 10000
     },
     "inputWidgets": {},
     "nuid": "41e7d271-1442-4836-8b99-5f478c593440",
     "showTitle": false,
     "tableResultSettingsMap": {},
     "title": ""
    }
   },
   "outputs": [],
   "source": [
    "# Set seed\n",
    "np.random.seed(42)"
   ]
  },
  {
   "cell_type": "markdown",
   "metadata": {},
   "source": [
    "We need to use conditional probabilities in our data gen code in order to \"force\" the clusters for later."
   ]
  },
  {
   "cell_type": "code",
   "execution_count": 26,
   "metadata": {},
   "outputs": [],
   "source": [
    "# Initialize Faker for generating fake dates\n",
    "fake = Faker()\n",
    "\n",
    "# Define the tribe sizes and their descriptions\n",
    "tribe_sizes = {\n",
    "    \"Young Professional Women - Urban Explorers (Downtown LA / Arts District)\": 250,\n",
    "    \"Tech-Savvy Professionals - Silicon Beach Innovators (Venice Beach / Santa Monica)\": 200,\n",
    "    \"Creative Entrepreneurs - Hollywood Creatives (West Hollywood / Beverly Hills)\": 150,\n",
    "    \"Eco-Conscious Millennials - Sustainable Lifestyle (Culver City / Echo Park)\": 180,\n",
    "    \"Luxury-Oriented Professionals - Upscale Lifestyles (Beverly Hills / Bel Air)\": 200,\n",
    "    \"College Students - Campus Life (UCLA / USC)\": 300,\n",
    "}\n",
    "\n",
    "# Function to generate data for LA-based tribes\n",
    "def generate_la_tribe_data(tribe_name, size):\n",
    "    if \"Urban Explorers\" in tribe_name:\n",
    "        locations = random.choices([\"Downtown LA\", \"Arts District\", \"Silver Lake\", \"Echo Park\"], k=size)\n",
    "        incomes = np.random.normal(45000, 12000, size).clip(30000, 80000)\n",
    "        occupations = random.choices([\"Freelancer\", \"Graphic Designer\", \"Social Media Influencer\"], k=size)\n",
    "        ages = np.random.randint(25, 35, size)\n",
    "        education_levels = np.random.choice([\"Bachelor's\", \"Post Graduate\"], size, p=[0.7, 0.3])\n",
    "        relationship_statuses = random.choices([\"Single\", \"Cohabiting\"], k=size)\n",
    "        number_dependants = [0] * size\n",
    "        short_description = \"Downtown LA professionals\"\n",
    "\n",
    "    elif \"Silicon Beach Innovators\" in tribe_name:\n",
    "        locations = random.choices([\"Venice Beach\", \"Santa Monica\", \"Playa Vista\"], k=size)\n",
    "        incomes = np.random.normal(100000, 25000, size).clip(70000, 200000)\n",
    "        occupations = random.choices([\"Software Engineer\", \"Product Manager\", \"UX/UI Designer\"], k=size)\n",
    "        ages = np.random.randint(25, 40, size)\n",
    "        education_levels = np.random.choice([\"Bachelor's\", \"Post Graduate\"], size, p=[0.8, 0.2])\n",
    "        relationship_statuses = random.choices([\"Single\", \"Cohabiting\"], k=size)\n",
    "        number_dependants = [0] * size\n",
    "        short_description = \"Venice Beach tech industry leaders\"\n",
    "\n",
    "    elif \"Hollywood Creatives\" in tribe_name:\n",
    "        locations = random.choices([\"West Hollywood\", \"Beverly Hills\", \"Sunset Strip\"], k=size)\n",
    "        incomes = np.random.normal(120000, 30000, size).clip(80000, 250000)\n",
    "        occupations = random.choices([\"Filmmaker\", \"Designer\", \"Fashion Entrepreneur\"], k=size)\n",
    "        ages = np.random.randint(25, 45, size)\n",
    "        education_levels = np.random.choice([\"Bachelor's\", \"Post Graduate\"], size, p=[0.6, 0.4])\n",
    "        relationship_statuses = random.choices([\"Single\", \"Cohabiting\"], k=size)\n",
    "        number_dependants = [0] * size\n",
    "        short_description = \"West Hollywood creatives\"\n",
    "\n",
    "    elif \"Sustainable Lifestyle\" in tribe_name:\n",
    "        locations = random.choices([\"Culver City\", \"Echo Park\", \"Silver Lake\"], k=size)\n",
    "        incomes = np.random.normal(55000, 15000, size).clip(40000, 100000)\n",
    "        occupations = random.choices([\"Sustainability Consultant\", \"Eco-Entrepreneur\", \"Health Coach\"], k=size)\n",
    "        ages = np.random.randint(25, 35, size)\n",
    "        education_levels = np.random.choice([\"Bachelor's\", \"Post Graduate\"], size, p=[0.7, 0.3])\n",
    "        relationship_statuses = random.choices([\"Single\", \"Cohabiting\"], k=size)\n",
    "        number_dependants = [0] * size\n",
    "        short_description = \"Culver City eco-advocates\"\n",
    "\n",
    "    elif \"Luxury-Oriented Professionals\" in tribe_name:\n",
    "        locations = random.choices([\"Beverly Hills\", \"Bel Air\", \"Westwood\"], k=size)\n",
    "        incomes = np.random.normal(200000, 50000, size).clip(150000, 300000)\n",
    "        occupations = random.choices([\"Real Estate Executive\", \"Investment Banker\", \"Entertainment Lawyer\"], k=size)\n",
    "        ages = np.random.randint(35, 55, size)\n",
    "        education_levels = np.random.choice([\"Bachelor's\", \"Post Graduate\"], size, p=[0.6, 0.4])\n",
    "        relationship_statuses = random.choices([\"Single\", \"Cohabiting\"], k=size)\n",
    "        number_dependants = [0] * size\n",
    "        short_description = \"Beverly Hills luxury professionals\"\n",
    "\n",
    "    elif \"College Students\" in tribe_name:\n",
    "        locations = random.choices([\"Westwood (UCLA)\", \"South LA (USC)\", \"Downtown LA\"], k=size)\n",
    "        incomes = np.random.normal(15000, 3000, size).clip(10000, 25000)\n",
    "        occupations = random.choices([\"Student\", \"Intern\", \"Part-time Worker\"], k=size)\n",
    "        ages = np.random.randint(18, 24, size)\n",
    "        education_levels = [\"Some College\"] * size\n",
    "        relationship_statuses = [\"Single\"] * size\n",
    "        number_dependants = [0] * size\n",
    "        short_description = \"UCLA/USC students\"\n",
    "\n",
    "    return pd.DataFrame({\n",
    "        \"age\": ages,\n",
    "        \"income\": incomes.round(-3),\n",
    "        \"location\": locations,\n",
    "        \"education\": education_levels,\n",
    "        \"relationship_status\": relationship_statuses,\n",
    "        \"number_dependants\": number_dependants,\n",
    "        \"occupation\": occupations,\n",
    "        \"tribe\": tribe_name,\n",
    "        \"short_description\": short_description\n",
    "    })\n",
    "\n",
    "# Generate data for all LA tribes\n",
    "tribe_dfs = [generate_la_tribe_data(tribe, size) for tribe, size in tribe_sizes.items()]\n",
    "demographic_df = pd.concat(tribe_dfs, ignore_index=True)\n",
    "\n",
    "# Shuffle the dataset\n",
    "demographic_df = demographic_df.sample(frac=1).reset_index(drop=True)\n",
    "\n",
    "# Add UUIDs for each individual\n",
    "demographic_df.insert(0, 'uuid', [str(uuid.uuid4()) for _ in range(len(demographic_df))])\n",
    "\n",
    "# Add fake creation dates for each record (simulating when they joined the platform)\n",
    "demographic_df['created_at'] = [\n",
    "  fake.date_time_between(datetime(2023, 1, 1), datetime(2024, 12, 31)).strftime('%Y-%m-%d %H:%M:%S') for _ in range(len(demographic_df))]\n"
   ]
  },
  {
   "cell_type": "code",
   "execution_count": 27,
   "metadata": {
    "application/vnd.databricks.v1+cell": {
     "cellMetadata": {
      "byteLimit": 2048000,
      "rowLimit": 10000
     },
     "inputWidgets": {},
     "nuid": "f8c46e72-3a3a-4f2c-a321-80d65bda031a",
     "showTitle": false,
     "tableResultSettingsMap": {},
     "title": ""
    }
   },
   "outputs": [
    {
     "data": {
      "text/html": [
       "<div>\n",
       "<style scoped>\n",
       "    .dataframe tbody tr th:only-of-type {\n",
       "        vertical-align: middle;\n",
       "    }\n",
       "\n",
       "    .dataframe tbody tr th {\n",
       "        vertical-align: top;\n",
       "    }\n",
       "\n",
       "    .dataframe thead th {\n",
       "        text-align: right;\n",
       "    }\n",
       "</style>\n",
       "<table border=\"1\" class=\"dataframe\">\n",
       "  <thead>\n",
       "    <tr style=\"text-align: right;\">\n",
       "      <th></th>\n",
       "      <th>uuid</th>\n",
       "      <th>age</th>\n",
       "      <th>income</th>\n",
       "      <th>location</th>\n",
       "      <th>education</th>\n",
       "      <th>relationship_status</th>\n",
       "      <th>number_dependants</th>\n",
       "      <th>occupation</th>\n",
       "      <th>tribe</th>\n",
       "      <th>short_description</th>\n",
       "      <th>created_at</th>\n",
       "    </tr>\n",
       "  </thead>\n",
       "  <tbody>\n",
       "    <tr>\n",
       "      <th>0</th>\n",
       "      <td>15af5fab-8049-4d0b-8fbc-68e8f07082ea</td>\n",
       "      <td>36</td>\n",
       "      <td>80000.0</td>\n",
       "      <td>West Hollywood</td>\n",
       "      <td>Post Graduate</td>\n",
       "      <td>Single</td>\n",
       "      <td>0</td>\n",
       "      <td>Filmmaker</td>\n",
       "      <td>Creative Entrepreneurs - Hollywood Creatives (...</td>\n",
       "      <td>West Hollywood creatives</td>\n",
       "      <td>2024-01-26 05:44:08</td>\n",
       "    </tr>\n",
       "    <tr>\n",
       "      <th>1</th>\n",
       "      <td>81632240-77dc-40b2-b117-b0891d6e5dad</td>\n",
       "      <td>34</td>\n",
       "      <td>96000.0</td>\n",
       "      <td>Playa Vista</td>\n",
       "      <td>Bachelor's</td>\n",
       "      <td>Cohabiting</td>\n",
       "      <td>0</td>\n",
       "      <td>Software Engineer</td>\n",
       "      <td>Tech-Savvy Professionals - Silicon Beach Innov...</td>\n",
       "      <td>Venice Beach tech industry leaders</td>\n",
       "      <td>2023-10-03 04:58:11</td>\n",
       "    </tr>\n",
       "    <tr>\n",
       "      <th>2</th>\n",
       "      <td>dd75e92c-c1c7-445e-8755-68040618e7aa</td>\n",
       "      <td>23</td>\n",
       "      <td>16000.0</td>\n",
       "      <td>Downtown LA</td>\n",
       "      <td>Some College</td>\n",
       "      <td>Single</td>\n",
       "      <td>0</td>\n",
       "      <td>Student</td>\n",
       "      <td>College Students - Campus Life (UCLA / USC)</td>\n",
       "      <td>UCLA/USC students</td>\n",
       "      <td>2024-07-04 10:41:27</td>\n",
       "    </tr>\n",
       "    <tr>\n",
       "      <th>3</th>\n",
       "      <td>e0c2a91e-d60b-4edb-8681-b9974f078674</td>\n",
       "      <td>36</td>\n",
       "      <td>149000.0</td>\n",
       "      <td>Beverly Hills</td>\n",
       "      <td>Post Graduate</td>\n",
       "      <td>Single</td>\n",
       "      <td>0</td>\n",
       "      <td>Designer</td>\n",
       "      <td>Creative Entrepreneurs - Hollywood Creatives (...</td>\n",
       "      <td>West Hollywood creatives</td>\n",
       "      <td>2024-09-16 03:21:25</td>\n",
       "    </tr>\n",
       "    <tr>\n",
       "      <th>4</th>\n",
       "      <td>6affe2c6-e705-4798-b117-e38d82fa8491</td>\n",
       "      <td>29</td>\n",
       "      <td>42000.0</td>\n",
       "      <td>Culver City</td>\n",
       "      <td>Post Graduate</td>\n",
       "      <td>Single</td>\n",
       "      <td>0</td>\n",
       "      <td>Eco-Entrepreneur</td>\n",
       "      <td>Eco-Conscious Millennials - Sustainable Lifest...</td>\n",
       "      <td>Culver City eco-advocates</td>\n",
       "      <td>2024-09-22 00:21:04</td>\n",
       "    </tr>\n",
       "  </tbody>\n",
       "</table>\n",
       "</div>"
      ],
      "text/plain": [
       "                                   uuid  age    income        location  \\\n",
       "0  15af5fab-8049-4d0b-8fbc-68e8f07082ea   36   80000.0  West Hollywood   \n",
       "1  81632240-77dc-40b2-b117-b0891d6e5dad   34   96000.0     Playa Vista   \n",
       "2  dd75e92c-c1c7-445e-8755-68040618e7aa   23   16000.0     Downtown LA   \n",
       "3  e0c2a91e-d60b-4edb-8681-b9974f078674   36  149000.0   Beverly Hills   \n",
       "4  6affe2c6-e705-4798-b117-e38d82fa8491   29   42000.0     Culver City   \n",
       "\n",
       "       education relationship_status  number_dependants         occupation  \\\n",
       "0  Post Graduate              Single                  0          Filmmaker   \n",
       "1     Bachelor's          Cohabiting                  0  Software Engineer   \n",
       "2   Some College              Single                  0            Student   \n",
       "3  Post Graduate              Single                  0           Designer   \n",
       "4  Post Graduate              Single                  0   Eco-Entrepreneur   \n",
       "\n",
       "                                               tribe  \\\n",
       "0  Creative Entrepreneurs - Hollywood Creatives (...   \n",
       "1  Tech-Savvy Professionals - Silicon Beach Innov...   \n",
       "2        College Students - Campus Life (UCLA / USC)   \n",
       "3  Creative Entrepreneurs - Hollywood Creatives (...   \n",
       "4  Eco-Conscious Millennials - Sustainable Lifest...   \n",
       "\n",
       "                    short_description           created_at  \n",
       "0            West Hollywood creatives  2024-01-26 05:44:08  \n",
       "1  Venice Beach tech industry leaders  2023-10-03 04:58:11  \n",
       "2                   UCLA/USC students  2024-07-04 10:41:27  \n",
       "3            West Hollywood creatives  2024-09-16 03:21:25  \n",
       "4           Culver City eco-advocates  2024-09-22 00:21:04  "
      ]
     },
     "execution_count": 27,
     "metadata": {},
     "output_type": "execute_result"
    }
   ],
   "source": [
    "# Display the first few records of the generated dataset\n",
    "\n",
    "demographic_df.head()"
   ]
  },
  {
   "cell_type": "markdown",
   "metadata": {
    "application/vnd.databricks.v1+cell": {
     "cellMetadata": {},
     "inputWidgets": {},
     "nuid": "77068db6-d72d-4c1b-8751-bb80b0ddbc2d",
     "showTitle": false,
     "tableResultSettingsMap": {},
     "title": ""
    }
   },
   "source": [
    "## Step 2: Generate social media posts"
   ]
  },
  {
   "cell_type": "code",
   "execution_count": 0,
   "metadata": {
    "application/vnd.databricks.v1+cell": {
     "cellMetadata": {
      "byteLimit": 2048000,
      "rowLimit": 10000
     },
     "inputWidgets": {},
     "nuid": "6f1a78cd-e843-4640-ada8-1d7fab292f61",
     "showTitle": false,
     "tableResultSettingsMap": {},
     "title": ""
    }
   },
   "outputs": [],
   "source": [
    "# Get random sample from demographic data\n",
    "sampled_df = demographic_df.sample(n=100).reset_index(drop=True)"
   ]
  },
  {
   "cell_type": "code",
   "execution_count": 0,
   "metadata": {
    "application/vnd.databricks.v1+cell": {
     "cellMetadata": {
      "byteLimit": 2048000,
      "rowLimit": 10000
     },
     "inputWidgets": {},
     "nuid": "7e897bd7-7f69-4b33-90b0-738a326a223f",
     "showTitle": false,
     "tableResultSettingsMap": {},
     "title": ""
    }
   },
   "outputs": [],
   "source": [
    "# Define segment-specific products and possible emotions\n",
    "segment_products = {\n",
    "    \"Young Urban Professional\": [\"smartphone\", \"laptop\", \"smartwatch\", \"wireless earbuds\", \"fitness tracker\"],\n",
    "    \"Suburban Family-Oriented\": [\"family SUV\", \"grill\", \"home security system\", \"washing machine\", \"family board game\"],\n",
    "    \"Retired Rural Dweller\": [\"gardening tools\", \"golf clubs\", \"heating blanket\", \"armchair\", \"bird feeder\"],\n",
    "    \"College Student\": [\"backpack\", \"coffee maker\", \"gaming console\", \"textbooks\", \"bicycle\"],\n",
    "    \"High-Income Empty Nester\": [\"luxury watch\", \"high-end camera\", \"luxury car\", \"wine fridge\", \"holiday package\"]\n",
    "}\n",
    "\n",
    "emotions = [\"excited\", \"angry\", \"satisfied\", \"frustrated\", \"disappointed\", \"scared\", \"relaxed\", \"confused\", \"amazed\", \"curious\"]\n",
    "\n",
    "# Generate 100 unique combinations\n",
    "combinations = []\n",
    "unique_combinations = set()\n",
    "\n",
    "while len(unique_combinations) < 100:\n",
    "    segment = random.choice(list(segment_products.keys()))\n",
    "    author_id = demographic_df[demographic_df[\"segment\"] == segment][\"uuid\"].sample(1).values[0]\n",
    "    product = random.choice(segment_products[segment])\n",
    "    emotion = random.choice(emotions)\n",
    "\n",
    "    # Create a tuple to check for uniqueness\n",
    "    combination_tuple = (segment, product, emotion)\n",
    "\n",
    "    # Add only if the combination is unique\n",
    "    if combination_tuple not in unique_combinations:\n",
    "        unique_combinations.add(combination_tuple)\n",
    "        combinations.append({\n",
    "            \"author_id\": author_id,\n",
    "            \"segment\": segment,\n",
    "            \"product\": product,\n",
    "            \"emotion\": emotion\n",
    "        })\n",
    "\n",
    "# Convert to DataFrame\n",
    "combinations_df = pd.DataFrame(combinations)\n",
    "combinations_sdf = spark.createDataFrame(combinations_df)"
   ]
  },
  {
   "cell_type": "code",
   "execution_count": 0,
   "metadata": {
    "application/vnd.databricks.v1+cell": {
     "cellMetadata": {
      "byteLimit": 2048000,
      "rowLimit": 10000
     },
     "inputWidgets": {},
     "nuid": "8d125e0b-9ce3-4f29-8dae-f5f077cf4322",
     "showTitle": false,
     "tableResultSettingsMap": {},
     "title": ""
    }
   },
   "outputs": [],
   "source": [
    "display(combinations_sdf.groupBy(\"segment\").count())"
   ]
  },
  {
   "cell_type": "code",
   "execution_count": 0,
   "metadata": {
    "application/vnd.databricks.v1+cell": {
     "cellMetadata": {
      "byteLimit": 2048000,
      "rowLimit": 10000
     },
     "inputWidgets": {},
     "nuid": "4ca42901-dd2d-4e24-8923-abc4f963a258",
     "showTitle": false,
     "tableResultSettingsMap": {},
     "title": ""
    }
   },
   "outputs": [],
   "source": [
    "# Creat temp view for AI_QUERY\n",
    "combinations_sdf.createOrReplaceTempView(\"sampled_audience\")"
   ]
  },
  {
   "cell_type": "code",
   "execution_count": 0,
   "metadata": {
    "application/vnd.databricks.v1+cell": {
     "cellMetadata": {
      "byteLimit": 2048000,
      "implicitDf": true,
      "rowLimit": 10000
     },
     "inputWidgets": {},
     "nuid": "432005b5-6e90-4762-a4a0-62dfebd9ef13",
     "showTitle": false,
     "tableResultSettingsMap": {},
     "title": ""
    }
   },
   "outputs": [],
   "source": [
    "%sql\n",
    "CREATE OR REPLACE TEMP VIEW sampled_audience_posts AS\n",
    "SELECT\n",
    "  author_id,\n",
    "  AI_QUERY(\n",
    "    \"databricks-meta-llama-3-3-70b-instruct\", \n",
    "    \"Generate a realistic social media post from a consumer who recently purchased a \" || product||  \"from the perspective of a \" || segment || \"who is \" || emotion || \"about the product. The post should reflect their genuine experience, including specific details about the product's features, performance, and how it fits into their lifestyle. Maintain a conversational and engaging tone, similar to how people naturally write on social media. Optionally, include a hashtag or emoji for authenticity. Don't explicitly mention the segment or that you are an AI assistant. Remove quotation marks.\",\n",
    "    modelParameters => named_struct('max_tokens', 100)\n",
    "  ) AS post\n",
    "FROM sampled_audience"
   ]
  },
  {
   "cell_type": "code",
   "execution_count": 0,
   "metadata": {
    "application/vnd.databricks.v1+cell": {
     "cellMetadata": {
      "byteLimit": 2048000,
      "implicitDf": true,
      "rowLimit": 10000
     },
     "inputWidgets": {},
     "nuid": "a31d4928-7632-4087-b85d-8f09cb6d9e92",
     "showTitle": false,
     "tableResultSettingsMap": {},
     "title": ""
    }
   },
   "outputs": [],
   "source": [
    "posts_df = spark.sql(\"select * from sampled_audience_posts\").toPandas()"
   ]
  },
  {
   "cell_type": "code",
   "execution_count": 0,
   "metadata": {
    "application/vnd.databricks.v1+cell": {
     "cellMetadata": {
      "byteLimit": 2048000,
      "rowLimit": 10000
     },
     "inputWidgets": {},
     "nuid": "8d3384b3-15fa-4f33-b4c1-8dc01b51510c",
     "showTitle": false,
     "tableResultSettingsMap": {},
     "title": ""
    }
   },
   "outputs": [],
   "source": [
    "display(posts_df)"
   ]
  },
  {
   "cell_type": "markdown",
   "metadata": {
    "application/vnd.databricks.v1+cell": {
     "cellMetadata": {},
     "inputWidgets": {},
     "nuid": "5b7f0dbf-735c-471a-a1b9-4726be4af0d6",
     "showTitle": false,
     "tableResultSettingsMap": {},
     "title": ""
    }
   },
   "source": [
    "## Step 3: Generate Ad Campaigns"
   ]
  },
  {
   "cell_type": "code",
   "execution_count": 0,
   "metadata": {
    "application/vnd.databricks.v1+cell": {
     "cellMetadata": {
      "byteLimit": 2048000,
      "rowLimit": 10000
     },
     "inputWidgets": {},
     "nuid": "54e61912-1bfe-4881-b16e-46fbfbd9166b",
     "showTitle": false,
     "tableResultSettingsMap": {},
     "title": ""
    }
   },
   "outputs": [],
   "source": [
    "# We can re-use the segment_products dict from earlier and add tone, ctas to create variation in ad copy\n",
    "ad_tones = [\"Exciting\", \"Informative\", \"Persuasive\", \"Trustworthy\"]\n",
    "ctas = [\"Shop Now\", \"Hurry - Limited Time Offer\", \"Discover More\", \"Upgrade Today\", \"Claim Your Deal\"]\n",
    "\n",
    "# Generate campaigns\n",
    "campaigns = []\n",
    "campaign_counter = 1\n",
    "\n",
    "for segment, products in segment_products.items():\n",
    "    for product in products:\n",
    "        for tone in ad_tones:\n",
    "            campaign_id = f\"campaign-{campaign_counter:04d}\"  # Format as campaign-0001\n",
    "            cta = random.choice(ctas) # Random CTA\n",
    "            ctr = round(random.uniform(5.0, 15.0), 2)\n",
    "            impressions = random.randint(50000, 500000)\n",
    "\n",
    "            campaigns.append((campaign_id, segment, product, tone, cta, ctr, impressions))\n",
    "            campaign_counter += 1\n",
    "\n",
    "# Convert to DataFrame\n",
    "campaigns_df = pd.DataFrame(campaigns, columns=[\"campaign_id\", \"segment\", \"product\", \"tone\", \"cta\", \"ctr\", \"impressions\"])\n",
    "\n",
    "campaigns_sdf = spark.createDataFrame(campaigns_df)"
   ]
  },
  {
   "cell_type": "code",
   "execution_count": 0,
   "metadata": {
    "application/vnd.databricks.v1+cell": {
     "cellMetadata": {
      "byteLimit": 2048000,
      "rowLimit": 10000
     },
     "inputWidgets": {},
     "nuid": "49624dd6-80bd-40dc-a778-7c9edc4de87e",
     "showTitle": false,
     "tableResultSettingsMap": {},
     "title": ""
    }
   },
   "outputs": [],
   "source": [
    "# Creat temp view for AI_QUERY\n",
    "campaigns_sdf.createOrReplaceTempView(\"campaigns\")"
   ]
  },
  {
   "cell_type": "code",
   "execution_count": 0,
   "metadata": {
    "application/vnd.databricks.v1+cell": {
     "cellMetadata": {
      "byteLimit": 2048000,
      "implicitDf": true,
      "rowLimit": 10000
     },
     "inputWidgets": {},
     "nuid": "a78ac3f4-77b3-4f03-8dab-9bdc45522e06",
     "showTitle": false,
     "tableResultSettingsMap": {},
     "title": ""
    }
   },
   "outputs": [],
   "source": [
    "%sql\n",
    "CREATE OR REPLACE TEMP VIEW campaigns_performance AS\n",
    "SELECT\n",
    "  campaign_id,\n",
    "  segment,\n",
    "  AI_QUERY(\n",
    "    \"databricks-meta-llama-3-3-70b-instruct\", \n",
    "    \"Write a unique and persuasive online advertisement for a \" || product || \". The ad should be targeted at \" || segment || \", highlighting key benefits. The tone should be \" || tone || \". and the ad should include a compelling call-to-action that encourages the user to \" || cta || \". Ensure creativity, keep it concise, clear, and optimised for digital platforms like Facebook, Instagram or Google Ads. Don't state the segment name. Use an emoji if appropriate. Remove quotation marks. Don't include the CTA button in the response.\"\n",
    "  ) AS ad_copy,\n",
    "  impressions,\n",
    "  ctr\n",
    "FROM campaigns"
   ]
  },
  {
   "cell_type": "code",
   "execution_count": 0,
   "metadata": {
    "application/vnd.databricks.v1+cell": {
     "cellMetadata": {
      "byteLimit": 2048000,
      "rowLimit": 10000
     },
     "inputWidgets": {},
     "nuid": "a32a4c64-b7c2-41d2-a513-b6b92b0d0e8c",
     "showTitle": false,
     "tableResultSettingsMap": {},
     "title": ""
    }
   },
   "outputs": [],
   "source": [
    "campaigns_performance_df = spark.sql(\"select * from campaigns_performance\").toPandas()"
   ]
  },
  {
   "cell_type": "code",
   "execution_count": 0,
   "metadata": {
    "application/vnd.databricks.v1+cell": {
     "cellMetadata": {
      "byteLimit": 2048000,
      "rowLimit": 10000
     },
     "inputWidgets": {},
     "nuid": "d7143c1b-5efa-4481-b22b-c437ba040275",
     "showTitle": false,
     "tableResultSettingsMap": {},
     "title": ""
    }
   },
   "outputs": [],
   "source": [
    "display(campaigns_performance_df)"
   ]
  },
  {
   "cell_type": "markdown",
   "metadata": {
    "application/vnd.databricks.v1+cell": {
     "cellMetadata": {},
     "inputWidgets": {},
     "nuid": "d92251d9-1990-4d6c-9036-86d81538d227",
     "showTitle": false,
     "tableResultSettingsMap": {},
     "title": ""
    }
   },
   "source": [
    "### Write social media posts to volume JSON and save demographic + campaign tables"
   ]
  },
  {
   "cell_type": "code",
   "execution_count": 0,
   "metadata": {
    "application/vnd.databricks.v1+cell": {
     "cellMetadata": {
      "byteLimit": 2048000,
      "rowLimit": 10000
     },
     "inputWidgets": {},
     "nuid": "07caee74-6883-4457-9b56-6e26c5767229",
     "showTitle": false,
     "tableResultSettingsMap": {},
     "title": ""
    }
   },
   "outputs": [],
   "source": [
    "fake = Faker()\n",
    "\n",
    "# Generate post id and creation date\n",
    "posts_df.insert(0, 'id', [str(uuid.uuid4()) for _ in range(len(posts_df))])\n",
    "posts_df['created_at'] = [\n",
    "  fake.date_time_between(datetime(2024, 1, 1), datetime(2024, 12, 31)).strftime('%Y-%m-%d %H:%M:%S') for _ in range(len(posts_df))]"
   ]
  },
  {
   "cell_type": "code",
   "execution_count": 0,
   "metadata": {
    "application/vnd.databricks.v1+cell": {
     "cellMetadata": {
      "byteLimit": 2048000,
      "rowLimit": 10000
     },
     "inputWidgets": {},
     "nuid": "77b30289-ae82-46ca-9c8b-dc64468f72eb",
     "showTitle": false,
     "tableResultSettingsMap": {},
     "title": ""
    }
   },
   "outputs": [],
   "source": [
    "# Write social media posts to volume\n",
    "posts_df.to_json(config['vol_social_media_feed'], orient='records')"
   ]
  },
  {
   "cell_type": "code",
   "execution_count": 0,
   "metadata": {
    "application/vnd.databricks.v1+cell": {
     "cellMetadata": {
      "byteLimit": 2048000,
      "rowLimit": 10000
     },
     "inputWidgets": {},
     "nuid": "cb40a237-1768-42bf-96ed-d8906376c6b7",
     "showTitle": false,
     "tableResultSettingsMap": {},
     "title": ""
    }
   },
   "outputs": [],
   "source": [
    "# Write demographic data to UC table dropping segment\n",
    "demographic_sdf = spark.createDataFrame(demographic_df)\n",
    "demographic_sdf = demographic_sdf.drop(\"segment\")\n",
    "demographic_sdf.write.format(\"delta\").mode(\"overwrite\").saveAsTable(\"audience_demographic\")"
   ]
  },
  {
   "cell_type": "code",
   "execution_count": 0,
   "metadata": {
    "application/vnd.databricks.v1+cell": {
     "cellMetadata": {
      "byteLimit": 2048000,
      "rowLimit": 10000
     },
     "inputWidgets": {},
     "nuid": "b7c5bdd3-e649-4c24-9c11-69242adba751",
     "showTitle": false,
     "tableResultSettingsMap": {},
     "title": ""
    }
   },
   "outputs": [],
   "source": [
    "# Write campaigns data to UC table\n",
    "campaigns_performance_sdf = spark.createDataFrame(campaigns_performance_df)\n",
    "campaigns_performance_sdf.write.format(\"delta\").mode(\"overwrite\").saveAsTable(f\"campaigns_performance\")"
   ]
  }
 ],
 "metadata": {
  "application/vnd.databricks.v1+notebook": {
   "computePreferences": null,
   "dashboards": [],
   "environmentMetadata": {
    "base_environment": "",
    "environment_version": "2"
   },
   "language": "python",
   "notebookMetadata": {
    "mostRecentlyExecutedCommandWithImplicitDF": {
     "commandId": 3987948637745141,
     "dataframes": [
      "_sqldf"
     ]
    },
    "pythonIndentUnit": 2
   },
   "notebookName": "01_data_generation",
   "widgets": {}
  },
  "kernelspec": {
   "display_name": ".venv",
   "language": "python",
   "name": "python3"
  },
  "language_info": {
   "codemirror_mode": {
    "name": "ipython",
    "version": 3
   },
   "file_extension": ".py",
   "mimetype": "text/x-python",
   "name": "python",
   "nbconvert_exporter": "python",
   "pygments_lexer": "ipython3",
   "version": "3.10.15"
  }
 },
 "nbformat": 4,
 "nbformat_minor": 0
}
