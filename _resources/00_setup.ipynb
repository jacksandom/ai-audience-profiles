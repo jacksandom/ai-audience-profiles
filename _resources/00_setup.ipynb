{
 "cells": [
  {
   "cell_type": "code",
   "execution_count": 2,
   "metadata": {
    "application/vnd.databricks.v1+cell": {
     "cellMetadata": {
      "byteLimit": 2048000,
      "rowLimit": 10000
     },
     "inputWidgets": {},
     "nuid": "87d9117f-6090-4a9f-86c7-69efc066a75a",
     "showTitle": false,
     "tableResultSettingsMap": {},
     "title": ""
    }
   },
   "outputs": [],
   "source": [
    "# Instantiate Config Variable\n",
    "if 'config' not in locals().keys():\n",
    "  config = {}"
   ]
  },
  {
   "cell_type": "code",
   "execution_count": 3,
   "metadata": {
    "application/vnd.databricks.v1+cell": {
     "cellMetadata": {
      "byteLimit": 2048000,
      "rowLimit": 10000
     },
     "inputWidgets": {},
     "nuid": "3c06ad83-e15a-44f3-b5cc-3971d139693d",
     "showTitle": false,
     "tableResultSettingsMap": {},
     "title": ""
    }
   },
   "outputs": [],
   "source": [
    "# Configure Catalog, Schema, and Volume\n",
    "config['catalog'] = 'marca_tribes'\n",
    "config['schema'] = 'ai_audience_segments'\n",
    "config['socials_volume'] = 'social_media_feed'\n",
    "config['profiles_volume'] = 'profiles'\n",
    "config['vol_social_media_feed'] = f\"/Volumes/{config['catalog']}/{config['schema']}/{config['socials_volume']}/posts.json\"\n",
    "config['vol_profiles'] = f\"/Volumes/{config['catalog']}/{config['schema']}/{config['profiles_volume']}/profiles.json\"\n",
    "\n",
    "# Configure Vector Search\n",
    "config['endpoint_name'] = 'one-env-shared-endpoint-18'\n",
    "config['index_name'] = 'ad_campaigns_index'"
   ]
  },
  {
   "cell_type": "code",
   "execution_count": 4,
   "metadata": {
    "application/vnd.databricks.v1+cell": {
     "cellMetadata": {
      "byteLimit": 2048000,
      "rowLimit": 10000
     },
     "inputWidgets": {},
     "nuid": "c8b98f01-25e2-4029-84e6-dee8a4acd8e1",
     "showTitle": false,
     "tableResultSettingsMap": {},
     "title": ""
    }
   },
   "outputs": [],
   "source": [
    "# Create catalog if not exists\n",
    "spark.sql('create catalog if not exists {0}'.format(config['catalog']));"
   ]
  },
  {
   "cell_type": "code",
   "execution_count": 5,
   "metadata": {
    "application/vnd.databricks.v1+cell": {
     "cellMetadata": {
      "byteLimit": 2048000,
      "rowLimit": 10000
     },
     "inputWidgets": {},
     "nuid": "09d854d6-13a4-49ec-8346-f73f09c5bc63",
     "showTitle": false,
     "tableResultSettingsMap": {},
     "title": ""
    }
   },
   "outputs": [],
   "source": [
    "# Set current catalog context\n",
    "spark.sql('USE CATALOG {0}'.format(config['catalog']));"
   ]
  },
  {
   "cell_type": "code",
   "execution_count": 6,
   "metadata": {
    "application/vnd.databricks.v1+cell": {
     "cellMetadata": {
      "byteLimit": 2048000,
      "rowLimit": 10000
     },
     "inputWidgets": {},
     "nuid": "ed389c10-2b8d-4236-8fee-cbda2ba32bf4",
     "showTitle": false,
     "tableResultSettingsMap": {},
     "title": ""
    }
   },
   "outputs": [],
   "source": [
    "# Create schema if not exists\n",
    "spark.sql('create database if not exists {0}'.format(config['schema']));"
   ]
  },
  {
   "cell_type": "code",
   "execution_count": 7,
   "metadata": {
    "application/vnd.databricks.v1+cell": {
     "cellMetadata": {
      "byteLimit": 2048000,
      "rowLimit": 10000
     },
     "inputWidgets": {},
     "nuid": "035c4d30-8a5b-4acb-8ed2-cecd7004d259",
     "showTitle": false,
     "tableResultSettingsMap": {},
     "title": ""
    }
   },
   "outputs": [],
   "source": [
    "# Set current datebase context\n",
    "spark.sql('USE {0}'.format(config['schema']));"
   ]
  },
  {
   "cell_type": "code",
   "execution_count": 8,
   "metadata": {
    "application/vnd.databricks.v1+cell": {
     "cellMetadata": {
      "byteLimit": 2048000,
      "rowLimit": 10000
     },
     "inputWidgets": {},
     "nuid": "03e797d4-dd78-45f7-8638-7e1ed7bb5aec",
     "showTitle": false,
     "tableResultSettingsMap": {},
     "title": ""
    }
   },
   "outputs": [],
   "source": [
    "# Create the volumes\n",
    "spark.sql(f\"CREATE VOLUME IF NOT EXISTS {config['socials_volume']}\");\n",
    "spark.sql(f\"CREATE VOLUME IF NOT EXISTS {config['profiles_volume']}\");"
   ]
  }
 ],
 "metadata": {
  "application/vnd.databricks.v1+notebook": {
   "computePreferences": null,
   "dashboards": [],
   "environmentMetadata": {
    "base_environment": "",
    "environment_version": "2"
   },
   "language": "python",
   "notebookMetadata": {
    "pythonIndentUnit": 4
   },
   "notebookName": "00_setup",
   "widgets": {}
  },
  "kernelspec": {
   "display_name": ".venv",
   "language": "python",
   "name": "python3"
  },
  "language_info": {
   "codemirror_mode": {
    "name": "ipython",
    "version": 3
   },
   "file_extension": ".py",
   "mimetype": "text/x-python",
   "name": "python",
   "nbconvert_exporter": "python",
   "pygments_lexer": "ipython3",
   "version": "3.10.15"
  }
 },
 "nbformat": 4,
 "nbformat_minor": 0
}
