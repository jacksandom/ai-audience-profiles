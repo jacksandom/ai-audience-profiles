{
 "cells": [
  {
   "cell_type": "markdown",
   "metadata": {
    "application/vnd.databricks.v1+cell": {
     "cellMetadata": {},
     "inputWidgets": {},
     "nuid": "6f71705e-cb75-4896-8f65-11f0d38b4e34",
     "showTitle": false,
     "tableResultSettingsMap": {},
     "title": ""
    }
   },
   "source": [
    "# Audience Segmentation"
   ]
  },
  {
   "cell_type": "code",
   "execution_count": 0,
   "metadata": {
    "application/vnd.databricks.v1+cell": {
     "cellMetadata": {
      "byteLimit": 2048000,
      "rowLimit": 10000
     },
     "inputWidgets": {},
     "nuid": "534eeca4-bb4b-4807-9d33-95d0f80fd869",
     "showTitle": false,
     "tableResultSettingsMap": {},
     "title": ""
    }
   },
   "outputs": [],
   "source": [
    "# !pip install threadpoolctl==\"3.1.0\""
   ]
  },
  {
   "cell_type": "code",
   "execution_count": 0,
   "metadata": {
    "application/vnd.databricks.v1+cell": {
     "cellMetadata": {
      "byteLimit": 2048000,
      "rowLimit": 10000
     },
     "inputWidgets": {},
     "nuid": "5580dfb5-5bba-421f-ae09-8cacbf33c804",
     "showTitle": false,
     "tableResultSettingsMap": {},
     "title": ""
    }
   },
   "outputs": [],
   "source": [
    "dbutils.library.restartPython()"
   ]
  },
  {
   "cell_type": "code",
   "execution_count": 0,
   "metadata": {
    "application/vnd.databricks.v1+cell": {
     "cellMetadata": {
      "byteLimit": 2048000,
      "rowLimit": 10000
     },
     "inputWidgets": {},
     "nuid": "f0428881-cbab-4380-8a03-a1f1a40d838d",
     "showTitle": false,
     "tableResultSettingsMap": {},
     "title": ""
    }
   },
   "outputs": [],
   "source": [
    "import matplotlib.pyplot as plt\n",
    "import mlflow\n",
    "import pandas as pd\n",
    "import pyspark.sql.functions as F\n",
    "\n",
    "from openai import OpenAI\n",
    "import os\n",
    "from sklearn.preprocessing import StandardScaler, OneHotEncoder\n",
    "from sklearn.compose import ColumnTransformer\n",
    "from sklearn.pipeline import Pipeline\n",
    "from sklearn.cluster import KMeans\n",
    "from sklearn.metrics import silhouette_score"
   ]
  },
  {
   "cell_type": "code",
   "execution_count": 0,
   "metadata": {
    "application/vnd.databricks.v1+cell": {
     "cellMetadata": {
      "byteLimit": 2048000,
      "rowLimit": 10000
     },
     "inputWidgets": {},
     "nuid": "02cd7557-35e5-455c-a6d9-c4c8367b03ec",
     "showTitle": false,
     "tableResultSettingsMap": {},
     "title": ""
    }
   },
   "outputs": [],
   "source": [
    "# Set catalog and schema\n",
    "catalog = \"jack_sandom\"\n",
    "schema = \"ai_audience_segments\""
   ]
  },
  {
   "cell_type": "markdown",
   "metadata": {
    "application/vnd.databricks.v1+cell": {
     "cellMetadata": {},
     "inputWidgets": {},
     "nuid": "2d731751-dba2-450b-9158-d26154040bce",
     "showTitle": false,
     "tableResultSettingsMap": {},
     "title": ""
    }
   },
   "source": [
    "## Step 1: Build clustering model (KMeans)"
   ]
  },
  {
   "cell_type": "code",
   "execution_count": 0,
   "metadata": {
    "application/vnd.databricks.v1+cell": {
     "cellMetadata": {
      "byteLimit": 2048000,
      "rowLimit": 10000
     },
     "inputWidgets": {},
     "nuid": "7d4a1884-3196-4ce5-8d75-09bf9c630714",
     "showTitle": false,
     "tableResultSettingsMap": {},
     "title": ""
    }
   },
   "outputs": [],
   "source": [
    "# Read demographic table\n",
    "demographic_df = spark.read.table(f\"{catalog}.{schema}.audience_demographic\").toPandas()\n",
    "\n",
    "display(demographic_df)"
   ]
  },
  {
   "cell_type": "code",
   "execution_count": 0,
   "metadata": {
    "application/vnd.databricks.v1+cell": {
     "cellMetadata": {
      "byteLimit": 2048000,
      "rowLimit": 10000
     },
     "inputWidgets": {},
     "nuid": "b3dfafc4-54e3-4665-bb11-475ca87a3284",
     "showTitle": false,
     "tableResultSettingsMap": {},
     "title": ""
    }
   },
   "outputs": [],
   "source": [
    "# Define numerical and categorical features\n",
    "numerical_features = [\"age\", \"income\", \"number_dependants\"]\n",
    "categorical_features = [\"location\", \"education\", \"relationship_status\", \"occupation\"]\n",
    "\n",
    "# Create preprocessing steps\n",
    "preprocessor = ColumnTransformer(\n",
    "    transformers=[\n",
    "        (\"num\", StandardScaler(), numerical_features),\n",
    "        (\"cat\", OneHotEncoder(handle_unknown=\"ignore\"), categorical_features)\n",
    "    ])\n",
    "\n",
    "X = preprocessor.fit_transform(demographic_df)\n",
    "\n",
    "# Calculate inertia for different values of k\n",
    "k_range = range(2, 8)\n",
    "inertias = []\n",
    "\n",
    "for k in k_range:\n",
    "    kmeans = KMeans(n_clusters=k, random_state=42, n_init=\"auto\")\n",
    "    kmeans.fit(X)\n",
    "    inertias.append(kmeans.inertia_)\n",
    "\n",
    "# Plot the elbow curve\n",
    "plt.figure(figsize=(10, 6))\n",
    "plt.plot(k_range, inertias, marker=\"o\")\n",
    "plt.xlabel(\"Number of Clusters (k)\")\n",
    "plt.ylabel(\"Inertia\")\n",
    "plt.title(\"Elbow Method for Optimal k\")\n",
    "\n",
    "# Save and log the plot without tempfile\n",
    "plot_filename = \"elbow_plot.png\"\n",
    "plt.savefig(plot_filename)\n",
    "\n",
    "plt.show()\n",
    "\n",
    "mlflow.end_run()"
   ]
  },
  {
   "cell_type": "markdown",
   "metadata": {
    "application/vnd.databricks.v1+cell": {
     "cellMetadata": {},
     "inputWidgets": {},
     "nuid": "d37aa456-049c-4582-9810-b2c366ee1871",
     "showTitle": false,
     "tableResultSettingsMap": {},
     "title": ""
    }
   },
   "source": [
    "### Log optimal K based on elbow method"
   ]
  },
  {
   "cell_type": "code",
   "execution_count": 0,
   "metadata": {
    "application/vnd.databricks.v1+cell": {
     "cellMetadata": {
      "byteLimit": 2048000,
      "rowLimit": 10000
     },
     "inputWidgets": {},
     "nuid": "8e0fe516-65c4-43d3-a7ed-9a2cfbf9b773",
     "showTitle": false,
     "tableResultSettingsMap": {},
     "title": ""
    }
   },
   "outputs": [],
   "source": [
    "optimal_k = 5\n",
    "kmeans_pipeline = Pipeline([\n",
    "    (\"preprocessor\", preprocessor),\n",
    "    (\"kmeans\", KMeans(n_clusters=optimal_k, random_state=42, n_init=\"auto\"))\n",
    "])"
   ]
  },
  {
   "cell_type": "code",
   "execution_count": 0,
   "metadata": {
    "application/vnd.databricks.v1+cell": {
     "cellMetadata": {
      "byteLimit": 2048000,
      "rowLimit": 10000
     },
     "inputWidgets": {},
     "nuid": "5b29df18-e320-4488-8195-8f2d2f1c505b",
     "showTitle": false,
     "tableResultSettingsMap": {},
     "title": ""
    }
   },
   "outputs": [],
   "source": [
    "# Do final run with optimal k\n",
    "\n",
    "with mlflow.start_run(run_name=\"KMeans_clustering_optimal\"):\n",
    "    # Fit the pipeline\n",
    "    kmeans_pipeline.fit(demographic_df)\n",
    "    \n",
    "    # Make predictions\n",
    "    labels = kmeans_pipeline.predict(demographic_df)\n",
    "    \n",
    "    # Evaluate the model\n",
    "    silhouette = silhouette_score(kmeans_pipeline.named_steps[\"preprocessor\"].transform(demographic_df), labels)\n",
    "    \n",
    "    # Log optimal k and elbow plot\n",
    "    mlflow.log_param(\"optimal_n_clusters\", optimal_k)\n",
    "    mlflow.log_artifact(plot_filename)\n",
    "\n",
    "    # Log parameters and metrics\n",
    "    mlflow.log_param(\"numerical_features\", numerical_features)\n",
    "    mlflow.log_param(\"categorical_features\", categorical_features)\n",
    "    mlflow.log_metric(\"silhouette_score\", silhouette)\n",
    "    \n",
    "    # Log the model\n",
    "    mlflow.sklearn.log_model(kmeans_pipeline, \"kmeans_model\")\n",
    "    \n",
    "    print(f\"Silhouette score: {silhouette}\")"
   ]
  },
  {
   "cell_type": "markdown",
   "metadata": {
    "application/vnd.databricks.v1+cell": {
     "cellMetadata": {},
     "inputWidgets": {},
     "nuid": "2af7d604-b972-4c39-a8f2-bfbeb2f74d64",
     "showTitle": false,
     "tableResultSettingsMap": {},
     "title": ""
    }
   },
   "source": [
    "### Generate segments"
   ]
  },
  {
   "cell_type": "code",
   "execution_count": 0,
   "metadata": {
    "application/vnd.databricks.v1+cell": {
     "cellMetadata": {
      "byteLimit": 2048000,
      "rowLimit": 10000
     },
     "inputWidgets": {},
     "nuid": "aab0095a-6371-41db-a8e0-16ecadc465ee",
     "showTitle": false,
     "tableResultSettingsMap": {},
     "title": ""
    }
   },
   "outputs": [],
   "source": [
    "demographic_df[\"cluster\"] = labels\n",
    "demographic_sdf = spark.createDataFrame(demographic_df)\n",
    "\n",
    "display(demographic_sdf)"
   ]
  },
  {
   "cell_type": "code",
   "execution_count": 0,
   "metadata": {
    "application/vnd.databricks.v1+cell": {
     "cellMetadata": {
      "byteLimit": 2048000,
      "rowLimit": 10000
     },
     "inputWidgets": {},
     "nuid": "320b6894-273d-494f-8f7b-fafb6bc3f02b",
     "showTitle": false,
     "tableResultSettingsMap": {},
     "title": ""
    }
   },
   "outputs": [],
   "source": [
    "# Find aggregates to understand the demographics of our clusters\n",
    "segment_summary_sdf = (\n",
    "  demographic_sdf.groupby(\"cluster\").agg(\n",
    "    F.expr(\"percentile_approx(age, 0.5)\").alias(\"median_age\"),\n",
    "    F.expr(\"percentile_approx(income, 0.5)\").alias(\"median_income\"),\n",
    "    F.expr(\"mode() within group (order by location)\").alias(\"mode_location\"),\n",
    "    F.expr(\"mode() within group (order by education)\").alias(\"mode_education\"),\n",
    "    F.expr(\"mode() within group (order by relationship_status)\").alias(\"mode_relationship_status\"),\n",
    "    F.expr(\"percentile_approx(number_dependants, 0.5)\").alias(\"median_number_dependants\"),\n",
    "    F.expr(\"mode() within group (order by occupation)\").alias(\"mode_occupation\"),\n",
    "  ).orderBy(\"cluster\")\n",
    ")\n",
    "\n",
    "display(segment_summary_sdf)"
   ]
  },
  {
   "cell_type": "code",
   "execution_count": 0,
   "metadata": {
    "application/vnd.databricks.v1+cell": {
     "cellMetadata": {
      "byteLimit": 2048000,
      "rowLimit": 10000
     },
     "inputWidgets": {},
     "nuid": "6dfe5956-215f-4b3e-a158-5d7acea19f7a",
     "showTitle": false,
     "tableResultSettingsMap": {},
     "title": ""
    }
   },
   "outputs": [],
   "source": [
    "# Assign names to clusters\n",
    "segment_summary_sdf = (\n",
    "  segment_summary_sdf\n",
    "    .withColumn(\"segment\", \n",
    "      F.when(demographic_sdf.cluster == 0, \"Retired Rural Dweller\")\n",
    "       .when(demographic_sdf.cluster == 1, \"College Student\")\n",
    "       .when(demographic_sdf.cluster == 2, \"High-Income Empty Nester\")\n",
    "       .when(demographic_sdf.cluster == 3, \"Suburban Family-Oriented\")\n",
    "       .when(demographic_sdf.cluster == 4, \"Young Urban Professional\")\n",
    "    )\n",
    ")\n",
    "\n",
    "demographic_sdf = demographic_sdf.join(segment_summary_sdf.select(\"cluster\", \"segment\"), \"cluster\"). drop(\"cluster\")"
   ]
  },
  {
   "cell_type": "code",
   "execution_count": 0,
   "metadata": {
    "application/vnd.databricks.v1+cell": {
     "cellMetadata": {
      "byteLimit": 2048000,
      "rowLimit": 10000
     },
     "inputWidgets": {},
     "nuid": "280404b7-a90d-490f-adf5-3b5fdc814bb2",
     "showTitle": false,
     "tableResultSettingsMap": {},
     "title": ""
    }
   },
   "outputs": [],
   "source": [
    "display(demographic_sdf)"
   ]
  },
  {
   "cell_type": "markdown",
   "metadata": {
    "application/vnd.databricks.v1+cell": {
     "cellMetadata": {},
     "inputWidgets": {},
     "nuid": "b4effb06-84a6-4012-b698-0a0350222b40",
     "showTitle": false,
     "tableResultSettingsMap": {},
     "title": ""
    }
   },
   "source": [
    "## Step 2: Use LLM to generate customer profiles"
   ]
  },
  {
   "cell_type": "code",
   "execution_count": 0,
   "metadata": {
    "application/vnd.databricks.v1+cell": {
     "cellMetadata": {
      "byteLimit": 2048000,
      "rowLimit": 10000
     },
     "inputWidgets": {},
     "nuid": "86472368-eac9-46ee-98d8-2a794b03b5ca",
     "showTitle": false,
     "tableResultSettingsMap": {},
     "title": ""
    }
   },
   "outputs": [],
   "source": [
    "# Get social media posts data\n",
    "uc_volume_path = \"/Volumes/jack_sandom/ai_audience_segments/social_media_feed/posts.json\"\n",
    "posts_sdf = spark.read.json(uc_volume_path)\n",
    "\n",
    "display(posts_sdf)"
   ]
  },
  {
   "cell_type": "code",
   "execution_count": 0,
   "metadata": {
    "application/vnd.databricks.v1+cell": {
     "cellMetadata": {
      "byteLimit": 2048000,
      "rowLimit": 10000
     },
     "inputWidgets": {},
     "nuid": "3f9154f6-7941-4247-897d-2926a7ebed57",
     "showTitle": false,
     "tableResultSettingsMap": {},
     "title": ""
    }
   },
   "outputs": [],
   "source": [
    "# Join demographic and posts data\n",
    "audience_sdf = demographic_sdf.join(posts_sdf, [demographic_sdf.uuid == posts_sdf.author_id], how=\"left\")\n",
    "\n",
    "# Aggregate the posts data by segment\n",
    "segment_posts_sdf = audience_sdf.groupBy(\"segment\").agg(\n",
    "  F.concat_ws(\"\\n\\n\", F.collect_list(\"post\")).alias(\"posts\")\n",
    ")\n",
    "\n",
    "# Join to the segment summaries from earlier\n",
    "segment_summary_sdf = segment_summary_sdf.join(segment_posts_sdf, \"segment\")"
   ]
  },
  {
   "cell_type": "code",
   "execution_count": 0,
   "metadata": {
    "application/vnd.databricks.v1+cell": {
     "cellMetadata": {
      "byteLimit": 2048000,
      "rowLimit": 10000
     },
     "inputWidgets": {},
     "nuid": "9f89c4b7-cf2f-43f3-97a4-b418c5697bb1",
     "showTitle": false,
     "tableResultSettingsMap": {},
     "title": ""
    }
   },
   "outputs": [],
   "source": [
    "display(segment_summary_sdf)"
   ]
  },
  {
   "cell_type": "markdown",
   "metadata": {
    "application/vnd.databricks.v1+cell": {
     "cellMetadata": {},
     "inputWidgets": {},
     "nuid": "1caa4b12-f784-4e94-ba85-4417e0a5fb0e",
     "showTitle": false,
     "tableResultSettingsMap": {},
     "title": ""
    }
   },
   "source": [
    "### Create profiles"
   ]
  },
  {
   "cell_type": "code",
   "execution_count": 0,
   "metadata": {
    "application/vnd.databricks.v1+cell": {
     "cellMetadata": {
      "byteLimit": 2048000,
      "rowLimit": 10000
     },
     "inputWidgets": {},
     "nuid": "0f2e0f2e-bc5a-4458-9cb0-3912bd62aa75",
     "showTitle": false,
     "tableResultSettingsMap": {},
     "title": ""
    }
   },
   "outputs": [],
   "source": [
    "\n",
    "def create_prompt(segment, age, income, location, education, dependants, occupation, social_posts):\n",
    "\n",
    "    prompt = f\"\"\"\n",
    "        You are an expert marketing analyst tasked with creating a detailed customer persona. Use the provided demographic information and social media posts to describe the customer segment’s characteristics. Use the segment as the persona name.\n",
    "\n",
    "        ### Demographic Information:\n",
    "        - Segment: {segment}\n",
    "        - Average Age: {age}\n",
    "        - Average Income: {income}\n",
    "        - Location: {location}\n",
    "        - Education: {education}\n",
    "        - Dependants: {dependants}\n",
    "        - Occupation: {occupation}\n",
    "\n",
    "        ### Aggregated Social Media Posts:\n",
    "        \"{social_posts}\"\n",
    "\n",
    "        ### Instructions:\n",
    "        Based on the demographic data, social media content, and product reviews:\n",
    "        1. Describe the segment’s **lifestyle**, **values**, and **daily habits**.\n",
    "        2. Highlight their **interests**, **opinions**, and **brand sentiments**.\n",
    "        3. Identify their **media consumption habits** and **preferred communication channels**.\n",
    "        4. Outline their **purchase motivations** and **buying behaviors**.\n",
    "        5. Summarize any **pain points**, **common complaints**, or **product preferences** mentioned.\n",
    "\n",
    "        ### Output Format:\n",
    "        - **Persona Name:**  \n",
    "        - **Overview:**  \n",
    "        - **Lifestyle & Values:**  \n",
    "        - **Interests & Social Media Behavior:**  \n",
    "        - **Buying Motivations & Product Preferences:**  \n",
    "        - **Challenges & Pain Points:**  \n",
    "        - **Preferred Communication Channels:**  \n",
    "        \"\"\"\n",
    "\n",
    "    return prompt"
   ]
  },
  {
   "cell_type": "code",
   "execution_count": 0,
   "metadata": {
    "application/vnd.databricks.v1+cell": {
     "cellMetadata": {
      "byteLimit": 2048000,
      "rowLimit": 10000
     },
     "inputWidgets": {},
     "nuid": "11738e03-a2dc-47fa-81ba-dfe1616ec7f0",
     "showTitle": false,
     "tableResultSettingsMap": {},
     "title": ""
    }
   },
   "outputs": [],
   "source": [
    "DATABRICKS_TOKEN = dbutils.notebook.entry_point.getDbutils().notebook().getContext().apiToken().get()\n",
    "\n",
    "client = OpenAI(\n",
    "  api_key=DATABRICKS_TOKEN,\n",
    "  base_url=\"https://e2-demo-field-eng.cloud.databricks.com/serving-endpoints\"\n",
    ")\n",
    "\n",
    "def generate_profile(prompt):\n",
    "  chat_completion = client.chat.completions.create(\n",
    "    messages=[\n",
    "    {\n",
    "      \"role\": \"system\",\n",
    "      \"content\": \"You are an AI assistant.\"\n",
    "    },\n",
    "    {\n",
    "      \"role\": \"user\",\n",
    "      \"content\": prompt\n",
    "    }\n",
    "    ],\n",
    "    model=\"databricks-meta-llama-3-3-70b-instruct\",\n",
    "  )\n",
    "\n",
    "  return chat_completion.choices[0].message.content"
   ]
  },
  {
   "cell_type": "code",
   "execution_count": 0,
   "metadata": {
    "application/vnd.databricks.v1+cell": {
     "cellMetadata": {
      "byteLimit": 2048000,
      "rowLimit": 10000
     },
     "inputWidgets": {},
     "nuid": "cea1924f-322a-4c1c-8343-14c4ca651420",
     "showTitle": false,
     "tableResultSettingsMap": {},
     "title": ""
    }
   },
   "outputs": [],
   "source": [
    "profiles = {}\n",
    "\n",
    "# Iterate through segments to get profile\n",
    "for row in segment_summary_sdf.collect():\n",
    "  prompt = create_prompt(\n",
    "    row.segment, \n",
    "    row.median_age, \n",
    "    row.median_income, \n",
    "    row.mode_location, \n",
    "    row.mode_education, \n",
    "    row.median_number_dependants, \n",
    "    row.mode_occupation, row.posts\n",
    "  )\n",
    "\n",
    "  profiles[row.segment] = generate_profile(prompt)"
   ]
  },
  {
   "cell_type": "markdown",
   "metadata": {
    "application/vnd.databricks.v1+cell": {
     "cellMetadata": {},
     "inputWidgets": {},
     "nuid": "f7eb6f5f-343c-4831-95b8-9adc7bc6237f",
     "showTitle": false,
     "tableResultSettingsMap": {},
     "title": ""
    }
   },
   "source": [
    "### Save profiles"
   ]
  },
  {
   "cell_type": "code",
   "execution_count": 0,
   "metadata": {
    "application/vnd.databricks.v1+cell": {
     "cellMetadata": {
      "byteLimit": 2048000,
      "rowLimit": 10000
     },
     "inputWidgets": {},
     "nuid": "643d5871-42d9-4487-b2d2-98d1922b0a56",
     "showTitle": false,
     "tableResultSettingsMap": {},
     "title": ""
    }
   },
   "outputs": [],
   "source": [
    "# Save profiles to UC volume\n",
    "for segment, profile in profiles.items():\n",
    "  with open(f\"/Volumes/jack_sandom/ai_audience_segments/profiles/{segment}.txt\", \"w\") as f:\n",
    "    f.write(profile)"
   ]
  }
 ],
 "metadata": {
  "application/vnd.databricks.v1+notebook": {
   "computePreferences": null,
   "dashboards": [],
   "environmentMetadata": {
    "base_environment": "",
    "environment_version": "2"
   },
   "language": "python",
   "notebookMetadata": {
    "pythonIndentUnit": 2
   },
   "notebookName": "01. Audience Segmentation",
   "widgets": {}
  },
  "language_info": {
   "name": "python"
  }
 },
 "nbformat": 4,
 "nbformat_minor": 0
}
